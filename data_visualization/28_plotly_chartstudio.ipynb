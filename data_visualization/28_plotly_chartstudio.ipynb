{
  "nbformat": 4,
  "nbformat_minor": 0,
  "metadata": {
    "colab": {
      "name": "28_plotly_chartstudio.ipynb",
      "provenance": [],
      "authorship_tag": "ABX9TyMsTDkQwfrh3970SBvjZC16",
      "include_colab_link": true
    },
    "kernelspec": {
      "name": "python3",
      "display_name": "Python 3"
    }
  },
  "cells": [
    {
      "cell_type": "markdown",
      "metadata": {
        "id": "view-in-github",
        "colab_type": "text"
      },
      "source": [
        "<a href=\"https://colab.research.google.com/github/wojr21/courses/blob/main/data_visualization/28_plotly_chartstudio.ipynb\" target=\"_parent\"><img src=\"https://colab.research.google.com/assets/colab-badge.svg\" alt=\"Open In Colab\"/></a>"
      ]
    },
    {
      "cell_type": "code",
      "metadata": {
        "colab": {
          "base_uri": "https://localhost:8080/"
        },
        "id": "AikCEqwA8-Xv",
        "outputId": "1e885178-97ac-4c31-a2ef-2e41ac2999f6"
      },
      "source": [
        "!pip install -q chart_studio\r\n",
        "!pip install -q --upgrade plotly"
      ],
      "execution_count": 1,
      "outputs": [
        {
          "output_type": "stream",
          "text": [
            "\u001b[K     |████████████████████████████████| 71kB 3.5MB/s \n",
            "\u001b[K     |████████████████████████████████| 13.2MB 4.0MB/s \n",
            "\u001b[?25h"
          ],
          "name": "stdout"
        }
      ]
    },
    {
      "cell_type": "markdown",
      "metadata": {
        "id": "xwmeMQII_fUx"
      },
      "source": [
        "### Wyświetlanie wykresu ze strony chart studio"
      ]
    },
    {
      "cell_type": "code",
      "metadata": {
        "id": "00H1rplq9ExJ"
      },
      "source": [
        "import chart_studio.tools as tls\r\n",
        "\r\n",
        "# tls.embed('tutaj wkleić url')"
      ],
      "execution_count": 5,
      "outputs": []
    },
    {
      "cell_type": "markdown",
      "metadata": {
        "id": "De5JMlZu_b-5"
      },
      "source": [
        "### Eksportowanie wykresu do strony chart studio"
      ]
    },
    {
      "cell_type": "code",
      "metadata": {
        "id": "QGHZvbEy-7ed"
      },
      "source": [
        "import chart_studio.tools as tls\r\n",
        "import chart_studio.plotly as py\r\n",
        "import plotly.graph_objects as go\r\n",
        "\r\n",
        "# tls.set_credentials_file(username = 'login', api_key = 'wygenerowane klucze')\r\n",
        "\r\n",
        "# trace0 = go.Scatter(x = [1, 2, 3, 4], y = [12, 5, 10, 3])\r\n",
        "# data = [trace0]\r\n",
        "# fig = go.Figure(data = data)\r\n",
        "\r\n",
        "# py.plot(fig, filename = 'nazwa pliku')\r\n",
        "# ZOSTANIE WYGENEROWANY LINK DO WYKRESU, A WYKRES ZOSTANIE DODANY DO CHART STUDIO\r\n",
        "\r\n",
        "# LUB\r\n",
        "\r\n",
        "# py.iplot(fig, filename = 'nazwa pliku)\r\n",
        "# WYKRES ZOSTANIE WYŚWIETLONY W NOTEBOOKU I DODANY DO CHART STUDIO"
      ],
      "execution_count": 10,
      "outputs": []
    }
  ]
}