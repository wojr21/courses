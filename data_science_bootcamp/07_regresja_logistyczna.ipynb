{
  "nbformat": 4,
  "nbformat_minor": 0,
  "metadata": {
    "colab": {
      "name": "07_regresja_logistyczna.ipynb",
      "provenance": [],
      "authorship_tag": "ABX9TyPTv0xSCjUmmGvPeH7GxlDG",
      "include_colab_link": true
    },
    "kernelspec": {
      "name": "python3",
      "display_name": "Python 3"
    }
  },
  "cells": [
    {
      "cell_type": "markdown",
      "metadata": {
        "id": "view-in-github",
        "colab_type": "text"
      },
      "source": [
        "<a href=\"https://colab.research.google.com/github/wojr21/courses/blob/main/data_science_bootcamp/07_regresja_logistyczna.ipynb\" target=\"_parent\"><img src=\"https://colab.research.google.com/assets/colab-badge.svg\" alt=\"Open In Colab\"/></a>"
      ]
    },
    {
      "cell_type": "code",
      "metadata": {
        "id": "cKIKV4XEpV5T"
      },
      "source": [
        "import sklearn"
      ],
      "execution_count": 1,
      "outputs": []
    },
    {
      "cell_type": "markdown",
      "metadata": {
        "id": "eYpQ0eIPpydw"
      },
      "source": [
        "### Regresja logistyczna - Logistic (Logit) Regression\n",
        "\n",
        "Liniowy model do zadań klasyfikacyjnych\n",
        "\n",
        "Przy budowie modelu regresji logistycznej wykorzystuje się funkcję sigmoid.\n",
        "\n",
        "$sigmoid(x)=\\frac{1}{1+e^{-x}}$"
      ]
    },
    {
      "cell_type": "code",
      "metadata": {
        "id": "DnQ4en9pptzp",
        "outputId": "6c80263b-cf79-4f16-b209-0de9d81855ae",
        "colab": {
          "base_uri": "https://localhost:8080/",
          "height": 301
        }
      },
      "source": [
        "import numpy as np\n",
        "import pandas as pd\n",
        "import matplotlib.pyplot as plt\n",
        "import plotly.figure_factory as ff\n",
        "import seaborn as sns\n",
        "sns.set()\n",
        "\n",
        "np.random.seed(10)\n",
        "np.set_printoptions(precision = 6, suppress = True)\n",
        "\n",
        "def sigmoid(x):\n",
        "  return 1 / (1 + np.exp(-x))\n",
        "\n",
        "X = np.arange(-5, 5, 0.1)\n",
        "y = sigmoid(X)\n",
        "plt.plot(X, y)\n",
        "plt.title('Sigmoid Function')"
      ],
      "execution_count": 2,
      "outputs": [
        {
          "output_type": "execute_result",
          "data": {
            "text/plain": [
              "Text(0.5, 1.0, 'Sigmoid Function')"
            ]
          },
          "metadata": {
            "tags": []
          },
          "execution_count": 2
        },
        {
          "output_type": "display_data",
          "data": {
            "image/png": "[encoded data removed]",
            "text/plain": [
              "<Figure size 432x288 with 1 Axes>"
            ]
          },
          "metadata": {
            "tags": []
          }
        }
      ]
    },
    {
      "cell_type": "markdown",
      "metadata": {
        "id": "CVlpDEhxrk3O"
      },
      "source": [
        "\n",
        "Model liniowy $Y = w_0 + w_1x_1$.\n",
        "\n",
        "Podstawiając do funkcji sigmoid otrzymujemy:\n",
        "\n",
        "$LOG\\_REG(Y)=\\frac{1}{1+e^{-(w_0+w_1X_1)}}$"
      ]
    },
    {
      "cell_type": "markdown",
      "metadata": {
        "id": "2urhdKzaudkR"
      },
      "source": [
        "### Załadowanie danych"
      ]
    },
    {
      "cell_type": "code",
      "metadata": {
        "id": "xiDG55V_rhDn",
        "outputId": "52b56ae4-5598-4739-dab2-41aadcae24ca",
        "colab": {
          "base_uri": "https://localhost:8080/"
        }
      },
      "source": [
        "from sklearn.datasets import load_breast_cancer\n",
        "\n",
        "data = load_breast_cancer()\n",
        "print(data)"
      ],
      "execution_count": 3,
      "outputs": [
        {
          "output_type": "stream",
          "text": [
            "{'data': array([[ 17.99   ,  10.38   , 122.8    , ...,   0.2654 ,   0.4601 ,\n",
            "          0.1189 ],\n",
            "       [ 20.57   ,  17.77   , 132.9    , ...,   0.186  ,   0.275  ,\n",
            "          0.08902],\n",
            "       [ 19.69   ,  21.25   , 130.     , ...,   0.243  ,   0.3613 ,\n",
            "          0.08758],\n",
            "       ...,\n",
            "       [ 16.6    ,  28.08   , 108.3    , ...,   0.1418 ,   0.2218 ,\n",
            "          0.0782 ],\n",
            "       [ 20.6    ,  29.33   , 140.1    , ...,   0.265  ,   0.4087 ,\n",
            "          0.124  ],\n",
            "       [  7.76   ,  24.54   ,  47.92   , ...,   0.     ,   0.2871 ,\n",
            "          0.07039]]), 'target': array([0, 0, 0, 0, 0, 0, 0, 0, 0, 0, 0, 0, 0, 0, 0, 0, 0, 0, 0, 1, 1, 1,\n",
            "       0, 0, 0, 0, 0, 0, 0, 0, 0, 0, 0, 0, 0, 0, 0, 1, 0, 0, 0, 0, 0, 0,\n",
            "       0, 0, 1, 0, 1, 1, 1, 1, 1, 0, 0, 1, 0, 0, 1, 1, 1, 1, 0, 1, 0, 0,\n",
            "       1, 1, 1, 1, 0, 1, 0, 0, 1, 0, 1, 0, 0, 1, 1, 1, 0, 0, 1, 0, 0, 0,\n",
            "       1, 1, 1, 0, 1, 1, 0, 0, 1, 1, 1, 0, 0, 1, 1, 1, 1, 0, 1, 1, 0, 1,\n",
            "       1, 1, 1, 1, 1, 1, 1, 0, 0, 0, 1, 0, 0, 1, 1, 1, 0, 0, 1, 0, 1, 0,\n",
            "       0, 1, 0, 0, 1, 1, 0, 1, 1, 0, 1, 1, 1, 1, 0, 1, 1, 1, 1, 1, 1, 1,\n",
            "       1, 1, 0, 1, 1, 1, 1, 0, 0, 1, 0, 1, 1, 0, 0, 1, 1, 0, 0, 1, 1, 1,\n",
            "       1, 0, 1, 1, 0, 0, 0, 1, 0, 1, 0, 1, 1, 1, 0, 1, 1, 0, 0, 1, 0, 0,\n",
            "       0, 0, 1, 0, 0, 0, 1, 0, 1, 0, 1, 1, 0, 1, 0, 0, 0, 0, 1, 1, 0, 0,\n",
            "       1, 1, 1, 0, 1, 1, 1, 1, 1, 0, 0, 1, 1, 0, 1, 1, 0, 0, 1, 0, 1, 1,\n",
            "       1, 1, 0, 1, 1, 1, 1, 1, 0, 1, 0, 0, 0, 0, 0, 0, 0, 0, 0, 0, 0, 0,\n",
            "       0, 0, 1, 1, 1, 1, 1, 1, 0, 1, 0, 1, 1, 0, 1, 1, 0, 1, 0, 0, 1, 1,\n",
            "       1, 1, 1, 1, 1, 1, 1, 1, 1, 1, 1, 0, 1, 1, 0, 1, 0, 1, 1, 1, 1, 1,\n",
            "       1, 1, 1, 1, 1, 1, 1, 1, 1, 0, 1, 1, 1, 0, 1, 0, 1, 1, 1, 1, 0, 0,\n",
            "       0, 1, 1, 1, 1, 0, 1, 0, 1, 0, 1, 1, 1, 0, 1, 1, 1, 1, 1, 1, 1, 0,\n",
            "       0, 0, 1, 1, 1, 1, 1, 1, 1, 1, 1, 1, 1, 0, 0, 1, 0, 0, 0, 1, 0, 0,\n",
            "       1, 1, 1, 1, 1, 0, 1, 1, 1, 1, 1, 0, 1, 1, 1, 0, 1, 1, 0, 0, 1, 1,\n",
            "       1, 1, 1, 1, 0, 1, 1, 1, 1, 1, 1, 1, 0, 1, 1, 1, 1, 1, 0, 1, 1, 0,\n",
            "       1, 1, 1, 1, 1, 1, 1, 1, 1, 1, 1, 1, 0, 1, 0, 0, 1, 0, 1, 1, 1, 1,\n",
            "       1, 0, 1, 1, 0, 1, 0, 1, 1, 0, 1, 0, 1, 1, 1, 1, 1, 1, 1, 1, 0, 0,\n",
            "       1, 1, 1, 1, 1, 1, 0, 1, 1, 1, 1, 1, 1, 1, 1, 1, 1, 0, 1, 1, 1, 1,\n",
            "       1, 1, 1, 0, 1, 0, 1, 1, 0, 1, 1, 1, 1, 1, 0, 0, 1, 0, 1, 0, 1, 1,\n",
            "       1, 1, 1, 0, 1, 1, 0, 1, 0, 1, 0, 0, 1, 1, 1, 0, 1, 1, 1, 1, 1, 1,\n",
            "       1, 1, 1, 1, 1, 0, 1, 0, 0, 1, 1, 1, 1, 1, 1, 1, 1, 1, 1, 1, 1, 1,\n",
            "       1, 1, 1, 1, 1, 1, 1, 1, 1, 1, 1, 1, 0, 0, 0, 0, 0, 0, 1]), 'target_names': array(['malignant', 'benign'], dtype='<U9'), 'DESCR': '.. _breast_cancer_dataset:\\n\\nBreast cancer wisconsin (diagnostic) dataset\\n--------------------------------------------\\n\\n**Data Set Characteristics:**\\n\\n    :Number of Instances: 569\\n\\n    :Number of Attributes: 30 numeric, predictive attributes and the class\\n\\n    :Attribute Information:\\n        - radius (mean of distances from center to points on the perimeter)\\n        - texture (standard deviation of gray-scale values)\\n        - perimeter\\n        - area\\n        - smoothness (local variation in radius lengths)\\n        - compactness (perimeter^2 / area - 1.0)\\n        - concavity (severity of concave portions of the contour)\\n        - concave points (number of concave portions of the contour)\\n        - symmetry \\n        - fractal dimension (\"coastline approximation\" - 1)\\n\\n        The mean, standard error, and \"worst\" or largest (mean of the three\\n        largest values) of these features were computed for each image,\\n        resulting in 30 features.  For instance, field 3 is Mean Radius, field\\n        13 is Radius SE, field 23 is Worst Radius.\\n\\n        - class:\\n                - WDBC-Malignant\\n                - WDBC-Benign\\n\\n    :Summary Statistics:\\n\\n    ===================================== ====== ======\\n                                           Min    Max\\n    ===================================== ====== ======\\n    radius (mean):                        6.981  28.11\\n    texture (mean):                       9.71   39.28\\n    perimeter (mean):                     43.79  188.5\\n    area (mean):                          143.5  2501.0\\n    smoothness (mean):                    0.053  0.163\\n    compactness (mean):                   0.019  0.345\\n    concavity (mean):                     0.0    0.427\\n    concave points (mean):                0.0    0.201\\n    symmetry (mean):                      0.106  0.304\\n    fractal dimension (mean):             0.05   0.097\\n    radius (standard error):              0.112  2.873\\n    texture (standard error):             0.36   4.885\\n    perimeter (standard error):           0.757  21.98\\n    area (standard error):                6.802  542.2\\n    smoothness (standard error):          0.002  0.031\\n    compactness (standard error):         0.002  0.135\\n    concavity (standard error):           0.0    0.396\\n    concave points (standard error):      0.0    0.053\\n    symmetry (standard error):            0.008  0.079\\n    fractal dimension (standard error):   0.001  0.03\\n    radius (worst):                       7.93   36.04\\n    texture (worst):                      12.02  49.54\\n    perimeter (worst):                    50.41  251.2\\n    area (worst):                         185.2  4254.0\\n    smoothness (worst):                   0.071  0.223\\n    compactness (worst):                  0.027  1.058\\n    concavity (worst):                    0.0    1.252\\n    concave points (worst):               0.0    0.291\\n    symmetry (worst):                     0.156  0.664\\n    fractal dimension (worst):            0.055  0.208\\n    ===================================== ====== ======\\n\\n    :Missing Attribute Values: None\\n\\n    :Class Distribution: 212 - Malignant, 357 - Benign\\n\\n    :Creator:  Dr. William H. Wolberg, W. Nick Street, Olvi L. Mangasarian\\n\\n    :Donor: Nick Street\\n\\n    :Date: November, 1995\\n\\nThis is a copy of UCI ML Breast Cancer Wisconsin (Diagnostic) datasets.\\nhttps://goo.gl/U2Uwz2\\n\\nFeatures are computed from a digitized image of a fine needle\\naspirate (FNA) of a breast mass.  They describe\\ncharacteristics of the cell nuclei present in the image.\\n\\nSeparating plane described above was obtained using\\nMultisurface Method-Tree (MSM-T) [K. P. Bennett, \"Decision Tree\\nConstruction Via Linear Programming.\" Proceedings of the 4th\\nMidwest Artificial Intelligence and Cognitive Science Society,\\npp. 97-101, 1992], a classification method which uses linear\\nprogramming to construct a decision tree.  Relevant features\\nwere selected using an exhaustive search in the space of 1-4\\nfeatures and 1-3 separating planes.\\n\\nThe actual linear program used to obtain the separating plane\\nin the 3-dimensional space is that described in:\\n[K. P. Bennett and O. L. Mangasarian: \"Robust Linear\\nProgramming Discrimination of Two Linearly Inseparable Sets\",\\nOptimization Methods and Software 1, 1992, 23-34].\\n\\nThis database is also available through the UW CS ftp server:\\n\\nftp ftp.cs.wisc.edu\\ncd math-prog/cpo-dataset/machine-learn/WDBC/\\n\\n.. topic:: References\\n\\n   - W.N. Street, W.H. Wolberg and O.L. Mangasarian. Nuclear feature extraction \\n     for breast tumor diagnosis. IS&T/SPIE 1993 International Symposium on \\n     Electronic Imaging: Science and Technology, volume 1905, pages 861-870,\\n     San Jose, CA, 1993.\\n   - O.L. Mangasarian, W.N. Street and W.H. Wolberg. Breast cancer diagnosis and \\n     prognosis via linear programming. Operations Research, 43(4), pages 570-577, \\n     July-August 1995.\\n   - W.H. Wolberg, W.N. Street, and O.L. Mangasarian. Machine learning techniques\\n     to diagnose breast cancer from fine-needle aspirates. Cancer Letters 77 (1994) \\n     163-171.', 'feature_names': array(['mean radius', 'mean texture', 'mean perimeter', 'mean area',\n",
            "       'mean smoothness', 'mean compactness', 'mean concavity',\n",
            "       'mean concave points', 'mean symmetry', 'mean fractal dimension',\n",
            "       'radius error', 'texture error', 'perimeter error', 'area error',\n",
            "       'smoothness error', 'compactness error', 'concavity error',\n",
            "       'concave points error', 'symmetry error',\n",
            "       'fractal dimension error', 'worst radius', 'worst texture',\n",
            "       'worst perimeter', 'worst area', 'worst smoothness',\n",
            "       'worst compactness', 'worst concavity', 'worst concave points',\n",
            "       'worst symmetry', 'worst fractal dimension'], dtype='<U23'), 'filename': '/usr/local/lib/python3.6/dist-packages/sklearn/datasets/data/breast_cancer.csv'}\n"
          ],
          "name": "stdout"
        }
      ]
    },
    {
      "cell_type": "code",
      "metadata": {
        "id": "BoLRmI7UtpQq",
        "outputId": "45fe521a-467b-44b3-b5b8-cdaf0f899474",
        "colab": {
          "base_uri": "https://localhost:8080/"
        }
      },
      "source": [
        "X = data.data\n",
        "y = data.target\n",
        "\n",
        "print(f'shape X: {X.shape}')\n",
        "print(f'shape y: {y.shape}')"
      ],
      "execution_count": 5,
      "outputs": [
        {
          "output_type": "stream",
          "text": [
            "shape X: (569, 30)\n",
            "shape y: (569,)\n"
          ],
          "name": "stdout"
        }
      ]
    },
    {
      "cell_type": "code",
      "metadata": {
        "id": "xVJp4SHGt89s",
        "outputId": "8d46d1e6-3c7c-44c0-ad75-5845c601c25a",
        "colab": {
          "base_uri": "https://localhost:8080/"
        }
      },
      "source": [
        "df = pd.DataFrame(data = X, columns = data.feature_names)\n",
        "df.info()"
      ],
      "execution_count": 6,
      "outputs": [
        {
          "output_type": "stream",
          "text": [
            "<class 'pandas.core.frame.DataFrame'>\n",
            "RangeIndex: 569 entries, 0 to 568\n",
            "Data columns (total 30 columns):\n",
            " #   Column                   Non-Null Count  Dtype  \n",
            "---  ------                   --------------  -----  \n",
            " 0   mean radius              569 non-null    float64\n",
            " 1   mean texture             569 non-null    float64\n",
            " 2   mean perimeter           569 non-null    float64\n",
            " 3   mean area                569 non-null    float64\n",
            " 4   mean smoothness          569 non-null    float64\n",
            " 5   mean compactness         569 non-null    float64\n",
            " 6   mean concavity           569 non-null    float64\n",
            " 7   mean concave points      569 non-null    float64\n",
            " 8   mean symmetry            569 non-null    float64\n",
            " 9   mean fractal dimension   569 non-null    float64\n",
            " 10  radius error             569 non-null    float64\n",
            " 11  texture error            569 non-null    float64\n",
            " 12  perimeter error          569 non-null    float64\n",
            " 13  area error               569 non-null    float64\n",
            " 14  smoothness error         569 non-null    float64\n",
            " 15  compactness error        569 non-null    float64\n",
            " 16  concavity error          569 non-null    float64\n",
            " 17  concave points error     569 non-null    float64\n",
            " 18  symmetry error           569 non-null    float64\n",
            " 19  fractal dimension error  569 non-null    float64\n",
            " 20  worst radius             569 non-null    float64\n",
            " 21  worst texture            569 non-null    float64\n",
            " 22  worst perimeter          569 non-null    float64\n",
            " 23  worst area               569 non-null    float64\n",
            " 24  worst smoothness         569 non-null    float64\n",
            " 25  worst compactness        569 non-null    float64\n",
            " 26  worst concavity          569 non-null    float64\n",
            " 27  worst concave points     569 non-null    float64\n",
            " 28  worst symmetry           569 non-null    float64\n",
            " 29  worst fractal dimension  569 non-null    float64\n",
            "dtypes: float64(30)\n",
            "memory usage: 133.5 KB\n"
          ],
          "name": "stdout"
        }
      ]
    },
    {
      "cell_type": "code",
      "metadata": {
        "id": "1fPvATuDuM4J",
        "outputId": "740d196e-6419-4d43-c060-806879681d93",
        "colab": {
          "base_uri": "https://localhost:8080/",
          "height": 258
        }
      },
      "source": [
        "df.head()"
      ],
      "execution_count": 7,
      "outputs": [
        {
          "output_type": "execute_result",
          "data": {
            "text/html": [
              "<div>\n",
              "<style scoped>\n",
              "    .dataframe tbody tr th:only-of-type {\n",
              "        vertical-align: middle;\n",
              "    }\n",
              "\n",
              "    .dataframe tbody tr th {\n",
              "        vertical-align: top;\n",
              "    }\n",
              "\n",
              "    .dataframe thead th {\n",
              "        text-align: right;\n",
              "    }\n",
              "</style>\n",
              "<table border=\"1\" class=\"dataframe\">\n",
              "  <thead>\n",
              "    <tr style=\"text-align: right;\">\n",
              "      <th></th>\n",
              "      <th>mean radius</th>\n",
              "      <th>mean texture</th>\n",
              "      <th>mean perimeter</th>\n",
              "      <th>mean area</th>\n",
              "      <th>mean smoothness</th>\n",
              "      <th>mean compactness</th>\n",
              "      <th>mean concavity</th>\n",
              "      <th>mean concave points</th>\n",
              "      <th>mean symmetry</th>\n",
              "      <th>mean fractal dimension</th>\n",
              "      <th>radius error</th>\n",
              "      <th>texture error</th>\n",
              "      <th>perimeter error</th>\n",
              "      <th>area error</th>\n",
              "      <th>smoothness error</th>\n",
              "      <th>compactness error</th>\n",
              "      <th>concavity error</th>\n",
              "      <th>concave points error</th>\n",
              "      <th>symmetry error</th>\n",
              "      <th>fractal dimension error</th>\n",
              "      <th>worst radius</th>\n",
              "      <th>worst texture</th>\n",
              "      <th>worst perimeter</th>\n",
              "      <th>worst area</th>\n",
              "      <th>worst smoothness</th>\n",
              "      <th>worst compactness</th>\n",
              "      <th>worst concavity</th>\n",
              "      <th>worst concave points</th>\n",
              "      <th>worst symmetry</th>\n",
              "      <th>worst fractal dimension</th>\n",
              "    </tr>\n",
              "  </thead>\n",
              "  <tbody>\n",
              "    <tr>\n",
              "      <th>0</th>\n",
              "      <td>17.99</td>\n",
              "      <td>10.38</td>\n",
              "      <td>122.80</td>\n",
              "      <td>1001.0</td>\n",
              "      <td>0.11840</td>\n",
              "      <td>0.27760</td>\n",
              "      <td>0.3001</td>\n",
              "      <td>0.14710</td>\n",
              "      <td>0.2419</td>\n",
              "      <td>0.07871</td>\n",
              "      <td>1.0950</td>\n",
              "      <td>0.9053</td>\n",
              "      <td>8.589</td>\n",
              "      <td>153.40</td>\n",
              "      <td>0.006399</td>\n",
              "      <td>0.04904</td>\n",
              "      <td>0.05373</td>\n",
              "      <td>0.01587</td>\n",
              "      <td>0.03003</td>\n",
              "      <td>0.006193</td>\n",
              "      <td>25.38</td>\n",
              "      <td>17.33</td>\n",
              "      <td>184.60</td>\n",
              "      <td>2019.0</td>\n",
              "      <td>0.1622</td>\n",
              "      <td>0.6656</td>\n",
              "      <td>0.7119</td>\n",
              "      <td>0.2654</td>\n",
              "      <td>0.4601</td>\n",
              "      <td>0.11890</td>\n",
              "    </tr>\n",
              "    <tr>\n",
              "      <th>1</th>\n",
              "      <td>20.57</td>\n",
              "      <td>17.77</td>\n",
              "      <td>132.90</td>\n",
              "      <td>1326.0</td>\n",
              "      <td>0.08474</td>\n",
              "      <td>0.07864</td>\n",
              "      <td>0.0869</td>\n",
              "      <td>0.07017</td>\n",
              "      <td>0.1812</td>\n",
              "      <td>0.05667</td>\n",
              "      <td>0.5435</td>\n",
              "      <td>0.7339</td>\n",
              "      <td>3.398</td>\n",
              "      <td>74.08</td>\n",
              "      <td>0.005225</td>\n",
              "      <td>0.01308</td>\n",
              "      <td>0.01860</td>\n",
              "      <td>0.01340</td>\n",
              "      <td>0.01389</td>\n",
              "      <td>0.003532</td>\n",
              "      <td>24.99</td>\n",
              "      <td>23.41</td>\n",
              "      <td>158.80</td>\n",
              "      <td>1956.0</td>\n",
              "      <td>0.1238</td>\n",
              "      <td>0.1866</td>\n",
              "      <td>0.2416</td>\n",
              "      <td>0.1860</td>\n",
              "      <td>0.2750</td>\n",
              "      <td>0.08902</td>\n",
              "    </tr>\n",
              "    <tr>\n",
              "      <th>2</th>\n",
              "      <td>19.69</td>\n",
              "      <td>21.25</td>\n",
              "      <td>130.00</td>\n",
              "      <td>1203.0</td>\n",
              "      <td>0.10960</td>\n",
              "      <td>0.15990</td>\n",
              "      <td>0.1974</td>\n",
              "      <td>0.12790</td>\n",
              "      <td>0.2069</td>\n",
              "      <td>0.05999</td>\n",
              "      <td>0.7456</td>\n",
              "      <td>0.7869</td>\n",
              "      <td>4.585</td>\n",
              "      <td>94.03</td>\n",
              "      <td>0.006150</td>\n",
              "      <td>0.04006</td>\n",
              "      <td>0.03832</td>\n",
              "      <td>0.02058</td>\n",
              "      <td>0.02250</td>\n",
              "      <td>0.004571</td>\n",
              "      <td>23.57</td>\n",
              "      <td>25.53</td>\n",
              "      <td>152.50</td>\n",
              "      <td>1709.0</td>\n",
              "      <td>0.1444</td>\n",
              "      <td>0.4245</td>\n",
              "      <td>0.4504</td>\n",
              "      <td>0.2430</td>\n",
              "      <td>0.3613</td>\n",
              "      <td>0.08758</td>\n",
              "    </tr>\n",
              "    <tr>\n",
              "      <th>3</th>\n",
              "      <td>11.42</td>\n",
              "      <td>20.38</td>\n",
              "      <td>77.58</td>\n",
              "      <td>386.1</td>\n",
              "      <td>0.14250</td>\n",
              "      <td>0.28390</td>\n",
              "      <td>0.2414</td>\n",
              "      <td>0.10520</td>\n",
              "      <td>0.2597</td>\n",
              "      <td>0.09744</td>\n",
              "      <td>0.4956</td>\n",
              "      <td>1.1560</td>\n",
              "      <td>3.445</td>\n",
              "      <td>27.23</td>\n",
              "      <td>0.009110</td>\n",
              "      <td>0.07458</td>\n",
              "      <td>0.05661</td>\n",
              "      <td>0.01867</td>\n",
              "      <td>0.05963</td>\n",
              "      <td>0.009208</td>\n",
              "      <td>14.91</td>\n",
              "      <td>26.50</td>\n",
              "      <td>98.87</td>\n",
              "      <td>567.7</td>\n",
              "      <td>0.2098</td>\n",
              "      <td>0.8663</td>\n",
              "      <td>0.6869</td>\n",
              "      <td>0.2575</td>\n",
              "      <td>0.6638</td>\n",
              "      <td>0.17300</td>\n",
              "    </tr>\n",
              "    <tr>\n",
              "      <th>4</th>\n",
              "      <td>20.29</td>\n",
              "      <td>14.34</td>\n",
              "      <td>135.10</td>\n",
              "      <td>1297.0</td>\n",
              "      <td>0.10030</td>\n",
              "      <td>0.13280</td>\n",
              "      <td>0.1980</td>\n",
              "      <td>0.10430</td>\n",
              "      <td>0.1809</td>\n",
              "      <td>0.05883</td>\n",
              "      <td>0.7572</td>\n",
              "      <td>0.7813</td>\n",
              "      <td>5.438</td>\n",
              "      <td>94.44</td>\n",
              "      <td>0.011490</td>\n",
              "      <td>0.02461</td>\n",
              "      <td>0.05688</td>\n",
              "      <td>0.01885</td>\n",
              "      <td>0.01756</td>\n",
              "      <td>0.005115</td>\n",
              "      <td>22.54</td>\n",
              "      <td>16.67</td>\n",
              "      <td>152.20</td>\n",
              "      <td>1575.0</td>\n",
              "      <td>0.1374</td>\n",
              "      <td>0.2050</td>\n",
              "      <td>0.4000</td>\n",
              "      <td>0.1625</td>\n",
              "      <td>0.2364</td>\n",
              "      <td>0.07678</td>\n",
              "    </tr>\n",
              "  </tbody>\n",
              "</table>\n",
              "</div>"
            ],
            "text/plain": [
              "   mean radius  mean texture  ...  worst symmetry  worst fractal dimension\n",
              "0        17.99         10.38  ...          0.4601                  0.11890\n",
              "1        20.57         17.77  ...          0.2750                  0.08902\n",
              "2        19.69         21.25  ...          0.3613                  0.08758\n",
              "3        11.42         20.38  ...          0.6638                  0.17300\n",
              "4        20.29         14.34  ...          0.2364                  0.07678\n",
              "\n",
              "[5 rows x 30 columns]"
            ]
          },
          "metadata": {
            "tags": []
          },
          "execution_count": 7
        }
      ]
    },
    {
      "cell_type": "code",
      "metadata": {
        "id": "g1kF8TvHuSrs",
        "outputId": "46537b3d-d193-4c37-bcbd-e18c7f2b1176",
        "colab": {
          "base_uri": "https://localhost:8080/",
          "height": 979
        }
      },
      "source": [
        "df.describe().T"
      ],
      "execution_count": 9,
      "outputs": [
        {
          "output_type": "execute_result",
          "data": {
            "text/html": [
              "<div>\n",
              "<style scoped>\n",
              "    .dataframe tbody tr th:only-of-type {\n",
              "        vertical-align: middle;\n",
              "    }\n",
              "\n",
              "    .dataframe tbody tr th {\n",
              "        vertical-align: top;\n",
              "    }\n",
              "\n",
              "    .dataframe thead th {\n",
              "        text-align: right;\n",
              "    }\n",
              "</style>\n",
              "<table border=\"1\" class=\"dataframe\">\n",
              "  <thead>\n",
              "    <tr style=\"text-align: right;\">\n",
              "      <th></th>\n",
              "      <th>count</th>\n",
              "      <th>mean</th>\n",
              "      <th>std</th>\n",
              "      <th>min</th>\n",
              "      <th>25%</th>\n",
              "      <th>50%</th>\n",
              "      <th>75%</th>\n",
              "      <th>max</th>\n",
              "    </tr>\n",
              "  </thead>\n",
              "  <tbody>\n",
              "    <tr>\n",
              "      <th>mean radius</th>\n",
              "      <td>569.0</td>\n",
              "      <td>14.127292</td>\n",
              "      <td>3.524049</td>\n",
              "      <td>6.981000</td>\n",
              "      <td>11.700000</td>\n",
              "      <td>13.370000</td>\n",
              "      <td>15.780000</td>\n",
              "      <td>28.11000</td>\n",
              "    </tr>\n",
              "    <tr>\n",
              "      <th>mean texture</th>\n",
              "      <td>569.0</td>\n",
              "      <td>19.289649</td>\n",
              "      <td>4.301036</td>\n",
              "      <td>9.710000</td>\n",
              "      <td>16.170000</td>\n",
              "      <td>18.840000</td>\n",
              "      <td>21.800000</td>\n",
              "      <td>39.28000</td>\n",
              "    </tr>\n",
              "    <tr>\n",
              "      <th>mean perimeter</th>\n",
              "      <td>569.0</td>\n",
              "      <td>91.969033</td>\n",
              "      <td>24.298981</td>\n",
              "      <td>43.790000</td>\n",
              "      <td>75.170000</td>\n",
              "      <td>86.240000</td>\n",
              "      <td>104.100000</td>\n",
              "      <td>188.50000</td>\n",
              "    </tr>\n",
              "    <tr>\n",
              "      <th>mean area</th>\n",
              "      <td>569.0</td>\n",
              "      <td>654.889104</td>\n",
              "      <td>351.914129</td>\n",
              "      <td>143.500000</td>\n",
              "      <td>420.300000</td>\n",
              "      <td>551.100000</td>\n",
              "      <td>782.700000</td>\n",
              "      <td>2501.00000</td>\n",
              "    </tr>\n",
              "    <tr>\n",
              "      <th>mean smoothness</th>\n",
              "      <td>569.0</td>\n",
              "      <td>0.096360</td>\n",
              "      <td>0.014064</td>\n",
              "      <td>0.052630</td>\n",
              "      <td>0.086370</td>\n",
              "      <td>0.095870</td>\n",
              "      <td>0.105300</td>\n",
              "      <td>0.16340</td>\n",
              "    </tr>\n",
              "    <tr>\n",
              "      <th>mean compactness</th>\n",
              "      <td>569.0</td>\n",
              "      <td>0.104341</td>\n",
              "      <td>0.052813</td>\n",
              "      <td>0.019380</td>\n",
              "      <td>0.064920</td>\n",
              "      <td>0.092630</td>\n",
              "      <td>0.130400</td>\n",
              "      <td>0.34540</td>\n",
              "    </tr>\n",
              "    <tr>\n",
              "      <th>mean concavity</th>\n",
              "      <td>569.0</td>\n",
              "      <td>0.088799</td>\n",
              "      <td>0.079720</td>\n",
              "      <td>0.000000</td>\n",
              "      <td>0.029560</td>\n",
              "      <td>0.061540</td>\n",
              "      <td>0.130700</td>\n",
              "      <td>0.42680</td>\n",
              "    </tr>\n",
              "    <tr>\n",
              "      <th>mean concave points</th>\n",
              "      <td>569.0</td>\n",
              "      <td>0.048919</td>\n",
              "      <td>0.038803</td>\n",
              "      <td>0.000000</td>\n",
              "      <td>0.020310</td>\n",
              "      <td>0.033500</td>\n",
              "      <td>0.074000</td>\n",
              "      <td>0.20120</td>\n",
              "    </tr>\n",
              "    <tr>\n",
              "      <th>mean symmetry</th>\n",
              "      <td>569.0</td>\n",
              "      <td>0.181162</td>\n",
              "      <td>0.027414</td>\n",
              "      <td>0.106000</td>\n",
              "      <td>0.161900</td>\n",
              "      <td>0.179200</td>\n",
              "      <td>0.195700</td>\n",
              "      <td>0.30400</td>\n",
              "    </tr>\n",
              "    <tr>\n",
              "      <th>mean fractal dimension</th>\n",
              "      <td>569.0</td>\n",
              "      <td>0.062798</td>\n",
              "      <td>0.007060</td>\n",
              "      <td>0.049960</td>\n",
              "      <td>0.057700</td>\n",
              "      <td>0.061540</td>\n",
              "      <td>0.066120</td>\n",
              "      <td>0.09744</td>\n",
              "    </tr>\n",
              "    <tr>\n",
              "      <th>radius error</th>\n",
              "      <td>569.0</td>\n",
              "      <td>0.405172</td>\n",
              "      <td>0.277313</td>\n",
              "      <td>0.111500</td>\n",
              "      <td>0.232400</td>\n",
              "      <td>0.324200</td>\n",
              "      <td>0.478900</td>\n",
              "      <td>2.87300</td>\n",
              "    </tr>\n",
              "    <tr>\n",
              "      <th>texture error</th>\n",
              "      <td>569.0</td>\n",
              "      <td>1.216853</td>\n",
              "      <td>0.551648</td>\n",
              "      <td>0.360200</td>\n",
              "      <td>0.833900</td>\n",
              "      <td>1.108000</td>\n",
              "      <td>1.474000</td>\n",
              "      <td>4.88500</td>\n",
              "    </tr>\n",
              "    <tr>\n",
              "      <th>perimeter error</th>\n",
              "      <td>569.0</td>\n",
              "      <td>2.866059</td>\n",
              "      <td>2.021855</td>\n",
              "      <td>0.757000</td>\n",
              "      <td>1.606000</td>\n",
              "      <td>2.287000</td>\n",
              "      <td>3.357000</td>\n",
              "      <td>21.98000</td>\n",
              "    </tr>\n",
              "    <tr>\n",
              "      <th>area error</th>\n",
              "      <td>569.0</td>\n",
              "      <td>40.337079</td>\n",
              "      <td>45.491006</td>\n",
              "      <td>6.802000</td>\n",
              "      <td>17.850000</td>\n",
              "      <td>24.530000</td>\n",
              "      <td>45.190000</td>\n",
              "      <td>542.20000</td>\n",
              "    </tr>\n",
              "    <tr>\n",
              "      <th>smoothness error</th>\n",
              "      <td>569.0</td>\n",
              "      <td>0.007041</td>\n",
              "      <td>0.003003</td>\n",
              "      <td>0.001713</td>\n",
              "      <td>0.005169</td>\n",
              "      <td>0.006380</td>\n",
              "      <td>0.008146</td>\n",
              "      <td>0.03113</td>\n",
              "    </tr>\n",
              "    <tr>\n",
              "      <th>compactness error</th>\n",
              "      <td>569.0</td>\n",
              "      <td>0.025478</td>\n",
              "      <td>0.017908</td>\n",
              "      <td>0.002252</td>\n",
              "      <td>0.013080</td>\n",
              "      <td>0.020450</td>\n",
              "      <td>0.032450</td>\n",
              "      <td>0.13540</td>\n",
              "    </tr>\n",
              "    <tr>\n",
              "      <th>concavity error</th>\n",
              "      <td>569.0</td>\n",
              "      <td>0.031894</td>\n",
              "      <td>0.030186</td>\n",
              "      <td>0.000000</td>\n",
              "      <td>0.015090</td>\n",
              "      <td>0.025890</td>\n",
              "      <td>0.042050</td>\n",
              "      <td>0.39600</td>\n",
              "    </tr>\n",
              "    <tr>\n",
              "      <th>concave points error</th>\n",
              "      <td>569.0</td>\n",
              "      <td>0.011796</td>\n",
              "      <td>0.006170</td>\n",
              "      <td>0.000000</td>\n",
              "      <td>0.007638</td>\n",
              "      <td>0.010930</td>\n",
              "      <td>0.014710</td>\n",
              "      <td>0.05279</td>\n",
              "    </tr>\n",
              "    <tr>\n",
              "      <th>symmetry error</th>\n",
              "      <td>569.0</td>\n",
              "      <td>0.020542</td>\n",
              "      <td>0.008266</td>\n",
              "      <td>0.007882</td>\n",
              "      <td>0.015160</td>\n",
              "      <td>0.018730</td>\n",
              "      <td>0.023480</td>\n",
              "      <td>0.07895</td>\n",
              "    </tr>\n",
              "    <tr>\n",
              "      <th>fractal dimension error</th>\n",
              "      <td>569.0</td>\n",
              "      <td>0.003795</td>\n",
              "      <td>0.002646</td>\n",
              "      <td>0.000895</td>\n",
              "      <td>0.002248</td>\n",
              "      <td>0.003187</td>\n",
              "      <td>0.004558</td>\n",
              "      <td>0.02984</td>\n",
              "    </tr>\n",
              "    <tr>\n",
              "      <th>worst radius</th>\n",
              "      <td>569.0</td>\n",
              "      <td>16.269190</td>\n",
              "      <td>4.833242</td>\n",
              "      <td>7.930000</td>\n",
              "      <td>13.010000</td>\n",
              "      <td>14.970000</td>\n",
              "      <td>18.790000</td>\n",
              "      <td>36.04000</td>\n",
              "    </tr>\n",
              "    <tr>\n",
              "      <th>worst texture</th>\n",
              "      <td>569.0</td>\n",
              "      <td>25.677223</td>\n",
              "      <td>6.146258</td>\n",
              "      <td>12.020000</td>\n",
              "      <td>21.080000</td>\n",
              "      <td>25.410000</td>\n",
              "      <td>29.720000</td>\n",
              "      <td>49.54000</td>\n",
              "    </tr>\n",
              "    <tr>\n",
              "      <th>worst perimeter</th>\n",
              "      <td>569.0</td>\n",
              "      <td>107.261213</td>\n",
              "      <td>33.602542</td>\n",
              "      <td>50.410000</td>\n",
              "      <td>84.110000</td>\n",
              "      <td>97.660000</td>\n",
              "      <td>125.400000</td>\n",
              "      <td>251.20000</td>\n",
              "    </tr>\n",
              "    <tr>\n",
              "      <th>worst area</th>\n",
              "      <td>569.0</td>\n",
              "      <td>880.583128</td>\n",
              "      <td>569.356993</td>\n",
              "      <td>185.200000</td>\n",
              "      <td>515.300000</td>\n",
              "      <td>686.500000</td>\n",
              "      <td>1084.000000</td>\n",
              "      <td>4254.00000</td>\n",
              "    </tr>\n",
              "    <tr>\n",
              "      <th>worst smoothness</th>\n",
              "      <td>569.0</td>\n",
              "      <td>0.132369</td>\n",
              "      <td>0.022832</td>\n",
              "      <td>0.071170</td>\n",
              "      <td>0.116600</td>\n",
              "      <td>0.131300</td>\n",
              "      <td>0.146000</td>\n",
              "      <td>0.22260</td>\n",
              "    </tr>\n",
              "    <tr>\n",
              "      <th>worst compactness</th>\n",
              "      <td>569.0</td>\n",
              "      <td>0.254265</td>\n",
              "      <td>0.157336</td>\n",
              "      <td>0.027290</td>\n",
              "      <td>0.147200</td>\n",
              "      <td>0.211900</td>\n",
              "      <td>0.339100</td>\n",
              "      <td>1.05800</td>\n",
              "    </tr>\n",
              "    <tr>\n",
              "      <th>worst concavity</th>\n",
              "      <td>569.0</td>\n",
              "      <td>0.272188</td>\n",
              "      <td>0.208624</td>\n",
              "      <td>0.000000</td>\n",
              "      <td>0.114500</td>\n",
              "      <td>0.226700</td>\n",
              "      <td>0.382900</td>\n",
              "      <td>1.25200</td>\n",
              "    </tr>\n",
              "    <tr>\n",
              "      <th>worst concave points</th>\n",
              "      <td>569.0</td>\n",
              "      <td>0.114606</td>\n",
              "      <td>0.065732</td>\n",
              "      <td>0.000000</td>\n",
              "      <td>0.064930</td>\n",
              "      <td>0.099930</td>\n",
              "      <td>0.161400</td>\n",
              "      <td>0.29100</td>\n",
              "    </tr>\n",
              "    <tr>\n",
              "      <th>worst symmetry</th>\n",
              "      <td>569.0</td>\n",
              "      <td>0.290076</td>\n",
              "      <td>0.061867</td>\n",
              "      <td>0.156500</td>\n",
              "      <td>0.250400</td>\n",
              "      <td>0.282200</td>\n",
              "      <td>0.317900</td>\n",
              "      <td>0.66380</td>\n",
              "    </tr>\n",
              "    <tr>\n",
              "      <th>worst fractal dimension</th>\n",
              "      <td>569.0</td>\n",
              "      <td>0.083946</td>\n",
              "      <td>0.018061</td>\n",
              "      <td>0.055040</td>\n",
              "      <td>0.071460</td>\n",
              "      <td>0.080040</td>\n",
              "      <td>0.092080</td>\n",
              "      <td>0.20750</td>\n",
              "    </tr>\n",
              "  </tbody>\n",
              "</table>\n",
              "</div>"
            ],
            "text/plain": [
              "                         count        mean  ...          75%         max\n",
              "mean radius              569.0   14.127292  ...    15.780000    28.11000\n",
              "mean texture             569.0   19.289649  ...    21.800000    39.28000\n",
              "mean perimeter           569.0   91.969033  ...   104.100000   188.50000\n",
              "mean area                569.0  654.889104  ...   782.700000  2501.00000\n",
              "mean smoothness          569.0    0.096360  ...     0.105300     0.16340\n",
              "mean compactness         569.0    0.104341  ...     0.130400     0.34540\n",
              "mean concavity           569.0    0.088799  ...     0.130700     0.42680\n",
              "mean concave points      569.0    0.048919  ...     0.074000     0.20120\n",
              "mean symmetry            569.0    0.181162  ...     0.195700     0.30400\n",
              "mean fractal dimension   569.0    0.062798  ...     0.066120     0.09744\n",
              "radius error             569.0    0.405172  ...     0.478900     2.87300\n",
              "texture error            569.0    1.216853  ...     1.474000     4.88500\n",
              "perimeter error          569.0    2.866059  ...     3.357000    21.98000\n",
              "area error               569.0   40.337079  ...    45.190000   542.20000\n",
              "smoothness error         569.0    0.007041  ...     0.008146     0.03113\n",
              "compactness error        569.0    0.025478  ...     0.032450     0.13540\n",
              "concavity error          569.0    0.031894  ...     0.042050     0.39600\n",
              "concave points error     569.0    0.011796  ...     0.014710     0.05279\n",
              "symmetry error           569.0    0.020542  ...     0.023480     0.07895\n",
              "fractal dimension error  569.0    0.003795  ...     0.004558     0.02984\n",
              "worst radius             569.0   16.269190  ...    18.790000    36.04000\n",
              "worst texture            569.0   25.677223  ...    29.720000    49.54000\n",
              "worst perimeter          569.0  107.261213  ...   125.400000   251.20000\n",
              "worst area               569.0  880.583128  ...  1084.000000  4254.00000\n",
              "worst smoothness         569.0    0.132369  ...     0.146000     0.22260\n",
              "worst compactness        569.0    0.254265  ...     0.339100     1.05800\n",
              "worst concavity          569.0    0.272188  ...     0.382900     1.25200\n",
              "worst concave points     569.0    0.114606  ...     0.161400     0.29100\n",
              "worst symmetry           569.0    0.290076  ...     0.317900     0.66380\n",
              "worst fractal dimension  569.0    0.083946  ...     0.092080     0.20750\n",
              "\n",
              "[30 rows x 8 columns]"
            ]
          },
          "metadata": {
            "tags": []
          },
          "execution_count": 9
        }
      ]
    },
    {
      "cell_type": "markdown",
      "metadata": {
        "id": "qK78XEErugO8"
      },
      "source": [
        "### Podział danych na zbiór treningowy i testowy"
      ]
    },
    {
      "cell_type": "code",
      "metadata": {
        "id": "L_QFThFCuV9R",
        "outputId": "d949c024-e376-4723-dd53-64fd87c1b4c8",
        "colab": {
          "base_uri": "https://localhost:8080/"
        }
      },
      "source": [
        "from sklearn.model_selection import train_test_split\n",
        "\n",
        "X_train, X_test, y_train, y_test = train_test_split(X, y)\n",
        "print(f'X_train shape: {X_train.shape}')\n",
        "print(f'y_train shape: {y_train.shape}')\n",
        "print(f'X_test shape: {X_test.shape}')\n",
        "print(f'y_test shape: {y_test.shape}')"
      ],
      "execution_count": 13,
      "outputs": [
        {
          "output_type": "stream",
          "text": [
            "X_train shape: (426, 30)\n",
            "y_train shape: (426,)\n",
            "X_test shape: (143, 30)\n",
            "y_test shape: (143,)\n"
          ],
          "name": "stdout"
        }
      ]
    },
    {
      "cell_type": "markdown",
      "metadata": {
        "id": "IU9DqvNZvW0Q"
      },
      "source": [
        "### Dopasowanie modelu"
      ]
    },
    {
      "cell_type": "code",
      "metadata": {
        "id": "XqzdlDwiunhn",
        "outputId": "f32c9c12-50af-48d1-eb21-330ca3457261",
        "colab": {
          "base_uri": "https://localhost:8080/"
        }
      },
      "source": [
        "from sklearn.linear_model import LogisticRegression\n",
        "\n",
        "classifier = LogisticRegression(solver = 'newton-cg')\n",
        "classifier.fit(X_train, y_train)"
      ],
      "execution_count": 57,
      "outputs": [
        {
          "output_type": "execute_result",
          "data": {
            "text/plain": [
              "LogisticRegression(C=1.0, class_weight=None, dual=False, fit_intercept=True,\n",
              "                   intercept_scaling=1, l1_ratio=None, max_iter=100,\n",
              "                   multi_class='auto', n_jobs=None, penalty='l2',\n",
              "                   random_state=None, solver='newton-cg', tol=0.0001, verbose=0,\n",
              "                   warm_start=False)"
            ]
          },
          "metadata": {
            "tags": []
          },
          "execution_count": 57
        }
      ]
    },
    {
      "cell_type": "code",
      "metadata": {
        "id": "0NkXvBb_vpiW",
        "outputId": "1d1fb6f1-1b54-49d7-cbf5-d0ec2e73fdf0",
        "colab": {
          "base_uri": "https://localhost:8080/"
        }
      },
      "source": [
        "y_prob = classifier.predict_proba(X_test)\n",
        "y_prob"
      ],
      "execution_count": 58,
      "outputs": [
        {
          "output_type": "execute_result",
          "data": {
            "text/plain": [
              "array([[0.999   , 0.001   ],\n",
              "       [1.      , 0.      ],\n",
              "       [0.003771, 0.996229],\n",
              "       [0.015532, 0.984468],\n",
              "       [0.000668, 0.999332],\n",
              "       [0.021082, 0.978918],\n",
              "       [0.000069, 0.999931],\n",
              "       [0.996921, 0.003079],\n",
              "       [0.994899, 0.005101],\n",
              "       [0.2657  , 0.7343  ],\n",
              "       [0.999999, 0.000001],\n",
              "       [0.001519, 0.998481],\n",
              "       [0.004113, 0.995887],\n",
              "       [0.434376, 0.565624],\n",
              "       [0.000131, 0.999869],\n",
              "       [0.011399, 0.988601],\n",
              "       [0.009588, 0.990412],\n",
              "       [0.756599, 0.243401],\n",
              "       [0.999979, 0.000021],\n",
              "       [0.024597, 0.975403],\n",
              "       [0.05648 , 0.94352 ],\n",
              "       [0.023629, 0.976371],\n",
              "       [0.000098, 0.999902],\n",
              "       [1.      , 0.      ],\n",
              "       [0.983621, 0.016379],\n",
              "       [0.054851, 0.945149],\n",
              "       [0.000795, 0.999205],\n",
              "       [0.235216, 0.764784],\n",
              "       [1.      , 0.      ],\n",
              "       [0.001136, 0.998864],\n",
              "       [0.999264, 0.000736],\n",
              "       [1.      , 0.      ],\n",
              "       [0.000043, 0.999957],\n",
              "       [0.011604, 0.988396],\n",
              "       [0.938833, 0.061167],\n",
              "       [0.000614, 0.999386],\n",
              "       [1.      , 0.      ],\n",
              "       [1.      , 0.      ],\n",
              "       [0.000007, 0.999993],\n",
              "       [0.000696, 0.999304],\n",
              "       [0.000119, 0.999881],\n",
              "       [0.999865, 0.000135],\n",
              "       [0.994514, 0.005486],\n",
              "       [0.129738, 0.870262],\n",
              "       [0.99981 , 0.00019 ],\n",
              "       [0.021702, 0.978298],\n",
              "       [0.58359 , 0.41641 ],\n",
              "       [0.999918, 0.000082],\n",
              "       [0.96984 , 0.03016 ],\n",
              "       [0.000111, 0.999889],\n",
              "       [0.001652, 0.998348],\n",
              "       [0.15181 , 0.84819 ],\n",
              "       [0.99998 , 0.00002 ],\n",
              "       [0.003694, 0.996306],\n",
              "       [0.002447, 0.997553],\n",
              "       [0.000078, 0.999922],\n",
              "       [0.781486, 0.218514],\n",
              "       [0.003612, 0.996388],\n",
              "       [0.000537, 0.999463],\n",
              "       [0.009471, 0.990529],\n",
              "       [0.854515, 0.145485],\n",
              "       [0.000176, 0.999824],\n",
              "       [0.009515, 0.990485],\n",
              "       [0.826845, 0.173155],\n",
              "       [0.948223, 0.051777],\n",
              "       [0.000094, 0.999906],\n",
              "       [0.004214, 0.995786],\n",
              "       [0.204589, 0.795411],\n",
              "       [0.000493, 0.999507],\n",
              "       [0.004311, 0.995689],\n",
              "       [1.      , 0.      ],\n",
              "       [0.999251, 0.000749],\n",
              "       [0.042014, 0.957986],\n",
              "       [0.320825, 0.679175],\n",
              "       [0.076101, 0.923899],\n",
              "       [0.075035, 0.924965],\n",
              "       [0.040482, 0.959518],\n",
              "       [0.012875, 0.987125],\n",
              "       [0.000847, 0.999153],\n",
              "       [0.00709 , 0.99291 ],\n",
              "       [0.018284, 0.981716],\n",
              "       [0.356686, 0.643314],\n",
              "       [0.004396, 0.995604],\n",
              "       [0.919488, 0.080512],\n",
              "       [0.000008, 0.999992],\n",
              "       [0.005533, 0.994467],\n",
              "       [0.008534, 0.991466],\n",
              "       [0.000403, 0.999597],\n",
              "       [1.      , 0.      ],\n",
              "       [0.999999, 0.000001],\n",
              "       [0.999919, 0.000081],\n",
              "       [0.924677, 0.075323],\n",
              "       [0.005223, 0.994777],\n",
              "       [0.000105, 0.999895],\n",
              "       [0.997128, 0.002872],\n",
              "       [0.999991, 0.000009],\n",
              "       [0.999857, 0.000143],\n",
              "       [0.99999 , 0.00001 ],\n",
              "       [0.000083, 0.999917],\n",
              "       [0.00005 , 0.99995 ],\n",
              "       [0.053935, 0.946065],\n",
              "       [0.028785, 0.971215],\n",
              "       [0.028835, 0.971165],\n",
              "       [0.981159, 0.018841],\n",
              "       [0.930975, 0.069025],\n",
              "       [0.000019, 0.999981],\n",
              "       [0.000213, 0.999787],\n",
              "       [0.031009, 0.968991],\n",
              "       [0.005916, 0.994084],\n",
              "       [1.      , 0.      ],\n",
              "       [0.00091 , 0.99909 ],\n",
              "       [1.      , 0.      ],\n",
              "       [0.007069, 0.992931],\n",
              "       [0.996568, 0.003432],\n",
              "       [0.00023 , 0.99977 ],\n",
              "       [0.008232, 0.991768],\n",
              "       [0.000144, 0.999856],\n",
              "       [0.001195, 0.998805],\n",
              "       [0.00505 , 0.99495 ],\n",
              "       [0.000425, 0.999575],\n",
              "       [0.988027, 0.011973],\n",
              "       [0.382765, 0.617235],\n",
              "       [0.067008, 0.932992],\n",
              "       [0.002059, 0.997941],\n",
              "       [0.001376, 0.998624],\n",
              "       [0.203298, 0.796702],\n",
              "       [0.999998, 0.000002],\n",
              "       [0.004717, 0.995283],\n",
              "       [0.00091 , 0.99909 ],\n",
              "       [0.015129, 0.984871],\n",
              "       [1.      , 0.      ],\n",
              "       [0.115462, 0.884538],\n",
              "       [0.672573, 0.327427],\n",
              "       [1.      , 0.      ],\n",
              "       [0.000496, 0.999504],\n",
              "       [0.000026, 0.999974],\n",
              "       [0.999999, 0.000001],\n",
              "       [0.000001, 0.999999],\n",
              "       [0.001917, 0.998083],\n",
              "       [1.      , 0.      ],\n",
              "       [0.000369, 0.999631],\n",
              "       [0.115699, 0.884301],\n",
              "       [0.999998, 0.000002]])"
            ]
          },
          "metadata": {
            "tags": []
          },
          "execution_count": 58
        }
      ]
    },
    {
      "cell_type": "code",
      "metadata": {
        "id": "GtVxV7xcwF9p",
        "outputId": "f1b6e8e0-40ca-4178-bd76-7766e385ef2a",
        "colab": {
          "base_uri": "https://localhost:8080/"
        }
      },
      "source": [
        "y_pred = classifier.predict(X_test)\n",
        "y_pred"
      ],
      "execution_count": 59,
      "outputs": [
        {
          "output_type": "execute_result",
          "data": {
            "text/plain": [
              "array([0, 0, 1, 1, 1, 1, 1, 0, 0, 1, 0, 1, 1, 1, 1, 1, 1, 0, 0, 1, 1, 1,\n",
              "       1, 0, 0, 1, 1, 1, 0, 1, 0, 0, 1, 1, 0, 1, 0, 0, 1, 1, 1, 0, 0, 1,\n",
              "       0, 1, 0, 0, 0, 1, 1, 1, 0, 1, 1, 1, 0, 1, 1, 1, 0, 1, 1, 0, 0, 1,\n",
              "       1, 1, 1, 1, 0, 0, 1, 1, 1, 1, 1, 1, 1, 1, 1, 1, 1, 0, 1, 1, 1, 1,\n",
              "       0, 0, 0, 0, 1, 1, 0, 0, 0, 0, 1, 1, 1, 1, 1, 0, 0, 1, 1, 1, 1, 0,\n",
              "       1, 0, 1, 0, 1, 1, 1, 1, 1, 1, 0, 1, 1, 1, 1, 1, 0, 1, 1, 1, 0, 1,\n",
              "       0, 0, 1, 1, 0, 1, 1, 0, 1, 1, 0])"
            ]
          },
          "metadata": {
            "tags": []
          },
          "execution_count": 59
        }
      ]
    },
    {
      "cell_type": "markdown",
      "metadata": {
        "id": "5_lQ-cG6yFqf"
      },
      "source": [
        "### Ocena modelu"
      ]
    },
    {
      "cell_type": "code",
      "metadata": {
        "id": "8rqj6kxIx_KK",
        "outputId": "c879162a-32f9-412a-c4d5-179403747172",
        "colab": {
          "base_uri": "https://localhost:8080/",
          "height": 302
        }
      },
      "source": [
        "from sklearn.metrics import confusion_matrix\n",
        "from sklearn.metrics import accuracy_score\n",
        "from mlxtend.plotting import plot_confusion_matrix\n",
        "import seaborn as sns\n",
        "sns.set()\n",
        "\n",
        "cm = confusion_matrix(y_test, y_pred)\n",
        "plot_confusion_matrix(cm)\n",
        "\n",
        "acc = accuracy_score(y_test, y_pred)\n",
        "print(f'Accuracy: {acc}')"
      ],
      "execution_count": 60,
      "outputs": [
        {
          "output_type": "stream",
          "text": [
            "Accuracy: 0.9790209790209791\n"
          ],
          "name": "stdout"
        },
        {
          "output_type": "display_data",
          "data": {
            "image/png": "[encoded data removed]",
            "text/plain": [
              "<Figure size 432x288 with 1 Axes>"
            ]
          },
          "metadata": {
            "tags": []
          }
        }
      ]
    },
    {
      "cell_type": "code",
      "metadata": {
        "id": "Cec-CEbQynjq",
        "outputId": "bcc5d6ee-73b1-44f0-ccef-4dca5a751b4d",
        "colab": {
          "base_uri": "https://localhost:8080/",
          "height": 417
        }
      },
      "source": [
        "cm = pd.DataFrame(cm[::-1], columns = ['pred_0', 'pred_1'],\n",
        "                  index = ['true_1', 'true_0'])\n",
        "\n",
        "fig = ff.create_annotated_heatmap(z = cm.values, x = list(cm.columns),\n",
        "                                  y = list(cm.index), colorscale = 'ice',\n",
        "                                  showscale = True, reversescale = True)\n",
        "fig.update_layout(width = 600, height = 400,\n",
        "                  title = f'Confusion Matrix, Accuracy: {acc:.4f}',\n",
        "                  font_size = 16)\n",
        "fig.show()"
      ],
      "execution_count": 62,
      "outputs": [
        {
          "output_type": "display_data",
          "data": {
            "text/html": [
              "<html>\n",
              "<head><meta charset=\"utf-8\" /></head>\n",
              "<body>\n",
              "    <div>\n",
              "            <script src=\"https://cdnjs.cloudflare.com/ajax/libs/mathjax/2.7.5/MathJax.js?config=TeX-AMS-MML_SVG\"></script><script type=\"text/javascript\">if (window.MathJax) {MathJax.Hub.Config({SVG: {font: \"STIX-Web\"}});}</script>\n",
              "                <script type=\"text/javascript\">window.PlotlyConfig = {MathJaxConfig: 'local'};</script>\n",
              "        <script src=\"https://cdn.plot.ly/plotly-latest.min.js\"></script>    \n",
              "            <div id=\"1387246b-836d-4358-85dd-027fe5506ed0\" class=\"plotly-graph-div\" style=\"height:400px; width:600px;\"></div>\n",
              "            <script type=\"text/javascript\">\n",
              "                \n",
              "                    window.PLOTLYENV=window.PLOTLYENV || {};\n",
              "                    \n",
              "                if (document.getElementById(\"1387246b-836d-4358-85dd-027fe5506ed0\")) {\n",
              "                    Plotly.newPlot(\n",
              "                        '1387246b-836d-4358-85dd-027fe5506ed0',\n",
              "                        [{\"colorscale\": [[0.0, \"rgb(3, 5, 18)\"], [0.09090909090909091, \"rgb(25, 25, 51)\"], [0.18181818181818182, \"rgb(44, 42, 87)\"], [0.2727272727272727, \"rgb(58, 60, 125)\"], [0.36363636363636365, \"rgb(62, 83, 160)\"], [0.45454545454545453, \"rgb(62, 109, 178)\"], [0.5454545454545454, \"rgb(72, 134, 187)\"], [0.6363636363636364, \"rgb(89, 159, 196)\"], [0.7272727272727273, \"rgb(114, 184, 205)\"], [0.8181818181818182, \"rgb(149, 207, 216)\"], [0.9090909090909091, \"rgb(192, 229, 232)\"], [1.0, \"rgb(234, 252, 253)\"]], \"reversescale\": true, \"showscale\": true, \"type\": \"heatmap\", \"x\": [\"pred_0\", \"pred_1\"], \"y\": [\"true_1\", \"true_0\"], \"z\": [[1, 91], [49, 2]]}],\n",
              "                        {\"annotations\": [{\"font\": {\"color\": \"#000000\"}, \"showarrow\": false, \"text\": \"1\", \"x\": \"pred_0\", \"xref\": \"x\", \"y\": \"true_1\", \"yref\": \"y\"}, {\"font\": {\"color\": \"#FFFFFF\"}, \"showarrow\": false, \"text\": \"91\", \"x\": \"pred_1\", \"xref\": \"x\", \"y\": \"true_1\", \"yref\": \"y\"}, {\"font\": {\"color\": \"#FFFFFF\"}, \"showarrow\": false, \"text\": \"49\", \"x\": \"pred_0\", \"xref\": \"x\", \"y\": \"true_0\", \"yref\": \"y\"}, {\"font\": {\"color\": \"#000000\"}, \"showarrow\": false, \"text\": \"2\", \"x\": \"pred_1\", \"xref\": \"x\", \"y\": \"true_0\", \"yref\": \"y\"}], \"font\": {\"size\": 16}, \"height\": 400, \"template\": {\"data\": {\"bar\": [{\"error_x\": {\"color\": \"#2a3f5f\"}, \"error_y\": {\"color\": \"#2a3f5f\"}, \"marker\": {\"line\": {\"color\": \"#E5ECF6\", \"width\": 0.5}}, \"type\": \"bar\"}], \"barpolar\": [{\"marker\": {\"line\": {\"color\": \"#E5ECF6\", \"width\": 0.5}}, \"type\": \"barpolar\"}], \"carpet\": [{\"aaxis\": {\"endlinecolor\": \"#2a3f5f\", \"gridcolor\": \"white\", \"linecolor\": \"white\", \"minorgridcolor\": \"white\", \"startlinecolor\": \"#2a3f5f\"}, \"baxis\": {\"endlinecolor\": \"#2a3f5f\", \"gridcolor\": \"white\", \"linecolor\": \"white\", \"minorgridcolor\": \"white\", \"startlinecolor\": \"#2a3f5f\"}, \"type\": \"carpet\"}], \"choropleth\": [{\"colorbar\": {\"outlinewidth\": 0, \"ticks\": \"\"}, \"type\": \"choropleth\"}], \"contour\": [{\"colorbar\": {\"outlinewidth\": 0, \"ticks\": \"\"}, \"colorscale\": [[0.0, \"#0d0887\"], [0.1111111111111111, \"#46039f\"], [0.2222222222222222, \"#7201a8\"], [0.3333333333333333, \"#9c179e\"], [0.4444444444444444, \"#bd3786\"], [0.5555555555555556, \"#d8576b\"], [0.6666666666666666, \"#ed7953\"], [0.7777777777777778, \"#fb9f3a\"], [0.8888888888888888, \"#fdca26\"], [1.0, \"#f0f921\"]], \"type\": \"contour\"}], \"contourcarpet\": [{\"colorbar\": {\"outlinewidth\": 0, \"ticks\": \"\"}, \"type\": \"contourcarpet\"}], \"heatmap\": [{\"colorbar\": {\"outlinewidth\": 0, \"ticks\": \"\"}, \"colorscale\": [[0.0, \"#0d0887\"], [0.1111111111111111, \"#46039f\"], [0.2222222222222222, \"#7201a8\"], [0.3333333333333333, \"#9c179e\"], [0.4444444444444444, \"#bd3786\"], [0.5555555555555556, \"#d8576b\"], [0.6666666666666666, \"#ed7953\"], [0.7777777777777778, \"#fb9f3a\"], [0.8888888888888888, \"#fdca26\"], [1.0, \"#f0f921\"]], \"type\": \"heatmap\"}], \"heatmapgl\": [{\"colorbar\": {\"outlinewidth\": 0, \"ticks\": \"\"}, \"colorscale\": [[0.0, \"#0d0887\"], [0.1111111111111111, \"#46039f\"], [0.2222222222222222, \"#7201a8\"], [0.3333333333333333, \"#9c179e\"], [0.4444444444444444, \"#bd3786\"], [0.5555555555555556, \"#d8576b\"], [0.6666666666666666, \"#ed7953\"], [0.7777777777777778, \"#fb9f3a\"], [0.8888888888888888, \"#fdca26\"], [1.0, \"#f0f921\"]], \"type\": \"heatmapgl\"}], \"histogram\": [{\"marker\": {\"colorbar\": {\"outlinewidth\": 0, \"ticks\": \"\"}}, \"type\": \"histogram\"}], \"histogram2d\": [{\"colorbar\": {\"outlinewidth\": 0, \"ticks\": \"\"}, \"colorscale\": [[0.0, \"#0d0887\"], [0.1111111111111111, \"#46039f\"], [0.2222222222222222, \"#7201a8\"], [0.3333333333333333, \"#9c179e\"], [0.4444444444444444, \"#bd3786\"], [0.5555555555555556, \"#d8576b\"], [0.6666666666666666, \"#ed7953\"], [0.7777777777777778, \"#fb9f3a\"], [0.8888888888888888, \"#fdca26\"], [1.0, \"#f0f921\"]], \"type\": \"histogram2d\"}], \"histogram2dcontour\": [{\"colorbar\": {\"outlinewidth\": 0, \"ticks\": \"\"}, \"colorscale\": [[0.0, \"#0d0887\"], [0.1111111111111111, \"#46039f\"], [0.2222222222222222, \"#7201a8\"], [0.3333333333333333, \"#9c179e\"], [0.4444444444444444, \"#bd3786\"], [0.5555555555555556, \"#d8576b\"], [0.6666666666666666, \"#ed7953\"], [0.7777777777777778, \"#fb9f3a\"], [0.8888888888888888, \"#fdca26\"], [1.0, \"#f0f921\"]], \"type\": \"histogram2dcontour\"}], \"mesh3d\": [{\"colorbar\": {\"outlinewidth\": 0, \"ticks\": \"\"}, \"type\": \"mesh3d\"}], \"parcoords\": [{\"line\": {\"colorbar\": {\"outlinewidth\": 0, \"ticks\": \"\"}}, \"type\": \"parcoords\"}], \"pie\": [{\"automargin\": true, \"type\": \"pie\"}], \"scatter\": [{\"marker\": {\"colorbar\": {\"outlinewidth\": 0, \"ticks\": \"\"}}, \"type\": \"scatter\"}], \"scatter3d\": [{\"line\": {\"colorbar\": {\"outlinewidth\": 0, \"ticks\": \"\"}}, \"marker\": {\"colorbar\": {\"outlinewidth\": 0, \"ticks\": \"\"}}, \"type\": \"scatter3d\"}], \"scattercarpet\": [{\"marker\": {\"colorbar\": {\"outlinewidth\": 0, \"ticks\": \"\"}}, \"type\": \"scattercarpet\"}], \"scattergeo\": [{\"marker\": {\"colorbar\": {\"outlinewidth\": 0, \"ticks\": \"\"}}, \"type\": \"scattergeo\"}], \"scattergl\": [{\"marker\": {\"colorbar\": {\"outlinewidth\": 0, \"ticks\": \"\"}}, \"type\": \"scattergl\"}], \"scattermapbox\": [{\"marker\": {\"colorbar\": {\"outlinewidth\": 0, \"ticks\": \"\"}}, \"type\": \"scattermapbox\"}], \"scatterpolar\": [{\"marker\": {\"colorbar\": {\"outlinewidth\": 0, \"ticks\": \"\"}}, \"type\": \"scatterpolar\"}], \"scatterpolargl\": [{\"marker\": {\"colorbar\": {\"outlinewidth\": 0, \"ticks\": \"\"}}, \"type\": \"scatterpolargl\"}], \"scatterternary\": [{\"marker\": {\"colorbar\": {\"outlinewidth\": 0, \"ticks\": \"\"}}, \"type\": \"scatterternary\"}], \"surface\": [{\"colorbar\": {\"outlinewidth\": 0, \"ticks\": \"\"}, \"colorscale\": [[0.0, \"#0d0887\"], [0.1111111111111111, \"#46039f\"], [0.2222222222222222, \"#7201a8\"], [0.3333333333333333, \"#9c179e\"], [0.4444444444444444, \"#bd3786\"], [0.5555555555555556, \"#d8576b\"], [0.6666666666666666, \"#ed7953\"], [0.7777777777777778, \"#fb9f3a\"], [0.8888888888888888, \"#fdca26\"], [1.0, \"#f0f921\"]], \"type\": \"surface\"}], \"table\": [{\"cells\": {\"fill\": {\"color\": \"#EBF0F8\"}, \"line\": {\"color\": \"white\"}}, \"header\": {\"fill\": {\"color\": \"#C8D4E3\"}, \"line\": {\"color\": \"white\"}}, \"type\": \"table\"}]}, \"layout\": {\"annotationdefaults\": {\"arrowcolor\": \"#2a3f5f\", \"arrowhead\": 0, \"arrowwidth\": 1}, \"coloraxis\": {\"colorbar\": {\"outlinewidth\": 0, \"ticks\": \"\"}}, \"colorscale\": {\"diverging\": [[0, \"#8e0152\"], [0.1, \"#c51b7d\"], [0.2, \"#de77ae\"], [0.3, \"#f1b6da\"], [0.4, \"#fde0ef\"], [0.5, \"#f7f7f7\"], [0.6, \"#e6f5d0\"], [0.7, \"#b8e186\"], [0.8, \"#7fbc41\"], [0.9, \"#4d9221\"], [1, \"#276419\"]], \"sequential\": [[0.0, \"#0d0887\"], [0.1111111111111111, \"#46039f\"], [0.2222222222222222, \"#7201a8\"], [0.3333333333333333, \"#9c179e\"], [0.4444444444444444, \"#bd3786\"], [0.5555555555555556, \"#d8576b\"], [0.6666666666666666, \"#ed7953\"], [0.7777777777777778, \"#fb9f3a\"], [0.8888888888888888, \"#fdca26\"], [1.0, \"#f0f921\"]], \"sequentialminus\": [[0.0, \"#0d0887\"], [0.1111111111111111, \"#46039f\"], [0.2222222222222222, \"#7201a8\"], [0.3333333333333333, \"#9c179e\"], [0.4444444444444444, \"#bd3786\"], [0.5555555555555556, \"#d8576b\"], [0.6666666666666666, \"#ed7953\"], [0.7777777777777778, \"#fb9f3a\"], [0.8888888888888888, \"#fdca26\"], [1.0, \"#f0f921\"]]}, \"colorway\": [\"#636efa\", \"#EF553B\", \"#00cc96\", \"#ab63fa\", \"#FFA15A\", \"#19d3f3\", \"#FF6692\", \"#B6E880\", \"#FF97FF\", \"#FECB52\"], \"font\": {\"color\": \"#2a3f5f\"}, \"geo\": {\"bgcolor\": \"white\", \"lakecolor\": \"white\", \"landcolor\": \"#E5ECF6\", \"showlakes\": true, \"showland\": true, \"subunitcolor\": \"white\"}, \"hoverlabel\": {\"align\": \"left\"}, \"hovermode\": \"closest\", \"mapbox\": {\"style\": \"light\"}, \"paper_bgcolor\": \"white\", \"plot_bgcolor\": \"#E5ECF6\", \"polar\": {\"angularaxis\": {\"gridcolor\": \"white\", \"linecolor\": \"white\", \"ticks\": \"\"}, \"bgcolor\": \"#E5ECF6\", \"radialaxis\": {\"gridcolor\": \"white\", \"linecolor\": \"white\", \"ticks\": \"\"}}, \"scene\": {\"xaxis\": {\"backgroundcolor\": \"#E5ECF6\", \"gridcolor\": \"white\", \"gridwidth\": 2, \"linecolor\": \"white\", \"showbackground\": true, \"ticks\": \"\", \"zerolinecolor\": \"white\"}, \"yaxis\": {\"backgroundcolor\": \"#E5ECF6\", \"gridcolor\": \"white\", \"gridwidth\": 2, \"linecolor\": \"white\", \"showbackground\": true, \"ticks\": \"\", \"zerolinecolor\": \"white\"}, \"zaxis\": {\"backgroundcolor\": \"#E5ECF6\", \"gridcolor\": \"white\", \"gridwidth\": 2, \"linecolor\": \"white\", \"showbackground\": true, \"ticks\": \"\", \"zerolinecolor\": \"white\"}}, \"shapedefaults\": {\"line\": {\"color\": \"#2a3f5f\"}}, \"ternary\": {\"aaxis\": {\"gridcolor\": \"white\", \"linecolor\": \"white\", \"ticks\": \"\"}, \"baxis\": {\"gridcolor\": \"white\", \"linecolor\": \"white\", \"ticks\": \"\"}, \"bgcolor\": \"#E5ECF6\", \"caxis\": {\"gridcolor\": \"white\", \"linecolor\": \"white\", \"ticks\": \"\"}}, \"title\": {\"x\": 0.05}, \"xaxis\": {\"automargin\": true, \"gridcolor\": \"white\", \"linecolor\": \"white\", \"ticks\": \"\", \"title\": {\"standoff\": 15}, \"zerolinecolor\": \"white\", \"zerolinewidth\": 2}, \"yaxis\": {\"automargin\": true, \"gridcolor\": \"white\", \"linecolor\": \"white\", \"ticks\": \"\", \"title\": {\"standoff\": 15}, \"zerolinecolor\": \"white\", \"zerolinewidth\": 2}}}, \"title\": {\"text\": \"Confusion Matrix, Accuracy: 0.9790\"}, \"width\": 600, \"xaxis\": {\"dtick\": 1, \"gridcolor\": \"rgb(0, 0, 0)\", \"side\": \"top\", \"ticks\": \"\"}, \"yaxis\": {\"dtick\": 1, \"ticks\": \"\", \"ticksuffix\": \"  \"}},\n",
              "                        {\"responsive\": true}\n",
              "                    ).then(function(){\n",
              "                            \n",
              "var gd = document.getElementById('1387246b-836d-4358-85dd-027fe5506ed0');\n",
              "var x = new MutationObserver(function (mutations, observer) {{\n",
              "        var display = window.getComputedStyle(gd).display;\n",
              "        if (!display || display === 'none') {{\n",
              "            console.log([gd, 'removed!']);\n",
              "            Plotly.purge(gd);\n",
              "            observer.disconnect();\n",
              "        }}\n",
              "}});\n",
              "\n",
              "// Listen for the removal of the full notebook cells\n",
              "var notebookContainer = gd.closest('#notebook-container');\n",
              "if (notebookContainer) {{\n",
              "    x.observe(notebookContainer, {childList: true});\n",
              "}}\n",
              "\n",
              "// Listen for the clearing of the current output cell\n",
              "var outputEl = gd.closest('.output');\n",
              "if (outputEl) {{\n",
              "    x.observe(outputEl, {childList: true});\n",
              "}}\n",
              "\n",
              "                        })\n",
              "                };\n",
              "                \n",
              "            </script>\n",
              "        </div>\n",
              "</body>\n",
              "</html>"
            ]
          },
          "metadata": {
            "tags": []
          }
        }
      ]
    },
    {
      "cell_type": "code",
      "metadata": {
        "id": "J3NyJiIp0SAw",
        "outputId": "265cd503-932d-4fdd-fd13-80f328076e8d",
        "colab": {
          "base_uri": "https://localhost:8080/"
        }
      },
      "source": [
        "from sklearn.metrics import classification_report\n",
        "\n",
        "print(classification_report(y_test, y_pred, target_names = data.target_names))"
      ],
      "execution_count": 63,
      "outputs": [
        {
          "output_type": "stream",
          "text": [
            "              precision    recall  f1-score   support\n",
            "\n",
            "   malignant       0.98      0.96      0.97        51\n",
            "      benign       0.98      0.99      0.98        92\n",
            "\n",
            "    accuracy                           0.98       143\n",
            "   macro avg       0.98      0.97      0.98       143\n",
            "weighted avg       0.98      0.98      0.98       143\n",
            "\n"
          ],
          "name": "stdout"
        }
      ]
    }
  ]
}