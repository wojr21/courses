{
  "nbformat": 4,
  "nbformat_minor": 0,
  "metadata": {
    "colab": {
      "name": "05_regresja_liniowa.ipynb",
      "provenance": [],
      "authorship_tag": "ABX9TyP+ucJZ/uFm+m4DDUjlyiLQ",
      "include_colab_link": true
    },
    "kernelspec": {
      "name": "python3",
      "display_name": "Python 3"
    }
  },
  "cells": [
    {
      "cell_type": "markdown",
      "metadata": {
        "id": "view-in-github",
        "colab_type": "text"
      },
      "source": [
        "<a href=\"https://colab.research.google.com/github/wojr21/courses/blob/main/data_science_bootcamp/05_regresja_liniowa.ipynb\" target=\"_parent\"><img src=\"https://colab.research.google.com/assets/colab-badge.svg\" alt=\"Open In Colab\"/></a>"
      ]
    },
    {
      "cell_type": "code",
      "metadata": {
        "id": "IDsGkrv6vH-d"
      },
      "source": [
        "import sklearn"
      ],
      "execution_count": 1,
      "outputs": []
    },
    {
      "cell_type": "markdown",
      "metadata": {
        "id": "0YcX94V-waMb"
      },
      "source": [
        "### Wygenerowanie danych"
      ]
    },
    {
      "cell_type": "code",
      "metadata": {
        "id": "wZmxjHbVwe0F",
        "colab": {
          "base_uri": "https://localhost:8080/"
        },
        "outputId": "f01227b9-00dd-4a0a-f311-c90ddf742e96"
      },
      "source": [
        "import numpy as np\n",
        "\n",
        "X = np.arange(0, 50, 0.5)\n",
        "noise = 10 * np.random.randn(100)\n",
        "y = 2 * X + 100 + noise\n",
        "X = X.reshape(-1, 1)\n",
        "\n",
        "print('Rozmiar X: ',X.shape)\n",
        "print('Rozmiar Y: ',y.shape)"
      ],
      "execution_count": 2,
      "outputs": [
        {
          "output_type": "stream",
          "text": [
            "Rozmiar X:  (100, 1)\n",
            "Rozmiar Y:  (100,)\n"
          ],
          "name": "stdout"
        }
      ]
    },
    {
      "cell_type": "markdown",
      "metadata": {
        "id": "9SFomK1oxIXj"
      },
      "source": [
        "### Zbiór treningowy i testowy"
      ]
    },
    {
      "cell_type": "code",
      "metadata": {
        "id": "hJQRDCp0xNCP",
        "colab": {
          "base_uri": "https://localhost:8080/"
        },
        "outputId": "43dd3282-ab23-46d6-af03-698be87e723e"
      },
      "source": [
        "from sklearn.model_selection import train_test_split\n",
        "\n",
        "X_train, X_test, y_train, y_test = train_test_split(X, y, test_size = 0.25)\n",
        "\n",
        "print('X_train shape: ',X_train.shape)\n",
        "print('X_test shape: ',X_test.shape)\n",
        "print('y_train shape: ',y_train.shape)\n",
        "print('y_test shape: ',y_test.shape)"
      ],
      "execution_count": 3,
      "outputs": [
        {
          "output_type": "stream",
          "text": [
            "X_train shape:  (75, 1)\n",
            "X_test shape:  (25, 1)\n",
            "y_train shape:  (75,)\n",
            "y_test shape:  (25,)\n"
          ],
          "name": "stdout"
        }
      ]
    },
    {
      "cell_type": "markdown",
      "metadata": {
        "id": "qZ3_7Dp0xuL-"
      },
      "source": [
        "### Wizualizacja"
      ]
    },
    {
      "cell_type": "code",
      "metadata": {
        "id": "HZNvo4gQxwHU",
        "colab": {
          "base_uri": "https://localhost:8080/",
          "height": 339
        },
        "outputId": "db9d87a1-5a6c-4bc2-aef9-247b865f69a5"
      },
      "source": [
        "import matplotlib.pyplot as plt\n",
        "import seaborn as sns\n",
        "sns.set()\n",
        "\n",
        "plt.figure(figsize = (7, 5))\n",
        "plt.scatter(X_train, y_train, c = 'b', label = 'Zbiór treningowy')\n",
        "plt.scatter(X_test, y_test, c = 'g', label = 'Zbiór testowy')\n",
        "plt.xlabel('X')\n",
        "plt.ylabel('y')\n",
        "plt.legend()\n",
        "plt.show()"
      ],
      "execution_count": 4,
      "outputs": [
        {
          "output_type": "display_data",
          "data": {
            "image/png": "[encoded data removed]",
            "text/plain": [
              "<Figure size 504x360 with 1 Axes>"
            ]
          },
          "metadata": {
            "tags": []
          }
        }
      ]
    },
    {
      "cell_type": "markdown",
      "metadata": {
        "id": "C7NRZ0d43Rjb"
      },
      "source": [
        "### Regresja liniowa"
      ]
    },
    {
      "cell_type": "code",
      "metadata": {
        "id": "N3-fTQ3q3TkF",
        "colab": {
          "base_uri": "https://localhost:8080/"
        },
        "outputId": "08e80ca7-55be-4d68-a742-0ac7939ea196"
      },
      "source": [
        "from sklearn.linear_model import LinearRegression\n",
        "\n",
        "lin_reg = LinearRegression()\n",
        "lin_reg.fit(X_train, y_train)\n",
        "\n",
        "print(lin_reg.coef_)\n",
        "print(lin_reg.intercept_)"
      ],
      "execution_count": 5,
      "outputs": [
        {
          "output_type": "stream",
          "text": [
            "[1.88725644]\n",
            "103.7609327030221\n"
          ],
          "name": "stdout"
        }
      ]
    },
    {
      "cell_type": "code",
      "metadata": {
        "id": "wdcYaN5e3sEz",
        "colab": {
          "base_uri": "https://localhost:8080/",
          "height": 111
        },
        "outputId": "9e3349fc-c131-403b-d94a-1087f4add734"
      },
      "source": [
        "import pandas as pd\n",
        "\n",
        "results = pd.DataFrame([lin_reg.intercept_])\n",
        "results = results.append(pd.DataFrame(lin_reg.coef_), ignore_index = True)\n",
        "results.columns = ['Weights']\n",
        "results"
      ],
      "execution_count": 6,
      "outputs": [
        {
          "output_type": "execute_result",
          "data": {
            "text/html": [
              "<div>\n",
              "<style scoped>\n",
              "    .dataframe tbody tr th:only-of-type {\n",
              "        vertical-align: middle;\n",
              "    }\n",
              "\n",
              "    .dataframe tbody tr th {\n",
              "        vertical-align: top;\n",
              "    }\n",
              "\n",
              "    .dataframe thead th {\n",
              "        text-align: right;\n",
              "    }\n",
              "</style>\n",
              "<table border=\"1\" class=\"dataframe\">\n",
              "  <thead>\n",
              "    <tr style=\"text-align: right;\">\n",
              "      <th></th>\n",
              "      <th>Weights</th>\n",
              "    </tr>\n",
              "  </thead>\n",
              "  <tbody>\n",
              "    <tr>\n",
              "      <th>0</th>\n",
              "      <td>103.760933</td>\n",
              "    </tr>\n",
              "    <tr>\n",
              "      <th>1</th>\n",
              "      <td>1.887256</td>\n",
              "    </tr>\n",
              "  </tbody>\n",
              "</table>\n",
              "</div>"
            ],
            "text/plain": [
              "      Weights\n",
              "0  103.760933\n",
              "1    1.887256"
            ]
          },
          "metadata": {
            "tags": []
          },
          "execution_count": 6
        }
      ]
    },
    {
      "cell_type": "markdown",
      "metadata": {
        "id": "cwStCT_W6hTP"
      },
      "source": [
        "$Y=103.761+1.887\\cdot X_1$"
      ]
    },
    {
      "cell_type": "markdown",
      "metadata": {
        "id": "_-Fn3cf36Za3"
      },
      "source": [
        "### Wizualizacja zbioru treningowego i dopasowanego modelu"
      ]
    },
    {
      "cell_type": "code",
      "metadata": {
        "id": "_TleGtdy6gb5",
        "outputId": "086e5412-15a0-4a80-ba57-7270367ca8ff",
        "colab": {
          "base_uri": "https://localhost:8080/",
          "height": 355
        }
      },
      "source": [
        "plt.figure(figsize = (7, 5))\n",
        "plt.title('Regresja liniowa - jedna zmienna')\n",
        "plt.scatter(X_train, y_train, c = 'b', label = 'Zbiór treningowy')\n",
        "plt.plot(X, lin_reg.intercept_ + lin_reg.coef_[0] * X, c = 'red')\n",
        "plt.xlabel('X')\n",
        "plt.ylabel('y')\n",
        "plt.legend()\n",
        "plt.show()"
      ],
      "execution_count": 9,
      "outputs": [
        {
          "output_type": "display_data",
          "data": {
            "image/png": "[encoded data removed]",
            "text/plain": [
              "<Figure size 504x360 with 1 Axes>"
            ]
          },
          "metadata": {
            "tags": []
          }
        }
      ]
    },
    {
      "cell_type": "markdown",
      "metadata": {
        "id": "2V1caMqWhgTv"
      },
      "source": [
        "### Wizualizacja zbioru testowego i dopasowanego modelu"
      ]
    },
    {
      "cell_type": "code",
      "metadata": {
        "id": "H3AgyXRghQi7",
        "outputId": "affd25f7-1e84-406e-a8bb-9c0c546f0317",
        "colab": {
          "base_uri": "https://localhost:8080/",
          "height": 355
        }
      },
      "source": [
        "y_pred = lin_reg.predict(X_test)\n",
        "plt.figure(figsize = (7, 5))\n",
        "plt.title('Regresja liniowa - jedna zmienna')\n",
        "plt.scatter(X_test, y_test, c = 'g', label = 'Zbiór testowy')\n",
        "plt.plot(X, lin_reg.intercept_ + lin_reg.coef_ * X, c = 'red')\n",
        "plt.xlabel('X')\n",
        "plt.ylabel('y')\n",
        "plt.legend()\n",
        "plt.show()"
      ],
      "execution_count": 11,
      "outputs": [
        {
          "output_type": "display_data",
          "data": {
            "image/png": "[encoded data removed]",
            "text/plain": [
              "<Figure size 504x360 with 1 Axes>"
            ]
          },
          "metadata": {
            "tags": []
          }
        }
      ]
    },
    {
      "cell_type": "markdown",
      "metadata": {
        "id": "xDwP9CTjicjS"
      },
      "source": [
        "### Ocena modelu"
      ]
    },
    {
      "cell_type": "markdown",
      "metadata": {
        "id": "UtZ9GC46ikSv"
      },
      "source": [
        "Współczynnik $R^2$ - metoda score()"
      ]
    },
    {
      "cell_type": "code",
      "metadata": {
        "id": "ybfh2B-GiMHf",
        "outputId": "46cfcf15-be4d-4e6d-fabc-cf00be73eda1",
        "colab": {
          "base_uri": "https://localhost:8080/"
        }
      },
      "source": [
        "lin_reg.score(X_test, y_test)"
      ],
      "execution_count": 12,
      "outputs": [
        {
          "output_type": "execute_result",
          "data": {
            "text/plain": [
              "0.8933577969652635"
            ]
          },
          "metadata": {
            "tags": []
          },
          "execution_count": 12
        }
      ]
    }
  ]
}