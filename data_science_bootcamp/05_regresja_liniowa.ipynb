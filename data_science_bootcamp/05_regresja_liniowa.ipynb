{
  "nbformat": 4,
  "nbformat_minor": 0,
  "metadata": {
    "colab": {
      "name": "05_regresja_liniowa.ipynb",
      "provenance": [],
      "authorship_tag": "ABX9TyN2/Ho9VOOZAGp8ivN8x51T",
      "include_colab_link": true
    },
    "kernelspec": {
      "name": "python3",
      "display_name": "Python 3"
    }
  },
  "cells": [
    {
      "cell_type": "markdown",
      "metadata": {
        "id": "view-in-github",
        "colab_type": "text"
      },
      "source": [
        "<a href=\"https://colab.research.google.com/github/wojr21/courses/blob/main/data_science_bootcamp/05_regresja_liniowa.ipynb\" target=\"_parent\"><img src=\"https://colab.research.google.com/assets/colab-badge.svg\" alt=\"Open In Colab\"/></a>"
      ]
    },
    {
      "cell_type": "code",
      "metadata": {
        "id": "IDsGkrv6vH-d"
      },
      "source": [
        "import sklearn"
      ],
      "execution_count": 1,
      "outputs": []
    },
    {
      "cell_type": "markdown",
      "metadata": {
        "id": "0YcX94V-waMb"
      },
      "source": [
        "### Wygenerowanie danych"
      ]
    },
    {
      "cell_type": "code",
      "metadata": {
        "id": "wZmxjHbVwe0F",
        "outputId": "d54474d2-d5a0-4a2f-9c47-8a33a877ed8c",
        "colab": {
          "base_uri": "https://localhost:8080/"
        }
      },
      "source": [
        "import numpy as np\n",
        "\n",
        "X = np.arange(0, 50, 0.5)\n",
        "noise = 10 * np.random.randn(100)\n",
        "y = 2 * X + 100 + noise\n",
        "X = X.reshape(-1, 1)\n",
        "\n",
        "print('Rozmiar X: ',X.shape)\n",
        "print('Rozmiar Y: ',y.shape)"
      ],
      "execution_count": 4,
      "outputs": [
        {
          "output_type": "stream",
          "text": [
            "Rozmiar X:  (100, 1)\n",
            "Rozmiar Y:  (100,)\n"
          ],
          "name": "stdout"
        }
      ]
    },
    {
      "cell_type": "markdown",
      "metadata": {
        "id": "9SFomK1oxIXj"
      },
      "source": [
        "### Zbiór treningowy i testowy"
      ]
    },
    {
      "cell_type": "code",
      "metadata": {
        "id": "hJQRDCp0xNCP",
        "outputId": "4da6cd60-ad2b-44e8-a377-5c52daf6b942",
        "colab": {
          "base_uri": "https://localhost:8080/"
        }
      },
      "source": [
        "from sklearn.model_selection import train_test_split\n",
        "\n",
        "X_train, X_test, y_train, y_test = train_test_split(X, y, test_size = 0.25)\n",
        "\n",
        "print('X_train shape: ',X_train.shape)\n",
        "print('X_test shape: ',X_test.shape)\n",
        "print('y_train shape: ',y_train.shape)\n",
        "print('y_test shape: ',y_test.shape)"
      ],
      "execution_count": 5,
      "outputs": [
        {
          "output_type": "stream",
          "text": [
            "X_train shape:  (75, 1)\n",
            "X_test shape:  (25, 1)\n",
            "y_train shape:  (75,)\n",
            "y_test shape:  (25,)\n"
          ],
          "name": "stdout"
        }
      ]
    },
    {
      "cell_type": "markdown",
      "metadata": {
        "id": "qZ3_7Dp0xuL-"
      },
      "source": [
        "### Wizualizacja"
      ]
    },
    {
      "cell_type": "code",
      "metadata": {
        "id": "HZNvo4gQxwHU",
        "outputId": "34851ebe-7f68-4ade-d5e7-e4a993b2ceb3",
        "colab": {
          "base_uri": "https://localhost:8080/",
          "height": 342
        }
      },
      "source": [
        "import matplotlib.pyplot as plt\n",
        "import seaborn as sns\n",
        "sns.set()\n",
        "\n",
        "plt.figure(figsize = (7, 5))\n",
        "plt.scatter(X_train, y_train, c = 'b', label = 'Zbiór treningowy')\n",
        "plt.scatter(X_test, y_test, c = 'g', label = 'Zbiór testowy')\n",
        "plt.xlabel('X')\n",
        "plt.ylabel('y')\n",
        "plt.legend()\n",
        "plt.show()"
      ],
      "execution_count": 8,
      "outputs": [
        {
          "output_type": "display_data",
          "data": {
            "image/png": "[encoded data removed]",
            "text/plain": [
              "<Figure size 504x360 with 1 Axes>"
            ]
          },
          "metadata": {
            "tags": []
          }
        }
      ]
    },
    {
      "cell_type": "markdown",
      "metadata": {
        "id": "C7NRZ0d43Rjb"
      },
      "source": [
        "### Regresja liniowa"
      ]
    },
    {
      "cell_type": "code",
      "metadata": {
        "id": "N3-fTQ3q3TkF",
        "outputId": "4df63a59-f416-4a73-c5b9-a911ad348d41",
        "colab": {
          "base_uri": "https://localhost:8080/"
        }
      },
      "source": [
        "from sklearn.linear_model import LinearRegression\n",
        "\n",
        "lin_reg = LinearRegression()\n",
        "lin_reg.fit(X_train, y_train)\n",
        "\n",
        "print(lin_reg.coef_)\n",
        "print(lin_reg.intercept_)"
      ],
      "execution_count": 10,
      "outputs": [
        {
          "output_type": "stream",
          "text": [
            "[1.93697048]\n",
            "102.46795421372516\n"
          ],
          "name": "stdout"
        }
      ]
    },
    {
      "cell_type": "code",
      "metadata": {
        "id": "wdcYaN5e3sEz",
        "outputId": "a105275d-7390-43e4-8f42-c1147603393e",
        "colab": {
          "base_uri": "https://localhost:8080/",
          "height": 111
        }
      },
      "source": [
        "import pandas as pd\n",
        "\n",
        "results = pd.DataFrame([lin_reg.intercept_])\n",
        "results = results.append(pd.DataFrame(lin_reg.coef_), ignore_index = True)\n",
        "results.columns = ['Weights']\n",
        "results"
      ],
      "execution_count": 36,
      "outputs": [
        {
          "output_type": "execute_result",
          "data": {
            "text/html": [
              "<div>\n",
              "<style scoped>\n",
              "    .dataframe tbody tr th:only-of-type {\n",
              "        vertical-align: middle;\n",
              "    }\n",
              "\n",
              "    .dataframe tbody tr th {\n",
              "        vertical-align: top;\n",
              "    }\n",
              "\n",
              "    .dataframe thead th {\n",
              "        text-align: right;\n",
              "    }\n",
              "</style>\n",
              "<table border=\"1\" class=\"dataframe\">\n",
              "  <thead>\n",
              "    <tr style=\"text-align: right;\">\n",
              "      <th></th>\n",
              "      <th>Weights</th>\n",
              "    </tr>\n",
              "  </thead>\n",
              "  <tbody>\n",
              "    <tr>\n",
              "      <th>0</th>\n",
              "      <td>102.467954</td>\n",
              "    </tr>\n",
              "    <tr>\n",
              "      <th>1</th>\n",
              "      <td>1.936970</td>\n",
              "    </tr>\n",
              "  </tbody>\n",
              "</table>\n",
              "</div>"
            ],
            "text/plain": [
              "      Weights\n",
              "0  102.467954\n",
              "1    1.936970"
            ]
          },
          "metadata": {
            "tags": []
          },
          "execution_count": 36
        }
      ]
    },
    {
      "cell_type": "markdown",
      "metadata": {
        "id": "cwStCT_W6hTP"
      },
      "source": [
        "Y = 102.468 + 1.937 * x1"
      ]
    },
    {
      "cell_type": "markdown",
      "metadata": {
        "id": "_-Fn3cf36Za3"
      },
      "source": [
        "### Wizualizacja zbioru treningowego i dopasowanego modelu"
      ]
    },
    {
      "cell_type": "code",
      "metadata": {
        "id": "_TleGtdy6gb5"
      },
      "source": [
        ""
      ],
      "execution_count": null,
      "outputs": []
    }
  ]
}