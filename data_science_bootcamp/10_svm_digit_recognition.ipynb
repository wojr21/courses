{
  "nbformat": 4,
  "nbformat_minor": 0,
  "metadata": {
    "colab": {
      "name": "10_svm_digit_recognition.ipynb",
      "provenance": [],
      "authorship_tag": "ABX9TyNym5N8OPKlojvaYN4nOGTQ",
      "include_colab_link": true
    },
    "kernelspec": {
      "name": "python3",
      "display_name": "Python 3"
    }
  },
  "cells": [
    {
      "cell_type": "markdown",
      "metadata": {
        "id": "view-in-github",
        "colab_type": "text"
      },
      "source": [
        "<a href=\"https://colab.research.google.com/github/wojr21/courses/blob/main/data_science_bootcamp/10_svm_digit_recognition.ipynb\" target=\"_parent\"><img src=\"https://colab.research.google.com/assets/colab-badge.svg\" alt=\"Open In Colab\"/></a>"
      ]
    },
    {
      "cell_type": "markdown",
      "metadata": {
        "id": "BJU6Tq-vmQ7D"
      },
      "source": [
        "### Support Vector Machine"
      ]
    },
    {
      "cell_type": "code",
      "metadata": {
        "id": "xUbi_l-1lrz0"
      },
      "source": [
        "import pandas as pd\n",
        "import matplotlib.pyplot as plt\n",
        "import seaborn as sns\n",
        "import plotly.figure_factory as ff\n",
        "\n",
        "from sklearn import datasets\n",
        "from sklearn.metrics import classification_report\n",
        "from sklearn.metrics import confusion_matrix\n",
        "sns.set()"
      ],
      "execution_count": 2,
      "outputs": []
    },
    {
      "cell_type": "code",
      "metadata": {
        "id": "2ly_2LeFmqZr",
        "outputId": "3abfa003-8789-4a23-c114-2e7829c2e711",
        "colab": {
          "base_uri": "https://localhost:8080/"
        }
      },
      "source": [
        "digits = datasets.load_digits()\n",
        "digits"
      ],
      "execution_count": 3,
      "outputs": [
        {
          "output_type": "execute_result",
          "data": {
            "text/plain": [
              "{'DESCR': \".. _digits_dataset:\\n\\nOptical recognition of handwritten digits dataset\\n--------------------------------------------------\\n\\n**Data Set Characteristics:**\\n\\n    :Number of Instances: 5620\\n    :Number of Attributes: 64\\n    :Attribute Information: 8x8 image of integer pixels in the range 0..16.\\n    :Missing Attribute Values: None\\n    :Creator: E. Alpaydin (alpaydin '@' boun.edu.tr)\\n    :Date: July; 1998\\n\\nThis is a copy of the test set of the UCI ML hand-written digits datasets\\nhttps://archive.ics.uci.edu/ml/datasets/Optical+Recognition+of+Handwritten+Digits\\n\\nThe data set contains images of hand-written digits: 10 classes where\\neach class refers to a digit.\\n\\nPreprocessing programs made available by NIST were used to extract\\nnormalized bitmaps of handwritten digits from a preprinted form. From a\\ntotal of 43 people, 30 contributed to the training set and different 13\\nto the test set. 32x32 bitmaps are divided into nonoverlapping blocks of\\n4x4 and the number of on pixels are counted in each block. This generates\\nan input matrix of 8x8 where each element is an integer in the range\\n0..16. This reduces dimensionality and gives invariance to small\\ndistortions.\\n\\nFor info on NIST preprocessing routines, see M. D. Garris, J. L. Blue, G.\\nT. Candela, D. L. Dimmick, J. Geist, P. J. Grother, S. A. Janet, and C.\\nL. Wilson, NIST Form-Based Handprint Recognition System, NISTIR 5469,\\n1994.\\n\\n.. topic:: References\\n\\n  - C. Kaynak (1995) Methods of Combining Multiple Classifiers and Their\\n    Applications to Handwritten Digit Recognition, MSc Thesis, Institute of\\n    Graduate Studies in Science and Engineering, Bogazici University.\\n  - E. Alpaydin, C. Kaynak (1998) Cascading Classifiers, Kybernetika.\\n  - Ken Tang and Ponnuthurai N. Suganthan and Xi Yao and A. Kai Qin.\\n    Linear dimensionalityreduction using relevance weighted LDA. School of\\n    Electrical and Electronic Engineering Nanyang Technological University.\\n    2005.\\n  - Claudio Gentile. A New Approximate Maximal Margin Classification\\n    Algorithm. NIPS. 2000.\",\n",
              " 'data': array([[ 0.,  0.,  5., ...,  0.,  0.,  0.],\n",
              "        [ 0.,  0.,  0., ..., 10.,  0.,  0.],\n",
              "        [ 0.,  0.,  0., ..., 16.,  9.,  0.],\n",
              "        ...,\n",
              "        [ 0.,  0.,  1., ...,  6.,  0.,  0.],\n",
              "        [ 0.,  0.,  2., ..., 12.,  0.,  0.],\n",
              "        [ 0.,  0., 10., ..., 12.,  1.,  0.]]),\n",
              " 'images': array([[[ 0.,  0.,  5., ...,  1.,  0.,  0.],\n",
              "         [ 0.,  0., 13., ..., 15.,  5.,  0.],\n",
              "         [ 0.,  3., 15., ..., 11.,  8.,  0.],\n",
              "         ...,\n",
              "         [ 0.,  4., 11., ..., 12.,  7.,  0.],\n",
              "         [ 0.,  2., 14., ..., 12.,  0.,  0.],\n",
              "         [ 0.,  0.,  6., ...,  0.,  0.,  0.]],\n",
              " \n",
              "        [[ 0.,  0.,  0., ...,  5.,  0.,  0.],\n",
              "         [ 0.,  0.,  0., ...,  9.,  0.,  0.],\n",
              "         [ 0.,  0.,  3., ...,  6.,  0.,  0.],\n",
              "         ...,\n",
              "         [ 0.,  0.,  1., ...,  6.,  0.,  0.],\n",
              "         [ 0.,  0.,  1., ...,  6.,  0.,  0.],\n",
              "         [ 0.,  0.,  0., ..., 10.,  0.,  0.]],\n",
              " \n",
              "        [[ 0.,  0.,  0., ..., 12.,  0.,  0.],\n",
              "         [ 0.,  0.,  3., ..., 14.,  0.,  0.],\n",
              "         [ 0.,  0.,  8., ..., 16.,  0.,  0.],\n",
              "         ...,\n",
              "         [ 0.,  9., 16., ...,  0.,  0.,  0.],\n",
              "         [ 0.,  3., 13., ..., 11.,  5.,  0.],\n",
              "         [ 0.,  0.,  0., ..., 16.,  9.,  0.]],\n",
              " \n",
              "        ...,\n",
              " \n",
              "        [[ 0.,  0.,  1., ...,  1.,  0.,  0.],\n",
              "         [ 0.,  0., 13., ...,  2.,  1.,  0.],\n",
              "         [ 0.,  0., 16., ..., 16.,  5.,  0.],\n",
              "         ...,\n",
              "         [ 0.,  0., 16., ..., 15.,  0.,  0.],\n",
              "         [ 0.,  0., 15., ..., 16.,  0.,  0.],\n",
              "         [ 0.,  0.,  2., ...,  6.,  0.,  0.]],\n",
              " \n",
              "        [[ 0.,  0.,  2., ...,  0.,  0.,  0.],\n",
              "         [ 0.,  0., 14., ..., 15.,  1.,  0.],\n",
              "         [ 0.,  4., 16., ..., 16.,  7.,  0.],\n",
              "         ...,\n",
              "         [ 0.,  0.,  0., ..., 16.,  2.,  0.],\n",
              "         [ 0.,  0.,  4., ..., 16.,  2.,  0.],\n",
              "         [ 0.,  0.,  5., ..., 12.,  0.,  0.]],\n",
              " \n",
              "        [[ 0.,  0., 10., ...,  1.,  0.,  0.],\n",
              "         [ 0.,  2., 16., ...,  1.,  0.,  0.],\n",
              "         [ 0.,  0., 15., ..., 15.,  0.,  0.],\n",
              "         ...,\n",
              "         [ 0.,  4., 16., ..., 16.,  6.,  0.],\n",
              "         [ 0.,  8., 16., ..., 16.,  8.,  0.],\n",
              "         [ 0.,  1.,  8., ..., 12.,  1.,  0.]]]),\n",
              " 'target': array([0, 1, 2, ..., 8, 9, 8]),\n",
              " 'target_names': array([0, 1, 2, 3, 4, 5, 6, 7, 8, 9])}"
            ]
          },
          "metadata": {
            "tags": []
          },
          "execution_count": 3
        }
      ]
    },
    {
      "cell_type": "code",
      "metadata": {
        "id": "U4HkwcYJmuv8",
        "outputId": "47d96a56-3c06-4960-d3b7-b762222e06e1",
        "colab": {
          "base_uri": "https://localhost:8080/"
        }
      },
      "source": [
        "digits.keys()"
      ],
      "execution_count": 4,
      "outputs": [
        {
          "output_type": "execute_result",
          "data": {
            "text/plain": [
              "dict_keys(['data', 'target', 'target_names', 'images', 'DESCR'])"
            ]
          },
          "metadata": {
            "tags": []
          },
          "execution_count": 4
        }
      ]
    },
    {
      "cell_type": "code",
      "metadata": {
        "id": "cIvjzE7Fmy4W",
        "outputId": "ca5a7e83-46a8-4207-f67c-2b51bcc79b7b",
        "colab": {
          "base_uri": "https://localhost:8080/"
        }
      },
      "source": [
        "images = digits.images\n",
        "labels = digits.target\n",
        "print('images shape:', images.shape)\n",
        "print('labels shape:', labels.shape)"
      ],
      "execution_count": 5,
      "outputs": [
        {
          "output_type": "stream",
          "text": [
            "images shape: (1797, 8, 8)\n",
            "labels shape: (1797,)\n"
          ],
          "name": "stdout"
        }
      ]
    },
    {
      "cell_type": "code",
      "metadata": {
        "id": "j66d4-bRnDla",
        "outputId": "7eae6b04-f09b-4cc3-8951-baf2c79234aa",
        "colab": {
          "base_uri": "https://localhost:8080/"
        }
      },
      "source": [
        "images[0]"
      ],
      "execution_count": 6,
      "outputs": [
        {
          "output_type": "execute_result",
          "data": {
            "text/plain": [
              "array([[ 0.,  0.,  5., 13.,  9.,  1.,  0.,  0.],\n",
              "       [ 0.,  0., 13., 15., 10., 15.,  5.,  0.],\n",
              "       [ 0.,  3., 15.,  2.,  0., 11.,  8.,  0.],\n",
              "       [ 0.,  4., 12.,  0.,  0.,  8.,  8.,  0.],\n",
              "       [ 0.,  5.,  8.,  0.,  0.,  9.,  8.,  0.],\n",
              "       [ 0.,  4., 11.,  0.,  1., 12.,  7.,  0.],\n",
              "       [ 0.,  2., 14.,  5., 10., 12.,  0.,  0.],\n",
              "       [ 0.,  0.,  6., 13., 10.,  0.,  0.,  0.]])"
            ]
          },
          "metadata": {
            "tags": []
          },
          "execution_count": 6
        }
      ]
    },
    {
      "cell_type": "markdown",
      "metadata": {
        "id": "SULxy-AVnSeF"
      },
      "source": [
        "### Wyświetlenie kilku obrazów"
      ]
    },
    {
      "cell_type": "code",
      "metadata": {
        "id": "-riqmMBLnG-2",
        "outputId": "e6c3187c-168a-4dba-e78f-d8f2cc2cbb5f",
        "colab": {
          "base_uri": "https://localhost:8080/",
          "height": 168
        }
      },
      "source": [
        "plt.figure(figsize = (10, 10))\n",
        "for index, (image, label) in enumerate(list(zip(images, labels))[:4]):\n",
        "  plt.subplot(2, 4, index + 1)\n",
        "  plt.axis('off')\n",
        "  plt.imshow(image, cmap = 'Greys')\n",
        "  plt.title('Label: {}'.format(index, label))"
      ],
      "execution_count": 7,
      "outputs": [
        {
          "output_type": "display_data",
          "data": {
            "image/png": "[encoded data removed]",
            "text/plain": [
              "<Figure size 720x720 with 4 Axes>"
            ]
          },
          "metadata": {
            "tags": []
          }
        }
      ]
    },
    {
      "cell_type": "markdown",
      "metadata": {
        "id": "sjH78SvEn39T"
      },
      "source": [
        "### Przygotowanie danych do modelu"
      ]
    },
    {
      "cell_type": "code",
      "metadata": {
        "id": "SnVeuK4enx-l",
        "outputId": "6d547f5c-aed3-4fb2-98be-4ff91aad298d",
        "colab": {
          "base_uri": "https://localhost:8080/"
        }
      },
      "source": [
        "from sklearn.model_selection import train_test_split\n",
        "\n",
        "X_train, X_test, y_train, y_test = train_test_split(images, labels)\n",
        "\n",
        "print('X_train shape:', X_train.shape)\n",
        "print('X_test shape:', X_test.shape)\n",
        "print('y_train shape:', y_train.shape)\n",
        "print('y_test shape:', y_test.shape)\n",
        "\n",
        "X_train = X_train.reshape(X_train.shape[0], -1)\n",
        "X_test = X_test.reshape(X_test.shape[0], -1)\n",
        "\n",
        "print()\n",
        "print('X_train shape:', X_train.shape)\n",
        "print('X_test shape:', X_test.shape)"
      ],
      "execution_count": 8,
      "outputs": [
        {
          "output_type": "stream",
          "text": [
            "X_train shape: (1347, 8, 8)\n",
            "X_test shape: (450, 8, 8)\n",
            "y_train shape: (1347,)\n",
            "y_test shape: (450,)\n",
            "\n",
            "X_train shape: (1347, 64)\n",
            "X_test shape: (450, 64)\n"
          ],
          "name": "stdout"
        }
      ]
    },
    {
      "cell_type": "code",
      "metadata": {
        "id": "OZ_hMhEnou_a",
        "outputId": "2743af84-5d89-4715-a953-74238d27424c",
        "colab": {
          "base_uri": "https://localhost:8080/"
        }
      },
      "source": [
        "X_train[0]"
      ],
      "execution_count": 9,
      "outputs": [
        {
          "output_type": "execute_result",
          "data": {
            "text/plain": [
              "array([ 0.,  0.,  2., 10., 16.,  6.,  0.,  0.,  0.,  0., 10., 16., 16.,\n",
              "       14.,  0.,  0.,  0.,  0., 15., 10., 16., 16.,  2.,  0.,  0.,  0.,\n",
              "       12., 16., 12., 13.,  8.,  0.,  0.,  0.,  1.,  7.,  1., 10., 11.,\n",
              "        0.,  0.,  5.,  5.,  0.,  0.,  8., 12.,  0.,  0.,  3., 15., 10.,\n",
              "        2., 11., 12.,  0.,  0.,  0.,  3., 10., 16., 16., 10.,  0.])"
            ]
          },
          "metadata": {
            "tags": []
          },
          "execution_count": 9
        }
      ]
    },
    {
      "cell_type": "code",
      "metadata": {
        "id": "eR7batt5o3oF",
        "outputId": "92400f15-803d-405d-b0d9-0a1c3f3987ff",
        "colab": {
          "base_uri": "https://localhost:8080/"
        }
      },
      "source": [
        "y_train[0]"
      ],
      "execution_count": 10,
      "outputs": [
        {
          "output_type": "execute_result",
          "data": {
            "text/plain": [
              "9"
            ]
          },
          "metadata": {
            "tags": []
          },
          "execution_count": 10
        }
      ]
    },
    {
      "cell_type": "markdown",
      "metadata": {
        "id": "H7yMA_bIo9ed"
      },
      "source": [
        "### Trenowanie modelu"
      ]
    },
    {
      "cell_type": "code",
      "metadata": {
        "id": "2Fse1yFko7bL",
        "outputId": "d7a14e0e-b7f4-4780-aa05-6202633df54e",
        "colab": {
          "base_uri": "https://localhost:8080/"
        }
      },
      "source": [
        "from sklearn.svm import SVC\n",
        "\n",
        "classifier = SVC(gamma = 0.001)\n",
        "classifier.fit(X_train, y_train)"
      ],
      "execution_count": 11,
      "outputs": [
        {
          "output_type": "execute_result",
          "data": {
            "text/plain": [
              "SVC(C=1.0, break_ties=False, cache_size=200, class_weight=None, coef0=0.0,\n",
              "    decision_function_shape='ovr', degree=3, gamma=0.001, kernel='rbf',\n",
              "    max_iter=-1, probability=False, random_state=None, shrinking=True,\n",
              "    tol=0.001, verbose=False)"
            ]
          },
          "metadata": {
            "tags": []
          },
          "execution_count": 11
        }
      ]
    },
    {
      "cell_type": "markdown",
      "metadata": {
        "id": "R2Law8I0pKge"
      },
      "source": [
        "### Ocena modelu"
      ]
    },
    {
      "cell_type": "code",
      "metadata": {
        "id": "euJfOpvnpJz5",
        "outputId": "c9bfb829-0afa-47fc-83aa-1afe807eb4be",
        "colab": {
          "base_uri": "https://localhost:8080/"
        }
      },
      "source": [
        "y_pred = classifier.predict(X_test)\n",
        "y_pred"
      ],
      "execution_count": 12,
      "outputs": [
        {
          "output_type": "execute_result",
          "data": {
            "text/plain": [
              "array([3, 6, 5, 0, 7, 5, 2, 8, 0, 7, 5, 2, 9, 7, 5, 7, 4, 0, 8, 3, 4, 5,\n",
              "       3, 9, 2, 4, 2, 9, 1, 4, 2, 8, 1, 6, 0, 9, 0, 1, 7, 4, 4, 6, 2, 5,\n",
              "       2, 9, 9, 8, 6, 5, 6, 4, 4, 9, 0, 2, 8, 7, 5, 0, 9, 0, 5, 2, 9, 0,\n",
              "       0, 5, 1, 8, 7, 4, 2, 8, 6, 0, 5, 0, 5, 0, 5, 4, 5, 3, 2, 3, 8, 9,\n",
              "       3, 5, 1, 3, 2, 0, 7, 9, 3, 6, 7, 6, 4, 1, 5, 1, 9, 7, 0, 9, 3, 0,\n",
              "       0, 2, 8, 7, 6, 6, 3, 6, 3, 1, 9, 5, 5, 4, 9, 7, 4, 7, 2, 9, 9, 5,\n",
              "       8, 5, 1, 9, 4, 2, 5, 8, 6, 2, 0, 6, 6, 1, 7, 8, 0, 9, 1, 3, 1, 3,\n",
              "       4, 5, 7, 0, 0, 1, 4, 8, 9, 8, 7, 1, 0, 6, 7, 7, 0, 9, 5, 2, 6, 3,\n",
              "       6, 2, 9, 3, 5, 6, 6, 3, 8, 9, 4, 2, 1, 7, 0, 1, 9, 4, 3, 7, 6, 7,\n",
              "       8, 1, 0, 3, 7, 5, 5, 8, 8, 9, 2, 9, 5, 2, 4, 8, 1, 7, 4, 4, 0, 1,\n",
              "       9, 0, 3, 8, 9, 4, 1, 9, 8, 1, 1, 2, 3, 5, 8, 5, 2, 4, 9, 5, 0, 5,\n",
              "       4, 7, 5, 3, 5, 0, 5, 6, 5, 0, 9, 1, 2, 0, 8, 6, 6, 4, 4, 6, 5, 7,\n",
              "       4, 6, 8, 3, 7, 7, 5, 7, 0, 9, 3, 5, 5, 4, 4, 1, 6, 0, 7, 5, 2, 2,\n",
              "       0, 0, 6, 5, 6, 7, 9, 0, 9, 3, 4, 2, 0, 5, 8, 3, 8, 3, 7, 4, 9, 3,\n",
              "       6, 3, 3, 1, 2, 5, 5, 1, 2, 8, 0, 7, 9, 7, 3, 1, 7, 7, 7, 4, 1, 4,\n",
              "       2, 8, 5, 5, 6, 8, 8, 0, 7, 6, 0, 8, 0, 5, 7, 3, 7, 3, 3, 0, 4, 1,\n",
              "       8, 8, 8, 4, 3, 8, 3, 5, 3, 7, 3, 7, 8, 9, 4, 4, 8, 0, 6, 7, 8, 9,\n",
              "       0, 7, 0, 1, 3, 3, 7, 6, 6, 8, 4, 8, 4, 8, 9, 7, 1, 7, 1, 2, 9, 2,\n",
              "       2, 8, 0, 1, 8, 5, 7, 9, 9, 6, 9, 0, 4, 4, 3, 3, 4, 2, 0, 4, 7, 8,\n",
              "       0, 6, 5, 9, 8, 2, 5, 0, 6, 4, 1, 1, 9, 8, 1, 4, 3, 9, 7, 7, 2, 6,\n",
              "       5, 6, 4, 6, 4, 1, 7, 9, 9, 4])"
            ]
          },
          "metadata": {
            "tags": []
          },
          "execution_count": 12
        }
      ]
    },
    {
      "cell_type": "code",
      "metadata": {
        "id": "2fTVZplDpQGz",
        "outputId": "cf829758-40b6-4731-9bf9-e1b301196b21",
        "colab": {
          "base_uri": "https://localhost:8080/"
        }
      },
      "source": [
        "print(classification_report(y_test, y_pred))"
      ],
      "execution_count": 13,
      "outputs": [
        {
          "output_type": "stream",
          "text": [
            "              precision    recall  f1-score   support\n",
            "\n",
            "           0       1.00      1.00      1.00        50\n",
            "           1       1.00      1.00      1.00        37\n",
            "           2       1.00      1.00      1.00        36\n",
            "           3       1.00      1.00      1.00        42\n",
            "           4       1.00      1.00      1.00        48\n",
            "           5       1.00      0.96      0.98        54\n",
            "           6       1.00      1.00      1.00        40\n",
            "           7       1.00      1.00      1.00        51\n",
            "           8       1.00      1.00      1.00        46\n",
            "           9       0.96      1.00      0.98        46\n",
            "\n",
            "    accuracy                           1.00       450\n",
            "   macro avg       1.00      1.00      1.00       450\n",
            "weighted avg       1.00      1.00      1.00       450\n",
            "\n"
          ],
          "name": "stdout"
        }
      ]
    },
    {
      "cell_type": "code",
      "metadata": {
        "id": "48YTK78qpd0I",
        "outputId": "8dc482bc-df0f-4a76-d5ae-98298a6b2fa4",
        "colab": {
          "base_uri": "https://localhost:8080/"
        }
      },
      "source": [
        "cm = confusion_matrix(y_test, y_pred)\n",
        "cm"
      ],
      "execution_count": 14,
      "outputs": [
        {
          "output_type": "execute_result",
          "data": {
            "text/plain": [
              "array([[50,  0,  0,  0,  0,  0,  0,  0,  0,  0],\n",
              "       [ 0, 37,  0,  0,  0,  0,  0,  0,  0,  0],\n",
              "       [ 0,  0, 36,  0,  0,  0,  0,  0,  0,  0],\n",
              "       [ 0,  0,  0, 42,  0,  0,  0,  0,  0,  0],\n",
              "       [ 0,  0,  0,  0, 48,  0,  0,  0,  0,  0],\n",
              "       [ 0,  0,  0,  0,  0, 52,  0,  0,  0,  2],\n",
              "       [ 0,  0,  0,  0,  0,  0, 40,  0,  0,  0],\n",
              "       [ 0,  0,  0,  0,  0,  0,  0, 51,  0,  0],\n",
              "       [ 0,  0,  0,  0,  0,  0,  0,  0, 46,  0],\n",
              "       [ 0,  0,  0,  0,  0,  0,  0,  0,  0, 46]])"
            ]
          },
          "metadata": {
            "tags": []
          },
          "execution_count": 14
        }
      ]
    },
    {
      "cell_type": "code",
      "metadata": {
        "id": "w3zK5H7WpoGB",
        "outputId": "a0059900-46a1-438e-f900-75748224b920",
        "colab": {
          "base_uri": "https://localhost:8080/",
          "height": 268
        }
      },
      "source": [
        "sns.heatmap(cm, annot = True, cmap = sns.cm.rocket_r)\n",
        "plt.show()"
      ],
      "execution_count": 16,
      "outputs": [
        {
          "output_type": "display_data",
          "data": {
            "image/png": "[encoded data removed]",
            "text/plain": [
              "<Figure size 432x288 with 2 Axes>"
            ]
          },
          "metadata": {
            "tags": []
          }
        }
      ]
    },
    {
      "cell_type": "code",
      "metadata": {
        "id": "phfKwm95pxjj",
        "outputId": "97697331-f255-4b53-ba75-0b09b99f5eb2",
        "colab": {
          "base_uri": "https://localhost:8080/",
          "height": 517
        }
      },
      "source": [
        "columns = ['pred_' + str(i) for i in range(10)]\n",
        "index = ['true_' + str(i) for i in range(10)]\n",
        "\n",
        "cm = cm[::-1]\n",
        "cm = pd.DataFrame(cm, columns = columns, index = index)\n",
        "\n",
        "fig = ff.create_annotated_heatmap(z = cm.values, x = list(cm.columns),\n",
        "                                  y = list(cm.index), colorscale = 'ice',\n",
        "                                  showscale = True, reversescale = True)\n",
        "fig.update_layout(width = 700, height = 500, title = 'Confusion Matrix',\n",
        "                  font_size = 16)\n",
        "fig.show()"
      ],
      "execution_count": 17,
      "outputs": [
        {
          "output_type": "display_data",
          "data": {
            "text/html": [
              "<html>\n",
              "<head><meta charset=\"utf-8\" /></head>\n",
              "<body>\n",
              "    <div>\n",
              "            <script src=\"https://cdnjs.cloudflare.com/ajax/libs/mathjax/2.7.5/MathJax.js?config=TeX-AMS-MML_SVG\"></script><script type=\"text/javascript\">if (window.MathJax) {MathJax.Hub.Config({SVG: {font: \"STIX-Web\"}});}</script>\n",
              "                <script type=\"text/javascript\">window.PlotlyConfig = {MathJaxConfig: 'local'};</script>\n",
              "        <script src=\"https://cdn.plot.ly/plotly-latest.min.js\"></script>    \n",
              "            <div id=\"1157d3d3-7f7a-4b0f-ac21-4f9fd067c788\" class=\"plotly-graph-div\" style=\"height:500px; width:700px;\"></div>\n",
              "            <script type=\"text/javascript\">\n",
              "                \n",
              "                    window.PLOTLYENV=window.PLOTLYENV || {};\n",
              "                    \n",
              "                if (document.getElementById(\"1157d3d3-7f7a-4b0f-ac21-4f9fd067c788\")) {\n",
              "                    Plotly.newPlot(\n",
              "                        '1157d3d3-7f7a-4b0f-ac21-4f9fd067c788',\n",
              "                        [{\"colorscale\": [[0.0, \"rgb(3, 5, 18)\"], [0.09090909090909091, \"rgb(25, 25, 51)\"], [0.18181818181818182, \"rgb(44, 42, 87)\"], [0.2727272727272727, \"rgb(58, 60, 125)\"], [0.36363636363636365, \"rgb(62, 83, 160)\"], [0.45454545454545453, \"rgb(62, 109, 178)\"], [0.5454545454545454, \"rgb(72, 134, 187)\"], [0.6363636363636364, \"rgb(89, 159, 196)\"], [0.7272727272727273, \"rgb(114, 184, 205)\"], [0.8181818181818182, \"rgb(149, 207, 216)\"], [0.9090909090909091, \"rgb(192, 229, 232)\"], [1.0, \"rgb(234, 252, 253)\"]], \"reversescale\": true, \"showscale\": true, \"type\": \"heatmap\", \"x\": [\"pred_0\", \"pred_1\", \"pred_2\", \"pred_3\", \"pred_4\", \"pred_5\", \"pred_6\", \"pred_7\", \"pred_8\", \"pred_9\"], \"y\": [\"true_0\", \"true_1\", \"true_2\", \"true_3\", \"true_4\", \"true_5\", \"true_6\", \"true_7\", \"true_8\", \"true_9\"], \"z\": [[0, 0, 0, 0, 0, 0, 0, 0, 0, 46], [0, 0, 0, 0, 0, 0, 0, 0, 46, 0], [0, 0, 0, 0, 0, 0, 0, 51, 0, 0], [0, 0, 0, 0, 0, 0, 40, 0, 0, 0], [0, 0, 0, 0, 0, 52, 0, 0, 0, 2], [0, 0, 0, 0, 48, 0, 0, 0, 0, 0], [0, 0, 0, 42, 0, 0, 0, 0, 0, 0], [0, 0, 36, 0, 0, 0, 0, 0, 0, 0], [0, 37, 0, 0, 0, 0, 0, 0, 0, 0], [50, 0, 0, 0, 0, 0, 0, 0, 0, 0]]}],\n",
              "                        {\"annotations\": [{\"font\": {\"color\": \"#000000\"}, \"showarrow\": false, \"text\": \"0\", \"x\": \"pred_0\", \"xref\": \"x\", \"y\": \"true_0\", \"yref\": \"y\"}, {\"font\": {\"color\": \"#000000\"}, \"showarrow\": false, \"text\": \"0\", \"x\": \"pred_1\", \"xref\": \"x\", \"y\": \"true_0\", \"yref\": \"y\"}, {\"font\": {\"color\": \"#000000\"}, \"showarrow\": false, \"text\": \"0\", \"x\": \"pred_2\", \"xref\": \"x\", \"y\": \"true_0\", \"yref\": \"y\"}, {\"font\": {\"color\": \"#000000\"}, \"showarrow\": false, \"text\": \"0\", \"x\": \"pred_3\", \"xref\": \"x\", \"y\": \"true_0\", \"yref\": \"y\"}, {\"font\": {\"color\": \"#000000\"}, \"showarrow\": false, \"text\": \"0\", \"x\": \"pred_4\", \"xref\": \"x\", \"y\": \"true_0\", \"yref\": \"y\"}, {\"font\": {\"color\": \"#000000\"}, \"showarrow\": false, \"text\": \"0\", \"x\": \"pred_5\", \"xref\": \"x\", \"y\": \"true_0\", \"yref\": \"y\"}, {\"font\": {\"color\": \"#000000\"}, \"showarrow\": false, \"text\": \"0\", \"x\": \"pred_6\", \"xref\": \"x\", \"y\": \"true_0\", \"yref\": \"y\"}, {\"font\": {\"color\": \"#000000\"}, \"showarrow\": false, \"text\": \"0\", \"x\": \"pred_7\", \"xref\": \"x\", \"y\": \"true_0\", \"yref\": \"y\"}, {\"font\": {\"color\": \"#000000\"}, \"showarrow\": false, \"text\": \"0\", \"x\": \"pred_8\", \"xref\": \"x\", \"y\": \"true_0\", \"yref\": \"y\"}, {\"font\": {\"color\": \"#FFFFFF\"}, \"showarrow\": false, \"text\": \"46\", \"x\": \"pred_9\", \"xref\": \"x\", \"y\": \"true_0\", \"yref\": \"y\"}, {\"font\": {\"color\": \"#000000\"}, \"showarrow\": false, \"text\": \"0\", \"x\": \"pred_0\", \"xref\": \"x\", \"y\": \"true_1\", \"yref\": \"y\"}, {\"font\": {\"color\": \"#000000\"}, \"showarrow\": false, \"text\": \"0\", \"x\": \"pred_1\", \"xref\": \"x\", \"y\": \"true_1\", \"yref\": \"y\"}, {\"font\": {\"color\": \"#000000\"}, \"showarrow\": false, \"text\": \"0\", \"x\": \"pred_2\", \"xref\": \"x\", \"y\": \"true_1\", \"yref\": \"y\"}, {\"font\": {\"color\": \"#000000\"}, \"showarrow\": false, \"text\": \"0\", \"x\": \"pred_3\", \"xref\": \"x\", \"y\": \"true_1\", \"yref\": \"y\"}, {\"font\": {\"color\": \"#000000\"}, \"showarrow\": false, \"text\": \"0\", \"x\": \"pred_4\", \"xref\": \"x\", \"y\": \"true_1\", \"yref\": \"y\"}, {\"font\": {\"color\": \"#000000\"}, \"showarrow\": false, \"text\": \"0\", \"x\": \"pred_5\", \"xref\": \"x\", \"y\": \"true_1\", \"yref\": \"y\"}, {\"font\": {\"color\": \"#000000\"}, \"showarrow\": false, \"text\": \"0\", \"x\": \"pred_6\", \"xref\": \"x\", \"y\": \"true_1\", \"yref\": \"y\"}, {\"font\": {\"color\": \"#000000\"}, \"showarrow\": false, \"text\": \"0\", \"x\": \"pred_7\", \"xref\": \"x\", \"y\": \"true_1\", \"yref\": \"y\"}, {\"font\": {\"color\": \"#FFFFFF\"}, \"showarrow\": false, \"text\": \"46\", \"x\": \"pred_8\", \"xref\": \"x\", \"y\": \"true_1\", \"yref\": \"y\"}, {\"font\": {\"color\": \"#000000\"}, \"showarrow\": false, \"text\": \"0\", \"x\": \"pred_9\", \"xref\": \"x\", \"y\": \"true_1\", \"yref\": \"y\"}, {\"font\": {\"color\": \"#000000\"}, \"showarrow\": false, \"text\": \"0\", \"x\": \"pred_0\", \"xref\": \"x\", \"y\": \"true_2\", \"yref\": \"y\"}, {\"font\": {\"color\": \"#000000\"}, \"showarrow\": false, \"text\": \"0\", \"x\": \"pred_1\", \"xref\": \"x\", \"y\": \"true_2\", \"yref\": \"y\"}, {\"font\": {\"color\": \"#000000\"}, \"showarrow\": false, \"text\": \"0\", \"x\": \"pred_2\", \"xref\": \"x\", \"y\": \"true_2\", \"yref\": \"y\"}, {\"font\": {\"color\": \"#000000\"}, \"showarrow\": false, \"text\": \"0\", \"x\": \"pred_3\", \"xref\": \"x\", \"y\": \"true_2\", \"yref\": \"y\"}, {\"font\": {\"color\": \"#000000\"}, \"showarrow\": false, \"text\": \"0\", \"x\": \"pred_4\", \"xref\": \"x\", \"y\": \"true_2\", \"yref\": \"y\"}, {\"font\": {\"color\": \"#000000\"}, \"showarrow\": false, \"text\": \"0\", \"x\": \"pred_5\", \"xref\": \"x\", \"y\": \"true_2\", \"yref\": \"y\"}, {\"font\": {\"color\": \"#000000\"}, \"showarrow\": false, \"text\": \"0\", \"x\": \"pred_6\", \"xref\": \"x\", \"y\": \"true_2\", \"yref\": \"y\"}, {\"font\": {\"color\": \"#FFFFFF\"}, \"showarrow\": false, \"text\": \"51\", \"x\": \"pred_7\", \"xref\": \"x\", \"y\": \"true_2\", \"yref\": \"y\"}, {\"font\": {\"color\": \"#000000\"}, \"showarrow\": false, \"text\": \"0\", \"x\": \"pred_8\", \"xref\": \"x\", \"y\": \"true_2\", \"yref\": \"y\"}, {\"font\": {\"color\": \"#000000\"}, \"showarrow\": false, \"text\": \"0\", \"x\": \"pred_9\", \"xref\": \"x\", \"y\": \"true_2\", \"yref\": \"y\"}, {\"font\": {\"color\": \"#000000\"}, \"showarrow\": false, \"text\": \"0\", \"x\": \"pred_0\", \"xref\": \"x\", \"y\": \"true_3\", \"yref\": \"y\"}, {\"font\": {\"color\": \"#000000\"}, \"showarrow\": false, \"text\": \"0\", \"x\": \"pred_1\", \"xref\": \"x\", \"y\": \"true_3\", \"yref\": \"y\"}, {\"font\": {\"color\": \"#000000\"}, \"showarrow\": false, \"text\": \"0\", \"x\": \"pred_2\", \"xref\": \"x\", \"y\": \"true_3\", \"yref\": \"y\"}, {\"font\": {\"color\": \"#000000\"}, \"showarrow\": false, \"text\": \"0\", \"x\": \"pred_3\", \"xref\": \"x\", \"y\": \"true_3\", \"yref\": \"y\"}, {\"font\": {\"color\": \"#000000\"}, \"showarrow\": false, \"text\": \"0\", \"x\": \"pred_4\", \"xref\": \"x\", \"y\": \"true_3\", \"yref\": \"y\"}, {\"font\": {\"color\": \"#000000\"}, \"showarrow\": false, \"text\": \"0\", \"x\": \"pred_5\", \"xref\": \"x\", \"y\": \"true_3\", \"yref\": \"y\"}, {\"font\": {\"color\": \"#FFFFFF\"}, \"showarrow\": false, \"text\": \"40\", \"x\": \"pred_6\", \"xref\": \"x\", \"y\": \"true_3\", \"yref\": \"y\"}, {\"font\": {\"color\": \"#000000\"}, \"showarrow\": false, \"text\": \"0\", \"x\": \"pred_7\", \"xref\": \"x\", \"y\": \"true_3\", \"yref\": \"y\"}, {\"font\": {\"color\": \"#000000\"}, \"showarrow\": false, \"text\": \"0\", \"x\": \"pred_8\", \"xref\": \"x\", \"y\": \"true_3\", \"yref\": \"y\"}, {\"font\": {\"color\": \"#000000\"}, \"showarrow\": false, \"text\": \"0\", \"x\": \"pred_9\", \"xref\": \"x\", \"y\": \"true_3\", \"yref\": \"y\"}, {\"font\": {\"color\": \"#000000\"}, \"showarrow\": false, \"text\": \"0\", \"x\": \"pred_0\", \"xref\": \"x\", \"y\": \"true_4\", \"yref\": \"y\"}, {\"font\": {\"color\": \"#000000\"}, \"showarrow\": false, \"text\": \"0\", \"x\": \"pred_1\", \"xref\": \"x\", \"y\": \"true_4\", \"yref\": \"y\"}, {\"font\": {\"color\": \"#000000\"}, \"showarrow\": false, \"text\": \"0\", \"x\": \"pred_2\", \"xref\": \"x\", \"y\": \"true_4\", \"yref\": \"y\"}, {\"font\": {\"color\": \"#000000\"}, \"showarrow\": false, \"text\": \"0\", \"x\": \"pred_3\", \"xref\": \"x\", \"y\": \"true_4\", \"yref\": \"y\"}, {\"font\": {\"color\": \"#000000\"}, \"showarrow\": false, \"text\": \"0\", \"x\": \"pred_4\", \"xref\": \"x\", \"y\": \"true_4\", \"yref\": \"y\"}, {\"font\": {\"color\": \"#FFFFFF\"}, \"showarrow\": false, \"text\": \"52\", \"x\": \"pred_5\", \"xref\": \"x\", \"y\": \"true_4\", \"yref\": \"y\"}, {\"font\": {\"color\": \"#000000\"}, \"showarrow\": false, \"text\": \"0\", \"x\": \"pred_6\", \"xref\": \"x\", \"y\": \"true_4\", \"yref\": \"y\"}, {\"font\": {\"color\": \"#000000\"}, \"showarrow\": false, \"text\": \"0\", \"x\": \"pred_7\", \"xref\": \"x\", \"y\": \"true_4\", \"yref\": \"y\"}, {\"font\": {\"color\": \"#000000\"}, \"showarrow\": false, \"text\": \"0\", \"x\": \"pred_8\", \"xref\": \"x\", \"y\": \"true_4\", \"yref\": \"y\"}, {\"font\": {\"color\": \"#000000\"}, \"showarrow\": false, \"text\": \"2\", \"x\": \"pred_9\", \"xref\": \"x\", \"y\": \"true_4\", \"yref\": \"y\"}, {\"font\": {\"color\": \"#000000\"}, \"showarrow\": false, \"text\": \"0\", \"x\": \"pred_0\", \"xref\": \"x\", \"y\": \"true_5\", \"yref\": \"y\"}, {\"font\": {\"color\": \"#000000\"}, \"showarrow\": false, \"text\": \"0\", \"x\": \"pred_1\", \"xref\": \"x\", \"y\": \"true_5\", \"yref\": \"y\"}, {\"font\": {\"color\": \"#000000\"}, \"showarrow\": false, \"text\": \"0\", \"x\": \"pred_2\", \"xref\": \"x\", \"y\": \"true_5\", \"yref\": \"y\"}, {\"font\": {\"color\": \"#000000\"}, \"showarrow\": false, \"text\": \"0\", \"x\": \"pred_3\", \"xref\": \"x\", \"y\": \"true_5\", \"yref\": \"y\"}, {\"font\": {\"color\": \"#FFFFFF\"}, \"showarrow\": false, \"text\": \"48\", \"x\": \"pred_4\", \"xref\": \"x\", \"y\": \"true_5\", \"yref\": \"y\"}, {\"font\": {\"color\": \"#000000\"}, \"showarrow\": false, \"text\": \"0\", \"x\": \"pred_5\", \"xref\": \"x\", \"y\": \"true_5\", \"yref\": \"y\"}, {\"font\": {\"color\": \"#000000\"}, \"showarrow\": false, \"text\": \"0\", \"x\": \"pred_6\", \"xref\": \"x\", \"y\": \"true_5\", \"yref\": \"y\"}, {\"font\": {\"color\": \"#000000\"}, \"showarrow\": false, \"text\": \"0\", \"x\": \"pred_7\", \"xref\": \"x\", \"y\": \"true_5\", \"yref\": \"y\"}, {\"font\": {\"color\": \"#000000\"}, \"showarrow\": false, \"text\": \"0\", \"x\": \"pred_8\", \"xref\": \"x\", \"y\": \"true_5\", \"yref\": \"y\"}, {\"font\": {\"color\": \"#000000\"}, \"showarrow\": false, \"text\": \"0\", \"x\": \"pred_9\", \"xref\": \"x\", \"y\": \"true_5\", \"yref\": \"y\"}, {\"font\": {\"color\": \"#000000\"}, \"showarrow\": false, \"text\": \"0\", \"x\": \"pred_0\", \"xref\": \"x\", \"y\": \"true_6\", \"yref\": \"y\"}, {\"font\": {\"color\": \"#000000\"}, \"showarrow\": false, \"text\": \"0\", \"x\": \"pred_1\", \"xref\": \"x\", \"y\": \"true_6\", \"yref\": \"y\"}, {\"font\": {\"color\": \"#000000\"}, \"showarrow\": false, \"text\": \"0\", \"x\": \"pred_2\", \"xref\": \"x\", \"y\": \"true_6\", \"yref\": \"y\"}, {\"font\": {\"color\": \"#FFFFFF\"}, \"showarrow\": false, \"text\": \"42\", \"x\": \"pred_3\", \"xref\": \"x\", \"y\": \"true_6\", \"yref\": \"y\"}, {\"font\": {\"color\": \"#000000\"}, \"showarrow\": false, \"text\": \"0\", \"x\": \"pred_4\", \"xref\": \"x\", \"y\": \"true_6\", \"yref\": \"y\"}, {\"font\": {\"color\": \"#000000\"}, \"showarrow\": false, \"text\": \"0\", \"x\": \"pred_5\", \"xref\": \"x\", \"y\": \"true_6\", \"yref\": \"y\"}, {\"font\": {\"color\": \"#000000\"}, \"showarrow\": false, \"text\": \"0\", \"x\": \"pred_6\", \"xref\": \"x\", \"y\": \"true_6\", \"yref\": \"y\"}, {\"font\": {\"color\": \"#000000\"}, \"showarrow\": false, \"text\": \"0\", \"x\": \"pred_7\", \"xref\": \"x\", \"y\": \"true_6\", \"yref\": \"y\"}, {\"font\": {\"color\": \"#000000\"}, \"showarrow\": false, \"text\": \"0\", \"x\": \"pred_8\", \"xref\": \"x\", \"y\": \"true_6\", \"yref\": \"y\"}, {\"font\": {\"color\": \"#000000\"}, \"showarrow\": false, \"text\": \"0\", \"x\": \"pred_9\", \"xref\": \"x\", \"y\": \"true_6\", \"yref\": \"y\"}, {\"font\": {\"color\": \"#000000\"}, \"showarrow\": false, \"text\": \"0\", \"x\": \"pred_0\", \"xref\": \"x\", \"y\": \"true_7\", \"yref\": \"y\"}, {\"font\": {\"color\": \"#000000\"}, \"showarrow\": false, \"text\": \"0\", \"x\": \"pred_1\", \"xref\": \"x\", \"y\": \"true_7\", \"yref\": \"y\"}, {\"font\": {\"color\": \"#FFFFFF\"}, \"showarrow\": false, \"text\": \"36\", \"x\": \"pred_2\", \"xref\": \"x\", \"y\": \"true_7\", \"yref\": \"y\"}, {\"font\": {\"color\": \"#000000\"}, \"showarrow\": false, \"text\": \"0\", \"x\": \"pred_3\", \"xref\": \"x\", \"y\": \"true_7\", \"yref\": \"y\"}, {\"font\": {\"color\": \"#000000\"}, \"showarrow\": false, \"text\": \"0\", \"x\": \"pred_4\", \"xref\": \"x\", \"y\": \"true_7\", \"yref\": \"y\"}, {\"font\": {\"color\": \"#000000\"}, \"showarrow\": false, \"text\": \"0\", \"x\": \"pred_5\", \"xref\": \"x\", \"y\": \"true_7\", \"yref\": \"y\"}, {\"font\": {\"color\": \"#000000\"}, \"showarrow\": false, \"text\": \"0\", \"x\": \"pred_6\", \"xref\": \"x\", \"y\": \"true_7\", \"yref\": \"y\"}, {\"font\": {\"color\": \"#000000\"}, \"showarrow\": false, \"text\": \"0\", \"x\": \"pred_7\", \"xref\": \"x\", \"y\": \"true_7\", \"yref\": \"y\"}, {\"font\": {\"color\": \"#000000\"}, \"showarrow\": false, \"text\": \"0\", \"x\": \"pred_8\", \"xref\": \"x\", \"y\": \"true_7\", \"yref\": \"y\"}, {\"font\": {\"color\": \"#000000\"}, \"showarrow\": false, \"text\": \"0\", \"x\": \"pred_9\", \"xref\": \"x\", \"y\": \"true_7\", \"yref\": \"y\"}, {\"font\": {\"color\": \"#000000\"}, \"showarrow\": false, \"text\": \"0\", \"x\": \"pred_0\", \"xref\": \"x\", \"y\": \"true_8\", \"yref\": \"y\"}, {\"font\": {\"color\": \"#FFFFFF\"}, \"showarrow\": false, \"text\": \"37\", \"x\": \"pred_1\", \"xref\": \"x\", \"y\": \"true_8\", \"yref\": \"y\"}, {\"font\": {\"color\": \"#000000\"}, \"showarrow\": false, \"text\": \"0\", \"x\": \"pred_2\", \"xref\": \"x\", \"y\": \"true_8\", \"yref\": \"y\"}, {\"font\": {\"color\": \"#000000\"}, \"showarrow\": false, \"text\": \"0\", \"x\": \"pred_3\", \"xref\": \"x\", \"y\": \"true_8\", \"yref\": \"y\"}, {\"font\": {\"color\": \"#000000\"}, \"showarrow\": false, \"text\": \"0\", \"x\": \"pred_4\", \"xref\": \"x\", \"y\": \"true_8\", \"yref\": \"y\"}, {\"font\": {\"color\": \"#000000\"}, \"showarrow\": false, \"text\": \"0\", \"x\": \"pred_5\", \"xref\": \"x\", \"y\": \"true_8\", \"yref\": \"y\"}, {\"font\": {\"color\": \"#000000\"}, \"showarrow\": false, \"text\": \"0\", \"x\": \"pred_6\", \"xref\": \"x\", \"y\": \"true_8\", \"yref\": \"y\"}, {\"font\": {\"color\": \"#000000\"}, \"showarrow\": false, \"text\": \"0\", \"x\": \"pred_7\", \"xref\": \"x\", \"y\": \"true_8\", \"yref\": \"y\"}, {\"font\": {\"color\": \"#000000\"}, \"showarrow\": false, \"text\": \"0\", \"x\": \"pred_8\", \"xref\": \"x\", \"y\": \"true_8\", \"yref\": \"y\"}, {\"font\": {\"color\": \"#000000\"}, \"showarrow\": false, \"text\": \"0\", \"x\": \"pred_9\", \"xref\": \"x\", \"y\": \"true_8\", \"yref\": \"y\"}, {\"font\": {\"color\": \"#FFFFFF\"}, \"showarrow\": false, \"text\": \"50\", \"x\": \"pred_0\", \"xref\": \"x\", \"y\": \"true_9\", \"yref\": \"y\"}, {\"font\": {\"color\": \"#000000\"}, \"showarrow\": false, \"text\": \"0\", \"x\": \"pred_1\", \"xref\": \"x\", \"y\": \"true_9\", \"yref\": \"y\"}, {\"font\": {\"color\": \"#000000\"}, \"showarrow\": false, \"text\": \"0\", \"x\": \"pred_2\", \"xref\": \"x\", \"y\": \"true_9\", \"yref\": \"y\"}, {\"font\": {\"color\": \"#000000\"}, \"showarrow\": false, \"text\": \"0\", \"x\": \"pred_3\", \"xref\": \"x\", \"y\": \"true_9\", \"yref\": \"y\"}, {\"font\": {\"color\": \"#000000\"}, \"showarrow\": false, \"text\": \"0\", \"x\": \"pred_4\", \"xref\": \"x\", \"y\": \"true_9\", \"yref\": \"y\"}, {\"font\": {\"color\": \"#000000\"}, \"showarrow\": false, \"text\": \"0\", \"x\": \"pred_5\", \"xref\": \"x\", \"y\": \"true_9\", \"yref\": \"y\"}, {\"font\": {\"color\": \"#000000\"}, \"showarrow\": false, \"text\": \"0\", \"x\": \"pred_6\", \"xref\": \"x\", \"y\": \"true_9\", \"yref\": \"y\"}, {\"font\": {\"color\": \"#000000\"}, \"showarrow\": false, \"text\": \"0\", \"x\": \"pred_7\", \"xref\": \"x\", \"y\": \"true_9\", \"yref\": \"y\"}, {\"font\": {\"color\": \"#000000\"}, \"showarrow\": false, \"text\": \"0\", \"x\": \"pred_8\", \"xref\": \"x\", \"y\": \"true_9\", \"yref\": \"y\"}, {\"font\": {\"color\": \"#000000\"}, \"showarrow\": false, \"text\": \"0\", \"x\": \"pred_9\", \"xref\": \"x\", \"y\": \"true_9\", \"yref\": \"y\"}], \"font\": {\"size\": 16}, \"height\": 500, \"template\": {\"data\": {\"bar\": [{\"error_x\": {\"color\": \"#2a3f5f\"}, \"error_y\": {\"color\": \"#2a3f5f\"}, \"marker\": {\"line\": {\"color\": \"#E5ECF6\", \"width\": 0.5}}, \"type\": \"bar\"}], \"barpolar\": [{\"marker\": {\"line\": {\"color\": \"#E5ECF6\", \"width\": 0.5}}, \"type\": \"barpolar\"}], \"carpet\": [{\"aaxis\": {\"endlinecolor\": \"#2a3f5f\", \"gridcolor\": \"white\", \"linecolor\": \"white\", \"minorgridcolor\": \"white\", \"startlinecolor\": \"#2a3f5f\"}, \"baxis\": {\"endlinecolor\": \"#2a3f5f\", \"gridcolor\": \"white\", \"linecolor\": \"white\", \"minorgridcolor\": \"white\", \"startlinecolor\": \"#2a3f5f\"}, \"type\": \"carpet\"}], \"choropleth\": [{\"colorbar\": {\"outlinewidth\": 0, \"ticks\": \"\"}, \"type\": \"choropleth\"}], \"contour\": [{\"colorbar\": {\"outlinewidth\": 0, \"ticks\": \"\"}, \"colorscale\": [[0.0, \"#0d0887\"], [0.1111111111111111, \"#46039f\"], [0.2222222222222222, \"#7201a8\"], [0.3333333333333333, \"#9c179e\"], [0.4444444444444444, \"#bd3786\"], [0.5555555555555556, \"#d8576b\"], [0.6666666666666666, \"#ed7953\"], [0.7777777777777778, \"#fb9f3a\"], [0.8888888888888888, \"#fdca26\"], [1.0, \"#f0f921\"]], \"type\": \"contour\"}], \"contourcarpet\": [{\"colorbar\": {\"outlinewidth\": 0, \"ticks\": \"\"}, \"type\": \"contourcarpet\"}], \"heatmap\": [{\"colorbar\": {\"outlinewidth\": 0, \"ticks\": \"\"}, \"colorscale\": [[0.0, \"#0d0887\"], [0.1111111111111111, \"#46039f\"], [0.2222222222222222, \"#7201a8\"], [0.3333333333333333, \"#9c179e\"], [0.4444444444444444, \"#bd3786\"], [0.5555555555555556, \"#d8576b\"], [0.6666666666666666, \"#ed7953\"], [0.7777777777777778, \"#fb9f3a\"], [0.8888888888888888, \"#fdca26\"], [1.0, \"#f0f921\"]], \"type\": \"heatmap\"}], \"heatmapgl\": [{\"colorbar\": {\"outlinewidth\": 0, \"ticks\": \"\"}, \"colorscale\": [[0.0, \"#0d0887\"], [0.1111111111111111, \"#46039f\"], [0.2222222222222222, \"#7201a8\"], [0.3333333333333333, \"#9c179e\"], [0.4444444444444444, \"#bd3786\"], [0.5555555555555556, \"#d8576b\"], [0.6666666666666666, \"#ed7953\"], [0.7777777777777778, \"#fb9f3a\"], [0.8888888888888888, \"#fdca26\"], [1.0, \"#f0f921\"]], \"type\": \"heatmapgl\"}], \"histogram\": [{\"marker\": {\"colorbar\": {\"outlinewidth\": 0, \"ticks\": \"\"}}, \"type\": \"histogram\"}], \"histogram2d\": [{\"colorbar\": {\"outlinewidth\": 0, \"ticks\": \"\"}, \"colorscale\": [[0.0, \"#0d0887\"], [0.1111111111111111, \"#46039f\"], [0.2222222222222222, \"#7201a8\"], [0.3333333333333333, \"#9c179e\"], [0.4444444444444444, \"#bd3786\"], [0.5555555555555556, \"#d8576b\"], [0.6666666666666666, \"#ed7953\"], [0.7777777777777778, \"#fb9f3a\"], [0.8888888888888888, \"#fdca26\"], [1.0, \"#f0f921\"]], \"type\": \"histogram2d\"}], \"histogram2dcontour\": [{\"colorbar\": {\"outlinewidth\": 0, \"ticks\": \"\"}, \"colorscale\": [[0.0, \"#0d0887\"], [0.1111111111111111, \"#46039f\"], [0.2222222222222222, \"#7201a8\"], [0.3333333333333333, \"#9c179e\"], [0.4444444444444444, \"#bd3786\"], [0.5555555555555556, \"#d8576b\"], [0.6666666666666666, \"#ed7953\"], [0.7777777777777778, \"#fb9f3a\"], [0.8888888888888888, \"#fdca26\"], [1.0, \"#f0f921\"]], \"type\": \"histogram2dcontour\"}], \"mesh3d\": [{\"colorbar\": {\"outlinewidth\": 0, \"ticks\": \"\"}, \"type\": \"mesh3d\"}], \"parcoords\": [{\"line\": {\"colorbar\": {\"outlinewidth\": 0, \"ticks\": \"\"}}, \"type\": \"parcoords\"}], \"pie\": [{\"automargin\": true, \"type\": \"pie\"}], \"scatter\": [{\"marker\": {\"colorbar\": {\"outlinewidth\": 0, \"ticks\": \"\"}}, \"type\": \"scatter\"}], \"scatter3d\": [{\"line\": {\"colorbar\": {\"outlinewidth\": 0, \"ticks\": \"\"}}, \"marker\": {\"colorbar\": {\"outlinewidth\": 0, \"ticks\": \"\"}}, \"type\": \"scatter3d\"}], \"scattercarpet\": [{\"marker\": {\"colorbar\": {\"outlinewidth\": 0, \"ticks\": \"\"}}, \"type\": \"scattercarpet\"}], \"scattergeo\": [{\"marker\": {\"colorbar\": {\"outlinewidth\": 0, \"ticks\": \"\"}}, \"type\": \"scattergeo\"}], \"scattergl\": [{\"marker\": {\"colorbar\": {\"outlinewidth\": 0, \"ticks\": \"\"}}, \"type\": \"scattergl\"}], \"scattermapbox\": [{\"marker\": {\"colorbar\": {\"outlinewidth\": 0, \"ticks\": \"\"}}, \"type\": \"scattermapbox\"}], \"scatterpolar\": [{\"marker\": {\"colorbar\": {\"outlinewidth\": 0, \"ticks\": \"\"}}, \"type\": \"scatterpolar\"}], \"scatterpolargl\": [{\"marker\": {\"colorbar\": {\"outlinewidth\": 0, \"ticks\": \"\"}}, \"type\": \"scatterpolargl\"}], \"scatterternary\": [{\"marker\": {\"colorbar\": {\"outlinewidth\": 0, \"ticks\": \"\"}}, \"type\": \"scatterternary\"}], \"surface\": [{\"colorbar\": {\"outlinewidth\": 0, \"ticks\": \"\"}, \"colorscale\": [[0.0, \"#0d0887\"], [0.1111111111111111, \"#46039f\"], [0.2222222222222222, \"#7201a8\"], [0.3333333333333333, \"#9c179e\"], [0.4444444444444444, \"#bd3786\"], [0.5555555555555556, \"#d8576b\"], [0.6666666666666666, \"#ed7953\"], [0.7777777777777778, \"#fb9f3a\"], [0.8888888888888888, \"#fdca26\"], [1.0, \"#f0f921\"]], \"type\": \"surface\"}], \"table\": [{\"cells\": {\"fill\": {\"color\": \"#EBF0F8\"}, \"line\": {\"color\": \"white\"}}, \"header\": {\"fill\": {\"color\": \"#C8D4E3\"}, \"line\": {\"color\": \"white\"}}, \"type\": \"table\"}]}, \"layout\": {\"annotationdefaults\": {\"arrowcolor\": \"#2a3f5f\", \"arrowhead\": 0, \"arrowwidth\": 1}, \"coloraxis\": {\"colorbar\": {\"outlinewidth\": 0, \"ticks\": \"\"}}, \"colorscale\": {\"diverging\": [[0, \"#8e0152\"], [0.1, \"#c51b7d\"], [0.2, \"#de77ae\"], [0.3, \"#f1b6da\"], [0.4, \"#fde0ef\"], [0.5, \"#f7f7f7\"], [0.6, \"#e6f5d0\"], [0.7, \"#b8e186\"], [0.8, \"#7fbc41\"], [0.9, \"#4d9221\"], [1, \"#276419\"]], \"sequential\": [[0.0, \"#0d0887\"], [0.1111111111111111, \"#46039f\"], [0.2222222222222222, \"#7201a8\"], [0.3333333333333333, \"#9c179e\"], [0.4444444444444444, \"#bd3786\"], [0.5555555555555556, \"#d8576b\"], [0.6666666666666666, \"#ed7953\"], [0.7777777777777778, \"#fb9f3a\"], [0.8888888888888888, \"#fdca26\"], [1.0, \"#f0f921\"]], \"sequentialminus\": [[0.0, \"#0d0887\"], [0.1111111111111111, \"#46039f\"], [0.2222222222222222, \"#7201a8\"], [0.3333333333333333, \"#9c179e\"], [0.4444444444444444, \"#bd3786\"], [0.5555555555555556, \"#d8576b\"], [0.6666666666666666, \"#ed7953\"], [0.7777777777777778, \"#fb9f3a\"], [0.8888888888888888, \"#fdca26\"], [1.0, \"#f0f921\"]]}, \"colorway\": [\"#636efa\", \"#EF553B\", \"#00cc96\", \"#ab63fa\", \"#FFA15A\", \"#19d3f3\", \"#FF6692\", \"#B6E880\", \"#FF97FF\", \"#FECB52\"], \"font\": {\"color\": \"#2a3f5f\"}, \"geo\": {\"bgcolor\": \"white\", \"lakecolor\": \"white\", \"landcolor\": \"#E5ECF6\", \"showlakes\": true, \"showland\": true, \"subunitcolor\": \"white\"}, \"hoverlabel\": {\"align\": \"left\"}, \"hovermode\": \"closest\", \"mapbox\": {\"style\": \"light\"}, \"paper_bgcolor\": \"white\", \"plot_bgcolor\": \"#E5ECF6\", \"polar\": {\"angularaxis\": {\"gridcolor\": \"white\", \"linecolor\": \"white\", \"ticks\": \"\"}, \"bgcolor\": \"#E5ECF6\", \"radialaxis\": {\"gridcolor\": \"white\", \"linecolor\": \"white\", \"ticks\": \"\"}}, \"scene\": {\"xaxis\": {\"backgroundcolor\": \"#E5ECF6\", \"gridcolor\": \"white\", \"gridwidth\": 2, \"linecolor\": \"white\", \"showbackground\": true, \"ticks\": \"\", \"zerolinecolor\": \"white\"}, \"yaxis\": {\"backgroundcolor\": \"#E5ECF6\", \"gridcolor\": \"white\", \"gridwidth\": 2, \"linecolor\": \"white\", \"showbackground\": true, \"ticks\": \"\", \"zerolinecolor\": \"white\"}, \"zaxis\": {\"backgroundcolor\": \"#E5ECF6\", \"gridcolor\": \"white\", \"gridwidth\": 2, \"linecolor\": \"white\", \"showbackground\": true, \"ticks\": \"\", \"zerolinecolor\": \"white\"}}, \"shapedefaults\": {\"line\": {\"color\": \"#2a3f5f\"}}, \"ternary\": {\"aaxis\": {\"gridcolor\": \"white\", \"linecolor\": \"white\", \"ticks\": \"\"}, \"baxis\": {\"gridcolor\": \"white\", \"linecolor\": \"white\", \"ticks\": \"\"}, \"bgcolor\": \"#E5ECF6\", \"caxis\": {\"gridcolor\": \"white\", \"linecolor\": \"white\", \"ticks\": \"\"}}, \"title\": {\"x\": 0.05}, \"xaxis\": {\"automargin\": true, \"gridcolor\": \"white\", \"linecolor\": \"white\", \"ticks\": \"\", \"title\": {\"standoff\": 15}, \"zerolinecolor\": \"white\", \"zerolinewidth\": 2}, \"yaxis\": {\"automargin\": true, \"gridcolor\": \"white\", \"linecolor\": \"white\", \"ticks\": \"\", \"title\": {\"standoff\": 15}, \"zerolinecolor\": \"white\", \"zerolinewidth\": 2}}}, \"title\": {\"text\": \"Confusion Matrix\"}, \"width\": 700, \"xaxis\": {\"dtick\": 1, \"gridcolor\": \"rgb(0, 0, 0)\", \"side\": \"top\", \"ticks\": \"\"}, \"yaxis\": {\"dtick\": 1, \"ticks\": \"\", \"ticksuffix\": \"  \"}},\n",
              "                        {\"responsive\": true}\n",
              "                    ).then(function(){\n",
              "                            \n",
              "var gd = document.getElementById('1157d3d3-7f7a-4b0f-ac21-4f9fd067c788');\n",
              "var x = new MutationObserver(function (mutations, observer) {{\n",
              "        var display = window.getComputedStyle(gd).display;\n",
              "        if (!display || display === 'none') {{\n",
              "            console.log([gd, 'removed!']);\n",
              "            Plotly.purge(gd);\n",
              "            observer.disconnect();\n",
              "        }}\n",
              "}});\n",
              "\n",
              "// Listen for the removal of the full notebook cells\n",
              "var notebookContainer = gd.closest('#notebook-container');\n",
              "if (notebookContainer) {{\n",
              "    x.observe(notebookContainer, {childList: true});\n",
              "}}\n",
              "\n",
              "// Listen for the clearing of the current output cell\n",
              "var outputEl = gd.closest('.output');\n",
              "if (outputEl) {{\n",
              "    x.observe(outputEl, {childList: true});\n",
              "}}\n",
              "\n",
              "                        })\n",
              "                };\n",
              "                \n",
              "            </script>\n",
              "        </div>\n",
              "</body>\n",
              "</html>"
            ]
          },
          "metadata": {
            "tags": []
          }
        }
      ]
    },
    {
      "cell_type": "code",
      "metadata": {
        "id": "Ju2XrgtKqqvq"
      },
      "source": [
        ""
      ],
      "execution_count": null,
      "outputs": []
    }
  ]
}