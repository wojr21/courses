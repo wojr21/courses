{
  "nbformat": 4,
  "nbformat_minor": 0,
  "metadata": {
    "colab": {
      "name": "211-220_exercises.ipynb",
      "provenance": [],
      "collapsed_sections": [],
      "include_colab_link": true
    },
    "kernelspec": {
      "name": "python3",
      "display_name": "Python 3"
    }
  },
  "cells": [
    {
      "cell_type": "markdown",
      "metadata": {
        "id": "view-in-github",
        "colab_type": "text"
      },
      "source": [
        "<a href=\"https://colab.research.google.com/github/wojr21/courses/blob/main/DS_bootcamp_exercises/211_220_exercises.ipynb\" target=\"_parent\"><img src=\"https://colab.research.google.com/assets/colab-badge.svg\" alt=\"Open In Colab\"/></a>"
      ]
    },
    {
      "cell_type": "markdown",
      "metadata": {
        "id": "WLEgCW5F1hho"
      },
      "source": [
        "## Data Science Bootcamp\n",
        "\n",
        "### Spis treści:\n",
        "* [Import biblioteki](#0)\n",
        "* [Ćwiczenie 211](#1)\n",
        "* [Ćwiczenie 212](#2)\n",
        "* [Ćwiczenie 213](#3)\n",
        "* [Ćwiczenie 214](#4)\n",
        "* [Ćwiczenie 215](#5)\n",
        "* [Ćwiczenie 216](#6)\n",
        "* [Ćwiczenie 217](#7)\n",
        "* [Ćwiczenie 218](#8)\n",
        "* [Ćwiczenie 219](#9)\n",
        "* [Ćwiczenie 220](#10)"
      ]
    },
    {
      "cell_type": "markdown",
      "metadata": {
        "id": "zeLOLmTj1kBM"
      },
      "source": [
        "### <a name='0'></a>Import biblioteki"
      ]
    },
    {
      "cell_type": "code",
      "metadata": {
        "id": "HXMB7SMe1Wnz"
      },
      "source": [
        "import numpy as np\n",
        "import pandas as pd\n",
        "\n",
        "np.__version__"
      ],
      "execution_count": null,
      "outputs": []
    },
    {
      "cell_type": "markdown",
      "metadata": {
        "id": "cyc70pMe1oCg"
      },
      "source": [
        "### <a name='1'></a> Ćwiczenie 211\n",
        "Podany jest poniższy obiekt _DataFrame_:\n",
        "\n",
        "```\n",
        "df = pd.DataFrame(data={'height': [175., 178.5, 185., 191., 184.5, 183., 168.]})\n",
        "```\n",
        "Dokonaj dyskretyzacji zmiennej _height_ na 3 przedziały o równej szerokości. Wynik przypisz do nowej kolumny _height_cut_.\n"
      ]
    },
    {
      "cell_type": "code",
      "metadata": {
        "id": "9cIMOvnHn6qd"
      },
      "source": [
        "# tutaj wpisz rozwiązanie"
      ],
      "execution_count": null,
      "outputs": []
    },
    {
      "cell_type": "markdown",
      "metadata": {
        "id": "J9pY1rtr1sC0"
      },
      "source": [
        "### <a name='2'></a> Ćwiczenie 212\n",
        "Dokonaj dyskretyzacji zmiennej _height_ na 3 przedziały o zadanej postaci:\n",
        "* (160, 175]\n",
        "* (175, 180]\n",
        "* (180, 195]\n",
        "\n",
        "Wynik przypisz do nowej kolumny _height_cut_2_."
      ]
    },
    {
      "cell_type": "code",
      "metadata": {
        "id": "5z32JKTlo801"
      },
      "source": [
        "# tutaj wpisz rozwiązanie"
      ],
      "execution_count": null,
      "outputs": []
    },
    {
      "cell_type": "markdown",
      "metadata": {
        "id": "XQLYT2m11wVG"
      },
      "source": [
        "### <a name='3'></a> Ćwiczenie 213\n",
        "Dokonaj dyskretyzacji zmiennej _height_ na 3 przedziały o zadanej postaci:\n",
        "* (160, 175]\n",
        "* (175, 180]\n",
        "* (180, 195]\n",
        "\n",
        "oraz przypisz im odpowiednio etykiety:\n",
        "\n",
        "* small\n",
        "* medium\n",
        "* high\n",
        "\n",
        "Wynik przypisz do nowej kolumny _height_cut_3_."
      ]
    },
    {
      "cell_type": "code",
      "metadata": {
        "id": "-GZd0IDlpYpF"
      },
      "source": [
        "# tutaj wpisz rozwiązanie"
      ],
      "execution_count": null,
      "outputs": []
    },
    {
      "cell_type": "markdown",
      "metadata": {
        "id": "4xTKSUzg10MK"
      },
      "source": [
        "### <a name='4'></a> Ćwiczenie 214\n",
        "Usuń kolumny _height_cut_ oraz _height_cut_2_ z obiektu _df_."
      ]
    },
    {
      "cell_type": "code",
      "metadata": {
        "id": "Vqtt2Ocdp3yk"
      },
      "source": [
        "# tutaj wpisz rozwiązanie"
      ],
      "execution_count": null,
      "outputs": []
    },
    {
      "cell_type": "markdown",
      "metadata": {
        "id": "BIv_C6Vsp_Jl"
      },
      "source": [
        "Zmień nazwę kolumny _height_cut_3_ na _height_level_."
      ]
    },
    {
      "cell_type": "code",
      "metadata": {
        "id": "KlpIQAK4qFa6"
      },
      "source": [
        "# tutaj wpisz rozwiązanie"
      ],
      "execution_count": null,
      "outputs": []
    },
    {
      "cell_type": "markdown",
      "metadata": {
        "id": "o3HKIKlP15Ro"
      },
      "source": [
        "### <a name='5'></a> Ćwiczenie 215\n",
        "Uzyskaj kodowanie 0-1 obiektu _df_ dzięki funkcji _pd.get_dummies()_."
      ]
    },
    {
      "cell_type": "code",
      "metadata": {
        "id": "TMWhulvsqXC6"
      },
      "source": [
        "# tutaj wpisz rozwiązanie"
      ],
      "execution_count": null,
      "outputs": []
    },
    {
      "cell_type": "markdown",
      "metadata": {
        "id": "PunXd_Ey16so"
      },
      "source": [
        "### <a name='6'></a> Ćwiczenie 216\n",
        "Podany jest poniższy obiekt _df_:\n",
        "\n",
        "\n",
        "```\n",
        "df = pd.DataFrame(data={'lang': [['PL', 'ENG'], ['GER', 'ENG', 'PL', 'FRA'], ['RUS']]})\n",
        "```\n",
        "Zbuduj nową kolumnę o nazwie _length_, która przyjmie długość listy kolumny _lang_.\n",
        "\n"
      ]
    },
    {
      "cell_type": "code",
      "metadata": {
        "id": "qMLpJNRzqdoI"
      },
      "source": [
        "# tutaj wpisz rozwiązanie"
      ],
      "execution_count": null,
      "outputs": []
    },
    {
      "cell_type": "markdown",
      "metadata": {
        "id": "hOhqDRz618Tx"
      },
      "source": [
        "### <a name='7'></a> Ćwiczenie 217 \n",
        "Zbuduj nową kolumnę o nazwie _PL_flag_, która przyjmie wartość 1, gdy język 'PL' będzie w liście w kolumnie _lang_, przeciwnie 0."
      ]
    },
    {
      "cell_type": "code",
      "metadata": {
        "id": "2TTiu9j_rE5a"
      },
      "source": [
        "# tutaj wpisz rozwiązanie"
      ],
      "execution_count": null,
      "outputs": []
    },
    {
      "cell_type": "markdown",
      "metadata": {
        "id": "TXUd_4631-gw"
      },
      "source": [
        "### <a name='8'></a> Ćwiczenie 218\n",
        "Podany jest poniższy obiekt _df_:\n",
        "\n",
        "\n",
        "```\n",
        "df = pd.DataFrame(data={'website': ['wp.pl', 'onet.pl', 'google.com']})\n",
        "```\n",
        "Podziel kolumnę _website_ względem znaku kropki (.) na dwie kolumny o nazwach _portal_ oraz _ending_. \n"
      ]
    },
    {
      "cell_type": "code",
      "metadata": {
        "id": "rAfYZkzurWNY"
      },
      "source": [
        "# tutaj wpisz rozwiązanie"
      ],
      "execution_count": null,
      "outputs": []
    },
    {
      "cell_type": "markdown",
      "metadata": {
        "id": "tgI6xEn-2AQo"
      },
      "source": [
        "### <a name='9'></a> Ćwiczenie 219\n",
        "Wytnij wszystkie wiersze obiektu _df_ dla którego kolumna _portal_ zawiera literę 'o'."
      ]
    },
    {
      "cell_type": "code",
      "metadata": {
        "id": "jpuEcq6DsxAz"
      },
      "source": [
        "# tutaj wpisz rozwiązanie"
      ],
      "execution_count": null,
      "outputs": []
    },
    {
      "cell_type": "markdown",
      "metadata": {
        "id": "wxhpf-uq2B1I"
      },
      "source": [
        "### <a name='10'></a> Ćwiczenie 210\n",
        "Zamień wszystkie rozszerzenia _com_ z kolumny _ending_ na _org_."
      ]
    },
    {
      "cell_type": "code",
      "metadata": {
        "id": "YFc0KW6URsuc"
      },
      "source": [
        "# tutaj wpisz rozwiązanie"
      ],
      "execution_count": null,
      "outputs": []
    }
  ]
}