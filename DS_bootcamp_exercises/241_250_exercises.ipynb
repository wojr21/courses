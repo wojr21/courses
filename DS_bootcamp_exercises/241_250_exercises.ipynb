{
  "nbformat": 4,
  "nbformat_minor": 0,
  "metadata": {
    "colab": {
      "name": "241-250_exercises.ipynb",
      "provenance": [],
      "collapsed_sections": [],
      "include_colab_link": true
    },
    "kernelspec": {
      "name": "python3",
      "display_name": "Python 3"
    }
  },
  "cells": [
    {
      "cell_type": "markdown",
      "metadata": {
        "id": "view-in-github",
        "colab_type": "text"
      },
      "source": [
        "<a href=\"https://colab.research.google.com/github/wojr21/courses/blob/main/DS_bootcamp_exercises/241_250_exercises.ipynb\" target=\"_parent\"><img src=\"https://colab.research.google.com/assets/colab-badge.svg\" alt=\"Open In Colab\"/></a>"
      ]
    },
    {
      "cell_type": "markdown",
      "metadata": {
        "id": "WLEgCW5F1hho"
      },
      "source": [
        "## Data Science Bootcamp\n",
        "\n",
        "### Spis treści:\n",
        "* [Import biblioteki](#0)\n",
        "* [Ćwiczenie 241](#1)\n",
        "* [Ćwiczenie 242](#2)\n",
        "* [Ćwiczenie 243](#3)\n",
        "* [Ćwiczenie 244](#4)\n",
        "* [Ćwiczenie 245](#5)\n",
        "* [Ćwiczenie 246](#6)\n",
        "* [Ćwiczenie 247](#7)\n",
        "* [Ćwiczenie 248](#8)\n",
        "* [Ćwiczenie 249](#9)\n",
        "* [Ćwiczenie 250](#10)"
      ]
    },
    {
      "cell_type": "markdown",
      "metadata": {
        "id": "zeLOLmTj1kBM"
      },
      "source": [
        "### <a name='0'></a>Import biblioteki"
      ]
    },
    {
      "cell_type": "code",
      "metadata": {
        "id": "HXMB7SMe1Wnz"
      },
      "source": [
        "import numpy as np\n",
        "\n",
        "np.__version__"
      ],
      "execution_count": null,
      "outputs": []
    },
    {
      "cell_type": "markdown",
      "metadata": {
        "id": "0FjJ_9tBrDrF"
      },
      "source": [
        "Uruchom poniższe polecenie (pobieranie obrazu z chmury Google)."
      ]
    },
    {
      "cell_type": "code",
      "metadata": {
        "id": "um8xpncI_t9L"
      },
      "source": [
        "!wget https://storage.googleapis.com/esmartdata-courses-files/ds-bootcamp/ds-bootcamp.jpg"
      ],
      "execution_count": null,
      "outputs": []
    },
    {
      "cell_type": "markdown",
      "metadata": {
        "id": "cyc70pMe1oCg"
      },
      "source": [
        "### <a name='1'></a> Ćwiczenie 241\n",
        "Zaimportuj bibliotekę _opencv_ oraz funkcję _cv2_imshow_ pozwalającą wyświetlić obraz za pomocą biblioteki _opencv_."
      ]
    },
    {
      "cell_type": "code",
      "metadata": {
        "id": "PT4GHrlO_xfW"
      },
      "source": [
        "import cv2\n",
        "from google.colab.patches import cv2_imshow\n",
        "\n",
        "cv2.__version__"
      ],
      "execution_count": null,
      "outputs": []
    },
    {
      "cell_type": "markdown",
      "metadata": {
        "id": "Adr7tlAgEAi3"
      },
      "source": [
        "Wczytaj obraz _ds-bootcamp.jpg_ do tablicy _numpy_ jako obraz w skali szarości wykorzystując bibliotekę _opencv_ i przypisz do zmiennej _img\\_gray_. Wyświetl tablicę."
      ]
    },
    {
      "cell_type": "code",
      "metadata": {
        "id": "UtylBcqDAhYQ"
      },
      "source": [
        "# tutaj wpisz rozwiązanie"
      ],
      "execution_count": null,
      "outputs": []
    },
    {
      "cell_type": "markdown",
      "metadata": {
        "id": "J9pY1rtr1sC0"
      },
      "source": [
        "### <a name='2'></a> Ćwiczenie 242\n",
        "Wyświetl kształt tablicy _img\\_gray_."
      ]
    },
    {
      "cell_type": "code",
      "metadata": {
        "id": "7UJuThU7FXx5"
      },
      "source": [
        "# tutaj wpisz rozwiązanie"
      ],
      "execution_count": null,
      "outputs": []
    },
    {
      "cell_type": "markdown",
      "metadata": {
        "id": "y2imr-HdFbZj"
      },
      "source": [
        "Wyświetl obraz (tablica _img\\_gray_) za pomocą funkcji _cv2\\_imshow_."
      ]
    },
    {
      "cell_type": "code",
      "metadata": {
        "id": "znCZ3tNAFcO8"
      },
      "source": [
        "# tutaj wpisz rozwiązanie"
      ],
      "execution_count": null,
      "outputs": []
    },
    {
      "cell_type": "markdown",
      "metadata": {
        "id": "XQLYT2m11wVG"
      },
      "source": [
        "### <a name='3'></a> Ćwiczenie 243\n",
        "Zaimportuj biblitekę _imutils_. Wykorzystamy ją do zmiany rozmiaru obrazu."
      ]
    },
    {
      "cell_type": "code",
      "metadata": {
        "id": "d0BEUYi4Fw7w"
      },
      "source": [
        "import imutils\n",
        "\n",
        "imutils.__version__"
      ],
      "execution_count": null,
      "outputs": []
    },
    {
      "cell_type": "markdown",
      "metadata": {
        "id": "KMxvLq7NF2H9"
      },
      "source": [
        "Korzystając z funkcji _resize()_ z biblioteki _imutils_ ustaw wysokość obrazu (tablica _img\\_gray_) na 300 pikseli. Zapisz zmiany na trwałe do zmiennej _img\\_gray_. Wyświetl kształt tak otrzymanej tablicy."
      ]
    },
    {
      "cell_type": "code",
      "metadata": {
        "id": "kRTUyEcoF51H"
      },
      "source": [
        "# tutaj wpisz rozwiązanie"
      ],
      "execution_count": null,
      "outputs": []
    },
    {
      "cell_type": "markdown",
      "metadata": {
        "id": "tx5M4jt6F8us"
      },
      "source": [
        "Wyświetl obraz _img\\_gray_ (po pomniejszeniu)."
      ]
    },
    {
      "cell_type": "code",
      "metadata": {
        "id": "Vmhd0WUTGAJi"
      },
      "source": [
        "# tutaj wpisz rozwiązanie"
      ],
      "execution_count": null,
      "outputs": []
    },
    {
      "cell_type": "markdown",
      "metadata": {
        "id": "4xTKSUzg10MK"
      },
      "source": [
        "### <a name='4'></a> Ćwiczenie 244\n",
        "Wczytaj obraz _ds-bootcamp.jpg_ do tablicy _numpy_ jako obraz w kolorze wykorzystując bibliotekę _opencv_ i przypisz do zmiennej _img_. Wyświetl tablicę.\n"
      ]
    },
    {
      "cell_type": "code",
      "metadata": {
        "id": "oaVcJO38GIgu"
      },
      "source": [
        "# tutaj wpisz rozwiązanie"
      ],
      "execution_count": null,
      "outputs": []
    },
    {
      "cell_type": "markdown",
      "metadata": {
        "id": "M8IwW9diG6l3"
      },
      "source": [
        "Wyświetl kształt tablicy _img_."
      ]
    },
    {
      "cell_type": "code",
      "metadata": {
        "id": "u-psXG6VG6Z-"
      },
      "source": [
        "# tutaj wpisz rozwiązanie"
      ],
      "execution_count": null,
      "outputs": []
    },
    {
      "cell_type": "markdown",
      "metadata": {
        "id": "oipn5cd7G_sE"
      },
      "source": [
        "Wyświetl obraz (tablica _img_) za pomocą funkcji _cv2\\_imshow_."
      ]
    },
    {
      "cell_type": "code",
      "metadata": {
        "id": "qxiYVQkDGMZO"
      },
      "source": [
        "# tutaj wpisz rozwiązanie"
      ],
      "execution_count": null,
      "outputs": []
    },
    {
      "cell_type": "markdown",
      "metadata": {
        "id": "o3HKIKlP15Ro"
      },
      "source": [
        "### <a name='5'></a> Ćwiczenie 245\n",
        "Korzystając z funkcji _resize()_ z biblioteki _imutils_ ustaw szerokość obrazu (tablica _img_) na 400 pikseli. Zapisz zmiany na trwałe do zmiennej _img_. Wyświetl kształt tak otrzymanej tablicy."
      ]
    },
    {
      "cell_type": "code",
      "metadata": {
        "id": "a7ondBLDHDXX"
      },
      "source": [
        "# tutaj wpisz rozwiązanie"
      ],
      "execution_count": null,
      "outputs": []
    },
    {
      "cell_type": "markdown",
      "metadata": {
        "id": "P3kogN4THY_g"
      },
      "source": [
        "Wyświetl obraz _img_ (po pomniejszeniu)."
      ]
    },
    {
      "cell_type": "code",
      "metadata": {
        "id": "KoYAirmxHEYe"
      },
      "source": [
        "# tutaj wpisz rozwiązanie"
      ],
      "execution_count": null,
      "outputs": []
    },
    {
      "cell_type": "markdown",
      "metadata": {
        "id": "PunXd_Ey16so"
      },
      "source": [
        "### <a name='6'></a> Ćwiczenie 246\n",
        "Stosując odpowiednie wyciananie tablicy _img_ wytnij (w przybliżeniu) logo języka python z obrazu. Wyświetl wynik."
      ]
    },
    {
      "cell_type": "code",
      "metadata": {
        "id": "40BZsNbtXjvn"
      },
      "source": [
        "# tutaj wpisz rozwiązanie"
      ],
      "execution_count": null,
      "outputs": []
    },
    {
      "cell_type": "markdown",
      "metadata": {
        "id": "hOhqDRz618Tx"
      },
      "source": [
        "### <a name='7'></a> Ćwiczenie 247\n",
        "Wykorzystując funkcję _cv2.copyMakeBorder()_ z biblioteki _opencv_ dodaj obramowanie do obrazu _img_ o szerokości 50 pikseli z każdej strony. Wykorzystaj typ obramowania _cv2.BORDER_REPLICATE_.\n",
        "\n",
        "Więcej na: https://docs.opencv.org/master/d3/df2/tutorial_py_basic_ops.html"
      ]
    },
    {
      "cell_type": "code",
      "metadata": {
        "id": "86UpwudZYdef"
      },
      "source": [
        "# tutaj wpisz rozwiązanie"
      ],
      "execution_count": null,
      "outputs": []
    },
    {
      "cell_type": "markdown",
      "metadata": {
        "id": "TXUd_4631-gw"
      },
      "source": [
        "### <a name='8'></a> Ćwiczenie 248\n",
        "Wykorzystując funkcję _cv2.copyMakeBorder()_ z biblioteki _opencv_ dodaj obramowanie do obrazu _img_ o szerokości 100 pikseli z każdej strony. Wykorzystaj typ obramowania _cv2.BORDER_REFLECT_.\n",
        "\n",
        "Więcej na: https://docs.opencv.org/master/d3/df2/tutorial_py_basic_ops.html"
      ]
    },
    {
      "cell_type": "code",
      "metadata": {
        "id": "Xtq1VSm-ZwjG"
      },
      "source": [
        "# tutaj wpisz rozwiązanie"
      ],
      "execution_count": null,
      "outputs": []
    },
    {
      "cell_type": "markdown",
      "metadata": {
        "id": "tgI6xEn-2AQo"
      },
      "source": [
        "### <a name='9'></a> Ćwiczenie 249\n",
        "\n",
        "Wykorzystując funkcję _cv2.copyMakeBorder()_ z biblioteki _opencv_ dodaj obramowanie do obrazu _img_ o szerokości 100 pikseli z każdej strony. Wykorzystaj typ obramowania _cv2.BORDER_WRAP_.\n",
        "\n",
        "Więcej na: https://docs.opencv.org/master/d3/df2/tutorial_py_basic_ops.html"
      ]
    },
    {
      "cell_type": "code",
      "metadata": {
        "id": "rIjlKQWtaFdq"
      },
      "source": [
        "# tutaj wpisz rozwiązanie"
      ],
      "execution_count": null,
      "outputs": []
    },
    {
      "cell_type": "markdown",
      "metadata": {
        "id": "wxhpf-uq2B1I"
      },
      "source": [
        "### <a name='10'></a> Ćwiczenie 250\n",
        "Wykorzystując funkcję _cv2.rectangle()_ z biblioteki _opencv_ dodaj obramowanie prostokąta do obrazu _img_ otaczającego logo języka python. Ustaw kolor na zielony `color=(0, 255, 0)` oraz grubość na 3 piksele.\n",
        "\n"
      ]
    },
    {
      "cell_type": "code",
      "metadata": {
        "id": "YFc0KW6URsuc"
      },
      "source": [
        "# tutaj wpisz rozwiązanie"
      ],
      "execution_count": null,
      "outputs": []
    },
    {
      "cell_type": "markdown",
      "metadata": {
        "id": "UE606ugpdR1R"
      },
      "source": [
        "Wykorzystując funkcję _cv2.circle()_ z biblioteki _opencv_ dodaj koło do obrazu _img_ zakrywające logo języka python. Ustaw kolor na zielony `color=(0, 255, 0)`."
      ]
    },
    {
      "cell_type": "code",
      "metadata": {
        "id": "wDZ7ekmNbCs_"
      },
      "source": [
        "# tutaj wpisz rozwiązanie"
      ],
      "execution_count": null,
      "outputs": []
    },
    {
      "cell_type": "markdown",
      "metadata": {
        "id": "vlewLKZ1d8Ei"
      },
      "source": [
        "Wykorzystując funkcję _cv2.putText()_ z biblioteki _opencv_ dodaj tekst 'Logo: Python' do obrazu _img_ w lewym górnym rogu. Ustaw położenie tekstu `org=(10, 40)`,  czcionkę na `fontFace=cv2.FONT_HERSHEY_SIMPLEX`, rozmiar czcionki na `fontScale=1.2`, kolor tekstu na żółty `color=(0, 255, 255)` oraz grubość `thickness=5`."
      ]
    },
    {
      "cell_type": "code",
      "metadata": {
        "id": "ai_BOVMtddgb"
      },
      "source": [
        "# tutaj wpisz rozwiązanie"
      ],
      "execution_count": null,
      "outputs": []
    }
  ]
}