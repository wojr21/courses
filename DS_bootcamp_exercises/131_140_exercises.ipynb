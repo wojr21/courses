{
  "nbformat": 4,
  "nbformat_minor": 0,
  "metadata": {
    "colab": {
      "name": "131-140_exercises.ipynb",
      "provenance": [],
      "collapsed_sections": [],
      "include_colab_link": true
    },
    "kernelspec": {
      "name": "python3",
      "display_name": "Python 3"
    }
  },
  "cells": [
    {
      "cell_type": "markdown",
      "metadata": {
        "id": "view-in-github",
        "colab_type": "text"
      },
      "source": [
        "<a href=\"https://colab.research.google.com/github/wojr21/courses/blob/main/DS_bootcamp_exercises/131_140_exercises.ipynb\" target=\"_parent\"><img src=\"https://colab.research.google.com/assets/colab-badge.svg\" alt=\"Open In Colab\"/></a>"
      ]
    },
    {
      "cell_type": "markdown",
      "metadata": {
        "id": "WLEgCW5F1hho"
      },
      "source": [
        "## Pandas\n",
        "\n",
        "### Spis treści:\n",
        "* [Import biblioteki](#0)\n",
        "* [Ćwiczenie 131](#1)\n",
        "* [Ćwiczenie 132](#2)\n",
        "* [Ćwiczenie 133](#3)\n",
        "* [Ćwiczenie 134](#4)\n",
        "* [Ćwiczenie 135](#5)\n",
        "* [Ćwiczenie 136](#6)\n",
        "* [Ćwiczenie 137](#7)\n",
        "* [Ćwiczenie 138](#8)\n",
        "* [Ćwiczenie 139](#9)\n",
        "* [Ćwiczenie 140](#10)"
      ]
    },
    {
      "cell_type": "markdown",
      "metadata": {
        "id": "zeLOLmTj1kBM"
      },
      "source": [
        "### <a name='0'></a>Import biblioteki"
      ]
    },
    {
      "cell_type": "code",
      "metadata": {
        "id": "HXMB7SMe1Wnz"
      },
      "source": [
        "import numpy as np\n",
        "import pandas as pd\n",
        "import seaborn as sns\n",
        "\n",
        "np.__version__\n",
        "sns.set()"
      ],
      "execution_count": null,
      "outputs": []
    },
    {
      "cell_type": "markdown",
      "metadata": {
        "id": "cyc70pMe1oCg"
      },
      "source": [
        "### <a name='1'></a> Ćwiczenie 131\n",
        "Wczytaj plik csv do obiektu DataFrame o nazwie _df_raw_ z domyślnymi parametrami funkcji _pd.read_csv()_ i wyświetl 5 pierwszych wierszy.   \n",
        "Adres url do pliku:\n",
        "* https://ml-repository-krakers.s3-eu-west-1.amazonaws.com/kaggle+/churn_modelling/Telco-Customer-Churn.csv\n"
      ]
    },
    {
      "cell_type": "code",
      "metadata": {
        "id": "Cebphiy9tBFz"
      },
      "source": [
        "# tutaj wpisz rozwiązanie"
      ],
      "execution_count": null,
      "outputs": []
    },
    {
      "cell_type": "markdown",
      "metadata": {
        "id": "1-ipDj53xZam"
      },
      "source": [
        "Skopiuj obiekt _df_raw_ do zmiennej _df_."
      ]
    },
    {
      "cell_type": "code",
      "metadata": {
        "id": "EncNMbiVxVkC"
      },
      "source": [
        "# tutaj wpisz rozwiązanie"
      ],
      "execution_count": null,
      "outputs": []
    },
    {
      "cell_type": "markdown",
      "metadata": {
        "id": "kA_h4Aj3t9Hl"
      },
      "source": [
        "Wyświetl podstawowe informacje na temat obiektu _df_."
      ]
    },
    {
      "cell_type": "code",
      "metadata": {
        "id": "TK8zc5MVuBgN"
      },
      "source": [
        "# tutaj wpisz rozwiązanie"
      ],
      "execution_count": null,
      "outputs": []
    },
    {
      "cell_type": "markdown",
      "metadata": {
        "id": "h-jLxeUnuTRS"
      },
      "source": [
        "Wyznacz liczbę brakujących elementów (_np.nan_) w obiekcie _df_ dla każdej zmiennej."
      ]
    },
    {
      "cell_type": "code",
      "metadata": {
        "id": "xOiU5zakuP14"
      },
      "source": [
        "# tutaj wpisz rozwiązanie"
      ],
      "execution_count": null,
      "outputs": []
    },
    {
      "cell_type": "markdown",
      "metadata": {
        "id": "J9pY1rtr1sC0"
      },
      "source": [
        "### <a name='2'></a> Ćwiczenie 132\n",
        "Zwróć uwagę na kolumnę _TotalCharges_. Typ tej kolumny to _object_. Spróbuj odgadnąć dlaczego tak się stało.\n",
        "\n",
        "__Wskazówka:__\n",
        "Spójrz na rozkład wartości zmiennej."
      ]
    },
    {
      "cell_type": "code",
      "metadata": {
        "id": "9p-tpK3kuL0t"
      },
      "source": [
        "# tutaj wpisz rozwiązanie"
      ],
      "execution_count": null,
      "outputs": []
    },
    {
      "cell_type": "markdown",
      "metadata": {
        "id": "BHK8kTmsu-ea"
      },
      "source": [
        "Zauważ, że na drugim miejscu mamy 11 wartości pustych. Aby lepiej to zobaczyć, patrz poniżej."
      ]
    },
    {
      "cell_type": "code",
      "metadata": {
        "id": "WQQ5F1tju0SN"
      },
      "source": [
        "df['TotalCharges'].value_counts()[:3].index"
      ],
      "execution_count": null,
      "outputs": []
    },
    {
      "cell_type": "markdown",
      "metadata": {
        "id": "MmuVNyq-vI_f"
      },
      "source": [
        "Jest to znak spacji, który wkradł się w nasze dane. Spowodował, że pandas odczytał całą kolumnę jako tekst. Jako analityk musimy z takimi problemami sobie dawać radę. Spróbuj zamienić brakujące wartości kolumny _TotalCharges_ na jej medianę."
      ]
    },
    {
      "cell_type": "code",
      "metadata": {
        "id": "cEz-BvXeviXO"
      },
      "source": [
        "# Obliczenie mediany dla kolumny TotalCharges\n",
        "# tutaj wpisz rozwiązanie\n",
        "\n",
        "# Wypełnienie brakujących wartości medianą\n",
        "# tutaj wpisz rozwiązanie\n",
        "\n",
        "# Konwersja kolumny TotalCharges do typu float\n",
        "# tutaj wpisz rozwiązanie"
      ],
      "execution_count": null,
      "outputs": []
    },
    {
      "cell_type": "markdown",
      "metadata": {
        "id": "JlcM-NbX-fhu"
      },
      "source": [
        "Sprawdź, czy typ został poprawnie zmieniony."
      ]
    },
    {
      "cell_type": "code",
      "metadata": {
        "id": "Bk4dvgm7-dOb"
      },
      "source": [
        "# tutaj wpisz rozwiązanie"
      ],
      "execution_count": null,
      "outputs": []
    },
    {
      "cell_type": "markdown",
      "metadata": {
        "id": "XQLYT2m11wVG"
      },
      "source": [
        "### <a name='3'></a> Ćwiczenie 133\n",
        "Kolumny z poniższej listy _categorical_ przekształć do typu _category_."
      ]
    },
    {
      "cell_type": "code",
      "metadata": {
        "id": "cz5_meXO2JHJ"
      },
      "source": [
        "categorical = ['gender', 'SeniorCitizen', 'Partner', 'Dependents', 'PhoneService', 'MultipleLines', \n",
        "               'InternetService', 'OnlineSecurity', 'OnlineBackup', 'DeviceProtection', 'TechSupport',\n",
        "               'StreamingTV', 'Contract', 'StreamingMovies', 'PaperlessBilling', 'PaymentMethod', 'Churn']\n",
        "\n",
        "# tutaj wpisz rozwiązanie           "
      ],
      "execution_count": null,
      "outputs": []
    },
    {
      "cell_type": "markdown",
      "metadata": {
        "id": "RQdQauBW2jso"
      },
      "source": [
        "Kolumny z poniższej listy _numerical_ przekształć do typu _float_."
      ]
    },
    {
      "cell_type": "code",
      "metadata": {
        "id": "_J9slYoW2lWu"
      },
      "source": [
        "numerical = ['tenure', 'MonthlyCharges']\n",
        "\n",
        "# tutaj wpisz rozwiązanie"
      ],
      "execution_count": null,
      "outputs": []
    },
    {
      "cell_type": "markdown",
      "metadata": {
        "id": "sSowwgDa3BOe"
      },
      "source": [
        "Ustaw kolumnę _customerID_ jako indeks obiektu _df_ oraz wyświetl info o obiekcie _df_."
      ]
    },
    {
      "cell_type": "code",
      "metadata": {
        "id": "ZFmHUHZQ2uuA"
      },
      "source": [
        "# tutaj wpisz rozwiązanie"
      ],
      "execution_count": null,
      "outputs": []
    },
    {
      "cell_type": "markdown",
      "metadata": {
        "id": "4xTKSUzg10MK"
      },
      "source": [
        "### <a name='4'></a> Ćwiczenie 134\n",
        "Użyj meteody _describe()_ do wyświetlenia podstawowych statystyk obiektu _df_."
      ]
    },
    {
      "cell_type": "code",
      "metadata": {
        "id": "9HvZxtwd3ggZ"
      },
      "source": [
        "# tutaj wpisz rozwiązanie"
      ],
      "execution_count": null,
      "outputs": []
    },
    {
      "cell_type": "markdown",
      "metadata": {
        "id": "Uk0N22Lc3iF4"
      },
      "source": [
        "Zauważ, że są to tylko zmienne numeryczne. Wyświetl podstawowe statystyki zmiennych kategorycznych przekazując odpowiedni parametr _include_ metody _describe()_."
      ]
    },
    {
      "cell_type": "code",
      "metadata": {
        "id": "qzRKseCA3pjA"
      },
      "source": [
        "# tutaj wpisz rozwiązanie"
      ],
      "execution_count": null,
      "outputs": []
    },
    {
      "cell_type": "markdown",
      "metadata": {
        "id": "olmS4-V8-vkE"
      },
      "source": [
        "Zauważ, że są to nieco inne statystyki niż dla zmiennych numerycznych."
      ]
    },
    {
      "cell_type": "markdown",
      "metadata": {
        "id": "o3HKIKlP15Ro"
      },
      "source": [
        "### <a name='5'></a> Ćwiczenie 135 \n",
        "Znajdź rozkład wartości zmiennej _Churn_."
      ]
    },
    {
      "cell_type": "code",
      "metadata": {
        "id": "WvJVYEM737OX"
      },
      "source": [
        "# tutaj wpisz rozwiązanie"
      ],
      "execution_count": null,
      "outputs": []
    },
    {
      "cell_type": "markdown",
      "metadata": {
        "id": "uqEvgT6i4ijO"
      },
      "source": [
        "Zbuduj wykres kołowy rozkładu wartości zmiennej _Churn_."
      ]
    },
    {
      "cell_type": "code",
      "metadata": {
        "id": "5gqaaHxE4ZYk"
      },
      "source": [
        "# tutaj wpisz rozwiązanie"
      ],
      "execution_count": null,
      "outputs": []
    },
    {
      "cell_type": "markdown",
      "metadata": {
        "id": "PunXd_Ey16so"
      },
      "source": [
        "### <a name='6'></a> Ćwiczenie 136\n",
        "Zbuduj wykres _pairplot()_ z biblioteki _seaborn_. Przekaż zmienne:\n",
        "* tenure\n",
        "* MonthlyCharges\n",
        "* TotalCharges  \n",
        "\n",
        "\n",
        "oraz parametr: _hue='Churn'_.\n",
        "\n",
        "__Wskazówka:__\n",
        "https://seaborn.pydata.org/generated/seaborn.pairplot.html\n"
      ]
    },
    {
      "cell_type": "code",
      "metadata": {
        "id": "1jflqRZ243aE"
      },
      "source": [
        "# tutaj wpisz rozwiązanie"
      ],
      "execution_count": null,
      "outputs": []
    },
    {
      "cell_type": "markdown",
      "metadata": {
        "id": "hOhqDRz618Tx"
      },
      "source": [
        "### <a name='7'></a> Ćwiczenie 137\n",
        "Dokonaj mapowania kolumny _Churn_ odpowiednio:\n",
        "* 'Yes' -> 1\n",
        "* 'No' -> 0\n",
        "\n",
        "Wyświetl 5 pierwszych wierszy obiektu _df_."
      ]
    },
    {
      "cell_type": "code",
      "metadata": {
        "id": "s4qThf9M54cv"
      },
      "source": [
        "# tutaj wpisz rozwiązanie"
      ],
      "execution_count": null,
      "outputs": []
    },
    {
      "cell_type": "markdown",
      "metadata": {
        "id": "TXUd_4631-gw"
      },
      "source": [
        "### <a name='8'></a> Ćwiczenie 138\n",
        "Wyznacz macierz korelacji dla obiektu _df_."
      ]
    },
    {
      "cell_type": "code",
      "metadata": {
        "id": "_zIiEDAM6hri"
      },
      "source": [
        "# tutaj wpisz rozwiązanie"
      ],
      "execution_count": null,
      "outputs": []
    },
    {
      "cell_type": "markdown",
      "metadata": {
        "id": "tgI6xEn-2AQo"
      },
      "source": [
        "### <a name='9'></a> Ćwiczenie 139\n",
        "Znajdź rozkład zmiennej _PaymentMethod_."
      ]
    },
    {
      "cell_type": "code",
      "metadata": {
        "id": "7Cl8mZ8c7fxD"
      },
      "source": [
        "# tutaj wpisz rozwiązanie"
      ],
      "execution_count": null,
      "outputs": []
    },
    {
      "cell_type": "markdown",
      "metadata": {
        "id": "Qq7yjRIQ8TFI"
      },
      "source": [
        "Pogrupuj dane po zmiennej _PaymentMethod_ i policz średnią wartość dla zmiennej _TotalCharges_."
      ]
    },
    {
      "cell_type": "code",
      "metadata": {
        "id": "dEI3xRPS7pUA"
      },
      "source": [
        "# tutaj wpisz rozwiązanie"
      ],
      "execution_count": null,
      "outputs": []
    },
    {
      "cell_type": "markdown",
      "metadata": {
        "id": "wxhpf-uq2B1I"
      },
      "source": [
        "### <a name='10'></a> Ćwiczenie 140\n",
        "Pobierz próbkę 10-ciu wierszy z obiektu _df_ i zapisz do pliku _sample_10.csv_."
      ]
    },
    {
      "cell_type": "code",
      "metadata": {
        "id": "YFc0KW6URsuc"
      },
      "source": [
        "# tutaj wpisz rozwiązanie"
      ],
      "execution_count": null,
      "outputs": []
    },
    {
      "cell_type": "markdown",
      "metadata": {
        "id": "LX8HKtm6Pt6s"
      },
      "source": [
        "Uruchom poniższą komórkę w celu sprawdzenia."
      ]
    },
    {
      "cell_type": "code",
      "metadata": {
        "id": "Gk0XQ19g8iIt"
      },
      "source": [
        "!cat sample_10.csv"
      ],
      "execution_count": null,
      "outputs": []
    }
  ]
}