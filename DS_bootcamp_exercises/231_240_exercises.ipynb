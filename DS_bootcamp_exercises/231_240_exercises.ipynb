{
  "nbformat": 4,
  "nbformat_minor": 0,
  "metadata": {
    "colab": {
      "name": "231-240_exercises.ipynb",
      "provenance": [],
      "collapsed_sections": [],
      "include_colab_link": true
    },
    "kernelspec": {
      "name": "python3",
      "display_name": "Python 3"
    }
  },
  "cells": [
    {
      "cell_type": "markdown",
      "metadata": {
        "id": "view-in-github",
        "colab_type": "text"
      },
      "source": [
        "<a href=\"https://colab.research.google.com/github/wojr21/courses/blob/main/DS_bootcamp_exercises/231_240_exercises.ipynb\" target=\"_parent\"><img src=\"https://colab.research.google.com/assets/colab-badge.svg\" alt=\"Open In Colab\"/></a>"
      ]
    },
    {
      "cell_type": "markdown",
      "metadata": {
        "id": "WLEgCW5F1hho"
      },
      "source": [
        "## Data Science Bootcamp\n",
        "\n",
        "### Spis treści:\n",
        "* [Import biblioteki](#0)\n",
        "* [Ćwiczenie 231](#1)\n",
        "* [Ćwiczenie 232](#2)\n",
        "* [Ćwiczenie 233](#3)\n",
        "* [Ćwiczenie 234](#4)\n",
        "* [Ćwiczenie 235](#5)\n",
        "* [Ćwiczenie 236](#6)\n",
        "* [Ćwiczenie 237](#7)\n",
        "* [Ćwiczenie 238](#8)\n",
        "* [Ćwiczenie 239](#9)\n",
        "* [Ćwiczenie 240](#10)"
      ]
    },
    {
      "cell_type": "markdown",
      "metadata": {
        "id": "zeLOLmTj1kBM"
      },
      "source": [
        "### <a name='0'></a>Import biblioteki"
      ]
    },
    {
      "cell_type": "code",
      "metadata": {
        "id": "HXMB7SMe1Wnz"
      },
      "source": [
        "import numpy as np\n",
        "import pandas as pd\n",
        "\n",
        "np.__version__"
      ],
      "execution_count": null,
      "outputs": []
    },
    {
      "cell_type": "markdown",
      "metadata": {
        "id": "cyc70pMe1oCg"
      },
      "source": [
        "### <a name='1'></a> Ćwiczenie 231\n",
        "Zaimportuj bibliotekę _tensorflow_ w wersji 2.x."
      ]
    },
    {
      "cell_type": "code",
      "metadata": {
        "id": "5c01I6SE9iMz"
      },
      "source": [
        "%tensorflow_version 2.x\n",
        "import tensorflow as tf\n",
        "\n",
        "tf.__version__"
      ],
      "execution_count": null,
      "outputs": []
    },
    {
      "cell_type": "markdown",
      "metadata": {
        "id": "udKQYS8p947j"
      },
      "source": [
        "Załaduj dane Fashion MNIST wykorzystując bibliotekę _tensorflow_. Odpowiednio zbiór treningowy (_X\\_train_, _y\\_train_) oraz testowy (_X\\_test_, _y\\_test_)."
      ]
    },
    {
      "cell_type": "code",
      "metadata": {
        "id": "7ofBzT9D7OtR"
      },
      "source": [
        "# tutaj wpisz rozwiązanie"
      ],
      "execution_count": null,
      "outputs": []
    },
    {
      "cell_type": "markdown",
      "metadata": {
        "id": "_5k4LJvz-V41"
      },
      "source": [
        "Sprawdź rozmiar zbiorów treningowych i testowych."
      ]
    },
    {
      "cell_type": "code",
      "metadata": {
        "id": "ZVeMJ_aZ-CeF"
      },
      "source": [
        "# tutaj wpisz rozwiązanie"
      ],
      "execution_count": null,
      "outputs": []
    },
    {
      "cell_type": "markdown",
      "metadata": {
        "id": "J9pY1rtr1sC0"
      },
      "source": [
        "### <a name='2'></a> Ćwiczenie 232 \n",
        "Wykorzytując bibliotekę _matplotlib_ wyświetl obraz ze zbioru treningowego z indeksem 40."
      ]
    },
    {
      "cell_type": "code",
      "metadata": {
        "id": "BaHDWvBb-jJO"
      },
      "source": [
        "# tutaj wpisz rozwiązanie"
      ],
      "execution_count": null,
      "outputs": []
    },
    {
      "cell_type": "markdown",
      "metadata": {
        "id": "TkKoRL2s-1v9"
      },
      "source": [
        "Wyświetl numer klasy dla próbki ze zbioru treningowego z ineksem 40."
      ]
    },
    {
      "cell_type": "code",
      "metadata": {
        "id": "EbKo520c-9jy"
      },
      "source": [
        "# tutaj wpisz rozwiązanie"
      ],
      "execution_count": null,
      "outputs": []
    },
    {
      "cell_type": "markdown",
      "metadata": {
        "id": "XQLYT2m11wVG"
      },
      "source": [
        "### <a name='3'></a> Ćwiczenie 233\n",
        "Wystandaryzuj dane. Podziel wartości tablic _X\\_train_ oraz _X\\_test_ przez wartość 255.0."
      ]
    },
    {
      "cell_type": "code",
      "metadata": {
        "id": "xnWZFky_DKbU"
      },
      "source": [
        "# tutaj wpisz rozwiązanie"
      ],
      "execution_count": null,
      "outputs": []
    },
    {
      "cell_type": "markdown",
      "metadata": {
        "id": "4xTKSUzg10MK"
      },
      "source": [
        "### <a name='4'></a> Ćwiczenie 234\n",
        "Zaimportuj klasę _Sequential_ z biblioteki _tensorflow_ wykorzystując pakiet _keras_."
      ]
    },
    {
      "cell_type": "code",
      "metadata": {
        "id": "kUOmpZA3DPS9"
      },
      "source": [
        "# tutaj wpisz rozwiązanie"
      ],
      "execution_count": null,
      "outputs": []
    },
    {
      "cell_type": "markdown",
      "metadata": {
        "id": "iG9Y3gcOFK8u"
      },
      "source": [
        "Zaimportuj warstwy _Flatten_ oraz _Dense_ z biblioteki _tensorflow_ wykorzystując pakiet _keras_."
      ]
    },
    {
      "cell_type": "code",
      "metadata": {
        "id": "NatRczkHFMdl"
      },
      "source": [
        "# tutaj wpisz rozwiązanie"
      ],
      "execution_count": null,
      "outputs": []
    },
    {
      "cell_type": "markdown",
      "metadata": {
        "id": "o3HKIKlP15Ro"
      },
      "source": [
        "### <a name='5'></a> Ćwiczenie 235\n",
        "Zbuduj model klasy _Sequential_."
      ]
    },
    {
      "cell_type": "code",
      "metadata": {
        "id": "Nxl6oimGDf53"
      },
      "source": [
        "# tutaj wpisz rozwiązanie"
      ],
      "execution_count": null,
      "outputs": []
    },
    {
      "cell_type": "markdown",
      "metadata": {
        "id": "eBtEdpmWFZ5U"
      },
      "source": [
        "Dodaj pierwszą warstwę typu _Flatten_ wraz z odpowiednio dobranym parametrem _input_shape_."
      ]
    },
    {
      "cell_type": "code",
      "metadata": {
        "id": "cFWTioPFFYXp"
      },
      "source": [
        "# tutaj wpisz rozwiązanie"
      ],
      "execution_count": null,
      "outputs": []
    },
    {
      "cell_type": "markdown",
      "metadata": {
        "id": "PuwbCbWlFh8v"
      },
      "source": [
        "Dodaj kolejną warstwę typu _Dense_ z 128 neuronami i funkcją aktywacji _relu_."
      ]
    },
    {
      "cell_type": "code",
      "metadata": {
        "id": "VliQveubFr9z"
      },
      "source": [
        "# tutaj wpisz rozwiązanie"
      ],
      "execution_count": null,
      "outputs": []
    },
    {
      "cell_type": "markdown",
      "metadata": {
        "id": "iU5HfJfMFt7L"
      },
      "source": [
        "Dodaj ostatnią warstwę typu _Dense_ z 10 neuronami i funkcją aktywacji _softmax_."
      ]
    },
    {
      "cell_type": "code",
      "metadata": {
        "id": "cf6qF7uIFyrg"
      },
      "source": [
        "# tutaj wpisz rozwiązanie"
      ],
      "execution_count": null,
      "outputs": []
    },
    {
      "cell_type": "markdown",
      "metadata": {
        "id": "slg5RaMuF0hu"
      },
      "source": [
        "Wyświetl podsumowanie modelu."
      ]
    },
    {
      "cell_type": "code",
      "metadata": {
        "id": "opGjZoakFz-P"
      },
      "source": [
        "# tutaj wpisz rozwiązanie"
      ],
      "execution_count": null,
      "outputs": []
    },
    {
      "cell_type": "markdown",
      "metadata": {
        "id": "PunXd_Ey16so"
      },
      "source": [
        "### <a name='6'></a> Ćwiczenie 236\n",
        "Skompiluj model. Wykorzystaj optymalizator _rmsprop_, funkcję straty _sparse_categorical_crossentropy_ oraz metrykę _accuracy_."
      ]
    },
    {
      "cell_type": "code",
      "metadata": {
        "id": "jZ8kQ_kBDuoT"
      },
      "source": [
        "# tutaj wpisz rozwiązanie"
      ],
      "execution_count": null,
      "outputs": []
    },
    {
      "cell_type": "markdown",
      "metadata": {
        "id": "hOhqDRz618Tx"
      },
      "source": [
        "### <a name='7'></a> Ćwiczenie 237\n",
        "Dopasuj model do danych treningowych, ustawiając 10 epok oraz podział na zbiór walidacyjny wynoszący 0.2."
      ]
    },
    {
      "cell_type": "code",
      "metadata": {
        "id": "dfzLV2jKD30J"
      },
      "source": [
        "# tutaj wpisz rozwiązanie"
      ],
      "execution_count": null,
      "outputs": []
    },
    {
      "cell_type": "markdown",
      "metadata": {
        "id": "TXUd_4631-gw"
      },
      "source": [
        "### <a name='8'></a> Ćwiczenie 238\n",
        "Dokonaj predykcji modelu na podstawie danych testowych."
      ]
    },
    {
      "cell_type": "code",
      "metadata": {
        "id": "DTt5x9nWEHdk"
      },
      "source": [
        "# tutaj wpisz rozwiązanie"
      ],
      "execution_count": null,
      "outputs": []
    },
    {
      "cell_type": "markdown",
      "metadata": {
        "id": "PBx5KlxNGeKi"
      },
      "source": [
        "Zbuduj macierz konfuzji (macierz pomyłek)."
      ]
    },
    {
      "cell_type": "code",
      "metadata": {
        "id": "OMTUnA7pEUbY"
      },
      "source": [
        "# tutaj wpisz rozwiązanie"
      ],
      "execution_count": null,
      "outputs": []
    },
    {
      "cell_type": "markdown",
      "metadata": {
        "id": "tgI6xEn-2AQo"
      },
      "source": [
        "### <a name='9'></a> Ćwiczenie 239\n",
        "Zbuduj obiekt pandas _DataFrame_ zawierający predykcje modelu. Nadaj nazwę kolumny _prediction_ i przypisz do zmiennej _results_."
      ]
    },
    {
      "cell_type": "code",
      "metadata": {
        "id": "rgVtSSeLPj3Y"
      },
      "source": [
        "# tutaj wpisz rozwiązanie"
      ],
      "execution_count": null,
      "outputs": []
    },
    {
      "cell_type": "markdown",
      "metadata": {
        "id": "K_Pox4jIRCvs"
      },
      "source": [
        "Przypisz nową kolumnę z wartościami ze zmiennej _y\\_test_ i nazwij ją _y\\_test_."
      ]
    },
    {
      "cell_type": "code",
      "metadata": {
        "id": "7__xhD69Q9uK"
      },
      "source": [
        "# tutaj wpisz rozwiązanie"
      ],
      "execution_count": null,
      "outputs": []
    },
    {
      "cell_type": "markdown",
      "metadata": {
        "id": "fwZMFYpxRwfz"
      },
      "source": [
        "Przypisz nową kolumnę o nazwie _is_misclassified_, która zwróci 1, gdy próbki zostaną błędnie sklasyfikowane, w przeciwnym przypadku 0."
      ]
    },
    {
      "cell_type": "code",
      "metadata": {
        "id": "dTDauRDuRPAf"
      },
      "source": [
        "# tutaj wpisz rozwiązanie"
      ],
      "execution_count": null,
      "outputs": []
    },
    {
      "cell_type": "markdown",
      "metadata": {
        "id": "wxhpf-uq2B1I"
      },
      "source": [
        "### <a name='10'></a> Ćwiczenie 240\n",
        "Zapisz obiekt _results_ do pliku _results.csv_."
      ]
    },
    {
      "cell_type": "code",
      "metadata": {
        "id": "YFc0KW6URsuc"
      },
      "source": [
        "# tutaj wpisz rozwiązanie"
      ],
      "execution_count": null,
      "outputs": []
    },
    {
      "cell_type": "code",
      "metadata": {
        "id": "G8LCyqkdSK-3"
      },
      "source": [
        "!head results.csv"
      ],
      "execution_count": null,
      "outputs": []
    }
  ]
}