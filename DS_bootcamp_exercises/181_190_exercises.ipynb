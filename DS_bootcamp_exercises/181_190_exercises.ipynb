{
  "nbformat": 4,
  "nbformat_minor": 0,
  "metadata": {
    "colab": {
      "name": "181-190_exercises.ipynb",
      "provenance": [],
      "collapsed_sections": [],
      "include_colab_link": true
    },
    "kernelspec": {
      "name": "python3",
      "display_name": "Python 3"
    }
  },
  "cells": [
    {
      "cell_type": "markdown",
      "metadata": {
        "id": "view-in-github",
        "colab_type": "text"
      },
      "source": [
        "<a href=\"https://colab.research.google.com/github/wojr21/courses/blob/main/DS_bootcamp_exercises/181_190_exercises.ipynb\" target=\"_parent\"><img src=\"https://colab.research.google.com/assets/colab-badge.svg\" alt=\"Open In Colab\"/></a>"
      ]
    },
    {
      "cell_type": "markdown",
      "metadata": {
        "id": "WLEgCW5F1hho"
      },
      "source": [
        "## Pandas\n",
        "\n",
        "### Spis treści:\n",
        "* [Import biblioteki](#0)\n",
        "* [Ćwiczenie 181](#1)\n",
        "* [Ćwiczenie 182](#2)\n",
        "* [Ćwiczenie 183](#3)\n",
        "* [Ćwiczenie 184](#4)\n",
        "* [Ćwiczenie 185](#5)\n",
        "* [Ćwiczenie 186](#6)\n",
        "* [Ćwiczenie 187](#7)\n",
        "* [Ćwiczenie 188](#8)\n",
        "* [Ćwiczenie 189](#9)\n",
        "* [Ćwiczenie 190](#10)"
      ]
    },
    {
      "cell_type": "markdown",
      "metadata": {
        "id": "zeLOLmTj1kBM"
      },
      "source": [
        "### <a name='0'></a>Import biblioteki"
      ]
    },
    {
      "cell_type": "code",
      "metadata": {
        "id": "HXMB7SMe1Wnz"
      },
      "source": [
        "import numpy as np\n",
        "import pandas as pd\n",
        "import plotly.express as px\n",
        "\n",
        "np.__version__"
      ],
      "execution_count": null,
      "outputs": []
    },
    {
      "cell_type": "markdown",
      "metadata": {
        "id": "VXPZNJO-tQEo"
      },
      "source": [
        "Uruchom poniższą instrukcję aby pobrać plik _insurance.csv_ do katalogu roboczego."
      ]
    },
    {
      "cell_type": "code",
      "metadata": {
        "id": "w9EBKfc-tUT7"
      },
      "source": [
        "!wget -q https://storage.googleapis.com/esmartdata-courses-files/ml-course/insurance.csv"
      ],
      "execution_count": null,
      "outputs": []
    },
    {
      "cell_type": "markdown",
      "metadata": {
        "id": "cyc70pMe1oCg"
      },
      "source": [
        "### <a name='1'></a> Ćwiczenie 181\n",
        "Wczytaj plik _insurance.csv_ do obiektu DataFrame o nazwie _df_raw_ i wyświetl kilka początkowych wierszy."
      ]
    },
    {
      "cell_type": "code",
      "metadata": {
        "id": "uzd4A1M-u3Gh"
      },
      "source": [
        "# tutaj wpisz rozwiązanie"
      ],
      "execution_count": null,
      "outputs": []
    },
    {
      "cell_type": "markdown",
      "metadata": {
        "id": "oB-yQOtTwTEZ"
      },
      "source": [
        "Skopiuj obiekt _df_raw_ do zmiennej _df_ i wyświetl podstawowe informacje o obiekcie _df_."
      ]
    },
    {
      "cell_type": "code",
      "metadata": {
        "id": "L4qcKxMyvjcl"
      },
      "source": [
        "# tutaj wpisz rozwiązanie"
      ],
      "execution_count": null,
      "outputs": []
    },
    {
      "cell_type": "markdown",
      "metadata": {
        "id": "J9pY1rtr1sC0"
      },
      "source": [
        "### <a name='2'></a> Ćwiczenie 182\n",
        "Sprawdź czy istnieją zduplikowane wiersze w obiekcie _df_. Jeśli tak, wyświetl te wiersze."
      ]
    },
    {
      "cell_type": "code",
      "metadata": {
        "id": "DnXqQ0JTwlB6"
      },
      "source": [
        "# tutaj wpisz rozwiązanie"
      ],
      "execution_count": null,
      "outputs": []
    },
    {
      "cell_type": "markdown",
      "metadata": {
        "id": "iRibagrkxzcD"
      },
      "source": [
        "Usuń duplikaty w obiekcie _df_."
      ]
    },
    {
      "cell_type": "code",
      "metadata": {
        "id": "7MXnQF8nx2UY"
      },
      "source": [
        "# tutaj wpisz rozwiązanie"
      ],
      "execution_count": null,
      "outputs": []
    },
    {
      "cell_type": "markdown",
      "metadata": {
        "id": "XQLYT2m11wVG"
      },
      "source": [
        "### <a name='3'></a> Ćwiczenie 183\n",
        "Wyświetl z obiektu _df_ zmienne z typem _object_.\n",
        "\n",
        "__Wskazówka:__ Użyj metody _pd.DataFrame.select_dtypes()_"
      ]
    },
    {
      "cell_type": "code",
      "metadata": {
        "id": "pMllWvkLx_yV"
      },
      "source": [
        "# tutaj wpisz rozwiązanie"
      ],
      "execution_count": null,
      "outputs": []
    },
    {
      "cell_type": "markdown",
      "metadata": {
        "id": "9LncN3f8zZPS"
      },
      "source": [
        "Przekształć te zmienne do zmiennych kategorycznych.\n",
        "\n",
        "__Wskazówka:__ Użyj metody _pd.DataFrame.astype()_."
      ]
    },
    {
      "cell_type": "code",
      "metadata": {
        "id": "4qIKlVjwzfLW"
      },
      "source": [
        "# tutaj wpisz rozwiązanie"
      ],
      "execution_count": null,
      "outputs": []
    },
    {
      "cell_type": "markdown",
      "metadata": {
        "id": "gKBOdQkOyX8s"
      },
      "source": [
        "Wyświetl z obiektu _df_ zmienne numeryczne (_float_, _int_).\n",
        "\n",
        "__Wskazówka:__ Użyj metody _pd.DataFrame.select_dtypes()_"
      ]
    },
    {
      "cell_type": "code",
      "metadata": {
        "id": "OmAgkI6oyalq"
      },
      "source": [
        "# tutaj wpisz rozwiązanie"
      ],
      "execution_count": null,
      "outputs": []
    },
    {
      "cell_type": "markdown",
      "metadata": {
        "id": "K4yf3gtQysr0"
      },
      "source": [
        "Znajdź nazwy zmiennych numerycznych (_float_, _int_) z obiektu _df_."
      ]
    },
    {
      "cell_type": "code",
      "metadata": {
        "id": "A2cVEC3uy4x1"
      },
      "source": [
        "# tutaj wpisz rozwiązanie"
      ],
      "execution_count": null,
      "outputs": []
    },
    {
      "cell_type": "markdown",
      "metadata": {
        "id": "4xTKSUzg10MK"
      },
      "source": [
        "### <a name='4'></a> Ćwiczenie 184\n",
        "\n",
        "Wykonaj poniższe kroki:\n",
        "\n",
        "* przypisz do zmiennej _df_cat_ zmienne kategoryczne z obiektu _df_ i utwórz ich kopię.\n",
        "\n",
        "* przypisz do zmiennej _df_num_ zmienne numeryczne z obiektu _df_ i utwórz ich kopię."
      ]
    },
    {
      "cell_type": "code",
      "metadata": {
        "id": "OWsT3szd0X1r"
      },
      "source": [
        "# tutaj wpisz rozwiązanie"
      ],
      "execution_count": null,
      "outputs": []
    },
    {
      "cell_type": "markdown",
      "metadata": {
        "id": "_zWq_z1z1FYN"
      },
      "source": [
        "Wyświetl 5 pierwszych wierszy obiektu _df_cat_."
      ]
    },
    {
      "cell_type": "code",
      "metadata": {
        "id": "IAItkSW10qpr"
      },
      "source": [
        "# tutaj wpisz rozwiązanie"
      ],
      "execution_count": null,
      "outputs": []
    },
    {
      "cell_type": "markdown",
      "metadata": {
        "id": "uOCXSEuZ1MBw"
      },
      "source": [
        "Wyświetl 5 pierwszych wierszy obiektu _df_num_."
      ]
    },
    {
      "cell_type": "code",
      "metadata": {
        "id": "D4XjZLaq0sQq"
      },
      "source": [
        "# tutaj wpisz rozwiązanie"
      ],
      "execution_count": null,
      "outputs": []
    },
    {
      "cell_type": "markdown",
      "metadata": {
        "id": "o3HKIKlP15Ro"
      },
      "source": [
        "### <a name='5'></a> Ćwiczenie 185\n",
        "Wyświetl podstawowe statystyki obiektu _df_cat_."
      ]
    },
    {
      "cell_type": "code",
      "metadata": {
        "id": "WWPQvLJA1OM2"
      },
      "source": [
        "# tutaj wpisz rozwiązanie"
      ],
      "execution_count": null,
      "outputs": []
    },
    {
      "cell_type": "markdown",
      "metadata": {
        "id": "lwJGhrRjuLvF"
      },
      "source": [
        "Wyświetl podstawowe statystyki obiektu _df_num_."
      ]
    },
    {
      "cell_type": "code",
      "metadata": {
        "id": "DVVEm0MquEA3"
      },
      "source": [
        "# tutaj wpisz rozwiązanie"
      ],
      "execution_count": null,
      "outputs": []
    },
    {
      "cell_type": "markdown",
      "metadata": {
        "id": "PunXd_Ey16so"
      },
      "source": [
        "### <a name='6'></a> Ćwiczenie 186\n",
        "Wyświetl podstawowe statystyki obiektu _df_ dla zmiennych numerycznych i dokonaj transponowania otrzymanego obiektu _DataFrame_."
      ]
    },
    {
      "cell_type": "code",
      "metadata": {
        "id": "komkmBIz1Yim"
      },
      "source": [
        "# tutaj wpisz rozwiązanie"
      ],
      "execution_count": null,
      "outputs": []
    },
    {
      "cell_type": "markdown",
      "metadata": {
        "id": "XcBK2YN8uV60"
      },
      "source": [
        "Wyświetl podstawowe statystyki obiektu _df_ dla zmiennych numerycznych, dokonaj transponowania otrzymanego obiektu _DataFrame_ i wytnij dwie columny _mean_ i _std_."
      ]
    },
    {
      "cell_type": "code",
      "metadata": {
        "id": "qbTh9_UuuTkt"
      },
      "source": [
        "# tutaj wpisz rozwiązanie"
      ],
      "execution_count": null,
      "outputs": []
    },
    {
      "cell_type": "markdown",
      "metadata": {
        "id": "El9QOz7L11b4"
      },
      "source": [
        "Wyświetl podstawowe statystyki obiektu _df_ dla zmiennych kategorycznych i dokonaj transponowania otrzymanego obiektu _DataFrame_."
      ]
    },
    {
      "cell_type": "code",
      "metadata": {
        "id": "TZzzpOPN1yTo"
      },
      "source": [
        "# tutaj wpisz rozwiązanie"
      ],
      "execution_count": null,
      "outputs": []
    },
    {
      "cell_type": "markdown",
      "metadata": {
        "id": "xCvN5H1p13r8"
      },
      "source": [
        "Sprawdź, czy są jakieś braki danych w obiekcie _df_."
      ]
    },
    {
      "cell_type": "code",
      "metadata": {
        "id": "bcc_LUUU18vU"
      },
      "source": [
        "# tutaj wpisz rozwiązanie"
      ],
      "execution_count": null,
      "outputs": []
    },
    {
      "cell_type": "markdown",
      "metadata": {
        "id": "y1GfPwXz1u0r"
      },
      "source": [
        "### <a name='6'></a> Ćwiczenie 186\n",
        "Wykorzystując bibliotekę _plotly express_ zbuduj histogram zmiennej _charges_.\n",
        "\n",
        "Użyj funkcji _px.histogram()_ z następującymi parametrami: \n",
        "* width=800\n",
        "* height=400\n",
        "* nbins=50\n",
        "* facet_col='smoker'\n",
        "* facet_row='sex'"
      ]
    },
    {
      "cell_type": "code",
      "metadata": {
        "id": "KlwQcOfR2HgC"
      },
      "source": [
        "# tutaj wpisz rozwiązanie"
      ],
      "execution_count": null,
      "outputs": []
    },
    {
      "cell_type": "markdown",
      "metadata": {
        "id": "uFb_sr7a29NI"
      },
      "source": [
        "Wykorzystując bibliotekę _plotly express_ znajdź rozkład zmiennej _smoker_.\n",
        "\n",
        "Użyj funkcji _px.histogram()_ z następującymi parametrami: \n",
        "* width=800\n",
        "* height=400\n",
        "* facet_col='sex'\n",
        "* color='sex'"
      ]
    },
    {
      "cell_type": "code",
      "metadata": {
        "id": "-LAbxElk2Kw0"
      },
      "source": [
        "# tutaj wpisz rozwiązanie"
      ],
      "execution_count": null,
      "outputs": []
    },
    {
      "cell_type": "markdown",
      "metadata": {
        "id": "hOhqDRz618Tx"
      },
      "source": [
        "### <a name='7'></a> Ćwiczenie 187\n",
        "Skonwertuj zmienne kategoryczne obietku _df_ do kodowania 0-1 i przypisz do zmiennej _df_dummies_.\n",
        "\n",
        "__Wskazówka:__ Użyj funkcji _pd.get_dummies()_ z parametrem _drop_first=True_."
      ]
    },
    {
      "cell_type": "code",
      "metadata": {
        "id": "nyj0laIn3Qjt"
      },
      "source": [
        "# tutaj wpisz rozwiązanie"
      ],
      "execution_count": null,
      "outputs": []
    },
    {
      "cell_type": "markdown",
      "metadata": {
        "id": "TXUd_4631-gw"
      },
      "source": [
        "### <a name='8'></a> Ćwiczenie 188\n",
        "Wyznacz korelacje zmiennych w obiekcie _df_dummies_ i przypisz do zmiennej _corr_."
      ]
    },
    {
      "cell_type": "code",
      "metadata": {
        "id": "bqBxK4p0FAUG"
      },
      "source": [
        "# tutaj wpisz rozwiązanie"
      ],
      "execution_count": null,
      "outputs": []
    },
    {
      "cell_type": "markdown",
      "metadata": {
        "id": "Dj8PoK7PFc7O"
      },
      "source": [
        "Wytnij kolumnę z obiektu _corr_ dla zmiennej _charges_ (jako obiekt DataFrame) i posortuj wartości malejąco."
      ]
    },
    {
      "cell_type": "code",
      "metadata": {
        "id": "usONj-CvFKt5"
      },
      "source": [
        "# tutaj wpisz rozwiązanie"
      ],
      "execution_count": null,
      "outputs": []
    },
    {
      "cell_type": "markdown",
      "metadata": {
        "id": "I0gecEcmGAhm"
      },
      "source": [
        "Wykorzystując bibliotekę _plotly express_ utwórz wykres słupkowy dla tak posortowanych wartości. Pomiń pierwszy element obiektu."
      ]
    },
    {
      "cell_type": "code",
      "metadata": {
        "id": "WNg-D09lFv87"
      },
      "source": [
        "# tutaj wpisz rozwiązanie"
      ],
      "execution_count": null,
      "outputs": []
    },
    {
      "cell_type": "markdown",
      "metadata": {
        "id": "tgI6xEn-2AQo"
      },
      "source": [
        "### <a name='9'></a> Ćwiczenie 189\n",
        "Skopiuj obiekt _df_dummies_ do zmiennej _data_. Następnie wyrwij z tego obiektu kolumnę _charges_ i przypisz do zmiennej _target_."
      ]
    },
    {
      "cell_type": "code",
      "metadata": {
        "id": "IZnJJpDsGqee"
      },
      "source": [
        "# tutaj wpisz rozwiązanie"
      ],
      "execution_count": null,
      "outputs": []
    },
    {
      "cell_type": "markdown",
      "metadata": {
        "id": "Eyr22-22HOiW"
      },
      "source": [
        "Wyświetl 5 pierwszych wierszy obiektu _data_. Upewnij się, że nie ma w nim kolumny _charges_."
      ]
    },
    {
      "cell_type": "code",
      "metadata": {
        "id": "7GHl4m1PHLaE"
      },
      "source": [
        "# tutaj wpisz rozwiązanie"
      ],
      "execution_count": null,
      "outputs": []
    },
    {
      "cell_type": "markdown",
      "metadata": {
        "id": "dRjx1jqLHWvl"
      },
      "source": [
        "Wyświetl 5 pierwszych wierszy obiektu _target_."
      ]
    },
    {
      "cell_type": "code",
      "metadata": {
        "id": "BwVR7LB-HMvH"
      },
      "source": [
        "# tutaj wpisz rozwiązanie"
      ],
      "execution_count": null,
      "outputs": []
    },
    {
      "cell_type": "markdown",
      "metadata": {
        "id": "wxhpf-uq2B1I"
      },
      "source": [
        "### <a name='10'></a> Ćwiczenie 190\n",
        "Wykorzystując bibliotekę _scikit-learn_ oraz funkcję _train_test_split_ podziel dane z obiektów _data_ i _target_ na zbiór treningowy (_X\\_train_, _y\\_train_) oraz zbiór testowy (_X\\_test_, _y\\_test_). Do zbioru testowego przydziel 20% próbek. \n",
        "\n",
        "Wyświetl rozmiar obiektów:\n",
        "* _X\\_train_\n",
        "* _X\\_test_\n",
        "* _y\\_train_\n",
        "* _y\\_test_"
      ]
    },
    {
      "cell_type": "code",
      "metadata": {
        "id": "YFc0KW6URsuc"
      },
      "source": [
        "# tutaj wpisz rozwiązanie"
      ],
      "execution_count": null,
      "outputs": []
    },
    {
      "cell_type": "markdown",
      "metadata": {
        "id": "DHJYJciXIc4T"
      },
      "source": [
        "Zapisz obiekty:\n",
        "* _X\\_train_\n",
        "* _X\\_test_\n",
        "* _y\\_train_\n",
        "* _y\\_test_  \n",
        "\n",
        "do plików csv odpowiednio o nazwie:\n",
        "* X_train.csv\n",
        "* X_test.csv\n",
        "* y_train.csv\n",
        "* y_test.csv\n"
      ]
    },
    {
      "cell_type": "code",
      "metadata": {
        "id": "htp6CUQCHpY2"
      },
      "source": [
        "# tutaj wpisz rozwiązanie"
      ],
      "execution_count": null,
      "outputs": []
    },
    {
      "cell_type": "markdown",
      "metadata": {
        "id": "6mmlqoNqvSti"
      },
      "source": [
        "Uruchom poniższą komórkę w celu sprawdzenia."
      ]
    },
    {
      "cell_type": "code",
      "metadata": {
        "id": "wAnjGM16JOBB"
      },
      "source": [
        "!head -5 X_test.csv\n",
        "!head -5 X_train.csv\n",
        "!head -5 y_train.csv\n",
        "!head -5 y_test.csv"
      ],
      "execution_count": null,
      "outputs": []
    }
  ]
}