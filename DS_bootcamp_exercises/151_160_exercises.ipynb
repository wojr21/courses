{
  "nbformat": 4,
  "nbformat_minor": 0,
  "metadata": {
    "colab": {
      "name": "151-160_exercises.ipynb",
      "provenance": [],
      "collapsed_sections": [],
      "include_colab_link": true
    },
    "kernelspec": {
      "name": "python3",
      "display_name": "Python 3"
    }
  },
  "cells": [
    {
      "cell_type": "markdown",
      "metadata": {
        "id": "view-in-github",
        "colab_type": "text"
      },
      "source": [
        "<a href=\"https://colab.research.google.com/github/wojr21/courses/blob/main/DS_bootcamp_exercises/151_160_exercises.ipynb\" target=\"_parent\"><img src=\"https://colab.research.google.com/assets/colab-badge.svg\" alt=\"Open In Colab\"/></a>"
      ]
    },
    {
      "cell_type": "markdown",
      "metadata": {
        "id": "WLEgCW5F1hho"
      },
      "source": [
        "## Pandas\n",
        "\n",
        "### Spis treści:\n",
        "* [Import biblioteki](#0)\n",
        "* [Ćwiczenie 151](#1)\n",
        "* [Ćwiczenie 152](#2)\n",
        "* [Ćwiczenie 153](#3)\n",
        "* [Ćwiczenie 154](#4)\n",
        "* [Ćwiczenie 155](#5)\n",
        "* [Ćwiczenie 156](#6)\n",
        "* [Ćwiczenie 157](#7)\n",
        "* [Ćwiczenie 158](#8)\n",
        "* [Ćwiczenie 159](#9)\n",
        "* [Ćwiczenie 160](#10)"
      ]
    },
    {
      "cell_type": "markdown",
      "metadata": {
        "id": "zeLOLmTj1kBM"
      },
      "source": [
        "### <a name='0'></a>Import biblioteki"
      ]
    },
    {
      "cell_type": "code",
      "metadata": {
        "id": "HXMB7SMe1Wnz",
        "outputId": "fa2fe1a1-1646-4465-912b-d842d80a55ae",
        "colab": {
          "base_uri": "https://localhost:8080/",
          "height": 35
        }
      },
      "source": [
        "import numpy as np\n",
        "import pandas as pd\n",
        "\n",
        "np.random.seed(42)\n",
        "np.__version__"
      ],
      "execution_count": 1,
      "outputs": [
        {
          "output_type": "execute_result",
          "data": {
            "application/vnd.google.colaboratory.intrinsic+json": {
              "type": "string"
            },
            "text/plain": [
              "'1.19.4'"
            ]
          },
          "metadata": {
            "tags": []
          },
          "execution_count": 1
        }
      ]
    },
    {
      "cell_type": "markdown",
      "metadata": {
        "id": "cyc70pMe1oCg"
      },
      "source": [
        "### <a name='1'></a> Ćwiczenie 151\n",
        "Podany jest poniższy obiekt _DataFrame:_\n",
        "\n",
        "```\n",
        "df = pd.DataFrame(np.random.rand(10, 4), columns=list('ABCD'))\n",
        "```\n",
        "\n"
      ]
    },
    {
      "cell_type": "code",
      "metadata": {
        "id": "bWjQeELjwg2x",
        "outputId": "249387e1-34f7-4299-88df-6dad57f2ce4c",
        "colab": {
          "base_uri": "https://localhost:8080/",
          "height": 347
        }
      },
      "source": [
        "df = pd.DataFrame(np.random.rand(10, 4), columns=list('ABCD'))\r\n",
        "df"
      ],
      "execution_count": 2,
      "outputs": [
        {
          "output_type": "execute_result",
          "data": {
            "text/html": [
              "<div>\n",
              "<style scoped>\n",
              "    .dataframe tbody tr th:only-of-type {\n",
              "        vertical-align: middle;\n",
              "    }\n",
              "\n",
              "    .dataframe tbody tr th {\n",
              "        vertical-align: top;\n",
              "    }\n",
              "\n",
              "    .dataframe thead th {\n",
              "        text-align: right;\n",
              "    }\n",
              "</style>\n",
              "<table border=\"1\" class=\"dataframe\">\n",
              "  <thead>\n",
              "    <tr style=\"text-align: right;\">\n",
              "      <th></th>\n",
              "      <th>A</th>\n",
              "      <th>B</th>\n",
              "      <th>C</th>\n",
              "      <th>D</th>\n",
              "    </tr>\n",
              "  </thead>\n",
              "  <tbody>\n",
              "    <tr>\n",
              "      <th>0</th>\n",
              "      <td>0.374540</td>\n",
              "      <td>0.950714</td>\n",
              "      <td>0.731994</td>\n",
              "      <td>0.598658</td>\n",
              "    </tr>\n",
              "    <tr>\n",
              "      <th>1</th>\n",
              "      <td>0.156019</td>\n",
              "      <td>0.155995</td>\n",
              "      <td>0.058084</td>\n",
              "      <td>0.866176</td>\n",
              "    </tr>\n",
              "    <tr>\n",
              "      <th>2</th>\n",
              "      <td>0.601115</td>\n",
              "      <td>0.708073</td>\n",
              "      <td>0.020584</td>\n",
              "      <td>0.969910</td>\n",
              "    </tr>\n",
              "    <tr>\n",
              "      <th>3</th>\n",
              "      <td>0.832443</td>\n",
              "      <td>0.212339</td>\n",
              "      <td>0.181825</td>\n",
              "      <td>0.183405</td>\n",
              "    </tr>\n",
              "    <tr>\n",
              "      <th>4</th>\n",
              "      <td>0.304242</td>\n",
              "      <td>0.524756</td>\n",
              "      <td>0.431945</td>\n",
              "      <td>0.291229</td>\n",
              "    </tr>\n",
              "    <tr>\n",
              "      <th>5</th>\n",
              "      <td>0.611853</td>\n",
              "      <td>0.139494</td>\n",
              "      <td>0.292145</td>\n",
              "      <td>0.366362</td>\n",
              "    </tr>\n",
              "    <tr>\n",
              "      <th>6</th>\n",
              "      <td>0.456070</td>\n",
              "      <td>0.785176</td>\n",
              "      <td>0.199674</td>\n",
              "      <td>0.514234</td>\n",
              "    </tr>\n",
              "    <tr>\n",
              "      <th>7</th>\n",
              "      <td>0.592415</td>\n",
              "      <td>0.046450</td>\n",
              "      <td>0.607545</td>\n",
              "      <td>0.170524</td>\n",
              "    </tr>\n",
              "    <tr>\n",
              "      <th>8</th>\n",
              "      <td>0.065052</td>\n",
              "      <td>0.948886</td>\n",
              "      <td>0.965632</td>\n",
              "      <td>0.808397</td>\n",
              "    </tr>\n",
              "    <tr>\n",
              "      <th>9</th>\n",
              "      <td>0.304614</td>\n",
              "      <td>0.097672</td>\n",
              "      <td>0.684233</td>\n",
              "      <td>0.440152</td>\n",
              "    </tr>\n",
              "  </tbody>\n",
              "</table>\n",
              "</div>"
            ],
            "text/plain": [
              "          A         B         C         D\n",
              "0  0.374540  0.950714  0.731994  0.598658\n",
              "1  0.156019  0.155995  0.058084  0.866176\n",
              "2  0.601115  0.708073  0.020584  0.969910\n",
              "3  0.832443  0.212339  0.181825  0.183405\n",
              "4  0.304242  0.524756  0.431945  0.291229\n",
              "5  0.611853  0.139494  0.292145  0.366362\n",
              "6  0.456070  0.785176  0.199674  0.514234\n",
              "7  0.592415  0.046450  0.607545  0.170524\n",
              "8  0.065052  0.948886  0.965632  0.808397\n",
              "9  0.304614  0.097672  0.684233  0.440152"
            ]
          },
          "metadata": {
            "tags": []
          },
          "execution_count": 2
        }
      ]
    },
    {
      "cell_type": "markdown",
      "metadata": {
        "id": "dHfnUR5jxzxe"
      },
      "source": [
        "Wytnij wiersze obiektu _df_ dla których kolumna _C_ jest większa niż 0.8.  \n",
        "Pomocniczo: Analogicznie jak w jezyku SQL poniższe zapytanie:\n",
        "\n",
        "\n",
        "```\n",
        "SELECT * FROM df WHERE C > 0.8\n",
        "```\n",
        "\n"
      ]
    },
    {
      "cell_type": "code",
      "metadata": {
        "id": "hZkMl5_jxlG6",
        "outputId": "928c0c83-3511-4b78-f74a-5055447a8a08",
        "colab": {
          "base_uri": "https://localhost:8080/",
          "height": 77
        }
      },
      "source": [
        "df[df['C'] > 0.8]"
      ],
      "execution_count": 3,
      "outputs": [
        {
          "output_type": "execute_result",
          "data": {
            "text/html": [
              "<div>\n",
              "<style scoped>\n",
              "    .dataframe tbody tr th:only-of-type {\n",
              "        vertical-align: middle;\n",
              "    }\n",
              "\n",
              "    .dataframe tbody tr th {\n",
              "        vertical-align: top;\n",
              "    }\n",
              "\n",
              "    .dataframe thead th {\n",
              "        text-align: right;\n",
              "    }\n",
              "</style>\n",
              "<table border=\"1\" class=\"dataframe\">\n",
              "  <thead>\n",
              "    <tr style=\"text-align: right;\">\n",
              "      <th></th>\n",
              "      <th>A</th>\n",
              "      <th>B</th>\n",
              "      <th>C</th>\n",
              "      <th>D</th>\n",
              "    </tr>\n",
              "  </thead>\n",
              "  <tbody>\n",
              "    <tr>\n",
              "      <th>8</th>\n",
              "      <td>0.065052</td>\n",
              "      <td>0.948886</td>\n",
              "      <td>0.965632</td>\n",
              "      <td>0.808397</td>\n",
              "    </tr>\n",
              "  </tbody>\n",
              "</table>\n",
              "</div>"
            ],
            "text/plain": [
              "          A         B         C         D\n",
              "8  0.065052  0.948886  0.965632  0.808397"
            ]
          },
          "metadata": {
            "tags": []
          },
          "execution_count": 3
        }
      ]
    },
    {
      "cell_type": "markdown",
      "metadata": {
        "id": "J9pY1rtr1sC0"
      },
      "source": [
        "### <a name='2'></a> Ćwiczenie 152\n",
        "\n",
        "Wytnij wiersze obiektu _df_ dla których kolumna _C_ jest większa niż 0.3 oraz kolumna _D_ jest mniejsza niż 0.7. "
      ]
    },
    {
      "cell_type": "code",
      "metadata": {
        "id": "X-Pn6X-CyjC4",
        "outputId": "e523cfeb-77e9-43ef-efa8-0e6f199d0326",
        "colab": {
          "base_uri": "https://localhost:8080/",
          "height": 167
        }
      },
      "source": [
        "df[(df['C'] > 0.3) & (df['D'] < 0.7)]"
      ],
      "execution_count": 4,
      "outputs": [
        {
          "output_type": "execute_result",
          "data": {
            "text/html": [
              "<div>\n",
              "<style scoped>\n",
              "    .dataframe tbody tr th:only-of-type {\n",
              "        vertical-align: middle;\n",
              "    }\n",
              "\n",
              "    .dataframe tbody tr th {\n",
              "        vertical-align: top;\n",
              "    }\n",
              "\n",
              "    .dataframe thead th {\n",
              "        text-align: right;\n",
              "    }\n",
              "</style>\n",
              "<table border=\"1\" class=\"dataframe\">\n",
              "  <thead>\n",
              "    <tr style=\"text-align: right;\">\n",
              "      <th></th>\n",
              "      <th>A</th>\n",
              "      <th>B</th>\n",
              "      <th>C</th>\n",
              "      <th>D</th>\n",
              "    </tr>\n",
              "  </thead>\n",
              "  <tbody>\n",
              "    <tr>\n",
              "      <th>0</th>\n",
              "      <td>0.374540</td>\n",
              "      <td>0.950714</td>\n",
              "      <td>0.731994</td>\n",
              "      <td>0.598658</td>\n",
              "    </tr>\n",
              "    <tr>\n",
              "      <th>4</th>\n",
              "      <td>0.304242</td>\n",
              "      <td>0.524756</td>\n",
              "      <td>0.431945</td>\n",
              "      <td>0.291229</td>\n",
              "    </tr>\n",
              "    <tr>\n",
              "      <th>7</th>\n",
              "      <td>0.592415</td>\n",
              "      <td>0.046450</td>\n",
              "      <td>0.607545</td>\n",
              "      <td>0.170524</td>\n",
              "    </tr>\n",
              "    <tr>\n",
              "      <th>9</th>\n",
              "      <td>0.304614</td>\n",
              "      <td>0.097672</td>\n",
              "      <td>0.684233</td>\n",
              "      <td>0.440152</td>\n",
              "    </tr>\n",
              "  </tbody>\n",
              "</table>\n",
              "</div>"
            ],
            "text/plain": [
              "          A         B         C         D\n",
              "0  0.374540  0.950714  0.731994  0.598658\n",
              "4  0.304242  0.524756  0.431945  0.291229\n",
              "7  0.592415  0.046450  0.607545  0.170524\n",
              "9  0.304614  0.097672  0.684233  0.440152"
            ]
          },
          "metadata": {
            "tags": []
          },
          "execution_count": 4
        }
      ]
    },
    {
      "cell_type": "markdown",
      "metadata": {
        "id": "XQLYT2m11wVG"
      },
      "source": [
        "### <a name='3'></a> Ćwiczenie 153\n",
        "Dokonaj iteracji po pierwszych pięciu wierszach obiektu _df_. Każdy wiersz wydrukuj do konsoli.\n",
        "\n",
        "__Wskazówka:__ Wykorzystaj funkcję _pd.DataFrame.iterrows()_."
      ]
    },
    {
      "cell_type": "code",
      "metadata": {
        "id": "87L3OusazWgG",
        "outputId": "86d3cfd7-6411-46f4-b08a-84804de7d55c",
        "colab": {
          "base_uri": "https://localhost:8080/"
        }
      },
      "source": [
        "for index, row in df[:5].iterrows():\r\n",
        "  print(row)"
      ],
      "execution_count": 15,
      "outputs": [
        {
          "output_type": "stream",
          "text": [
            "A    0.374540\n",
            "B    0.950714\n",
            "C    0.731994\n",
            "D    0.598658\n",
            "Name: 0, dtype: float64\n",
            "A    0.156019\n",
            "B    0.155995\n",
            "C    0.058084\n",
            "D    0.866176\n",
            "Name: 1, dtype: float64\n",
            "A    0.601115\n",
            "B    0.708073\n",
            "C    0.020584\n",
            "D    0.969910\n",
            "Name: 2, dtype: float64\n",
            "A    0.832443\n",
            "B    0.212339\n",
            "C    0.181825\n",
            "D    0.183405\n",
            "Name: 3, dtype: float64\n",
            "A    0.304242\n",
            "B    0.524756\n",
            "C    0.431945\n",
            "D    0.291229\n",
            "Name: 4, dtype: float64\n"
          ],
          "name": "stdout"
        }
      ]
    },
    {
      "cell_type": "markdown",
      "metadata": {
        "id": "4xTKSUzg10MK"
      },
      "source": [
        "### <a name='4'></a> Ćwiczenie 154\n",
        "Ustaw wartość w wierszu o indeksie 3 dla kolumny B jako _np.nan_.\n",
        "Wykorzystaj _df.iloc_."
      ]
    },
    {
      "cell_type": "code",
      "metadata": {
        "id": "Ji4FS2866kSE",
        "outputId": "ed56ffac-f854-4a02-b31c-0fd027c04653",
        "colab": {
          "base_uri": "https://localhost:8080/",
          "height": 347
        }
      },
      "source": [
        "df.iloc[3, 1] = np.nan\r\n",
        "df"
      ],
      "execution_count": 17,
      "outputs": [
        {
          "output_type": "execute_result",
          "data": {
            "text/html": [
              "<div>\n",
              "<style scoped>\n",
              "    .dataframe tbody tr th:only-of-type {\n",
              "        vertical-align: middle;\n",
              "    }\n",
              "\n",
              "    .dataframe tbody tr th {\n",
              "        vertical-align: top;\n",
              "    }\n",
              "\n",
              "    .dataframe thead th {\n",
              "        text-align: right;\n",
              "    }\n",
              "</style>\n",
              "<table border=\"1\" class=\"dataframe\">\n",
              "  <thead>\n",
              "    <tr style=\"text-align: right;\">\n",
              "      <th></th>\n",
              "      <th>A</th>\n",
              "      <th>B</th>\n",
              "      <th>C</th>\n",
              "      <th>D</th>\n",
              "    </tr>\n",
              "  </thead>\n",
              "  <tbody>\n",
              "    <tr>\n",
              "      <th>0</th>\n",
              "      <td>0.374540</td>\n",
              "      <td>0.950714</td>\n",
              "      <td>0.731994</td>\n",
              "      <td>0.598658</td>\n",
              "    </tr>\n",
              "    <tr>\n",
              "      <th>1</th>\n",
              "      <td>0.156019</td>\n",
              "      <td>0.155995</td>\n",
              "      <td>0.058084</td>\n",
              "      <td>0.866176</td>\n",
              "    </tr>\n",
              "    <tr>\n",
              "      <th>2</th>\n",
              "      <td>0.601115</td>\n",
              "      <td>0.708073</td>\n",
              "      <td>0.020584</td>\n",
              "      <td>0.969910</td>\n",
              "    </tr>\n",
              "    <tr>\n",
              "      <th>3</th>\n",
              "      <td>0.832443</td>\n",
              "      <td>NaN</td>\n",
              "      <td>0.181825</td>\n",
              "      <td>0.183405</td>\n",
              "    </tr>\n",
              "    <tr>\n",
              "      <th>4</th>\n",
              "      <td>0.304242</td>\n",
              "      <td>0.524756</td>\n",
              "      <td>0.431945</td>\n",
              "      <td>0.291229</td>\n",
              "    </tr>\n",
              "    <tr>\n",
              "      <th>5</th>\n",
              "      <td>0.611853</td>\n",
              "      <td>0.139494</td>\n",
              "      <td>0.292145</td>\n",
              "      <td>0.366362</td>\n",
              "    </tr>\n",
              "    <tr>\n",
              "      <th>6</th>\n",
              "      <td>0.456070</td>\n",
              "      <td>0.785176</td>\n",
              "      <td>0.199674</td>\n",
              "      <td>0.514234</td>\n",
              "    </tr>\n",
              "    <tr>\n",
              "      <th>7</th>\n",
              "      <td>0.592415</td>\n",
              "      <td>0.046450</td>\n",
              "      <td>0.607545</td>\n",
              "      <td>0.170524</td>\n",
              "    </tr>\n",
              "    <tr>\n",
              "      <th>8</th>\n",
              "      <td>0.065052</td>\n",
              "      <td>0.948886</td>\n",
              "      <td>0.965632</td>\n",
              "      <td>0.808397</td>\n",
              "    </tr>\n",
              "    <tr>\n",
              "      <th>9</th>\n",
              "      <td>0.304614</td>\n",
              "      <td>0.097672</td>\n",
              "      <td>0.684233</td>\n",
              "      <td>0.440152</td>\n",
              "    </tr>\n",
              "  </tbody>\n",
              "</table>\n",
              "</div>"
            ],
            "text/plain": [
              "          A         B         C         D\n",
              "0  0.374540  0.950714  0.731994  0.598658\n",
              "1  0.156019  0.155995  0.058084  0.866176\n",
              "2  0.601115  0.708073  0.020584  0.969910\n",
              "3  0.832443       NaN  0.181825  0.183405\n",
              "4  0.304242  0.524756  0.431945  0.291229\n",
              "5  0.611853  0.139494  0.292145  0.366362\n",
              "6  0.456070  0.785176  0.199674  0.514234\n",
              "7  0.592415  0.046450  0.607545  0.170524\n",
              "8  0.065052  0.948886  0.965632  0.808397\n",
              "9  0.304614  0.097672  0.684233  0.440152"
            ]
          },
          "metadata": {
            "tags": []
          },
          "execution_count": 17
        }
      ]
    },
    {
      "cell_type": "markdown",
      "metadata": {
        "id": "6cViISQm6_xB"
      },
      "source": [
        "Ustaw wartość w wierszu o indeksie 8 dla kolumny D jako _np.nan_. Wykorzystaj _df.loc_."
      ]
    },
    {
      "cell_type": "code",
      "metadata": {
        "id": "77L0q1HA64UJ",
        "outputId": "97ee4671-4f48-4898-dbd4-e6cf257e1cb5",
        "colab": {
          "base_uri": "https://localhost:8080/",
          "height": 347
        }
      },
      "source": [
        "df.loc[8, \"D\"] = np.nan\r\n",
        "df"
      ],
      "execution_count": 18,
      "outputs": [
        {
          "output_type": "execute_result",
          "data": {
            "text/html": [
              "<div>\n",
              "<style scoped>\n",
              "    .dataframe tbody tr th:only-of-type {\n",
              "        vertical-align: middle;\n",
              "    }\n",
              "\n",
              "    .dataframe tbody tr th {\n",
              "        vertical-align: top;\n",
              "    }\n",
              "\n",
              "    .dataframe thead th {\n",
              "        text-align: right;\n",
              "    }\n",
              "</style>\n",
              "<table border=\"1\" class=\"dataframe\">\n",
              "  <thead>\n",
              "    <tr style=\"text-align: right;\">\n",
              "      <th></th>\n",
              "      <th>A</th>\n",
              "      <th>B</th>\n",
              "      <th>C</th>\n",
              "      <th>D</th>\n",
              "    </tr>\n",
              "  </thead>\n",
              "  <tbody>\n",
              "    <tr>\n",
              "      <th>0</th>\n",
              "      <td>0.374540</td>\n",
              "      <td>0.950714</td>\n",
              "      <td>0.731994</td>\n",
              "      <td>0.598658</td>\n",
              "    </tr>\n",
              "    <tr>\n",
              "      <th>1</th>\n",
              "      <td>0.156019</td>\n",
              "      <td>0.155995</td>\n",
              "      <td>0.058084</td>\n",
              "      <td>0.866176</td>\n",
              "    </tr>\n",
              "    <tr>\n",
              "      <th>2</th>\n",
              "      <td>0.601115</td>\n",
              "      <td>0.708073</td>\n",
              "      <td>0.020584</td>\n",
              "      <td>0.969910</td>\n",
              "    </tr>\n",
              "    <tr>\n",
              "      <th>3</th>\n",
              "      <td>0.832443</td>\n",
              "      <td>NaN</td>\n",
              "      <td>0.181825</td>\n",
              "      <td>0.183405</td>\n",
              "    </tr>\n",
              "    <tr>\n",
              "      <th>4</th>\n",
              "      <td>0.304242</td>\n",
              "      <td>0.524756</td>\n",
              "      <td>0.431945</td>\n",
              "      <td>0.291229</td>\n",
              "    </tr>\n",
              "    <tr>\n",
              "      <th>5</th>\n",
              "      <td>0.611853</td>\n",
              "      <td>0.139494</td>\n",
              "      <td>0.292145</td>\n",
              "      <td>0.366362</td>\n",
              "    </tr>\n",
              "    <tr>\n",
              "      <th>6</th>\n",
              "      <td>0.456070</td>\n",
              "      <td>0.785176</td>\n",
              "      <td>0.199674</td>\n",
              "      <td>0.514234</td>\n",
              "    </tr>\n",
              "    <tr>\n",
              "      <th>7</th>\n",
              "      <td>0.592415</td>\n",
              "      <td>0.046450</td>\n",
              "      <td>0.607545</td>\n",
              "      <td>0.170524</td>\n",
              "    </tr>\n",
              "    <tr>\n",
              "      <th>8</th>\n",
              "      <td>0.065052</td>\n",
              "      <td>0.948886</td>\n",
              "      <td>0.965632</td>\n",
              "      <td>NaN</td>\n",
              "    </tr>\n",
              "    <tr>\n",
              "      <th>9</th>\n",
              "      <td>0.304614</td>\n",
              "      <td>0.097672</td>\n",
              "      <td>0.684233</td>\n",
              "      <td>0.440152</td>\n",
              "    </tr>\n",
              "  </tbody>\n",
              "</table>\n",
              "</div>"
            ],
            "text/plain": [
              "          A         B         C         D\n",
              "0  0.374540  0.950714  0.731994  0.598658\n",
              "1  0.156019  0.155995  0.058084  0.866176\n",
              "2  0.601115  0.708073  0.020584  0.969910\n",
              "3  0.832443       NaN  0.181825  0.183405\n",
              "4  0.304242  0.524756  0.431945  0.291229\n",
              "5  0.611853  0.139494  0.292145  0.366362\n",
              "6  0.456070  0.785176  0.199674  0.514234\n",
              "7  0.592415  0.046450  0.607545  0.170524\n",
              "8  0.065052  0.948886  0.965632       NaN\n",
              "9  0.304614  0.097672  0.684233  0.440152"
            ]
          },
          "metadata": {
            "tags": []
          },
          "execution_count": 18
        }
      ]
    },
    {
      "cell_type": "markdown",
      "metadata": {
        "id": "dAu6FE2A7OoF"
      },
      "source": [
        "Wyświetl obiekt _df_."
      ]
    },
    {
      "cell_type": "code",
      "metadata": {
        "id": "PF7W9djK7Nka",
        "outputId": "2d92578d-abba-4b69-fdb3-ada0aa6e7ff9",
        "colab": {
          "base_uri": "https://localhost:8080/",
          "height": 347
        }
      },
      "source": [
        "df"
      ],
      "execution_count": 29,
      "outputs": [
        {
          "output_type": "execute_result",
          "data": {
            "text/html": [
              "<div>\n",
              "<style scoped>\n",
              "    .dataframe tbody tr th:only-of-type {\n",
              "        vertical-align: middle;\n",
              "    }\n",
              "\n",
              "    .dataframe tbody tr th {\n",
              "        vertical-align: top;\n",
              "    }\n",
              "\n",
              "    .dataframe thead th {\n",
              "        text-align: right;\n",
              "    }\n",
              "</style>\n",
              "<table border=\"1\" class=\"dataframe\">\n",
              "  <thead>\n",
              "    <tr style=\"text-align: right;\">\n",
              "      <th></th>\n",
              "      <th>A</th>\n",
              "      <th>B</th>\n",
              "      <th>C</th>\n",
              "      <th>D</th>\n",
              "    </tr>\n",
              "  </thead>\n",
              "  <tbody>\n",
              "    <tr>\n",
              "      <th>0</th>\n",
              "      <td>0.374540</td>\n",
              "      <td>0.950714</td>\n",
              "      <td>0.731994</td>\n",
              "      <td>0.598658</td>\n",
              "    </tr>\n",
              "    <tr>\n",
              "      <th>1</th>\n",
              "      <td>0.156019</td>\n",
              "      <td>0.155995</td>\n",
              "      <td>0.058084</td>\n",
              "      <td>0.866176</td>\n",
              "    </tr>\n",
              "    <tr>\n",
              "      <th>2</th>\n",
              "      <td>0.601115</td>\n",
              "      <td>0.708073</td>\n",
              "      <td>0.020584</td>\n",
              "      <td>0.969910</td>\n",
              "    </tr>\n",
              "    <tr>\n",
              "      <th>3</th>\n",
              "      <td>0.832443</td>\n",
              "      <td>NaN</td>\n",
              "      <td>0.181825</td>\n",
              "      <td>0.183405</td>\n",
              "    </tr>\n",
              "    <tr>\n",
              "      <th>4</th>\n",
              "      <td>0.304242</td>\n",
              "      <td>0.524756</td>\n",
              "      <td>0.431945</td>\n",
              "      <td>0.291229</td>\n",
              "    </tr>\n",
              "    <tr>\n",
              "      <th>5</th>\n",
              "      <td>0.611853</td>\n",
              "      <td>0.139494</td>\n",
              "      <td>0.292145</td>\n",
              "      <td>0.366362</td>\n",
              "    </tr>\n",
              "    <tr>\n",
              "      <th>6</th>\n",
              "      <td>0.456070</td>\n",
              "      <td>0.785176</td>\n",
              "      <td>0.199674</td>\n",
              "      <td>0.514234</td>\n",
              "    </tr>\n",
              "    <tr>\n",
              "      <th>7</th>\n",
              "      <td>0.592415</td>\n",
              "      <td>0.046450</td>\n",
              "      <td>0.607545</td>\n",
              "      <td>0.170524</td>\n",
              "    </tr>\n",
              "    <tr>\n",
              "      <th>8</th>\n",
              "      <td>0.065052</td>\n",
              "      <td>0.948886</td>\n",
              "      <td>0.965632</td>\n",
              "      <td>NaN</td>\n",
              "    </tr>\n",
              "    <tr>\n",
              "      <th>9</th>\n",
              "      <td>0.304614</td>\n",
              "      <td>0.097672</td>\n",
              "      <td>0.684233</td>\n",
              "      <td>0.440152</td>\n",
              "    </tr>\n",
              "  </tbody>\n",
              "</table>\n",
              "</div>"
            ],
            "text/plain": [
              "          A         B         C         D\n",
              "0  0.374540  0.950714  0.731994  0.598658\n",
              "1  0.156019  0.155995  0.058084  0.866176\n",
              "2  0.601115  0.708073  0.020584  0.969910\n",
              "3  0.832443       NaN  0.181825  0.183405\n",
              "4  0.304242  0.524756  0.431945  0.291229\n",
              "5  0.611853  0.139494  0.292145  0.366362\n",
              "6  0.456070  0.785176  0.199674  0.514234\n",
              "7  0.592415  0.046450  0.607545  0.170524\n",
              "8  0.065052  0.948886  0.965632       NaN\n",
              "9  0.304614  0.097672  0.684233  0.440152"
            ]
          },
          "metadata": {
            "tags": []
          },
          "execution_count": 29
        }
      ]
    },
    {
      "cell_type": "markdown",
      "metadata": {
        "id": "o3HKIKlP15Ro"
      },
      "source": [
        "### <a name='5'></a> Ćwiczenie 155\n",
        "Usuń wszystkie wiersze z obiektu _df_ zawierające braki danych i przypisz do zmiennej _df1_. Wyświetl zmienną _df1_."
      ]
    },
    {
      "cell_type": "code",
      "metadata": {
        "id": "ykYD4qGj8JjL",
        "outputId": "28dbf5e9-f459-4f3c-f305-0161bd19cf27",
        "colab": {
          "base_uri": "https://localhost:8080/",
          "height": 287
        }
      },
      "source": [
        "df1 = df.dropna()\r\n",
        "df1"
      ],
      "execution_count": 30,
      "outputs": [
        {
          "output_type": "execute_result",
          "data": {
            "text/html": [
              "<div>\n",
              "<style scoped>\n",
              "    .dataframe tbody tr th:only-of-type {\n",
              "        vertical-align: middle;\n",
              "    }\n",
              "\n",
              "    .dataframe tbody tr th {\n",
              "        vertical-align: top;\n",
              "    }\n",
              "\n",
              "    .dataframe thead th {\n",
              "        text-align: right;\n",
              "    }\n",
              "</style>\n",
              "<table border=\"1\" class=\"dataframe\">\n",
              "  <thead>\n",
              "    <tr style=\"text-align: right;\">\n",
              "      <th></th>\n",
              "      <th>A</th>\n",
              "      <th>B</th>\n",
              "      <th>C</th>\n",
              "      <th>D</th>\n",
              "    </tr>\n",
              "  </thead>\n",
              "  <tbody>\n",
              "    <tr>\n",
              "      <th>0</th>\n",
              "      <td>0.374540</td>\n",
              "      <td>0.950714</td>\n",
              "      <td>0.731994</td>\n",
              "      <td>0.598658</td>\n",
              "    </tr>\n",
              "    <tr>\n",
              "      <th>1</th>\n",
              "      <td>0.156019</td>\n",
              "      <td>0.155995</td>\n",
              "      <td>0.058084</td>\n",
              "      <td>0.866176</td>\n",
              "    </tr>\n",
              "    <tr>\n",
              "      <th>2</th>\n",
              "      <td>0.601115</td>\n",
              "      <td>0.708073</td>\n",
              "      <td>0.020584</td>\n",
              "      <td>0.969910</td>\n",
              "    </tr>\n",
              "    <tr>\n",
              "      <th>4</th>\n",
              "      <td>0.304242</td>\n",
              "      <td>0.524756</td>\n",
              "      <td>0.431945</td>\n",
              "      <td>0.291229</td>\n",
              "    </tr>\n",
              "    <tr>\n",
              "      <th>5</th>\n",
              "      <td>0.611853</td>\n",
              "      <td>0.139494</td>\n",
              "      <td>0.292145</td>\n",
              "      <td>0.366362</td>\n",
              "    </tr>\n",
              "    <tr>\n",
              "      <th>6</th>\n",
              "      <td>0.456070</td>\n",
              "      <td>0.785176</td>\n",
              "      <td>0.199674</td>\n",
              "      <td>0.514234</td>\n",
              "    </tr>\n",
              "    <tr>\n",
              "      <th>7</th>\n",
              "      <td>0.592415</td>\n",
              "      <td>0.046450</td>\n",
              "      <td>0.607545</td>\n",
              "      <td>0.170524</td>\n",
              "    </tr>\n",
              "    <tr>\n",
              "      <th>9</th>\n",
              "      <td>0.304614</td>\n",
              "      <td>0.097672</td>\n",
              "      <td>0.684233</td>\n",
              "      <td>0.440152</td>\n",
              "    </tr>\n",
              "  </tbody>\n",
              "</table>\n",
              "</div>"
            ],
            "text/plain": [
              "          A         B         C         D\n",
              "0  0.374540  0.950714  0.731994  0.598658\n",
              "1  0.156019  0.155995  0.058084  0.866176\n",
              "2  0.601115  0.708073  0.020584  0.969910\n",
              "4  0.304242  0.524756  0.431945  0.291229\n",
              "5  0.611853  0.139494  0.292145  0.366362\n",
              "6  0.456070  0.785176  0.199674  0.514234\n",
              "7  0.592415  0.046450  0.607545  0.170524\n",
              "9  0.304614  0.097672  0.684233  0.440152"
            ]
          },
          "metadata": {
            "tags": []
          },
          "execution_count": 30
        }
      ]
    },
    {
      "cell_type": "markdown",
      "metadata": {
        "id": "PunXd_Ey16so"
      },
      "source": [
        "### <a name='6'></a> Ćwiczenie 156\n",
        "Zauważ, że indeks po usunięciu dwóch wieszy w obiekcie _df1_ nie jest po kolei. Zresetuj indeks, aby wprowadzić kolejność (nie dodawaj nowej kolumny, tylko zreseuj indeks). Wyświetl zmienną _df1_."
      ]
    },
    {
      "cell_type": "code",
      "metadata": {
        "id": "qWKKJCnN8sSJ",
        "outputId": "057f6aee-b94e-4a00-cafc-4f609d27a8e3",
        "colab": {
          "base_uri": "https://localhost:8080/",
          "height": 287
        }
      },
      "source": [
        "df1.reset_index(drop = True, inplace = True)\r\n",
        "df1"
      ],
      "execution_count": 31,
      "outputs": [
        {
          "output_type": "execute_result",
          "data": {
            "text/html": [
              "<div>\n",
              "<style scoped>\n",
              "    .dataframe tbody tr th:only-of-type {\n",
              "        vertical-align: middle;\n",
              "    }\n",
              "\n",
              "    .dataframe tbody tr th {\n",
              "        vertical-align: top;\n",
              "    }\n",
              "\n",
              "    .dataframe thead th {\n",
              "        text-align: right;\n",
              "    }\n",
              "</style>\n",
              "<table border=\"1\" class=\"dataframe\">\n",
              "  <thead>\n",
              "    <tr style=\"text-align: right;\">\n",
              "      <th></th>\n",
              "      <th>A</th>\n",
              "      <th>B</th>\n",
              "      <th>C</th>\n",
              "      <th>D</th>\n",
              "    </tr>\n",
              "  </thead>\n",
              "  <tbody>\n",
              "    <tr>\n",
              "      <th>0</th>\n",
              "      <td>0.374540</td>\n",
              "      <td>0.950714</td>\n",
              "      <td>0.731994</td>\n",
              "      <td>0.598658</td>\n",
              "    </tr>\n",
              "    <tr>\n",
              "      <th>1</th>\n",
              "      <td>0.156019</td>\n",
              "      <td>0.155995</td>\n",
              "      <td>0.058084</td>\n",
              "      <td>0.866176</td>\n",
              "    </tr>\n",
              "    <tr>\n",
              "      <th>2</th>\n",
              "      <td>0.601115</td>\n",
              "      <td>0.708073</td>\n",
              "      <td>0.020584</td>\n",
              "      <td>0.969910</td>\n",
              "    </tr>\n",
              "    <tr>\n",
              "      <th>3</th>\n",
              "      <td>0.304242</td>\n",
              "      <td>0.524756</td>\n",
              "      <td>0.431945</td>\n",
              "      <td>0.291229</td>\n",
              "    </tr>\n",
              "    <tr>\n",
              "      <th>4</th>\n",
              "      <td>0.611853</td>\n",
              "      <td>0.139494</td>\n",
              "      <td>0.292145</td>\n",
              "      <td>0.366362</td>\n",
              "    </tr>\n",
              "    <tr>\n",
              "      <th>5</th>\n",
              "      <td>0.456070</td>\n",
              "      <td>0.785176</td>\n",
              "      <td>0.199674</td>\n",
              "      <td>0.514234</td>\n",
              "    </tr>\n",
              "    <tr>\n",
              "      <th>6</th>\n",
              "      <td>0.592415</td>\n",
              "      <td>0.046450</td>\n",
              "      <td>0.607545</td>\n",
              "      <td>0.170524</td>\n",
              "    </tr>\n",
              "    <tr>\n",
              "      <th>7</th>\n",
              "      <td>0.304614</td>\n",
              "      <td>0.097672</td>\n",
              "      <td>0.684233</td>\n",
              "      <td>0.440152</td>\n",
              "    </tr>\n",
              "  </tbody>\n",
              "</table>\n",
              "</div>"
            ],
            "text/plain": [
              "          A         B         C         D\n",
              "0  0.374540  0.950714  0.731994  0.598658\n",
              "1  0.156019  0.155995  0.058084  0.866176\n",
              "2  0.601115  0.708073  0.020584  0.969910\n",
              "3  0.304242  0.524756  0.431945  0.291229\n",
              "4  0.611853  0.139494  0.292145  0.366362\n",
              "5  0.456070  0.785176  0.199674  0.514234\n",
              "6  0.592415  0.046450  0.607545  0.170524\n",
              "7  0.304614  0.097672  0.684233  0.440152"
            ]
          },
          "metadata": {
            "tags": []
          },
          "execution_count": 31
        }
      ]
    },
    {
      "cell_type": "markdown",
      "metadata": {
        "id": "hOhqDRz618Tx"
      },
      "source": [
        "### <a name='7'></a> Ćwiczenie 157\n",
        "Wracamy do obiektu _df_. Wyznacz liczbę brakujących elementów w obiekcie _df_ dla każdej kolumny."
      ]
    },
    {
      "cell_type": "code",
      "metadata": {
        "id": "Q2R4qted9F2W",
        "outputId": "21197a13-15b2-49c8-d989-99416bd15f4f",
        "colab": {
          "base_uri": "https://localhost:8080/"
        }
      },
      "source": [
        "df.isna().sum()"
      ],
      "execution_count": 35,
      "outputs": [
        {
          "output_type": "execute_result",
          "data": {
            "text/plain": [
              "A    0\n",
              "B    1\n",
              "C    0\n",
              "D    1\n",
              "dtype: int64"
            ]
          },
          "metadata": {
            "tags": []
          },
          "execution_count": 35
        }
      ]
    },
    {
      "cell_type": "markdown",
      "metadata": {
        "id": "TXUd_4631-gw"
      },
      "source": [
        "### <a name='8'></a> Ćwiczenie 158\n",
        "Uzupełnij brakujące wartości wartością 0 i przypisz do zmiennej _df_."
      ]
    },
    {
      "cell_type": "code",
      "metadata": {
        "id": "xEtz0Vgx9Y3h",
        "outputId": "65f33bb9-c671-4b5d-bcc4-546dea2b9e05",
        "colab": {
          "base_uri": "https://localhost:8080/",
          "height": 347
        }
      },
      "source": [
        "df = df.fillna(0)\r\n",
        "df"
      ],
      "execution_count": 36,
      "outputs": [
        {
          "output_type": "execute_result",
          "data": {
            "text/html": [
              "<div>\n",
              "<style scoped>\n",
              "    .dataframe tbody tr th:only-of-type {\n",
              "        vertical-align: middle;\n",
              "    }\n",
              "\n",
              "    .dataframe tbody tr th {\n",
              "        vertical-align: top;\n",
              "    }\n",
              "\n",
              "    .dataframe thead th {\n",
              "        text-align: right;\n",
              "    }\n",
              "</style>\n",
              "<table border=\"1\" class=\"dataframe\">\n",
              "  <thead>\n",
              "    <tr style=\"text-align: right;\">\n",
              "      <th></th>\n",
              "      <th>A</th>\n",
              "      <th>B</th>\n",
              "      <th>C</th>\n",
              "      <th>D</th>\n",
              "    </tr>\n",
              "  </thead>\n",
              "  <tbody>\n",
              "    <tr>\n",
              "      <th>0</th>\n",
              "      <td>0.374540</td>\n",
              "      <td>0.950714</td>\n",
              "      <td>0.731994</td>\n",
              "      <td>0.598658</td>\n",
              "    </tr>\n",
              "    <tr>\n",
              "      <th>1</th>\n",
              "      <td>0.156019</td>\n",
              "      <td>0.155995</td>\n",
              "      <td>0.058084</td>\n",
              "      <td>0.866176</td>\n",
              "    </tr>\n",
              "    <tr>\n",
              "      <th>2</th>\n",
              "      <td>0.601115</td>\n",
              "      <td>0.708073</td>\n",
              "      <td>0.020584</td>\n",
              "      <td>0.969910</td>\n",
              "    </tr>\n",
              "    <tr>\n",
              "      <th>3</th>\n",
              "      <td>0.832443</td>\n",
              "      <td>0.000000</td>\n",
              "      <td>0.181825</td>\n",
              "      <td>0.183405</td>\n",
              "    </tr>\n",
              "    <tr>\n",
              "      <th>4</th>\n",
              "      <td>0.304242</td>\n",
              "      <td>0.524756</td>\n",
              "      <td>0.431945</td>\n",
              "      <td>0.291229</td>\n",
              "    </tr>\n",
              "    <tr>\n",
              "      <th>5</th>\n",
              "      <td>0.611853</td>\n",
              "      <td>0.139494</td>\n",
              "      <td>0.292145</td>\n",
              "      <td>0.366362</td>\n",
              "    </tr>\n",
              "    <tr>\n",
              "      <th>6</th>\n",
              "      <td>0.456070</td>\n",
              "      <td>0.785176</td>\n",
              "      <td>0.199674</td>\n",
              "      <td>0.514234</td>\n",
              "    </tr>\n",
              "    <tr>\n",
              "      <th>7</th>\n",
              "      <td>0.592415</td>\n",
              "      <td>0.046450</td>\n",
              "      <td>0.607545</td>\n",
              "      <td>0.170524</td>\n",
              "    </tr>\n",
              "    <tr>\n",
              "      <th>8</th>\n",
              "      <td>0.065052</td>\n",
              "      <td>0.948886</td>\n",
              "      <td>0.965632</td>\n",
              "      <td>0.000000</td>\n",
              "    </tr>\n",
              "    <tr>\n",
              "      <th>9</th>\n",
              "      <td>0.304614</td>\n",
              "      <td>0.097672</td>\n",
              "      <td>0.684233</td>\n",
              "      <td>0.440152</td>\n",
              "    </tr>\n",
              "  </tbody>\n",
              "</table>\n",
              "</div>"
            ],
            "text/plain": [
              "          A         B         C         D\n",
              "0  0.374540  0.950714  0.731994  0.598658\n",
              "1  0.156019  0.155995  0.058084  0.866176\n",
              "2  0.601115  0.708073  0.020584  0.969910\n",
              "3  0.832443  0.000000  0.181825  0.183405\n",
              "4  0.304242  0.524756  0.431945  0.291229\n",
              "5  0.611853  0.139494  0.292145  0.366362\n",
              "6  0.456070  0.785176  0.199674  0.514234\n",
              "7  0.592415  0.046450  0.607545  0.170524\n",
              "8  0.065052  0.948886  0.965632  0.000000\n",
              "9  0.304614  0.097672  0.684233  0.440152"
            ]
          },
          "metadata": {
            "tags": []
          },
          "execution_count": 36
        }
      ]
    },
    {
      "cell_type": "markdown",
      "metadata": {
        "id": "tgI6xEn-2AQo"
      },
      "source": [
        "### <a name='9'></a> Ćwiczenie 159\n",
        "Zamień kolejność kolumn w obiekcie _df_ na podaną poniżej:\n",
        "* D, A, B, C  \n",
        "\n",
        "i przypisz do zmiennej _df_."
      ]
    },
    {
      "cell_type": "code",
      "metadata": {
        "id": "xE4dg1bg9l2e",
        "outputId": "a70c3abb-5e18-40ff-d611-86f9bed17871",
        "colab": {
          "base_uri": "https://localhost:8080/",
          "height": 347
        }
      },
      "source": [
        "df = df[[\"D\", \"A\", \"B\", \"C\"]]\r\n",
        "df"
      ],
      "execution_count": 40,
      "outputs": [
        {
          "output_type": "execute_result",
          "data": {
            "text/html": [
              "<div>\n",
              "<style scoped>\n",
              "    .dataframe tbody tr th:only-of-type {\n",
              "        vertical-align: middle;\n",
              "    }\n",
              "\n",
              "    .dataframe tbody tr th {\n",
              "        vertical-align: top;\n",
              "    }\n",
              "\n",
              "    .dataframe thead th {\n",
              "        text-align: right;\n",
              "    }\n",
              "</style>\n",
              "<table border=\"1\" class=\"dataframe\">\n",
              "  <thead>\n",
              "    <tr style=\"text-align: right;\">\n",
              "      <th></th>\n",
              "      <th>D</th>\n",
              "      <th>A</th>\n",
              "      <th>B</th>\n",
              "      <th>C</th>\n",
              "    </tr>\n",
              "  </thead>\n",
              "  <tbody>\n",
              "    <tr>\n",
              "      <th>0</th>\n",
              "      <td>0.598658</td>\n",
              "      <td>0.374540</td>\n",
              "      <td>0.950714</td>\n",
              "      <td>0.731994</td>\n",
              "    </tr>\n",
              "    <tr>\n",
              "      <th>1</th>\n",
              "      <td>0.866176</td>\n",
              "      <td>0.156019</td>\n",
              "      <td>0.155995</td>\n",
              "      <td>0.058084</td>\n",
              "    </tr>\n",
              "    <tr>\n",
              "      <th>2</th>\n",
              "      <td>0.969910</td>\n",
              "      <td>0.601115</td>\n",
              "      <td>0.708073</td>\n",
              "      <td>0.020584</td>\n",
              "    </tr>\n",
              "    <tr>\n",
              "      <th>3</th>\n",
              "      <td>0.183405</td>\n",
              "      <td>0.832443</td>\n",
              "      <td>0.000000</td>\n",
              "      <td>0.181825</td>\n",
              "    </tr>\n",
              "    <tr>\n",
              "      <th>4</th>\n",
              "      <td>0.291229</td>\n",
              "      <td>0.304242</td>\n",
              "      <td>0.524756</td>\n",
              "      <td>0.431945</td>\n",
              "    </tr>\n",
              "    <tr>\n",
              "      <th>5</th>\n",
              "      <td>0.366362</td>\n",
              "      <td>0.611853</td>\n",
              "      <td>0.139494</td>\n",
              "      <td>0.292145</td>\n",
              "    </tr>\n",
              "    <tr>\n",
              "      <th>6</th>\n",
              "      <td>0.514234</td>\n",
              "      <td>0.456070</td>\n",
              "      <td>0.785176</td>\n",
              "      <td>0.199674</td>\n",
              "    </tr>\n",
              "    <tr>\n",
              "      <th>7</th>\n",
              "      <td>0.170524</td>\n",
              "      <td>0.592415</td>\n",
              "      <td>0.046450</td>\n",
              "      <td>0.607545</td>\n",
              "    </tr>\n",
              "    <tr>\n",
              "      <th>8</th>\n",
              "      <td>0.000000</td>\n",
              "      <td>0.065052</td>\n",
              "      <td>0.948886</td>\n",
              "      <td>0.965632</td>\n",
              "    </tr>\n",
              "    <tr>\n",
              "      <th>9</th>\n",
              "      <td>0.440152</td>\n",
              "      <td>0.304614</td>\n",
              "      <td>0.097672</td>\n",
              "      <td>0.684233</td>\n",
              "    </tr>\n",
              "  </tbody>\n",
              "</table>\n",
              "</div>"
            ],
            "text/plain": [
              "          D         A         B         C\n",
              "0  0.598658  0.374540  0.950714  0.731994\n",
              "1  0.866176  0.156019  0.155995  0.058084\n",
              "2  0.969910  0.601115  0.708073  0.020584\n",
              "3  0.183405  0.832443  0.000000  0.181825\n",
              "4  0.291229  0.304242  0.524756  0.431945\n",
              "5  0.366362  0.611853  0.139494  0.292145\n",
              "6  0.514234  0.456070  0.785176  0.199674\n",
              "7  0.170524  0.592415  0.046450  0.607545\n",
              "8  0.000000  0.065052  0.948886  0.965632\n",
              "9  0.440152  0.304614  0.097672  0.684233"
            ]
          },
          "metadata": {
            "tags": []
          },
          "execution_count": 40
        }
      ]
    },
    {
      "cell_type": "markdown",
      "metadata": {
        "id": "wxhpf-uq2B1I"
      },
      "source": [
        "### <a name='10'></a> Ćwiczenie 160\n",
        "Usuń kolumnę $D$ z obiektu _df_."
      ]
    },
    {
      "cell_type": "code",
      "metadata": {
        "id": "f42DsNYyCPW6",
        "outputId": "752f033b-40ae-433a-f151-528c62fa1495",
        "colab": {
          "base_uri": "https://localhost:8080/",
          "height": 436
        }
      },
      "source": [
        "df.drop(\"D\", axis = 1, inplace = True)\r\n",
        "df"
      ],
      "execution_count": 41,
      "outputs": [
        {
          "output_type": "stream",
          "text": [
            "/usr/local/lib/python3.6/dist-packages/pandas/core/frame.py:4174: SettingWithCopyWarning: \n",
            "A value is trying to be set on a copy of a slice from a DataFrame\n",
            "\n",
            "See the caveats in the documentation: https://pandas.pydata.org/pandas-docs/stable/user_guide/indexing.html#returning-a-view-versus-a-copy\n",
            "  errors=errors,\n"
          ],
          "name": "stderr"
        },
        {
          "output_type": "execute_result",
          "data": {
            "text/html": [
              "<div>\n",
              "<style scoped>\n",
              "    .dataframe tbody tr th:only-of-type {\n",
              "        vertical-align: middle;\n",
              "    }\n",
              "\n",
              "    .dataframe tbody tr th {\n",
              "        vertical-align: top;\n",
              "    }\n",
              "\n",
              "    .dataframe thead th {\n",
              "        text-align: right;\n",
              "    }\n",
              "</style>\n",
              "<table border=\"1\" class=\"dataframe\">\n",
              "  <thead>\n",
              "    <tr style=\"text-align: right;\">\n",
              "      <th></th>\n",
              "      <th>A</th>\n",
              "      <th>B</th>\n",
              "      <th>C</th>\n",
              "    </tr>\n",
              "  </thead>\n",
              "  <tbody>\n",
              "    <tr>\n",
              "      <th>0</th>\n",
              "      <td>0.374540</td>\n",
              "      <td>0.950714</td>\n",
              "      <td>0.731994</td>\n",
              "    </tr>\n",
              "    <tr>\n",
              "      <th>1</th>\n",
              "      <td>0.156019</td>\n",
              "      <td>0.155995</td>\n",
              "      <td>0.058084</td>\n",
              "    </tr>\n",
              "    <tr>\n",
              "      <th>2</th>\n",
              "      <td>0.601115</td>\n",
              "      <td>0.708073</td>\n",
              "      <td>0.020584</td>\n",
              "    </tr>\n",
              "    <tr>\n",
              "      <th>3</th>\n",
              "      <td>0.832443</td>\n",
              "      <td>0.000000</td>\n",
              "      <td>0.181825</td>\n",
              "    </tr>\n",
              "    <tr>\n",
              "      <th>4</th>\n",
              "      <td>0.304242</td>\n",
              "      <td>0.524756</td>\n",
              "      <td>0.431945</td>\n",
              "    </tr>\n",
              "    <tr>\n",
              "      <th>5</th>\n",
              "      <td>0.611853</td>\n",
              "      <td>0.139494</td>\n",
              "      <td>0.292145</td>\n",
              "    </tr>\n",
              "    <tr>\n",
              "      <th>6</th>\n",
              "      <td>0.456070</td>\n",
              "      <td>0.785176</td>\n",
              "      <td>0.199674</td>\n",
              "    </tr>\n",
              "    <tr>\n",
              "      <th>7</th>\n",
              "      <td>0.592415</td>\n",
              "      <td>0.046450</td>\n",
              "      <td>0.607545</td>\n",
              "    </tr>\n",
              "    <tr>\n",
              "      <th>8</th>\n",
              "      <td>0.065052</td>\n",
              "      <td>0.948886</td>\n",
              "      <td>0.965632</td>\n",
              "    </tr>\n",
              "    <tr>\n",
              "      <th>9</th>\n",
              "      <td>0.304614</td>\n",
              "      <td>0.097672</td>\n",
              "      <td>0.684233</td>\n",
              "    </tr>\n",
              "  </tbody>\n",
              "</table>\n",
              "</div>"
            ],
            "text/plain": [
              "          A         B         C\n",
              "0  0.374540  0.950714  0.731994\n",
              "1  0.156019  0.155995  0.058084\n",
              "2  0.601115  0.708073  0.020584\n",
              "3  0.832443  0.000000  0.181825\n",
              "4  0.304242  0.524756  0.431945\n",
              "5  0.611853  0.139494  0.292145\n",
              "6  0.456070  0.785176  0.199674\n",
              "7  0.592415  0.046450  0.607545\n",
              "8  0.065052  0.948886  0.965632\n",
              "9  0.304614  0.097672  0.684233"
            ]
          },
          "metadata": {
            "tags": []
          },
          "execution_count": 41
        }
      ]
    }
  ]
}