{
  "nbformat": 4,
  "nbformat_minor": 0,
  "metadata": {
    "colab": {
      "name": "141-150_exercises.ipynb",
      "provenance": [],
      "collapsed_sections": [],
      "include_colab_link": true
    },
    "kernelspec": {
      "name": "python3",
      "display_name": "Python 3"
    }
  },
  "cells": [
    {
      "cell_type": "markdown",
      "metadata": {
        "id": "view-in-github",
        "colab_type": "text"
      },
      "source": [
        "<a href=\"https://colab.research.google.com/github/wojr21/courses/blob/main/DS_bootcamp_exercises/141_150_exercises.ipynb\" target=\"_parent\"><img src=\"https://colab.research.google.com/assets/colab-badge.svg\" alt=\"Open In Colab\"/></a>"
      ]
    },
    {
      "cell_type": "markdown",
      "metadata": {
        "id": "WLEgCW5F1hho"
      },
      "source": [
        "## Pandas\n",
        "\n",
        "### Spis treści:\n",
        "* [Import biblioteki](#0)\n",
        "* [Ćwiczenie 141](#1)\n",
        "* [Ćwiczenie 142](#2)\n",
        "* [Ćwiczenie 143](#3)\n",
        "* [Ćwiczenie 144](#4)\n",
        "* [Ćwiczenie 145](#5)\n",
        "* [Ćwiczenie 146](#6)\n",
        "* [Ćwiczenie 147](#7)\n",
        "* [Ćwiczenie 148](#8)\n",
        "* [Ćwiczenie 149](#9)\n",
        "* [Ćwiczenie 150](#10)"
      ]
    },
    {
      "cell_type": "markdown",
      "metadata": {
        "id": "zeLOLmTj1kBM"
      },
      "source": [
        "### <a name='0'></a>Import biblioteki"
      ]
    },
    {
      "cell_type": "code",
      "metadata": {
        "id": "HXMB7SMe1Wnz"
      },
      "source": [
        "import numpy as np\n",
        "import pandas as pd\n",
        "\n",
        "np.random.seed(42)\n",
        "np.__version__"
      ],
      "execution_count": null,
      "outputs": []
    },
    {
      "cell_type": "markdown",
      "metadata": {
        "id": "cyc70pMe1oCg"
      },
      "source": [
        "### <a name='1'></a> Ćwiczenie 141\n",
        "Podane są dwa obiekty typu _Series_:\n",
        "\n",
        "```\n",
        "s1 = pd.Series(np.random.rand(20))\n",
        "s2 = pd.Series(np.random.randn(20))\n",
        "```\n",
        "Połącz te dwa obiekty w jeden obiekt typu _DataFrame_ (jako dwie kolumny) i przypisz do zmiennej _df_. Nadaj nazwy kolumn odpowiednio _col1_ oraz _col2_.\n"
      ]
    },
    {
      "cell_type": "code",
      "metadata": {
        "id": "7htc5HhMKBjO"
      },
      "source": [
        "# tutaj wpisz rozwiązanie"
      ],
      "execution_count": null,
      "outputs": []
    },
    {
      "cell_type": "markdown",
      "metadata": {
        "id": "J9pY1rtr1sC0"
      },
      "source": [
        "### <a name='2'></a> Ćwiczenie 142\n",
        "Wytnij z obiektu _df_ wiersze, dla których wartość w kolumnie _col2_ jest pomiędzy 0.0 a 1.0 (włącznie)."
      ]
    },
    {
      "cell_type": "code",
      "metadata": {
        "id": "rq935m0tLA46"
      },
      "source": [
        "# tutaj wpisz rozwiązanie"
      ],
      "execution_count": null,
      "outputs": []
    },
    {
      "cell_type": "markdown",
      "metadata": {
        "id": "XQLYT2m11wVG"
      },
      "source": [
        "### <a name='3'></a> Ćwiczenie 143\n",
        "Przypisz nową kolumnę o nazwie _col3_, która przyjmie wartość 1 w momencie gdy w kolumnie _col2_ jest wartość nieujemna i przeciwnie -1."
      ]
    },
    {
      "cell_type": "code",
      "metadata": {
        "id": "mAkZEOCVMShv"
      },
      "source": [
        "# tutaj wpisz rozwiązanie"
      ],
      "execution_count": null,
      "outputs": []
    },
    {
      "cell_type": "markdown",
      "metadata": {
        "id": "4xTKSUzg10MK"
      },
      "source": [
        "### <a name='4'></a> Ćwiczenie 144\n",
        "Przypisz nową kolumnę o nazwie _col4_, która przytnie wartości z kolumny _col2_ do przedziału $[-1.0, 1.0]$. \n",
        "Innymi słowy, dla wartości poniżej -1.0 należy wstawić wartość -1.0, dla wartości powyżej 1.0 wartość 1.0.\n"
      ]
    },
    {
      "cell_type": "code",
      "metadata": {
        "id": "Bg_ChMCrNR4Q"
      },
      "source": [
        "# tutaj wpisz rozwiązanie"
      ],
      "execution_count": null,
      "outputs": []
    },
    {
      "cell_type": "markdown",
      "metadata": {
        "id": "o3HKIKlP15Ro"
      },
      "source": [
        "### <a name='5'></a> Ćwiczenie 145\n",
        "Znajdź 5 największych wartości dla kolumny _col2_."
      ]
    },
    {
      "cell_type": "code",
      "metadata": {
        "id": "jGG0OO6aU2dU"
      },
      "source": [
        "# tutaj wpisz rozwiązanie"
      ],
      "execution_count": null,
      "outputs": []
    },
    {
      "cell_type": "markdown",
      "metadata": {
        "id": "gj1J1dG7VQWJ"
      },
      "source": [
        "Znajdź 5 najmniejszych wartości dla kolumny _col2_."
      ]
    },
    {
      "cell_type": "code",
      "metadata": {
        "id": "VSD75nMoVPS-"
      },
      "source": [
        "# tutaj wpisz rozwiązanie"
      ],
      "execution_count": null,
      "outputs": []
    },
    {
      "cell_type": "markdown",
      "metadata": {
        "id": "PunXd_Ey16so"
      },
      "source": [
        "### <a name='6'></a> Ćwiczenie 146\n",
        "Wyznacz skumulowaną sumę dla każdej kolumny.\n",
        "\n",
        "__Wskazówka:__ Użyj metody _pd.DataFrame.cumsum()_."
      ]
    },
    {
      "cell_type": "code",
      "metadata": {
        "id": "1_dpccwOVg0I"
      },
      "source": [
        "# tutaj wpisz rozwiązanie"
      ],
      "execution_count": null,
      "outputs": []
    },
    {
      "cell_type": "markdown",
      "metadata": {
        "id": "hOhqDRz618Tx"
      },
      "source": [
        "### <a name='7'></a> Ćwiczenie 147\n",
        "Wyznacz medianę dla zmiennej _col2_ (inaczej kwantyl rzędu 0.5)."
      ]
    },
    {
      "cell_type": "code",
      "metadata": {
        "id": "2j0U0daiWk5Z"
      },
      "source": [
        "# tutaj wpisz rozwiązanie"
      ],
      "execution_count": null,
      "outputs": []
    },
    {
      "cell_type": "markdown",
      "metadata": {
        "id": "TXUd_4631-gw"
      },
      "source": [
        "### <a name='8'></a> Ćwiczenie 148\n",
        "Wytnij wiersze, dla których zmienna _col2_ przyjmuje wartości większe od 0.0."
      ]
    },
    {
      "cell_type": "code",
      "metadata": {
        "id": "FKDAKaugW9Pd"
      },
      "source": [
        "# tutaj wpisz rozwiązanie"
      ],
      "execution_count": null,
      "outputs": []
    },
    {
      "cell_type": "markdown",
      "metadata": {
        "id": "tgI6xEn-2AQo"
      },
      "source": [
        "### <a name='9'></a> Ćwiczenie 149\n",
        "Wytnij 5 pierwszych wierszy obiektu _df_ i przekształć je do słownika."
      ]
    },
    {
      "cell_type": "code",
      "metadata": {
        "id": "HTXId5eFXgyY"
      },
      "source": [
        "# tutaj wpisz rozwiązanie"
      ],
      "execution_count": null,
      "outputs": []
    },
    {
      "cell_type": "markdown",
      "metadata": {
        "id": "wxhpf-uq2B1I"
      },
      "source": [
        "### <a name='10'></a> Ćwiczenie 150\n",
        "Wytnij 5 pierwszych wierszy obiektu _df_, przekształć je do formatu Markdown i przypisz do zmiennej _df_markdown_."
      ]
    },
    {
      "cell_type": "code",
      "metadata": {
        "id": "YFc0KW6URsuc"
      },
      "source": [
        "# tutaj wpisz rozwiązanie"
      ],
      "execution_count": null,
      "outputs": []
    },
    {
      "cell_type": "markdown",
      "metadata": {
        "id": "-_xCdTQpYqFx"
      },
      "source": [
        "Wydrukuj do konsoli zawartość zmiennej _df_markdown_."
      ]
    },
    {
      "cell_type": "code",
      "metadata": {
        "id": "xXI_Km1nX7wA"
      },
      "source": [
        "# tutaj wpisz rozwiązanie"
      ],
      "execution_count": null,
      "outputs": []
    },
    {
      "cell_type": "markdown",
      "metadata": {
        "id": "mtO9QK5XYune"
      },
      "source": [
        "Skopiuj wynik uruchomienia powyższej komórki i wklej poniżej:\n",
        "\n",
        "\\# tutaj wpisz rozwiązanie\n"
      ]
    }
  ]
}