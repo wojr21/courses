{
  "nbformat": 4,
  "nbformat_minor": 0,
  "metadata": {
    "colab": {
      "name": "161-170_exercises.ipynb",
      "provenance": [],
      "collapsed_sections": [],
      "include_colab_link": true
    },
    "kernelspec": {
      "name": "python3",
      "display_name": "Python 3"
    }
  },
  "cells": [
    {
      "cell_type": "markdown",
      "metadata": {
        "id": "view-in-github",
        "colab_type": "text"
      },
      "source": [
        "<a href=\"https://colab.research.google.com/github/wojr21/courses/blob/main/DS_bootcamp_exercises/161_170_exercises.ipynb\" target=\"_parent\"><img src=\"https://colab.research.google.com/assets/colab-badge.svg\" alt=\"Open In Colab\"/></a>"
      ]
    },
    {
      "cell_type": "markdown",
      "metadata": {
        "id": "WLEgCW5F1hho"
      },
      "source": [
        "## Pandas\n",
        "\n",
        "### Spis treści:\n",
        "* [Import biblioteki](#0)\n",
        "* [Ćwiczenie 161](#1)\n",
        "* [Ćwiczenie 162](#2)\n",
        "* [Ćwiczenie 163](#3)\n",
        "* [Ćwiczenie 164](#4)\n",
        "* [Ćwiczenie 165](#5)\n",
        "* [Ćwiczenie 166](#6)\n",
        "* [Ćwiczenie 167](#7)\n",
        "* [Ćwiczenie 168](#8)\n",
        "* [Ćwiczenie 169](#9)\n",
        "* [Ćwiczenie 170](#10)"
      ]
    },
    {
      "cell_type": "markdown",
      "metadata": {
        "id": "zeLOLmTj1kBM"
      },
      "source": [
        "### <a name='0'></a>Import biblioteki"
      ]
    },
    {
      "cell_type": "code",
      "metadata": {
        "id": "HXMB7SMe1Wnz"
      },
      "source": [
        "import numpy as np\n",
        "import pandas as pd\n",
        "\n",
        "pd.options.display.float_format = '{:.2f}'.format\n",
        "np.__version__"
      ],
      "execution_count": null,
      "outputs": []
    },
    {
      "cell_type": "markdown",
      "metadata": {
        "id": "cyc70pMe1oCg"
      },
      "source": [
        "### <a name='1'></a> Ćwiczenie 161\n",
        "Wczytaj do obiektu _DataFrame_ o nazwie _df_ plik csv znajdujący się pod linkiem:\n",
        "* https://storage.googleapis.com/esmartdata-courses-files/dash-course/data.csv\n",
        "\n",
        "Ustaw indeks obiektu _df_ na pierwszą kolumnę. Wyświetl obiekt _df_."
      ]
    },
    {
      "cell_type": "code",
      "metadata": {
        "id": "6O5qvRzOOUy4"
      },
      "source": [
        "# tutaj wpisz rozwiązanie"
      ],
      "execution_count": null,
      "outputs": []
    },
    {
      "cell_type": "markdown",
      "metadata": {
        "id": "UwgBYQgiPLvN"
      },
      "source": [
        "Wyświetl informacje na temat obiektu _df_."
      ]
    },
    {
      "cell_type": "code",
      "metadata": {
        "id": "avK7TJ3DPOor"
      },
      "source": [
        "# tutaj wpisz rozwiązanie"
      ],
      "execution_count": null,
      "outputs": []
    },
    {
      "cell_type": "markdown",
      "metadata": {
        "id": "NkUbkVhMPUl1"
      },
      "source": [
        "Wyświetl podstawowe statystyki obiektu _df_."
      ]
    },
    {
      "cell_type": "code",
      "metadata": {
        "id": "V1OYTgdGPZuA"
      },
      "source": [
        "# tutaj wpisz rozwiązanie"
      ],
      "execution_count": null,
      "outputs": []
    },
    {
      "cell_type": "markdown",
      "metadata": {
        "id": "J9pY1rtr1sC0"
      },
      "source": [
        "### <a name='2'></a> Ćwiczenie 162\n",
        "Znajdź listę zawierającą nazwy wszystkich kolumn obiektu _df_."
      ]
    },
    {
      "cell_type": "code",
      "metadata": {
        "id": "uS9D1lGxQSlE"
      },
      "source": [
        "# tutaj wpisz rozwiązanie"
      ],
      "execution_count": null,
      "outputs": []
    },
    {
      "cell_type": "markdown",
      "metadata": {
        "id": "gkEz-EnLQgFs"
      },
      "source": [
        "Z obiektu _df_ usuń kolumnę o nazwie _New_Price_ i wyświetl 5 pierwszych wierszy."
      ]
    },
    {
      "cell_type": "code",
      "metadata": {
        "id": "z51AtEYSQQrn"
      },
      "source": [
        "# tutaj wpisz rozwiązanie"
      ],
      "execution_count": null,
      "outputs": []
    },
    {
      "cell_type": "markdown",
      "metadata": {
        "id": "XQLYT2m11wVG"
      },
      "source": [
        "### <a name='3'></a> Ćwiczenie 163\n",
        "Znajdź liczbę brakujących wartości dla każdej zmiennej obiektu _df_."
      ]
    },
    {
      "cell_type": "code",
      "metadata": {
        "id": "2-vQBe17QI9y"
      },
      "source": [
        "# tutaj wpisz rozwiązanie"
      ],
      "execution_count": null,
      "outputs": []
    },
    {
      "cell_type": "markdown",
      "metadata": {
        "id": "Pq8v0o1FRD_h"
      },
      "source": [
        "Usuń wszystkie wiersze z obiektu _df_ zawierające braki danych. Użyj parametru _inplace=True_."
      ]
    },
    {
      "cell_type": "code",
      "metadata": {
        "id": "ddBCjD8sRIY7"
      },
      "source": [
        "# tutaj wpisz rozwiązanie"
      ],
      "execution_count": null,
      "outputs": []
    },
    {
      "cell_type": "markdown",
      "metadata": {
        "id": "0HUdgO1TRdyA"
      },
      "source": [
        "Wyświetl raz jeszcze informacje na temat obiektu _df_. Zwróć uwagę na liczbę wierszy i typ danych."
      ]
    },
    {
      "cell_type": "code",
      "metadata": {
        "id": "ueVO6BDGRaVv"
      },
      "source": [
        "# tutaj wpisz rozwiązanie"
      ],
      "execution_count": null,
      "outputs": []
    },
    {
      "cell_type": "markdown",
      "metadata": {
        "id": "4xTKSUzg10MK"
      },
      "source": [
        "### <a name='4'></a> Ćwiczenie 164\n",
        "Zamień wszystkie litery w nazwach kolumn na małe, np.:\n",
        "* Name -> name\n",
        "* Fuel_Type -> fuel_type  \n",
        "\n",
        "Wyświetl metodą _head()_ pięć pierwszych wierszy."
      ]
    },
    {
      "cell_type": "code",
      "metadata": {
        "id": "XM7pZcgMR-Ia"
      },
      "source": [
        "# tutaj wpisz rozwiązanie"
      ],
      "execution_count": null,
      "outputs": []
    },
    {
      "cell_type": "markdown",
      "metadata": {
        "id": "o3HKIKlP15Ro"
      },
      "source": [
        "### <a name='5'></a> Ćwiczenie 165\n",
        "Znajdź rozkład wartości zmiennej _owner_type_."
      ]
    },
    {
      "cell_type": "code",
      "metadata": {
        "id": "GZtg1f8eSy_B"
      },
      "source": [
        "# tutaj wpisz rozwiązanie"
      ],
      "execution_count": null,
      "outputs": []
    },
    {
      "cell_type": "markdown",
      "metadata": {
        "id": "j7Hw9ObPTxu0"
      },
      "source": [
        "Znajdź rozkład wartości zmiennej _engine_."
      ]
    },
    {
      "cell_type": "code",
      "metadata": {
        "id": "0tDz7xrFTOoZ"
      },
      "source": [
        "# tutaj wpisz rozwiązanie"
      ],
      "execution_count": null,
      "outputs": []
    },
    {
      "cell_type": "markdown",
      "metadata": {
        "id": "CKe3Ep2JT4kC"
      },
      "source": [
        "Zauważ, że zmienna _engine_ jest typu _object_. Usuń 3 ostatnie znaki z każdego elementu i resztę skonwertuj na typ int. Wyświetl metodą _head()_ pięć pierwszych wierszy."
      ]
    },
    {
      "cell_type": "code",
      "metadata": {
        "id": "i4ZOG67TTgxU"
      },
      "source": [
        "# tutaj wpisz rozwiązanie"
      ],
      "execution_count": null,
      "outputs": []
    },
    {
      "cell_type": "markdown",
      "metadata": {
        "id": "PunXd_Ey16so"
      },
      "source": [
        "### <a name='6'></a> Ćwiczenie 166\n",
        "Spójrz na rozkład zmiennej _power_. Zauważ, że ta zmienna ma także braki danych w postaci wartości _'null bhp'_. Zamień te wartości dla zmiennej _power_ na wartość _np.nan_. Wykorzystaj przy tym funkcję _np.where()_."
      ]
    },
    {
      "cell_type": "code",
      "metadata": {
        "id": "APRQlkgpUxzu"
      },
      "source": [
        "# tutaj wpisz rozwiązanie"
      ],
      "execution_count": null,
      "outputs": []
    },
    {
      "cell_type": "markdown",
      "metadata": {
        "id": "lE-y_XpqXWGl"
      },
      "source": [
        "Usuń jeszcze raz wszystkie rekordy z brakami danych."
      ]
    },
    {
      "cell_type": "code",
      "metadata": {
        "id": "xhJAVmDWUWAQ"
      },
      "source": [
        "# tutaj wpisz rozwiązanie"
      ],
      "execution_count": null,
      "outputs": []
    },
    {
      "cell_type": "markdown",
      "metadata": {
        "id": "hOhqDRz618Tx"
      },
      "source": [
        "### <a name='7'></a> Ćwiczenie 167\n",
        "Zauważ, że zmienna _power_ jest typu _object_. Usuń 4 ostatnie znaki z każdego elementu i resztę skonwertuj na typ float. \n",
        "\n",
        "Wyświetl metodą _head()_ pięć pierwszych wierszy.\n"
      ]
    },
    {
      "cell_type": "code",
      "metadata": {
        "id": "eHQag5ocXeEK"
      },
      "source": [
        "# tutaj wpisz rozwiązanie"
      ],
      "execution_count": null,
      "outputs": []
    },
    {
      "cell_type": "markdown",
      "metadata": {
        "id": "TXUd_4631-gw"
      },
      "source": [
        "### <a name='8'></a> Ćwiczenie 168\n",
        "Pogrupuj dane na poziomie roku (_year_) i policz liczbę rekordów dla każdego roku w obiekcie _df_."
      ]
    },
    {
      "cell_type": "code",
      "metadata": {
        "id": "uqic4R3ubeIi"
      },
      "source": [
        "# tutaj wpisz rozwiązanie"
      ],
      "execution_count": null,
      "outputs": []
    },
    {
      "cell_type": "markdown",
      "metadata": {
        "id": "tgI6xEn-2AQo"
      },
      "source": [
        "### <a name='9'></a> Ćwiczenie 169\n",
        "Sprawdź rozkład zmiennej _transmission_."
      ]
    },
    {
      "cell_type": "code",
      "metadata": {
        "id": "brEIWJljb897"
      },
      "source": [
        "# tutaj wpisz rozwiązanie"
      ],
      "execution_count": null,
      "outputs": []
    },
    {
      "cell_type": "markdown",
      "metadata": {
        "id": "PmhroeCscEVn"
      },
      "source": [
        "Dokonaj następującego mapowania zmiennej _transmission_:\n",
        "* Manual -> 0\n",
        "* Automatic -> 1\n",
        "\n",
        "Wyświetl metodą _head()_ pięć pierwszych wierszy."
      ]
    },
    {
      "cell_type": "code",
      "metadata": {
        "id": "7czYbEZBb7nf"
      },
      "source": [
        "# tutaj wpisz rozwiązanie"
      ],
      "execution_count": null,
      "outputs": []
    },
    {
      "cell_type": "markdown",
      "metadata": {
        "id": "wxhpf-uq2B1I"
      },
      "source": [
        "### <a name='10'></a> Ćwiczenie 170\n",
        "Zapisz obiekt _df_ do pliku _car.csv_ (nie zapisuj indeksu)."
      ]
    },
    {
      "cell_type": "code",
      "metadata": {
        "id": "YFc0KW6URsuc"
      },
      "source": [
        "# tutaj wpisz rozwiązanie"
      ],
      "execution_count": null,
      "outputs": []
    },
    {
      "cell_type": "markdown",
      "metadata": {
        "id": "4tyThqDmDd_4"
      },
      "source": [
        "Uruchom poniższą instrukcję w celu sprawdzenia."
      ]
    },
    {
      "cell_type": "code",
      "metadata": {
        "id": "9WL0K8MGcuaY"
      },
      "source": [
        "!head car.csv"
      ],
      "execution_count": null,
      "outputs": []
    }
  ]
}