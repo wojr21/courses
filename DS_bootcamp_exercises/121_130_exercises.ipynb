{
  "nbformat": 4,
  "nbformat_minor": 0,
  "metadata": {
    "colab": {
      "name": "121-130_exercises.ipynb",
      "provenance": [],
      "collapsed_sections": [],
      "include_colab_link": true
    },
    "kernelspec": {
      "name": "python3",
      "display_name": "Python 3"
    }
  },
  "cells": [
    {
      "cell_type": "markdown",
      "metadata": {
        "id": "view-in-github",
        "colab_type": "text"
      },
      "source": [
        "<a href=\"https://colab.research.google.com/github/wojr21/courses/blob/main/DS_bootcamp_exercises/121_130_exercises.ipynb\" target=\"_parent\"><img src=\"https://colab.research.google.com/assets/colab-badge.svg\" alt=\"Open In Colab\"/></a>"
      ]
    },
    {
      "cell_type": "markdown",
      "metadata": {
        "id": "WLEgCW5F1hho"
      },
      "source": [
        "## Pandas\n",
        "\n",
        "### Spis treści:\n",
        "* [Import biblioteki](#0)\n",
        "* [Ćwiczenie 121](#1)\n",
        "* [Ćwiczenie 122](#2)\n",
        "* [Ćwiczenie 123](#3)\n",
        "* [Ćwiczenie 124](#4)\n",
        "* [Ćwiczenie 125](#5)\n",
        "* [Ćwiczenie 126](#6)\n",
        "* [Ćwiczenie 127](#7)\n",
        "* [Ćwiczenie 128](#8)\n",
        "* [Ćwiczenie 129](#9)\n",
        "* [Ćwiczenie 130](#10)"
      ]
    },
    {
      "cell_type": "markdown",
      "metadata": {
        "id": "zeLOLmTj1kBM"
      },
      "source": [
        "### <a name='0'></a>Import biblioteki"
      ]
    },
    {
      "cell_type": "code",
      "metadata": {
        "id": "HXMB7SMe1Wnz",
        "outputId": "bfc7d0a6-bcd7-4587-9a3d-2ae9d59c6114",
        "colab": {
          "base_uri": "https://localhost:8080/",
          "height": 35
        }
      },
      "source": [
        "import numpy as np\n",
        "import pandas as pd\n",
        "import seaborn as sns\n",
        "\n",
        "sns.set()\n",
        "np.__version__"
      ],
      "execution_count": 1,
      "outputs": [
        {
          "output_type": "execute_result",
          "data": {
            "application/vnd.google.colaboratory.intrinsic+json": {
              "type": "string"
            },
            "text/plain": [
              "'1.18.5'"
            ]
          },
          "metadata": {
            "tags": []
          },
          "execution_count": 1
        }
      ]
    },
    {
      "cell_type": "markdown",
      "metadata": {
        "id": "d1KXPVTVcwTX"
      },
      "source": [
        "Funkcja _fetch_financial_data()_ pobiera dane dotyczące notowań spółek giełdowych. Będzie wykorzystywana w poniższych ćwiczeniach. Aby pobrać dane konkretnej spółki należy przekazać odpowiedni ticker (symbol) spółki.\n",
        "\n",
        "Kilka przykładowych tickerów spółek:\n",
        "* AMZN - Amazon\n",
        "* GOOGL - Google\n",
        "* MSFT - Microsoft\n",
        "* AAPL - Apple\n",
        "* NKE - Nike\n",
        "* WMT - Walmart"
      ]
    },
    {
      "cell_type": "code",
      "metadata": {
        "id": "gTRegewub5oK"
      },
      "source": [
        "def fetch_financial_data(company='AMZN'):\n",
        "    \"\"\"\n",
        "    This function fetches stock market quotations.\n",
        "    \"\"\"\n",
        "    import pandas_datareader.data as web\n",
        "    return web.DataReader(name=company, data_source='stooq')"
      ],
      "execution_count": 2,
      "outputs": []
    },
    {
      "cell_type": "markdown",
      "metadata": {
        "id": "cyc70pMe1oCg"
      },
      "source": [
        "### <a name='1'></a> Ćwiczenie 121\n",
        "Wykorzystując funkcję _fetch_financial_data()_ pobierz notowania dla spółki Google (Alphabet) i przypisz do zmiennej _google_. Wyświetl obiekt _google_."
      ]
    },
    {
      "cell_type": "code",
      "metadata": {
        "id": "LtMEvHZicna7",
        "outputId": "c8005749-aed1-4774-e65c-7f8a11198176",
        "colab": {
          "base_uri": "https://localhost:8080/",
          "height": 436
        }
      },
      "source": [
        "google = fetch_financial_data(company = 'GOOGL')\r\n",
        "google"
      ],
      "execution_count": 3,
      "outputs": [
        {
          "output_type": "execute_result",
          "data": {
            "text/html": [
              "<div>\n",
              "<style scoped>\n",
              "    .dataframe tbody tr th:only-of-type {\n",
              "        vertical-align: middle;\n",
              "    }\n",
              "\n",
              "    .dataframe tbody tr th {\n",
              "        vertical-align: top;\n",
              "    }\n",
              "\n",
              "    .dataframe thead th {\n",
              "        text-align: right;\n",
              "    }\n",
              "</style>\n",
              "<table border=\"1\" class=\"dataframe\">\n",
              "  <thead>\n",
              "    <tr style=\"text-align: right;\">\n",
              "      <th></th>\n",
              "      <th>Open</th>\n",
              "      <th>High</th>\n",
              "      <th>Low</th>\n",
              "      <th>Close</th>\n",
              "      <th>Volume</th>\n",
              "    </tr>\n",
              "    <tr>\n",
              "      <th>Date</th>\n",
              "      <th></th>\n",
              "      <th></th>\n",
              "      <th></th>\n",
              "      <th></th>\n",
              "      <th></th>\n",
              "    </tr>\n",
              "  </thead>\n",
              "  <tbody>\n",
              "    <tr>\n",
              "      <th>2020-12-14</th>\n",
              "      <td>1770.72</td>\n",
              "      <td>1789.20</td>\n",
              "      <td>1749.1300</td>\n",
              "      <td>1752.26</td>\n",
              "      <td>1626039</td>\n",
              "    </tr>\n",
              "    <tr>\n",
              "      <th>2020-12-11</th>\n",
              "      <td>1760.00</td>\n",
              "      <td>1777.31</td>\n",
              "      <td>1752.7400</td>\n",
              "      <td>1774.80</td>\n",
              "      <td>931431</td>\n",
              "    </tr>\n",
              "    <tr>\n",
              "      <th>2020-12-10</th>\n",
              "      <td>1762.60</td>\n",
              "      <td>1774.99</td>\n",
              "      <td>1733.5270</td>\n",
              "      <td>1767.65</td>\n",
              "      <td>1434411</td>\n",
              "    </tr>\n",
              "    <tr>\n",
              "      <th>2020-12-09</th>\n",
              "      <td>1810.36</td>\n",
              "      <td>1828.37</td>\n",
              "      <td>1762.0001</td>\n",
              "      <td>1777.86</td>\n",
              "      <td>1585578</td>\n",
              "    </tr>\n",
              "    <tr>\n",
              "      <th>2020-12-08</th>\n",
              "      <td>1808.52</td>\n",
              "      <td>1815.97</td>\n",
              "      <td>1791.2800</td>\n",
              "      <td>1811.33</td>\n",
              "      <td>996317</td>\n",
              "    </tr>\n",
              "    <tr>\n",
              "      <th>...</th>\n",
              "      <td>...</td>\n",
              "      <td>...</td>\n",
              "      <td>...</td>\n",
              "      <td>...</td>\n",
              "      <td>...</td>\n",
              "    </tr>\n",
              "    <tr>\n",
              "      <th>2015-12-23</th>\n",
              "      <td>770.69</td>\n",
              "      <td>771.90</td>\n",
              "      <td>757.6500</td>\n",
              "      <td>768.51</td>\n",
              "      <td>1529700</td>\n",
              "    </tr>\n",
              "    <tr>\n",
              "      <th>2015-12-22</th>\n",
              "      <td>764.27</td>\n",
              "      <td>770.34</td>\n",
              "      <td>761.2000</td>\n",
              "      <td>767.13</td>\n",
              "      <td>1816845</td>\n",
              "    </tr>\n",
              "    <tr>\n",
              "      <th>2015-12-21</th>\n",
              "      <td>763.05</td>\n",
              "      <td>766.35</td>\n",
              "      <td>754.1500</td>\n",
              "      <td>760.80</td>\n",
              "      <td>1742300</td>\n",
              "    </tr>\n",
              "    <tr>\n",
              "      <th>2015-12-18</th>\n",
              "      <td>767.23</td>\n",
              "      <td>774.14</td>\n",
              "      <td>756.5900</td>\n",
              "      <td>756.85</td>\n",
              "      <td>3389700</td>\n",
              "    </tr>\n",
              "    <tr>\n",
              "      <th>2015-12-17</th>\n",
              "      <td>781.16</td>\n",
              "      <td>781.59</td>\n",
              "      <td>769.3000</td>\n",
              "      <td>769.83</td>\n",
              "      <td>1825500</td>\n",
              "    </tr>\n",
              "  </tbody>\n",
              "</table>\n",
              "<p>1257 rows × 5 columns</p>\n",
              "</div>"
            ],
            "text/plain": [
              "               Open     High        Low    Close   Volume\n",
              "Date                                                     \n",
              "2020-12-14  1770.72  1789.20  1749.1300  1752.26  1626039\n",
              "2020-12-11  1760.00  1777.31  1752.7400  1774.80   931431\n",
              "2020-12-10  1762.60  1774.99  1733.5270  1767.65  1434411\n",
              "2020-12-09  1810.36  1828.37  1762.0001  1777.86  1585578\n",
              "2020-12-08  1808.52  1815.97  1791.2800  1811.33   996317\n",
              "...             ...      ...        ...      ...      ...\n",
              "2015-12-23   770.69   771.90   757.6500   768.51  1529700\n",
              "2015-12-22   764.27   770.34   761.2000   767.13  1816845\n",
              "2015-12-21   763.05   766.35   754.1500   760.80  1742300\n",
              "2015-12-18   767.23   774.14   756.5900   756.85  3389700\n",
              "2015-12-17   781.16   781.59   769.3000   769.83  1825500\n",
              "\n",
              "[1257 rows x 5 columns]"
            ]
          },
          "metadata": {
            "tags": []
          },
          "execution_count": 3
        }
      ]
    },
    {
      "cell_type": "markdown",
      "metadata": {
        "id": "J9pY1rtr1sC0"
      },
      "source": [
        "### <a name='2'></a> Ćwiczenie 122\n",
        "Wyświetl podstawowe informacje na temat obiektu _google_."
      ]
    },
    {
      "cell_type": "code",
      "metadata": {
        "id": "0QE4WiIDeGqy",
        "outputId": "1f3e16a3-da71-448c-c66f-000c25fa7141",
        "colab": {
          "base_uri": "https://localhost:8080/"
        }
      },
      "source": [
        "google.info()"
      ],
      "execution_count": 5,
      "outputs": [
        {
          "output_type": "stream",
          "text": [
            "<class 'pandas.core.frame.DataFrame'>\n",
            "DatetimeIndex: 1257 entries, 2020-12-14 to 2015-12-17\n",
            "Data columns (total 5 columns):\n",
            " #   Column  Non-Null Count  Dtype  \n",
            "---  ------  --------------  -----  \n",
            " 0   Open    1257 non-null   float64\n",
            " 1   High    1257 non-null   float64\n",
            " 2   Low     1257 non-null   float64\n",
            " 3   Close   1257 non-null   float64\n",
            " 4   Volume  1257 non-null   int64  \n",
            "dtypes: float64(4), int64(1)\n",
            "memory usage: 58.9 KB\n"
          ],
          "name": "stdout"
        }
      ]
    },
    {
      "cell_type": "markdown",
      "metadata": {
        "id": "yic8GlyieMAv"
      },
      "source": [
        "Wyświetl podstawowe statystyki o obiekcie _google_."
      ]
    },
    {
      "cell_type": "code",
      "metadata": {
        "id": "8CiWPVl0eJ2B",
        "outputId": "9c19d9c4-5409-4cf7-86c5-9e2368ab7f4e",
        "colab": {
          "base_uri": "https://localhost:8080/",
          "height": 197
        }
      },
      "source": [
        "google.describe().T"
      ],
      "execution_count": 7,
      "outputs": [
        {
          "output_type": "execute_result",
          "data": {
            "text/html": [
              "<div>\n",
              "<style scoped>\n",
              "    .dataframe tbody tr th:only-of-type {\n",
              "        vertical-align: middle;\n",
              "    }\n",
              "\n",
              "    .dataframe tbody tr th {\n",
              "        vertical-align: top;\n",
              "    }\n",
              "\n",
              "    .dataframe thead th {\n",
              "        text-align: right;\n",
              "    }\n",
              "</style>\n",
              "<table border=\"1\" class=\"dataframe\">\n",
              "  <thead>\n",
              "    <tr style=\"text-align: right;\">\n",
              "      <th></th>\n",
              "      <th>count</th>\n",
              "      <th>mean</th>\n",
              "      <th>std</th>\n",
              "      <th>min</th>\n",
              "      <th>25%</th>\n",
              "      <th>50%</th>\n",
              "      <th>75%</th>\n",
              "      <th>max</th>\n",
              "    </tr>\n",
              "  </thead>\n",
              "  <tbody>\n",
              "    <tr>\n",
              "      <th>Open</th>\n",
              "      <td>1257.0</td>\n",
              "      <td>1.090331e+03</td>\n",
              "      <td>254.746150</td>\n",
              "      <td>682.490</td>\n",
              "      <td>849.48</td>\n",
              "      <td>1086.00</td>\n",
              "      <td>1227.00</td>\n",
              "      <td>1820.54</td>\n",
              "    </tr>\n",
              "    <tr>\n",
              "      <th>High</th>\n",
              "      <td>1257.0</td>\n",
              "      <td>1.100785e+03</td>\n",
              "      <td>258.768414</td>\n",
              "      <td>683.325</td>\n",
              "      <td>853.79</td>\n",
              "      <td>1098.00</td>\n",
              "      <td>1239.68</td>\n",
              "      <td>1843.83</td>\n",
              "    </tr>\n",
              "    <tr>\n",
              "      <th>Low</th>\n",
              "      <td>1257.0</td>\n",
              "      <td>1.079822e+03</td>\n",
              "      <td>251.683164</td>\n",
              "      <td>672.660</td>\n",
              "      <td>846.71</td>\n",
              "      <td>1072.27</td>\n",
              "      <td>1216.47</td>\n",
              "      <td>1817.00</td>\n",
              "    </tr>\n",
              "    <tr>\n",
              "      <th>Close</th>\n",
              "      <td>1257.0</td>\n",
              "      <td>1.090715e+03</td>\n",
              "      <td>255.332865</td>\n",
              "      <td>681.140</td>\n",
              "      <td>849.87</td>\n",
              "      <td>1085.09</td>\n",
              "      <td>1228.00</td>\n",
              "      <td>1824.97</td>\n",
              "    </tr>\n",
              "    <tr>\n",
              "      <th>Volume</th>\n",
              "      <td>1257.0</td>\n",
              "      <td>1.746102e+06</td>\n",
              "      <td>858880.989027</td>\n",
              "      <td>521141.000</td>\n",
              "      <td>1200908.00</td>\n",
              "      <td>1534347.00</td>\n",
              "      <td>1997999.00</td>\n",
              "      <td>6658855.00</td>\n",
              "    </tr>\n",
              "  </tbody>\n",
              "</table>\n",
              "</div>"
            ],
            "text/plain": [
              "         count          mean            std  ...         50%         75%         max\n",
              "Open    1257.0  1.090331e+03     254.746150  ...     1086.00     1227.00     1820.54\n",
              "High    1257.0  1.100785e+03     258.768414  ...     1098.00     1239.68     1843.83\n",
              "Low     1257.0  1.079822e+03     251.683164  ...     1072.27     1216.47     1817.00\n",
              "Close   1257.0  1.090715e+03     255.332865  ...     1085.09     1228.00     1824.97\n",
              "Volume  1257.0  1.746102e+06  858880.989027  ...  1534347.00  1997999.00  6658855.00\n",
              "\n",
              "[5 rows x 8 columns]"
            ]
          },
          "metadata": {
            "tags": []
          },
          "execution_count": 7
        }
      ]
    },
    {
      "cell_type": "markdown",
      "metadata": {
        "id": "OwKsy3HRf1Z5"
      },
      "source": [
        "Zwróć uwagę na precyzję zapisu poszczególnych statystyk.\n",
        "Spróbuj ustawić odpowiednie opcje biblioteki _pandas_, tak aby wyświetlać dane z dokładnością do dwóch miejsc po przecinku.\n",
        "\n",
        "__Wskazówka:__ \n",
        "https://pandas.pydata.org/pandas-docs/stable/user_guide/options.html"
      ]
    },
    {
      "cell_type": "code",
      "metadata": {
        "id": "mskz01W_gCy0",
        "outputId": "8f41e997-af55-404d-b805-d4e43dc1397e",
        "colab": {
          "base_uri": "https://localhost:8080/",
          "height": 436
        }
      },
      "source": [
        "pd.set_option('precision', 2)\r\n",
        "google"
      ],
      "execution_count": 13,
      "outputs": [
        {
          "output_type": "execute_result",
          "data": {
            "text/html": [
              "<div>\n",
              "<style scoped>\n",
              "    .dataframe tbody tr th:only-of-type {\n",
              "        vertical-align: middle;\n",
              "    }\n",
              "\n",
              "    .dataframe tbody tr th {\n",
              "        vertical-align: top;\n",
              "    }\n",
              "\n",
              "    .dataframe thead th {\n",
              "        text-align: right;\n",
              "    }\n",
              "</style>\n",
              "<table border=\"1\" class=\"dataframe\">\n",
              "  <thead>\n",
              "    <tr style=\"text-align: right;\">\n",
              "      <th></th>\n",
              "      <th>Open</th>\n",
              "      <th>High</th>\n",
              "      <th>Low</th>\n",
              "      <th>Close</th>\n",
              "      <th>Volume</th>\n",
              "    </tr>\n",
              "    <tr>\n",
              "      <th>Date</th>\n",
              "      <th></th>\n",
              "      <th></th>\n",
              "      <th></th>\n",
              "      <th></th>\n",
              "      <th></th>\n",
              "    </tr>\n",
              "  </thead>\n",
              "  <tbody>\n",
              "    <tr>\n",
              "      <th>2020-12-14</th>\n",
              "      <td>1770.72</td>\n",
              "      <td>1789.20</td>\n",
              "      <td>1749.13</td>\n",
              "      <td>1752.26</td>\n",
              "      <td>1626039</td>\n",
              "    </tr>\n",
              "    <tr>\n",
              "      <th>2020-12-11</th>\n",
              "      <td>1760.00</td>\n",
              "      <td>1777.31</td>\n",
              "      <td>1752.74</td>\n",
              "      <td>1774.80</td>\n",
              "      <td>931431</td>\n",
              "    </tr>\n",
              "    <tr>\n",
              "      <th>2020-12-10</th>\n",
              "      <td>1762.60</td>\n",
              "      <td>1774.99</td>\n",
              "      <td>1733.53</td>\n",
              "      <td>1767.65</td>\n",
              "      <td>1434411</td>\n",
              "    </tr>\n",
              "    <tr>\n",
              "      <th>2020-12-09</th>\n",
              "      <td>1810.36</td>\n",
              "      <td>1828.37</td>\n",
              "      <td>1762.00</td>\n",
              "      <td>1777.86</td>\n",
              "      <td>1585578</td>\n",
              "    </tr>\n",
              "    <tr>\n",
              "      <th>2020-12-08</th>\n",
              "      <td>1808.52</td>\n",
              "      <td>1815.97</td>\n",
              "      <td>1791.28</td>\n",
              "      <td>1811.33</td>\n",
              "      <td>996317</td>\n",
              "    </tr>\n",
              "    <tr>\n",
              "      <th>...</th>\n",
              "      <td>...</td>\n",
              "      <td>...</td>\n",
              "      <td>...</td>\n",
              "      <td>...</td>\n",
              "      <td>...</td>\n",
              "    </tr>\n",
              "    <tr>\n",
              "      <th>2015-12-23</th>\n",
              "      <td>770.69</td>\n",
              "      <td>771.90</td>\n",
              "      <td>757.65</td>\n",
              "      <td>768.51</td>\n",
              "      <td>1529700</td>\n",
              "    </tr>\n",
              "    <tr>\n",
              "      <th>2015-12-22</th>\n",
              "      <td>764.27</td>\n",
              "      <td>770.34</td>\n",
              "      <td>761.20</td>\n",
              "      <td>767.13</td>\n",
              "      <td>1816845</td>\n",
              "    </tr>\n",
              "    <tr>\n",
              "      <th>2015-12-21</th>\n",
              "      <td>763.05</td>\n",
              "      <td>766.35</td>\n",
              "      <td>754.15</td>\n",
              "      <td>760.80</td>\n",
              "      <td>1742300</td>\n",
              "    </tr>\n",
              "    <tr>\n",
              "      <th>2015-12-18</th>\n",
              "      <td>767.23</td>\n",
              "      <td>774.14</td>\n",
              "      <td>756.59</td>\n",
              "      <td>756.85</td>\n",
              "      <td>3389700</td>\n",
              "    </tr>\n",
              "    <tr>\n",
              "      <th>2015-12-17</th>\n",
              "      <td>781.16</td>\n",
              "      <td>781.59</td>\n",
              "      <td>769.30</td>\n",
              "      <td>769.83</td>\n",
              "      <td>1825500</td>\n",
              "    </tr>\n",
              "  </tbody>\n",
              "</table>\n",
              "<p>1257 rows × 5 columns</p>\n",
              "</div>"
            ],
            "text/plain": [
              "              Open    High     Low   Close   Volume\n",
              "Date                                               \n",
              "2020-12-14 1770.72 1789.20 1749.13 1752.26  1626039\n",
              "2020-12-11 1760.00 1777.31 1752.74 1774.80   931431\n",
              "2020-12-10 1762.60 1774.99 1733.53 1767.65  1434411\n",
              "2020-12-09 1810.36 1828.37 1762.00 1777.86  1585578\n",
              "2020-12-08 1808.52 1815.97 1791.28 1811.33   996317\n",
              "...            ...     ...     ...     ...      ...\n",
              "2015-12-23  770.69  771.90  757.65  768.51  1529700\n",
              "2015-12-22  764.27  770.34  761.20  767.13  1816845\n",
              "2015-12-21  763.05  766.35  754.15  760.80  1742300\n",
              "2015-12-18  767.23  774.14  756.59  756.85  3389700\n",
              "2015-12-17  781.16  781.59  769.30  769.83  1825500\n",
              "\n",
              "[1257 rows x 5 columns]"
            ]
          },
          "metadata": {
            "tags": []
          },
          "execution_count": 13
        }
      ]
    },
    {
      "cell_type": "markdown",
      "metadata": {
        "id": "iEXHrwHwheyo"
      },
      "source": [
        "__Dodatkowo:__\n",
        "Poniższe ustawienie stłumi także notację wykładniczą (patrz kolumna _Volume_)."
      ]
    },
    {
      "cell_type": "code",
      "metadata": {
        "id": "qdosioVRhGfC",
        "outputId": "f1258989-b3fb-4c43-952e-26282f432d56",
        "colab": {
          "base_uri": "https://localhost:8080/",
          "height": 287
        }
      },
      "source": [
        "pd.options.display.float_format = '{:.2f}'.format\n",
        "google.describe()"
      ],
      "execution_count": 14,
      "outputs": [
        {
          "output_type": "execute_result",
          "data": {
            "text/html": [
              "<div>\n",
              "<style scoped>\n",
              "    .dataframe tbody tr th:only-of-type {\n",
              "        vertical-align: middle;\n",
              "    }\n",
              "\n",
              "    .dataframe tbody tr th {\n",
              "        vertical-align: top;\n",
              "    }\n",
              "\n",
              "    .dataframe thead th {\n",
              "        text-align: right;\n",
              "    }\n",
              "</style>\n",
              "<table border=\"1\" class=\"dataframe\">\n",
              "  <thead>\n",
              "    <tr style=\"text-align: right;\">\n",
              "      <th></th>\n",
              "      <th>Open</th>\n",
              "      <th>High</th>\n",
              "      <th>Low</th>\n",
              "      <th>Close</th>\n",
              "      <th>Volume</th>\n",
              "    </tr>\n",
              "  </thead>\n",
              "  <tbody>\n",
              "    <tr>\n",
              "      <th>count</th>\n",
              "      <td>1257.00</td>\n",
              "      <td>1257.00</td>\n",
              "      <td>1257.00</td>\n",
              "      <td>1257.00</td>\n",
              "      <td>1257.00</td>\n",
              "    </tr>\n",
              "    <tr>\n",
              "      <th>mean</th>\n",
              "      <td>1090.33</td>\n",
              "      <td>1100.79</td>\n",
              "      <td>1079.82</td>\n",
              "      <td>1090.72</td>\n",
              "      <td>1746101.80</td>\n",
              "    </tr>\n",
              "    <tr>\n",
              "      <th>std</th>\n",
              "      <td>254.75</td>\n",
              "      <td>258.77</td>\n",
              "      <td>251.68</td>\n",
              "      <td>255.33</td>\n",
              "      <td>858880.99</td>\n",
              "    </tr>\n",
              "    <tr>\n",
              "      <th>min</th>\n",
              "      <td>682.49</td>\n",
              "      <td>683.33</td>\n",
              "      <td>672.66</td>\n",
              "      <td>681.14</td>\n",
              "      <td>521141.00</td>\n",
              "    </tr>\n",
              "    <tr>\n",
              "      <th>25%</th>\n",
              "      <td>849.48</td>\n",
              "      <td>853.79</td>\n",
              "      <td>846.71</td>\n",
              "      <td>849.87</td>\n",
              "      <td>1200908.00</td>\n",
              "    </tr>\n",
              "    <tr>\n",
              "      <th>50%</th>\n",
              "      <td>1086.00</td>\n",
              "      <td>1098.00</td>\n",
              "      <td>1072.27</td>\n",
              "      <td>1085.09</td>\n",
              "      <td>1534347.00</td>\n",
              "    </tr>\n",
              "    <tr>\n",
              "      <th>75%</th>\n",
              "      <td>1227.00</td>\n",
              "      <td>1239.68</td>\n",
              "      <td>1216.47</td>\n",
              "      <td>1228.00</td>\n",
              "      <td>1997999.00</td>\n",
              "    </tr>\n",
              "    <tr>\n",
              "      <th>max</th>\n",
              "      <td>1820.54</td>\n",
              "      <td>1843.83</td>\n",
              "      <td>1817.00</td>\n",
              "      <td>1824.97</td>\n",
              "      <td>6658855.00</td>\n",
              "    </tr>\n",
              "  </tbody>\n",
              "</table>\n",
              "</div>"
            ],
            "text/plain": [
              "         Open    High     Low   Close     Volume\n",
              "count 1257.00 1257.00 1257.00 1257.00    1257.00\n",
              "mean  1090.33 1100.79 1079.82 1090.72 1746101.80\n",
              "std    254.75  258.77  251.68  255.33  858880.99\n",
              "min    682.49  683.33  672.66  681.14  521141.00\n",
              "25%    849.48  853.79  846.71  849.87 1200908.00\n",
              "50%   1086.00 1098.00 1072.27 1085.09 1534347.00\n",
              "75%   1227.00 1239.68 1216.47 1228.00 1997999.00\n",
              "max   1820.54 1843.83 1817.00 1824.97 6658855.00"
            ]
          },
          "metadata": {
            "tags": []
          },
          "execution_count": 14
        }
      ]
    },
    {
      "cell_type": "markdown",
      "metadata": {
        "id": "p12duQuPlWSU"
      },
      "source": [
        "Zbuduj wykres ceny zamknięcia (_Close_) dla obiektu _google_."
      ]
    },
    {
      "cell_type": "code",
      "metadata": {
        "id": "tmpm-uiAlKgv",
        "outputId": "30a4411b-e861-48b2-ebe9-b0ba772fe77d",
        "colab": {
          "base_uri": "https://localhost:8080/",
          "height": 275
        }
      },
      "source": [
        "_ = google['Close'].plot(kind = 'line')"
      ],
      "execution_count": 17,
      "outputs": [
        {
          "output_type": "display_data",
          "data": {
            "image/png": "[encoded data removed]",
            "text/plain": [
              "<Figure size 432x288 with 1 Axes>"
            ]
          },
          "metadata": {
            "tags": [],
            "needs_background": "light"
          }
        }
      ]
    },
    {
      "cell_type": "markdown",
      "metadata": {
        "id": "XQLYT2m11wVG"
      },
      "source": [
        "### <a name='3'></a> Ćwiczenie 123\n",
        "Zamień indeks _Date_ na kolumnę. Przypisz trwale zmiany do zniennej _google_."
      ]
    },
    {
      "cell_type": "code",
      "metadata": {
        "id": "Ac1OnxjOh3fa",
        "outputId": "296c0937-565b-42c6-b013-99e87607cb56",
        "colab": {
          "base_uri": "https://localhost:8080/",
          "height": 406
        }
      },
      "source": [
        "google = google.reset_index()\r\n",
        "google"
      ],
      "execution_count": 18,
      "outputs": [
        {
          "output_type": "execute_result",
          "data": {
            "text/html": [
              "<div>\n",
              "<style scoped>\n",
              "    .dataframe tbody tr th:only-of-type {\n",
              "        vertical-align: middle;\n",
              "    }\n",
              "\n",
              "    .dataframe tbody tr th {\n",
              "        vertical-align: top;\n",
              "    }\n",
              "\n",
              "    .dataframe thead th {\n",
              "        text-align: right;\n",
              "    }\n",
              "</style>\n",
              "<table border=\"1\" class=\"dataframe\">\n",
              "  <thead>\n",
              "    <tr style=\"text-align: right;\">\n",
              "      <th></th>\n",
              "      <th>Date</th>\n",
              "      <th>Open</th>\n",
              "      <th>High</th>\n",
              "      <th>Low</th>\n",
              "      <th>Close</th>\n",
              "      <th>Volume</th>\n",
              "    </tr>\n",
              "  </thead>\n",
              "  <tbody>\n",
              "    <tr>\n",
              "      <th>0</th>\n",
              "      <td>2020-12-14</td>\n",
              "      <td>1770.72</td>\n",
              "      <td>1789.20</td>\n",
              "      <td>1749.13</td>\n",
              "      <td>1752.26</td>\n",
              "      <td>1626039</td>\n",
              "    </tr>\n",
              "    <tr>\n",
              "      <th>1</th>\n",
              "      <td>2020-12-11</td>\n",
              "      <td>1760.00</td>\n",
              "      <td>1777.31</td>\n",
              "      <td>1752.74</td>\n",
              "      <td>1774.80</td>\n",
              "      <td>931431</td>\n",
              "    </tr>\n",
              "    <tr>\n",
              "      <th>2</th>\n",
              "      <td>2020-12-10</td>\n",
              "      <td>1762.60</td>\n",
              "      <td>1774.99</td>\n",
              "      <td>1733.53</td>\n",
              "      <td>1767.65</td>\n",
              "      <td>1434411</td>\n",
              "    </tr>\n",
              "    <tr>\n",
              "      <th>3</th>\n",
              "      <td>2020-12-09</td>\n",
              "      <td>1810.36</td>\n",
              "      <td>1828.37</td>\n",
              "      <td>1762.00</td>\n",
              "      <td>1777.86</td>\n",
              "      <td>1585578</td>\n",
              "    </tr>\n",
              "    <tr>\n",
              "      <th>4</th>\n",
              "      <td>2020-12-08</td>\n",
              "      <td>1808.52</td>\n",
              "      <td>1815.97</td>\n",
              "      <td>1791.28</td>\n",
              "      <td>1811.33</td>\n",
              "      <td>996317</td>\n",
              "    </tr>\n",
              "    <tr>\n",
              "      <th>...</th>\n",
              "      <td>...</td>\n",
              "      <td>...</td>\n",
              "      <td>...</td>\n",
              "      <td>...</td>\n",
              "      <td>...</td>\n",
              "      <td>...</td>\n",
              "    </tr>\n",
              "    <tr>\n",
              "      <th>1252</th>\n",
              "      <td>2015-12-23</td>\n",
              "      <td>770.69</td>\n",
              "      <td>771.90</td>\n",
              "      <td>757.65</td>\n",
              "      <td>768.51</td>\n",
              "      <td>1529700</td>\n",
              "    </tr>\n",
              "    <tr>\n",
              "      <th>1253</th>\n",
              "      <td>2015-12-22</td>\n",
              "      <td>764.27</td>\n",
              "      <td>770.34</td>\n",
              "      <td>761.20</td>\n",
              "      <td>767.13</td>\n",
              "      <td>1816845</td>\n",
              "    </tr>\n",
              "    <tr>\n",
              "      <th>1254</th>\n",
              "      <td>2015-12-21</td>\n",
              "      <td>763.05</td>\n",
              "      <td>766.35</td>\n",
              "      <td>754.15</td>\n",
              "      <td>760.80</td>\n",
              "      <td>1742300</td>\n",
              "    </tr>\n",
              "    <tr>\n",
              "      <th>1255</th>\n",
              "      <td>2015-12-18</td>\n",
              "      <td>767.23</td>\n",
              "      <td>774.14</td>\n",
              "      <td>756.59</td>\n",
              "      <td>756.85</td>\n",
              "      <td>3389700</td>\n",
              "    </tr>\n",
              "    <tr>\n",
              "      <th>1256</th>\n",
              "      <td>2015-12-17</td>\n",
              "      <td>781.16</td>\n",
              "      <td>781.59</td>\n",
              "      <td>769.30</td>\n",
              "      <td>769.83</td>\n",
              "      <td>1825500</td>\n",
              "    </tr>\n",
              "  </tbody>\n",
              "</table>\n",
              "<p>1257 rows × 6 columns</p>\n",
              "</div>"
            ],
            "text/plain": [
              "           Date    Open    High     Low   Close   Volume\n",
              "0    2020-12-14 1770.72 1789.20 1749.13 1752.26  1626039\n",
              "1    2020-12-11 1760.00 1777.31 1752.74 1774.80   931431\n",
              "2    2020-12-10 1762.60 1774.99 1733.53 1767.65  1434411\n",
              "3    2020-12-09 1810.36 1828.37 1762.00 1777.86  1585578\n",
              "4    2020-12-08 1808.52 1815.97 1791.28 1811.33   996317\n",
              "...         ...     ...     ...     ...     ...      ...\n",
              "1252 2015-12-23  770.69  771.90  757.65  768.51  1529700\n",
              "1253 2015-12-22  764.27  770.34  761.20  767.13  1816845\n",
              "1254 2015-12-21  763.05  766.35  754.15  760.80  1742300\n",
              "1255 2015-12-18  767.23  774.14  756.59  756.85  3389700\n",
              "1256 2015-12-17  781.16  781.59  769.30  769.83  1825500\n",
              "\n",
              "[1257 rows x 6 columns]"
            ]
          },
          "metadata": {
            "tags": []
          },
          "execution_count": 18
        }
      ]
    },
    {
      "cell_type": "markdown",
      "metadata": {
        "id": "SRfQiXpGiXBc"
      },
      "source": [
        "Przypisz dwie nowe kolumny do obiektu _google_ dodając kolumnę z aktualnym numerem miesiąca o nazwie _'Month'_ oraz z rokiem o nazwie _'Year'_."
      ]
    },
    {
      "cell_type": "code",
      "metadata": {
        "id": "S32izk-BiL_q",
        "outputId": "5b6d24a1-0713-4794-ae0a-2c79bf9ec4bf",
        "colab": {
          "base_uri": "https://localhost:8080/",
          "height": 406
        }
      },
      "source": [
        "google['Month'] = google['Date'].dt.month\r\n",
        "google['Year'] = google['Date'].dt.year\r\n",
        "google"
      ],
      "execution_count": 21,
      "outputs": [
        {
          "output_type": "execute_result",
          "data": {
            "text/html": [
              "<div>\n",
              "<style scoped>\n",
              "    .dataframe tbody tr th:only-of-type {\n",
              "        vertical-align: middle;\n",
              "    }\n",
              "\n",
              "    .dataframe tbody tr th {\n",
              "        vertical-align: top;\n",
              "    }\n",
              "\n",
              "    .dataframe thead th {\n",
              "        text-align: right;\n",
              "    }\n",
              "</style>\n",
              "<table border=\"1\" class=\"dataframe\">\n",
              "  <thead>\n",
              "    <tr style=\"text-align: right;\">\n",
              "      <th></th>\n",
              "      <th>Date</th>\n",
              "      <th>Open</th>\n",
              "      <th>High</th>\n",
              "      <th>Low</th>\n",
              "      <th>Close</th>\n",
              "      <th>Volume</th>\n",
              "      <th>Month</th>\n",
              "      <th>Year</th>\n",
              "    </tr>\n",
              "  </thead>\n",
              "  <tbody>\n",
              "    <tr>\n",
              "      <th>0</th>\n",
              "      <td>2020-12-14</td>\n",
              "      <td>1770.72</td>\n",
              "      <td>1789.20</td>\n",
              "      <td>1749.13</td>\n",
              "      <td>1752.26</td>\n",
              "      <td>1626039</td>\n",
              "      <td>12</td>\n",
              "      <td>2020</td>\n",
              "    </tr>\n",
              "    <tr>\n",
              "      <th>1</th>\n",
              "      <td>2020-12-11</td>\n",
              "      <td>1760.00</td>\n",
              "      <td>1777.31</td>\n",
              "      <td>1752.74</td>\n",
              "      <td>1774.80</td>\n",
              "      <td>931431</td>\n",
              "      <td>12</td>\n",
              "      <td>2020</td>\n",
              "    </tr>\n",
              "    <tr>\n",
              "      <th>2</th>\n",
              "      <td>2020-12-10</td>\n",
              "      <td>1762.60</td>\n",
              "      <td>1774.99</td>\n",
              "      <td>1733.53</td>\n",
              "      <td>1767.65</td>\n",
              "      <td>1434411</td>\n",
              "      <td>12</td>\n",
              "      <td>2020</td>\n",
              "    </tr>\n",
              "    <tr>\n",
              "      <th>3</th>\n",
              "      <td>2020-12-09</td>\n",
              "      <td>1810.36</td>\n",
              "      <td>1828.37</td>\n",
              "      <td>1762.00</td>\n",
              "      <td>1777.86</td>\n",
              "      <td>1585578</td>\n",
              "      <td>12</td>\n",
              "      <td>2020</td>\n",
              "    </tr>\n",
              "    <tr>\n",
              "      <th>4</th>\n",
              "      <td>2020-12-08</td>\n",
              "      <td>1808.52</td>\n",
              "      <td>1815.97</td>\n",
              "      <td>1791.28</td>\n",
              "      <td>1811.33</td>\n",
              "      <td>996317</td>\n",
              "      <td>12</td>\n",
              "      <td>2020</td>\n",
              "    </tr>\n",
              "    <tr>\n",
              "      <th>...</th>\n",
              "      <td>...</td>\n",
              "      <td>...</td>\n",
              "      <td>...</td>\n",
              "      <td>...</td>\n",
              "      <td>...</td>\n",
              "      <td>...</td>\n",
              "      <td>...</td>\n",
              "      <td>...</td>\n",
              "    </tr>\n",
              "    <tr>\n",
              "      <th>1252</th>\n",
              "      <td>2015-12-23</td>\n",
              "      <td>770.69</td>\n",
              "      <td>771.90</td>\n",
              "      <td>757.65</td>\n",
              "      <td>768.51</td>\n",
              "      <td>1529700</td>\n",
              "      <td>12</td>\n",
              "      <td>2015</td>\n",
              "    </tr>\n",
              "    <tr>\n",
              "      <th>1253</th>\n",
              "      <td>2015-12-22</td>\n",
              "      <td>764.27</td>\n",
              "      <td>770.34</td>\n",
              "      <td>761.20</td>\n",
              "      <td>767.13</td>\n",
              "      <td>1816845</td>\n",
              "      <td>12</td>\n",
              "      <td>2015</td>\n",
              "    </tr>\n",
              "    <tr>\n",
              "      <th>1254</th>\n",
              "      <td>2015-12-21</td>\n",
              "      <td>763.05</td>\n",
              "      <td>766.35</td>\n",
              "      <td>754.15</td>\n",
              "      <td>760.80</td>\n",
              "      <td>1742300</td>\n",
              "      <td>12</td>\n",
              "      <td>2015</td>\n",
              "    </tr>\n",
              "    <tr>\n",
              "      <th>1255</th>\n",
              "      <td>2015-12-18</td>\n",
              "      <td>767.23</td>\n",
              "      <td>774.14</td>\n",
              "      <td>756.59</td>\n",
              "      <td>756.85</td>\n",
              "      <td>3389700</td>\n",
              "      <td>12</td>\n",
              "      <td>2015</td>\n",
              "    </tr>\n",
              "    <tr>\n",
              "      <th>1256</th>\n",
              "      <td>2015-12-17</td>\n",
              "      <td>781.16</td>\n",
              "      <td>781.59</td>\n",
              "      <td>769.30</td>\n",
              "      <td>769.83</td>\n",
              "      <td>1825500</td>\n",
              "      <td>12</td>\n",
              "      <td>2015</td>\n",
              "    </tr>\n",
              "  </tbody>\n",
              "</table>\n",
              "<p>1257 rows × 8 columns</p>\n",
              "</div>"
            ],
            "text/plain": [
              "           Date    Open    High     Low   Close   Volume  Month  Year\n",
              "0    2020-12-14 1770.72 1789.20 1749.13 1752.26  1626039     12  2020\n",
              "1    2020-12-11 1760.00 1777.31 1752.74 1774.80   931431     12  2020\n",
              "2    2020-12-10 1762.60 1774.99 1733.53 1767.65  1434411     12  2020\n",
              "3    2020-12-09 1810.36 1828.37 1762.00 1777.86  1585578     12  2020\n",
              "4    2020-12-08 1808.52 1815.97 1791.28 1811.33   996317     12  2020\n",
              "...         ...     ...     ...     ...     ...      ...    ...   ...\n",
              "1252 2015-12-23  770.69  771.90  757.65  768.51  1529700     12  2015\n",
              "1253 2015-12-22  764.27  770.34  761.20  767.13  1816845     12  2015\n",
              "1254 2015-12-21  763.05  766.35  754.15  760.80  1742300     12  2015\n",
              "1255 2015-12-18  767.23  774.14  756.59  756.85  3389700     12  2015\n",
              "1256 2015-12-17  781.16  781.59  769.30  769.83  1825500     12  2015\n",
              "\n",
              "[1257 rows x 8 columns]"
            ]
          },
          "metadata": {
            "tags": []
          },
          "execution_count": 21
        }
      ]
    },
    {
      "cell_type": "markdown",
      "metadata": {
        "id": "4xTKSUzg10MK"
      },
      "source": [
        "### <a name='4'></a> Ćwiczenie 124\n",
        "Policz średnią cenę zamknięcia (_Close_) dla poszczególnego roku (pogrupuj dane po roku - kolumna _Year_ i następnie policz wartość średnią)."
      ]
    },
    {
      "cell_type": "code",
      "metadata": {
        "id": "wSFs7z0Qi3Y7",
        "outputId": "916dd2b9-e7de-4c04-eafb-1d9e6583ce31",
        "colab": {
          "base_uri": "https://localhost:8080/"
        }
      },
      "source": [
        "google.groupby('Year')['Close'].mean()"
      ],
      "execution_count": 23,
      "outputs": [
        {
          "output_type": "execute_result",
          "data": {
            "text/plain": [
              "Year\n",
              "2015    773.35\n",
              "2016    763.21\n",
              "2017    939.77\n",
              "2018   1122.05\n",
              "2019   1191.22\n",
              "2020   1465.82\n",
              "Name: Close, dtype: float64"
            ]
          },
          "metadata": {
            "tags": []
          },
          "execution_count": 23
        }
      ]
    },
    {
      "cell_type": "markdown",
      "metadata": {
        "id": "DSqQjdS4j-wl"
      },
      "source": [
        "Otrzymane wartości przedstaw na wykresie wykorzystując metodę _plot()_."
      ]
    },
    {
      "cell_type": "code",
      "metadata": {
        "id": "0nBtvC2tjaTK",
        "outputId": "57781cc9-6c2b-472d-a0d1-3385c2efedc7",
        "colab": {
          "base_uri": "https://localhost:8080/",
          "height": 288
        }
      },
      "source": [
        "_ = google.groupby('Year')['Close'].mean().plot()"
      ],
      "execution_count": 24,
      "outputs": [
        {
          "output_type": "display_data",
          "data": {
            "image/png": "[encoded data removed]",
            "text/plain": [
              "<Figure size 432x288 with 1 Axes>"
            ]
          },
          "metadata": {
            "tags": [],
            "needs_background": "light"
          }
        }
      ]
    },
    {
      "cell_type": "markdown",
      "metadata": {
        "id": "RduPz9PDkR2-"
      },
      "source": [
        "Policz średnią cenę zamknięcia (_Close_) dla miesiąca (pogrupuj dane po miesiącu - kolumna _Month_ i następnie policz wartość średnią)."
      ]
    },
    {
      "cell_type": "code",
      "metadata": {
        "id": "4Vd83xT_kIsg",
        "outputId": "f4238309-759e-4f01-be32-d2c28650486d",
        "colab": {
          "base_uri": "https://localhost:8080/"
        }
      },
      "source": [
        "google.groupby('Month')['Close'].mean()"
      ],
      "execution_count": 25,
      "outputs": [
        {
          "output_type": "execute_result",
          "data": {
            "text/plain": [
              "Month\n",
              "1    1052.83\n",
              "2    1044.11\n",
              "3    1008.99\n",
              "4    1027.07\n",
              "5    1057.08\n",
              "6    1070.44\n",
              "7    1123.99\n",
              "8    1133.65\n",
              "9    1133.02\n",
              "10   1145.27\n",
              "11   1182.34\n",
              "12   1105.60\n",
              "Name: Close, dtype: float64"
            ]
          },
          "metadata": {
            "tags": []
          },
          "execution_count": 25
        }
      ]
    },
    {
      "cell_type": "markdown",
      "metadata": {
        "id": "ytITHhjjkaoO"
      },
      "source": [
        "Otrzymane wartości przedstaw na wykresie wykorzystując metodę _plot()_.\n",
        "Zauważ, które miesiące mogą wskazywać na słabsze okresy na giełdzie."
      ]
    },
    {
      "cell_type": "code",
      "metadata": {
        "id": "ob02yPQRkK3E",
        "outputId": "4df41359-c22e-4dba-943d-b76a720680b1",
        "colab": {
          "base_uri": "https://localhost:8080/",
          "height": 284
        }
      },
      "source": [
        "_ = google.groupby('Month')['Close'].mean().plot()"
      ],
      "execution_count": 26,
      "outputs": [
        {
          "output_type": "display_data",
          "data": {
            "image/png": "[encoded data removed]",
            "text/plain": [
              "<Figure size 432x288 with 1 Axes>"
            ]
          },
          "metadata": {
            "tags": [],
            "needs_background": "light"
          }
        }
      ]
    },
    {
      "cell_type": "markdown",
      "metadata": {
        "id": "o3HKIKlP15Ro"
      },
      "source": [
        "### <a name='5'></a> Ćwiczenie 125\n",
        "Pogrupuj dane z obiektu _google_ na poziomie roku i miesiąca. Następnie policz wartość średnią."
      ]
    },
    {
      "cell_type": "code",
      "metadata": {
        "id": "DptCcOtNkokd",
        "outputId": "cb8376f6-a076-40ec-84a5-cf0b6fdad3c0",
        "colab": {
          "base_uri": "https://localhost:8080/"
        }
      },
      "source": [
        "google.groupby(['Year', 'Month'])['Close'].mean()"
      ],
      "execution_count": 28,
      "outputs": [
        {
          "output_type": "execute_result",
          "data": {
            "text/plain": [
              "Year  Month\n",
              "2015  12       773.35\n",
              "2016  1        736.58\n",
              "      2        724.39\n",
              "      3        746.79\n",
              "      4        756.66\n",
              "                ...  \n",
              "2020  8       1545.02\n",
              "      9       1511.50\n",
              "      10      1541.92\n",
              "      11      1743.39\n",
              "      12      1796.69\n",
              "Name: Close, Length: 61, dtype: float64"
            ]
          },
          "metadata": {
            "tags": []
          },
          "execution_count": 28
        }
      ]
    },
    {
      "cell_type": "markdown",
      "metadata": {
        "id": "PunXd_Ey16so"
      },
      "source": [
        "### <a name='6'></a> Ćwiczenie 126\n",
        "Znajdź indeks dla którego kolumna _Close_ przyjmuje wartość największą."
      ]
    },
    {
      "cell_type": "code",
      "metadata": {
        "id": "PIUT3b7Rm7v1",
        "outputId": "259e713b-0b20-42d8-aa11-5c30f1509087",
        "colab": {
          "base_uri": "https://localhost:8080/"
        }
      },
      "source": [
        "google['Close'].argmax()"
      ],
      "execution_count": 30,
      "outputs": [
        {
          "output_type": "execute_result",
          "data": {
            "text/plain": [
              "8"
            ]
          },
          "metadata": {
            "tags": []
          },
          "execution_count": 30
        }
      ]
    },
    {
      "cell_type": "markdown",
      "metadata": {
        "id": "WETiC6NEnPm0"
      },
      "source": [
        "Wytnij wiersz dla tego indeksu z obiektu _google_ jako obiekt DataFrame. Odczytaj datę."
      ]
    },
    {
      "cell_type": "code",
      "metadata": {
        "id": "XccuGttMnL_d",
        "outputId": "a514c7b3-874d-48e1-af80-1bcb858dbd87",
        "colab": {
          "base_uri": "https://localhost:8080/",
          "height": 77
        }
      },
      "source": [
        "google.iloc[[google['Close'].argmax()]]"
      ],
      "execution_count": 33,
      "outputs": [
        {
          "output_type": "execute_result",
          "data": {
            "text/html": [
              "<div>\n",
              "<style scoped>\n",
              "    .dataframe tbody tr th:only-of-type {\n",
              "        vertical-align: middle;\n",
              "    }\n",
              "\n",
              "    .dataframe tbody tr th {\n",
              "        vertical-align: top;\n",
              "    }\n",
              "\n",
              "    .dataframe thead th {\n",
              "        text-align: right;\n",
              "    }\n",
              "</style>\n",
              "<table border=\"1\" class=\"dataframe\">\n",
              "  <thead>\n",
              "    <tr style=\"text-align: right;\">\n",
              "      <th></th>\n",
              "      <th>Date</th>\n",
              "      <th>Open</th>\n",
              "      <th>High</th>\n",
              "      <th>Low</th>\n",
              "      <th>Close</th>\n",
              "      <th>Volume</th>\n",
              "      <th>Month</th>\n",
              "      <th>Year</th>\n",
              "    </tr>\n",
              "  </thead>\n",
              "  <tbody>\n",
              "    <tr>\n",
              "      <th>8</th>\n",
              "      <td>2020-12-02</td>\n",
              "      <td>1795.36</td>\n",
              "      <td>1832.74</td>\n",
              "      <td>1785.17</td>\n",
              "      <td>1824.97</td>\n",
              "      <td>1471235</td>\n",
              "      <td>12</td>\n",
              "      <td>2020</td>\n",
              "    </tr>\n",
              "  </tbody>\n",
              "</table>\n",
              "</div>"
            ],
            "text/plain": [
              "        Date    Open    High     Low   Close   Volume  Month  Year\n",
              "8 2020-12-02 1795.36 1832.74 1785.17 1824.97  1471235     12  2020"
            ]
          },
          "metadata": {
            "tags": []
          },
          "execution_count": 33
        }
      ]
    },
    {
      "cell_type": "markdown",
      "metadata": {
        "id": "hOhqDRz618Tx"
      },
      "source": [
        "### <a name='7'></a> Ćwiczenie 127\n",
        "Z obiektu _google_ wytnij kolumny _Date_, _Open_, _Close_, _Volume_.\n",
        "Nie zmieniaj pierwotnego obiektu _google_!\n"
      ]
    },
    {
      "cell_type": "code",
      "metadata": {
        "id": "P17Vtv4imw28",
        "outputId": "4ea3e958-3096-4a25-97f2-437e16ace9cd",
        "colab": {
          "base_uri": "https://localhost:8080/",
          "height": 406
        }
      },
      "source": [
        "google.loc[:, ['Date', 'Open', 'Close', 'Volume']]"
      ],
      "execution_count": 34,
      "outputs": [
        {
          "output_type": "execute_result",
          "data": {
            "text/html": [
              "<div>\n",
              "<style scoped>\n",
              "    .dataframe tbody tr th:only-of-type {\n",
              "        vertical-align: middle;\n",
              "    }\n",
              "\n",
              "    .dataframe tbody tr th {\n",
              "        vertical-align: top;\n",
              "    }\n",
              "\n",
              "    .dataframe thead th {\n",
              "        text-align: right;\n",
              "    }\n",
              "</style>\n",
              "<table border=\"1\" class=\"dataframe\">\n",
              "  <thead>\n",
              "    <tr style=\"text-align: right;\">\n",
              "      <th></th>\n",
              "      <th>Date</th>\n",
              "      <th>Open</th>\n",
              "      <th>Close</th>\n",
              "      <th>Volume</th>\n",
              "    </tr>\n",
              "  </thead>\n",
              "  <tbody>\n",
              "    <tr>\n",
              "      <th>0</th>\n",
              "      <td>2020-12-14</td>\n",
              "      <td>1770.72</td>\n",
              "      <td>1752.26</td>\n",
              "      <td>1626039</td>\n",
              "    </tr>\n",
              "    <tr>\n",
              "      <th>1</th>\n",
              "      <td>2020-12-11</td>\n",
              "      <td>1760.00</td>\n",
              "      <td>1774.80</td>\n",
              "      <td>931431</td>\n",
              "    </tr>\n",
              "    <tr>\n",
              "      <th>2</th>\n",
              "      <td>2020-12-10</td>\n",
              "      <td>1762.60</td>\n",
              "      <td>1767.65</td>\n",
              "      <td>1434411</td>\n",
              "    </tr>\n",
              "    <tr>\n",
              "      <th>3</th>\n",
              "      <td>2020-12-09</td>\n",
              "      <td>1810.36</td>\n",
              "      <td>1777.86</td>\n",
              "      <td>1585578</td>\n",
              "    </tr>\n",
              "    <tr>\n",
              "      <th>4</th>\n",
              "      <td>2020-12-08</td>\n",
              "      <td>1808.52</td>\n",
              "      <td>1811.33</td>\n",
              "      <td>996317</td>\n",
              "    </tr>\n",
              "    <tr>\n",
              "      <th>...</th>\n",
              "      <td>...</td>\n",
              "      <td>...</td>\n",
              "      <td>...</td>\n",
              "      <td>...</td>\n",
              "    </tr>\n",
              "    <tr>\n",
              "      <th>1252</th>\n",
              "      <td>2015-12-23</td>\n",
              "      <td>770.69</td>\n",
              "      <td>768.51</td>\n",
              "      <td>1529700</td>\n",
              "    </tr>\n",
              "    <tr>\n",
              "      <th>1253</th>\n",
              "      <td>2015-12-22</td>\n",
              "      <td>764.27</td>\n",
              "      <td>767.13</td>\n",
              "      <td>1816845</td>\n",
              "    </tr>\n",
              "    <tr>\n",
              "      <th>1254</th>\n",
              "      <td>2015-12-21</td>\n",
              "      <td>763.05</td>\n",
              "      <td>760.80</td>\n",
              "      <td>1742300</td>\n",
              "    </tr>\n",
              "    <tr>\n",
              "      <th>1255</th>\n",
              "      <td>2015-12-18</td>\n",
              "      <td>767.23</td>\n",
              "      <td>756.85</td>\n",
              "      <td>3389700</td>\n",
              "    </tr>\n",
              "    <tr>\n",
              "      <th>1256</th>\n",
              "      <td>2015-12-17</td>\n",
              "      <td>781.16</td>\n",
              "      <td>769.83</td>\n",
              "      <td>1825500</td>\n",
              "    </tr>\n",
              "  </tbody>\n",
              "</table>\n",
              "<p>1257 rows × 4 columns</p>\n",
              "</div>"
            ],
            "text/plain": [
              "           Date    Open   Close   Volume\n",
              "0    2020-12-14 1770.72 1752.26  1626039\n",
              "1    2020-12-11 1760.00 1774.80   931431\n",
              "2    2020-12-10 1762.60 1767.65  1434411\n",
              "3    2020-12-09 1810.36 1777.86  1585578\n",
              "4    2020-12-08 1808.52 1811.33   996317\n",
              "...         ...     ...     ...      ...\n",
              "1252 2015-12-23  770.69  768.51  1529700\n",
              "1253 2015-12-22  764.27  767.13  1816845\n",
              "1254 2015-12-21  763.05  760.80  1742300\n",
              "1255 2015-12-18  767.23  756.85  3389700\n",
              "1256 2015-12-17  781.16  769.83  1825500\n",
              "\n",
              "[1257 rows x 4 columns]"
            ]
          },
          "metadata": {
            "tags": []
          },
          "execution_count": 34
        }
      ]
    },
    {
      "cell_type": "markdown",
      "metadata": {
        "id": "TXUd_4631-gw"
      },
      "source": [
        "### <a name='8'></a> Ćwiczenie 128\n",
        "Ustaw z powrotem indeks dla kolumny _Date_. Wyświetl obiekt _google_."
      ]
    },
    {
      "cell_type": "code",
      "metadata": {
        "id": "E4zwlRNFoMMz",
        "outputId": "e8d9d2bd-137b-4300-f5ee-3f21bda275a7",
        "colab": {
          "base_uri": "https://localhost:8080/",
          "height": 436
        }
      },
      "source": [
        "google = google.set_index('Date')\r\n",
        "google"
      ],
      "execution_count": 36,
      "outputs": [
        {
          "output_type": "execute_result",
          "data": {
            "text/html": [
              "<div>\n",
              "<style scoped>\n",
              "    .dataframe tbody tr th:only-of-type {\n",
              "        vertical-align: middle;\n",
              "    }\n",
              "\n",
              "    .dataframe tbody tr th {\n",
              "        vertical-align: top;\n",
              "    }\n",
              "\n",
              "    .dataframe thead th {\n",
              "        text-align: right;\n",
              "    }\n",
              "</style>\n",
              "<table border=\"1\" class=\"dataframe\">\n",
              "  <thead>\n",
              "    <tr style=\"text-align: right;\">\n",
              "      <th></th>\n",
              "      <th>Open</th>\n",
              "      <th>High</th>\n",
              "      <th>Low</th>\n",
              "      <th>Close</th>\n",
              "      <th>Volume</th>\n",
              "      <th>Month</th>\n",
              "      <th>Year</th>\n",
              "    </tr>\n",
              "    <tr>\n",
              "      <th>Date</th>\n",
              "      <th></th>\n",
              "      <th></th>\n",
              "      <th></th>\n",
              "      <th></th>\n",
              "      <th></th>\n",
              "      <th></th>\n",
              "      <th></th>\n",
              "    </tr>\n",
              "  </thead>\n",
              "  <tbody>\n",
              "    <tr>\n",
              "      <th>2020-12-14</th>\n",
              "      <td>1770.72</td>\n",
              "      <td>1789.20</td>\n",
              "      <td>1749.13</td>\n",
              "      <td>1752.26</td>\n",
              "      <td>1626039</td>\n",
              "      <td>12</td>\n",
              "      <td>2020</td>\n",
              "    </tr>\n",
              "    <tr>\n",
              "      <th>2020-12-11</th>\n",
              "      <td>1760.00</td>\n",
              "      <td>1777.31</td>\n",
              "      <td>1752.74</td>\n",
              "      <td>1774.80</td>\n",
              "      <td>931431</td>\n",
              "      <td>12</td>\n",
              "      <td>2020</td>\n",
              "    </tr>\n",
              "    <tr>\n",
              "      <th>2020-12-10</th>\n",
              "      <td>1762.60</td>\n",
              "      <td>1774.99</td>\n",
              "      <td>1733.53</td>\n",
              "      <td>1767.65</td>\n",
              "      <td>1434411</td>\n",
              "      <td>12</td>\n",
              "      <td>2020</td>\n",
              "    </tr>\n",
              "    <tr>\n",
              "      <th>2020-12-09</th>\n",
              "      <td>1810.36</td>\n",
              "      <td>1828.37</td>\n",
              "      <td>1762.00</td>\n",
              "      <td>1777.86</td>\n",
              "      <td>1585578</td>\n",
              "      <td>12</td>\n",
              "      <td>2020</td>\n",
              "    </tr>\n",
              "    <tr>\n",
              "      <th>2020-12-08</th>\n",
              "      <td>1808.52</td>\n",
              "      <td>1815.97</td>\n",
              "      <td>1791.28</td>\n",
              "      <td>1811.33</td>\n",
              "      <td>996317</td>\n",
              "      <td>12</td>\n",
              "      <td>2020</td>\n",
              "    </tr>\n",
              "    <tr>\n",
              "      <th>...</th>\n",
              "      <td>...</td>\n",
              "      <td>...</td>\n",
              "      <td>...</td>\n",
              "      <td>...</td>\n",
              "      <td>...</td>\n",
              "      <td>...</td>\n",
              "      <td>...</td>\n",
              "    </tr>\n",
              "    <tr>\n",
              "      <th>2015-12-23</th>\n",
              "      <td>770.69</td>\n",
              "      <td>771.90</td>\n",
              "      <td>757.65</td>\n",
              "      <td>768.51</td>\n",
              "      <td>1529700</td>\n",
              "      <td>12</td>\n",
              "      <td>2015</td>\n",
              "    </tr>\n",
              "    <tr>\n",
              "      <th>2015-12-22</th>\n",
              "      <td>764.27</td>\n",
              "      <td>770.34</td>\n",
              "      <td>761.20</td>\n",
              "      <td>767.13</td>\n",
              "      <td>1816845</td>\n",
              "      <td>12</td>\n",
              "      <td>2015</td>\n",
              "    </tr>\n",
              "    <tr>\n",
              "      <th>2015-12-21</th>\n",
              "      <td>763.05</td>\n",
              "      <td>766.35</td>\n",
              "      <td>754.15</td>\n",
              "      <td>760.80</td>\n",
              "      <td>1742300</td>\n",
              "      <td>12</td>\n",
              "      <td>2015</td>\n",
              "    </tr>\n",
              "    <tr>\n",
              "      <th>2015-12-18</th>\n",
              "      <td>767.23</td>\n",
              "      <td>774.14</td>\n",
              "      <td>756.59</td>\n",
              "      <td>756.85</td>\n",
              "      <td>3389700</td>\n",
              "      <td>12</td>\n",
              "      <td>2015</td>\n",
              "    </tr>\n",
              "    <tr>\n",
              "      <th>2015-12-17</th>\n",
              "      <td>781.16</td>\n",
              "      <td>781.59</td>\n",
              "      <td>769.30</td>\n",
              "      <td>769.83</td>\n",
              "      <td>1825500</td>\n",
              "      <td>12</td>\n",
              "      <td>2015</td>\n",
              "    </tr>\n",
              "  </tbody>\n",
              "</table>\n",
              "<p>1257 rows × 7 columns</p>\n",
              "</div>"
            ],
            "text/plain": [
              "              Open    High     Low   Close   Volume  Month  Year\n",
              "Date                                                            \n",
              "2020-12-14 1770.72 1789.20 1749.13 1752.26  1626039     12  2020\n",
              "2020-12-11 1760.00 1777.31 1752.74 1774.80   931431     12  2020\n",
              "2020-12-10 1762.60 1774.99 1733.53 1767.65  1434411     12  2020\n",
              "2020-12-09 1810.36 1828.37 1762.00 1777.86  1585578     12  2020\n",
              "2020-12-08 1808.52 1815.97 1791.28 1811.33   996317     12  2020\n",
              "...            ...     ...     ...     ...      ...    ...   ...\n",
              "2015-12-23  770.69  771.90  757.65  768.51  1529700     12  2015\n",
              "2015-12-22  764.27  770.34  761.20  767.13  1816845     12  2015\n",
              "2015-12-21  763.05  766.35  754.15  760.80  1742300     12  2015\n",
              "2015-12-18  767.23  774.14  756.59  756.85  3389700     12  2015\n",
              "2015-12-17  781.16  781.59  769.30  769.83  1825500     12  2015\n",
              "\n",
              "[1257 rows x 7 columns]"
            ]
          },
          "metadata": {
            "tags": []
          },
          "execution_count": 36
        }
      ]
    },
    {
      "cell_type": "markdown",
      "metadata": {
        "id": "tgI6xEn-2AQo"
      },
      "source": [
        "### <a name='9'></a> Ćwiczenie 129\n",
        "Usuń na stałe kolumny _Year_ i _Month_ z obiektu _google_. Wyświetl obiekt _google_."
      ]
    },
    {
      "cell_type": "code",
      "metadata": {
        "id": "Qpy5zTecoY1T",
        "outputId": "64ff0a79-89c4-4698-f3af-0679344ce5df",
        "colab": {
          "base_uri": "https://localhost:8080/",
          "height": 436
        }
      },
      "source": [
        "google = google.drop(['Year', 'Month'], axis = 1)\r\n",
        "google"
      ],
      "execution_count": 37,
      "outputs": [
        {
          "output_type": "execute_result",
          "data": {
            "text/html": [
              "<div>\n",
              "<style scoped>\n",
              "    .dataframe tbody tr th:only-of-type {\n",
              "        vertical-align: middle;\n",
              "    }\n",
              "\n",
              "    .dataframe tbody tr th {\n",
              "        vertical-align: top;\n",
              "    }\n",
              "\n",
              "    .dataframe thead th {\n",
              "        text-align: right;\n",
              "    }\n",
              "</style>\n",
              "<table border=\"1\" class=\"dataframe\">\n",
              "  <thead>\n",
              "    <tr style=\"text-align: right;\">\n",
              "      <th></th>\n",
              "      <th>Open</th>\n",
              "      <th>High</th>\n",
              "      <th>Low</th>\n",
              "      <th>Close</th>\n",
              "      <th>Volume</th>\n",
              "    </tr>\n",
              "    <tr>\n",
              "      <th>Date</th>\n",
              "      <th></th>\n",
              "      <th></th>\n",
              "      <th></th>\n",
              "      <th></th>\n",
              "      <th></th>\n",
              "    </tr>\n",
              "  </thead>\n",
              "  <tbody>\n",
              "    <tr>\n",
              "      <th>2020-12-14</th>\n",
              "      <td>1770.72</td>\n",
              "      <td>1789.20</td>\n",
              "      <td>1749.13</td>\n",
              "      <td>1752.26</td>\n",
              "      <td>1626039</td>\n",
              "    </tr>\n",
              "    <tr>\n",
              "      <th>2020-12-11</th>\n",
              "      <td>1760.00</td>\n",
              "      <td>1777.31</td>\n",
              "      <td>1752.74</td>\n",
              "      <td>1774.80</td>\n",
              "      <td>931431</td>\n",
              "    </tr>\n",
              "    <tr>\n",
              "      <th>2020-12-10</th>\n",
              "      <td>1762.60</td>\n",
              "      <td>1774.99</td>\n",
              "      <td>1733.53</td>\n",
              "      <td>1767.65</td>\n",
              "      <td>1434411</td>\n",
              "    </tr>\n",
              "    <tr>\n",
              "      <th>2020-12-09</th>\n",
              "      <td>1810.36</td>\n",
              "      <td>1828.37</td>\n",
              "      <td>1762.00</td>\n",
              "      <td>1777.86</td>\n",
              "      <td>1585578</td>\n",
              "    </tr>\n",
              "    <tr>\n",
              "      <th>2020-12-08</th>\n",
              "      <td>1808.52</td>\n",
              "      <td>1815.97</td>\n",
              "      <td>1791.28</td>\n",
              "      <td>1811.33</td>\n",
              "      <td>996317</td>\n",
              "    </tr>\n",
              "    <tr>\n",
              "      <th>...</th>\n",
              "      <td>...</td>\n",
              "      <td>...</td>\n",
              "      <td>...</td>\n",
              "      <td>...</td>\n",
              "      <td>...</td>\n",
              "    </tr>\n",
              "    <tr>\n",
              "      <th>2015-12-23</th>\n",
              "      <td>770.69</td>\n",
              "      <td>771.90</td>\n",
              "      <td>757.65</td>\n",
              "      <td>768.51</td>\n",
              "      <td>1529700</td>\n",
              "    </tr>\n",
              "    <tr>\n",
              "      <th>2015-12-22</th>\n",
              "      <td>764.27</td>\n",
              "      <td>770.34</td>\n",
              "      <td>761.20</td>\n",
              "      <td>767.13</td>\n",
              "      <td>1816845</td>\n",
              "    </tr>\n",
              "    <tr>\n",
              "      <th>2015-12-21</th>\n",
              "      <td>763.05</td>\n",
              "      <td>766.35</td>\n",
              "      <td>754.15</td>\n",
              "      <td>760.80</td>\n",
              "      <td>1742300</td>\n",
              "    </tr>\n",
              "    <tr>\n",
              "      <th>2015-12-18</th>\n",
              "      <td>767.23</td>\n",
              "      <td>774.14</td>\n",
              "      <td>756.59</td>\n",
              "      <td>756.85</td>\n",
              "      <td>3389700</td>\n",
              "    </tr>\n",
              "    <tr>\n",
              "      <th>2015-12-17</th>\n",
              "      <td>781.16</td>\n",
              "      <td>781.59</td>\n",
              "      <td>769.30</td>\n",
              "      <td>769.83</td>\n",
              "      <td>1825500</td>\n",
              "    </tr>\n",
              "  </tbody>\n",
              "</table>\n",
              "<p>1257 rows × 5 columns</p>\n",
              "</div>"
            ],
            "text/plain": [
              "              Open    High     Low   Close   Volume\n",
              "Date                                               \n",
              "2020-12-14 1770.72 1789.20 1749.13 1752.26  1626039\n",
              "2020-12-11 1760.00 1777.31 1752.74 1774.80   931431\n",
              "2020-12-10 1762.60 1774.99 1733.53 1767.65  1434411\n",
              "2020-12-09 1810.36 1828.37 1762.00 1777.86  1585578\n",
              "2020-12-08 1808.52 1815.97 1791.28 1811.33   996317\n",
              "...            ...     ...     ...     ...      ...\n",
              "2015-12-23  770.69  771.90  757.65  768.51  1529700\n",
              "2015-12-22  764.27  770.34  761.20  767.13  1816845\n",
              "2015-12-21  763.05  766.35  754.15  760.80  1742300\n",
              "2015-12-18  767.23  774.14  756.59  756.85  3389700\n",
              "2015-12-17  781.16  781.59  769.30  769.83  1825500\n",
              "\n",
              "[1257 rows x 5 columns]"
            ]
          },
          "metadata": {
            "tags": []
          },
          "execution_count": 37
        }
      ]
    },
    {
      "cell_type": "markdown",
      "metadata": {
        "id": "wxhpf-uq2B1I"
      },
      "source": [
        "### <a name='10'></a> Ćwiczenie 130\n",
        "Przypisz polskie nazwy kolumn (bez polskich znaków):\n",
        "* Open -> Otwarcie\n",
        "* High -> Najwyzszy\n",
        "* Low -> Najnizszy\n",
        "* Close -> Zamkniecie\n",
        "* Volume -> Wolumen\n",
        "\n",
        "do obiektu _google_. Wyświetl obiekt _google_."
      ]
    },
    {
      "cell_type": "code",
      "metadata": {
        "id": "YFc0KW6URsuc",
        "outputId": "3aeaca01-ed74-442b-d615-2116544ea356",
        "colab": {
          "base_uri": "https://localhost:8080/",
          "height": 436
        }
      },
      "source": [
        "google.columns = ['Otwarcie', 'Najwyzszy', 'Najnizszy', 'Zamkniecie', 'Wolumen']\r\n",
        "google"
      ],
      "execution_count": 38,
      "outputs": [
        {
          "output_type": "execute_result",
          "data": {
            "text/html": [
              "<div>\n",
              "<style scoped>\n",
              "    .dataframe tbody tr th:only-of-type {\n",
              "        vertical-align: middle;\n",
              "    }\n",
              "\n",
              "    .dataframe tbody tr th {\n",
              "        vertical-align: top;\n",
              "    }\n",
              "\n",
              "    .dataframe thead th {\n",
              "        text-align: right;\n",
              "    }\n",
              "</style>\n",
              "<table border=\"1\" class=\"dataframe\">\n",
              "  <thead>\n",
              "    <tr style=\"text-align: right;\">\n",
              "      <th></th>\n",
              "      <th>Otwarcie</th>\n",
              "      <th>Najwyzszy</th>\n",
              "      <th>Najnizszy</th>\n",
              "      <th>Zamkniecie</th>\n",
              "      <th>Wolumen</th>\n",
              "    </tr>\n",
              "    <tr>\n",
              "      <th>Date</th>\n",
              "      <th></th>\n",
              "      <th></th>\n",
              "      <th></th>\n",
              "      <th></th>\n",
              "      <th></th>\n",
              "    </tr>\n",
              "  </thead>\n",
              "  <tbody>\n",
              "    <tr>\n",
              "      <th>2020-12-14</th>\n",
              "      <td>1770.72</td>\n",
              "      <td>1789.20</td>\n",
              "      <td>1749.13</td>\n",
              "      <td>1752.26</td>\n",
              "      <td>1626039</td>\n",
              "    </tr>\n",
              "    <tr>\n",
              "      <th>2020-12-11</th>\n",
              "      <td>1760.00</td>\n",
              "      <td>1777.31</td>\n",
              "      <td>1752.74</td>\n",
              "      <td>1774.80</td>\n",
              "      <td>931431</td>\n",
              "    </tr>\n",
              "    <tr>\n",
              "      <th>2020-12-10</th>\n",
              "      <td>1762.60</td>\n",
              "      <td>1774.99</td>\n",
              "      <td>1733.53</td>\n",
              "      <td>1767.65</td>\n",
              "      <td>1434411</td>\n",
              "    </tr>\n",
              "    <tr>\n",
              "      <th>2020-12-09</th>\n",
              "      <td>1810.36</td>\n",
              "      <td>1828.37</td>\n",
              "      <td>1762.00</td>\n",
              "      <td>1777.86</td>\n",
              "      <td>1585578</td>\n",
              "    </tr>\n",
              "    <tr>\n",
              "      <th>2020-12-08</th>\n",
              "      <td>1808.52</td>\n",
              "      <td>1815.97</td>\n",
              "      <td>1791.28</td>\n",
              "      <td>1811.33</td>\n",
              "      <td>996317</td>\n",
              "    </tr>\n",
              "    <tr>\n",
              "      <th>...</th>\n",
              "      <td>...</td>\n",
              "      <td>...</td>\n",
              "      <td>...</td>\n",
              "      <td>...</td>\n",
              "      <td>...</td>\n",
              "    </tr>\n",
              "    <tr>\n",
              "      <th>2015-12-23</th>\n",
              "      <td>770.69</td>\n",
              "      <td>771.90</td>\n",
              "      <td>757.65</td>\n",
              "      <td>768.51</td>\n",
              "      <td>1529700</td>\n",
              "    </tr>\n",
              "    <tr>\n",
              "      <th>2015-12-22</th>\n",
              "      <td>764.27</td>\n",
              "      <td>770.34</td>\n",
              "      <td>761.20</td>\n",
              "      <td>767.13</td>\n",
              "      <td>1816845</td>\n",
              "    </tr>\n",
              "    <tr>\n",
              "      <th>2015-12-21</th>\n",
              "      <td>763.05</td>\n",
              "      <td>766.35</td>\n",
              "      <td>754.15</td>\n",
              "      <td>760.80</td>\n",
              "      <td>1742300</td>\n",
              "    </tr>\n",
              "    <tr>\n",
              "      <th>2015-12-18</th>\n",
              "      <td>767.23</td>\n",
              "      <td>774.14</td>\n",
              "      <td>756.59</td>\n",
              "      <td>756.85</td>\n",
              "      <td>3389700</td>\n",
              "    </tr>\n",
              "    <tr>\n",
              "      <th>2015-12-17</th>\n",
              "      <td>781.16</td>\n",
              "      <td>781.59</td>\n",
              "      <td>769.30</td>\n",
              "      <td>769.83</td>\n",
              "      <td>1825500</td>\n",
              "    </tr>\n",
              "  </tbody>\n",
              "</table>\n",
              "<p>1257 rows × 5 columns</p>\n",
              "</div>"
            ],
            "text/plain": [
              "            Otwarcie  Najwyzszy  Najnizszy  Zamkniecie  Wolumen\n",
              "Date                                                           \n",
              "2020-12-14   1770.72    1789.20    1749.13     1752.26  1626039\n",
              "2020-12-11   1760.00    1777.31    1752.74     1774.80   931431\n",
              "2020-12-10   1762.60    1774.99    1733.53     1767.65  1434411\n",
              "2020-12-09   1810.36    1828.37    1762.00     1777.86  1585578\n",
              "2020-12-08   1808.52    1815.97    1791.28     1811.33   996317\n",
              "...              ...        ...        ...         ...      ...\n",
              "2015-12-23    770.69     771.90     757.65      768.51  1529700\n",
              "2015-12-22    764.27     770.34     761.20      767.13  1816845\n",
              "2015-12-21    763.05     766.35     754.15      760.80  1742300\n",
              "2015-12-18    767.23     774.14     756.59      756.85  3389700\n",
              "2015-12-17    781.16     781.59     769.30      769.83  1825500\n",
              "\n",
              "[1257 rows x 5 columns]"
            ]
          },
          "metadata": {
            "tags": []
          },
          "execution_count": 38
        }
      ]
    }
  ]
}