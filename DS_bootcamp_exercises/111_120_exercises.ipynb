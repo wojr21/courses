{
  "nbformat": 4,
  "nbformat_minor": 0,
  "metadata": {
    "colab": {
      "name": "111-120_exercises.ipynb",
      "provenance": [],
      "collapsed_sections": [],
      "include_colab_link": true
    },
    "kernelspec": {
      "name": "python3",
      "display_name": "Python 3"
    }
  },
  "cells": [
    {
      "cell_type": "markdown",
      "metadata": {
        "id": "view-in-github",
        "colab_type": "text"
      },
      "source": [
        "<a href=\"https://colab.research.google.com/github/wojr21/courses/blob/main/DS_bootcamp_exercises/111_120_exercises.ipynb\" target=\"_parent\"><img src=\"https://colab.research.google.com/assets/colab-badge.svg\" alt=\"Open In Colab\"/></a>"
      ]
    },
    {
      "cell_type": "markdown",
      "metadata": {
        "id": "WLEgCW5F1hho"
      },
      "source": [
        "## Pandas\n",
        "\n",
        "### Spis treści:\n",
        "* [Import biblioteki](#0)\n",
        "* [Ćwiczenie 111](#1)\n",
        "* [Ćwiczenie 112](#2)\n",
        "* [Ćwiczenie 113](#3)\n",
        "* [Ćwiczenie 114](#4)\n",
        "* [Ćwiczenie 115](#5)\n",
        "* [Ćwiczenie 116](#6)\n",
        "* [Ćwiczenie 117](#7)\n",
        "* [Ćwiczenie 118](#8)\n",
        "* [Ćwiczenie 119](#9)\n",
        "* [Ćwiczenie 120](#10)"
      ]
    },
    {
      "cell_type": "markdown",
      "metadata": {
        "id": "zeLOLmTj1kBM"
      },
      "source": [
        "### <a name='0'></a>Import biblioteki"
      ]
    },
    {
      "cell_type": "code",
      "metadata": {
        "id": "HXMB7SMe1Wnz",
        "outputId": "16d61bf6-27a5-4624-b281-3c55a6bb1c38",
        "colab": {
          "base_uri": "https://localhost:8080/",
          "height": 35
        }
      },
      "source": [
        "import numpy as np\n",
        "import pandas as pd\n",
        "\n",
        "np.random.seed(42)\n",
        "pd.__version__"
      ],
      "execution_count": 1,
      "outputs": [
        {
          "output_type": "execute_result",
          "data": {
            "application/vnd.google.colaboratory.intrinsic+json": {
              "type": "string"
            },
            "text/plain": [
              "'1.1.5'"
            ]
          },
          "metadata": {
            "tags": []
          },
          "execution_count": 1
        }
      ]
    },
    {
      "cell_type": "markdown",
      "metadata": {
        "id": "cyc70pMe1oCg"
      },
      "source": [
        "### <a name='1'></a> Ćwiczenie 111\n",
        "Zbuduj obiekt _DatetimeIndex_ zawierający daty w formacie 'yyyy-mm-dd' dla wszystkich dni ze stycznia 2020 roku i przypisz do zmiennej _date_range_.\n",
        "\n",
        "__Oczekiwany wynik:__\n",
        "\n",
        "\n",
        "```\n",
        "DatetimeIndex(['2020-01-01', '2020-01-02', '2020-01-03', '2020-01-04',\n",
        "               '2020-01-05', '2020-01-06', '2020-01-07', '2020-01-08',\n",
        "               '2020-01-09', '2020-01-10', '2020-01-11', '2020-01-12',\n",
        "               '2020-01-13', '2020-01-14', '2020-01-15', '2020-01-16',\n",
        "               '2020-01-17', '2020-01-18', '2020-01-19', '2020-01-20',\n",
        "               '2020-01-21', '2020-01-22', '2020-01-23', '2020-01-24',\n",
        "               '2020-01-25', '2020-01-26', '2020-01-27', '2020-01-28',\n",
        "               '2020-01-29', '2020-01-30', '2020-01-31'],\n",
        "              dtype='datetime64[ns]', freq='D')\n",
        "```\n",
        "\n"
      ]
    },
    {
      "cell_type": "code",
      "metadata": {
        "id": "-Fktzi-m6jA8",
        "outputId": "4fb77d24-4bcd-44db-ae5c-dba2fd164434",
        "colab": {
          "base_uri": "https://localhost:8080/"
        }
      },
      "source": [
        "date_range = pd.DatetimeIndex(np.arange('2020-01-01', '2020-02-01',\r\n",
        "                                        dtype = np.datetime64),\r\n",
        "                              freq = 'D')\r\n",
        "date_range"
      ],
      "execution_count": 8,
      "outputs": [
        {
          "output_type": "execute_result",
          "data": {
            "text/plain": [
              "DatetimeIndex(['2020-01-01', '2020-01-02', '2020-01-03', '2020-01-04',\n",
              "               '2020-01-05', '2020-01-06', '2020-01-07', '2020-01-08',\n",
              "               '2020-01-09', '2020-01-10', '2020-01-11', '2020-01-12',\n",
              "               '2020-01-13', '2020-01-14', '2020-01-15', '2020-01-16',\n",
              "               '2020-01-17', '2020-01-18', '2020-01-19', '2020-01-20',\n",
              "               '2020-01-21', '2020-01-22', '2020-01-23', '2020-01-24',\n",
              "               '2020-01-25', '2020-01-26', '2020-01-27', '2020-01-28',\n",
              "               '2020-01-29', '2020-01-30', '2020-01-31'],\n",
              "              dtype='datetime64[ns]', freq='D')"
            ]
          },
          "metadata": {
            "tags": []
          },
          "execution_count": 8
        }
      ]
    },
    {
      "cell_type": "markdown",
      "metadata": {
        "id": "-b7YtggN7yNA"
      },
      "source": [
        "Ze zmiennej _date_range_ zbuduj obiekt typu _Series_."
      ]
    },
    {
      "cell_type": "code",
      "metadata": {
        "id": "o8Gx9s5m7imi",
        "outputId": "a516ded3-0ef4-459f-c295-1feca33232c6",
        "colab": {
          "base_uri": "https://localhost:8080/"
        }
      },
      "source": [
        "pd.Series(date_range)"
      ],
      "execution_count": 9,
      "outputs": [
        {
          "output_type": "execute_result",
          "data": {
            "text/plain": [
              "0    2020-01-01\n",
              "1    2020-01-02\n",
              "2    2020-01-03\n",
              "3    2020-01-04\n",
              "4    2020-01-05\n",
              "5    2020-01-06\n",
              "6    2020-01-07\n",
              "7    2020-01-08\n",
              "8    2020-01-09\n",
              "9    2020-01-10\n",
              "10   2020-01-11\n",
              "11   2020-01-12\n",
              "12   2020-01-13\n",
              "13   2020-01-14\n",
              "14   2020-01-15\n",
              "15   2020-01-16\n",
              "16   2020-01-17\n",
              "17   2020-01-18\n",
              "18   2020-01-19\n",
              "19   2020-01-20\n",
              "20   2020-01-21\n",
              "21   2020-01-22\n",
              "22   2020-01-23\n",
              "23   2020-01-24\n",
              "24   2020-01-25\n",
              "25   2020-01-26\n",
              "26   2020-01-27\n",
              "27   2020-01-28\n",
              "28   2020-01-29\n",
              "29   2020-01-30\n",
              "30   2020-01-31\n",
              "dtype: datetime64[ns]"
            ]
          },
          "metadata": {
            "tags": []
          },
          "execution_count": 9
        }
      ]
    },
    {
      "cell_type": "markdown",
      "metadata": {
        "id": "J9pY1rtr1sC0"
      },
      "source": [
        "### <a name='2'></a> Ćwiczenie 112\n",
        "Zbuduj obiekt _DatetimeIndex_ zawierający daty w formacie 'yyyy-mm-dd' dla wszystkich poniedziałków z 2020 roku i przypisz do zmiennej _date_range_."
      ]
    },
    {
      "cell_type": "code",
      "metadata": {
        "id": "9pgIpf0M5L9S",
        "outputId": "16ea20c7-dd49-4919-9080-8445715fdbdc",
        "colab": {
          "base_uri": "https://localhost:8080/"
        }
      },
      "source": [
        "date_range = pd.date_range(start = '2020-01-01', end = '2021-01-01',\r\n",
        "                           freq = 'W-MON')\r\n",
        "date_range"
      ],
      "execution_count": 26,
      "outputs": [
        {
          "output_type": "execute_result",
          "data": {
            "text/plain": [
              "DatetimeIndex(['2020-01-06', '2020-01-13', '2020-01-20', '2020-01-27',\n",
              "               '2020-02-03', '2020-02-10', '2020-02-17', '2020-02-24',\n",
              "               '2020-03-02', '2020-03-09', '2020-03-16', '2020-03-23',\n",
              "               '2020-03-30', '2020-04-06', '2020-04-13', '2020-04-20',\n",
              "               '2020-04-27', '2020-05-04', '2020-05-11', '2020-05-18',\n",
              "               '2020-05-25', '2020-06-01', '2020-06-08', '2020-06-15',\n",
              "               '2020-06-22', '2020-06-29', '2020-07-06', '2020-07-13',\n",
              "               '2020-07-20', '2020-07-27', '2020-08-03', '2020-08-10',\n",
              "               '2020-08-17', '2020-08-24', '2020-08-31', '2020-09-07',\n",
              "               '2020-09-14', '2020-09-21', '2020-09-28', '2020-10-05',\n",
              "               '2020-10-12', '2020-10-19', '2020-10-26', '2020-11-02',\n",
              "               '2020-11-09', '2020-11-16', '2020-11-23', '2020-11-30',\n",
              "               '2020-12-07', '2020-12-14', '2020-12-21', '2020-12-28'],\n",
              "              dtype='datetime64[ns]', freq='W-MON')"
            ]
          },
          "metadata": {
            "tags": []
          },
          "execution_count": 26
        }
      ]
    },
    {
      "cell_type": "markdown",
      "metadata": {
        "id": "XQLYT2m11wVG"
      },
      "source": [
        "### <a name='3'></a> Ćwiczenie 113\n",
        "Zbuduj obiekt _DatetimeIndex_ zawierający daty w formacie 'yyyy-mm-dd hh:mm:ss' dla 1 stycznia 2021 roku z odstępem czasowym 1h i przypisz do zmiennej _date_range_.\n",
        "\n",
        "__Oczekiwany wynik:__\n",
        "\n",
        "\n",
        "```\n",
        "DatetimeIndex(['2021-01-01 00:00:00', '2021-01-01 01:00:00',\n",
        "               '2021-01-01 02:00:00', '2021-01-01 03:00:00',\n",
        "               '2021-01-01 04:00:00', '2021-01-01 05:00:00',\n",
        "               '2021-01-01 06:00:00', '2021-01-01 07:00:00',\n",
        "               '2021-01-01 08:00:00', '2021-01-01 09:00:00',\n",
        "               '2021-01-01 10:00:00', '2021-01-01 11:00:00',\n",
        "               '2021-01-01 12:00:00', '2021-01-01 13:00:00',\n",
        "               '2021-01-01 14:00:00', '2021-01-01 15:00:00',\n",
        "               '2021-01-01 16:00:00', '2021-01-01 17:00:00',\n",
        "               '2021-01-01 18:00:00', '2021-01-01 19:00:00',\n",
        "               '2021-01-01 20:00:00', '2021-01-01 21:00:00',\n",
        "               '2021-01-01 22:00:00', '2021-01-01 23:00:00'],\n",
        "              dtype='datetime64[ns]', freq='H')\n",
        "```\n",
        "\n"
      ]
    },
    {
      "cell_type": "code",
      "metadata": {
        "id": "yZyozL_o84dD",
        "outputId": "002268d1-a095-4dee-a165-989c1811acc3",
        "colab": {
          "base_uri": "https://localhost:8080/"
        }
      },
      "source": [
        "date_range = pd.date_range(start = '2021-01-01', end = '2021-01-02',\r\n",
        "                           freq = 'H', closed = 'left')\r\n",
        "date_range"
      ],
      "execution_count": 32,
      "outputs": [
        {
          "output_type": "execute_result",
          "data": {
            "text/plain": [
              "DatetimeIndex(['2021-01-01 00:00:00', '2021-01-01 01:00:00',\n",
              "               '2021-01-01 02:00:00', '2021-01-01 03:00:00',\n",
              "               '2021-01-01 04:00:00', '2021-01-01 05:00:00',\n",
              "               '2021-01-01 06:00:00', '2021-01-01 07:00:00',\n",
              "               '2021-01-01 08:00:00', '2021-01-01 09:00:00',\n",
              "               '2021-01-01 10:00:00', '2021-01-01 11:00:00',\n",
              "               '2021-01-01 12:00:00', '2021-01-01 13:00:00',\n",
              "               '2021-01-01 14:00:00', '2021-01-01 15:00:00',\n",
              "               '2021-01-01 16:00:00', '2021-01-01 17:00:00',\n",
              "               '2021-01-01 18:00:00', '2021-01-01 19:00:00',\n",
              "               '2021-01-01 20:00:00', '2021-01-01 21:00:00',\n",
              "               '2021-01-01 22:00:00', '2021-01-01 23:00:00'],\n",
              "              dtype='datetime64[ns]', freq='H')"
            ]
          },
          "metadata": {
            "tags": []
          },
          "execution_count": 32
        }
      ]
    },
    {
      "cell_type": "markdown",
      "metadata": {
        "id": "4xTKSUzg10MK"
      },
      "source": [
        "### <a name='4'></a> Ćwiczenie 114\n",
        "Zbuduj poniższy obiekt _DataFrame_.\n",
        "\n",
        "__Wskazówki:__ Kolumna _day_ zawiera daty od 01 marca 2021 do 31 marca 2021. Kolumna _day_of_year_ to numer dnia w całym roku.\n",
        "\n",
        "\n",
        "```\n",
        "      day\t       day_of_year\n",
        " 0\t2021-03-01\t60\n",
        " 1\t2021-03-02\t61\n",
        " 2\t2021-03-03\t62\n",
        " 3\t2021-03-04\t63\n",
        " 4\t2021-03-05\t64\n",
        " 5\t2021-03-06\t65\n",
        " 6\t2021-03-07\t66\n",
        " 7\t2021-03-08\t67\n",
        " 8\t2021-03-09\t68\n",
        " 9\t2021-03-10\t69\n",
        "10\t2021-03-11\t70\n",
        "11\t2021-03-12\t71\n",
        "12\t2021-03-13\t72\n",
        "13\t2021-03-14\t73\n",
        "14\t2021-03-15\t74\n",
        "15\t2021-03-16\t75\n",
        "16\t2021-03-17\t76\n",
        "17\t2021-03-18\t77\n",
        "18\t2021-03-19\t78\n",
        "19\t2021-03-20\t79\n",
        "20\t2021-03-21\t80\n",
        "21\t2021-03-22\t81\n",
        "22\t2021-03-23\t82\n",
        "23\t2021-03-24\t83\n",
        "24\t2021-03-25\t84\n",
        "25\t2021-03-26\t85\n",
        "26\t2021-03-27\t86\n",
        "27\t2021-03-28\t87\n",
        "28\t2021-03-29\t88\n",
        "29\t2021-03-30\t89\n",
        "30\t2021-03-31\t90\n",
        "```\n",
        "\n"
      ]
    },
    {
      "cell_type": "code",
      "metadata": {
        "id": "YIWI3YTN_J5E",
        "outputId": "7c283b9b-b55a-45c1-8b21-64ffdce88ffa",
        "colab": {
          "base_uri": "https://localhost:8080/",
          "height": 977
        }
      },
      "source": [
        "date_range = pd.date_range('2021-03-01', '2021-03-31', freq = 'D')\r\n",
        "pd.DataFrame({'day': date_range, 'day_of_year': date_range.dayofyear})"
      ],
      "execution_count": 33,
      "outputs": [
        {
          "output_type": "execute_result",
          "data": {
            "text/html": [
              "<div>\n",
              "<style scoped>\n",
              "    .dataframe tbody tr th:only-of-type {\n",
              "        vertical-align: middle;\n",
              "    }\n",
              "\n",
              "    .dataframe tbody tr th {\n",
              "        vertical-align: top;\n",
              "    }\n",
              "\n",
              "    .dataframe thead th {\n",
              "        text-align: right;\n",
              "    }\n",
              "</style>\n",
              "<table border=\"1\" class=\"dataframe\">\n",
              "  <thead>\n",
              "    <tr style=\"text-align: right;\">\n",
              "      <th></th>\n",
              "      <th>day</th>\n",
              "      <th>day_of_year</th>\n",
              "    </tr>\n",
              "  </thead>\n",
              "  <tbody>\n",
              "    <tr>\n",
              "      <th>0</th>\n",
              "      <td>2021-03-01</td>\n",
              "      <td>60</td>\n",
              "    </tr>\n",
              "    <tr>\n",
              "      <th>1</th>\n",
              "      <td>2021-03-02</td>\n",
              "      <td>61</td>\n",
              "    </tr>\n",
              "    <tr>\n",
              "      <th>2</th>\n",
              "      <td>2021-03-03</td>\n",
              "      <td>62</td>\n",
              "    </tr>\n",
              "    <tr>\n",
              "      <th>3</th>\n",
              "      <td>2021-03-04</td>\n",
              "      <td>63</td>\n",
              "    </tr>\n",
              "    <tr>\n",
              "      <th>4</th>\n",
              "      <td>2021-03-05</td>\n",
              "      <td>64</td>\n",
              "    </tr>\n",
              "    <tr>\n",
              "      <th>5</th>\n",
              "      <td>2021-03-06</td>\n",
              "      <td>65</td>\n",
              "    </tr>\n",
              "    <tr>\n",
              "      <th>6</th>\n",
              "      <td>2021-03-07</td>\n",
              "      <td>66</td>\n",
              "    </tr>\n",
              "    <tr>\n",
              "      <th>7</th>\n",
              "      <td>2021-03-08</td>\n",
              "      <td>67</td>\n",
              "    </tr>\n",
              "    <tr>\n",
              "      <th>8</th>\n",
              "      <td>2021-03-09</td>\n",
              "      <td>68</td>\n",
              "    </tr>\n",
              "    <tr>\n",
              "      <th>9</th>\n",
              "      <td>2021-03-10</td>\n",
              "      <td>69</td>\n",
              "    </tr>\n",
              "    <tr>\n",
              "      <th>10</th>\n",
              "      <td>2021-03-11</td>\n",
              "      <td>70</td>\n",
              "    </tr>\n",
              "    <tr>\n",
              "      <th>11</th>\n",
              "      <td>2021-03-12</td>\n",
              "      <td>71</td>\n",
              "    </tr>\n",
              "    <tr>\n",
              "      <th>12</th>\n",
              "      <td>2021-03-13</td>\n",
              "      <td>72</td>\n",
              "    </tr>\n",
              "    <tr>\n",
              "      <th>13</th>\n",
              "      <td>2021-03-14</td>\n",
              "      <td>73</td>\n",
              "    </tr>\n",
              "    <tr>\n",
              "      <th>14</th>\n",
              "      <td>2021-03-15</td>\n",
              "      <td>74</td>\n",
              "    </tr>\n",
              "    <tr>\n",
              "      <th>15</th>\n",
              "      <td>2021-03-16</td>\n",
              "      <td>75</td>\n",
              "    </tr>\n",
              "    <tr>\n",
              "      <th>16</th>\n",
              "      <td>2021-03-17</td>\n",
              "      <td>76</td>\n",
              "    </tr>\n",
              "    <tr>\n",
              "      <th>17</th>\n",
              "      <td>2021-03-18</td>\n",
              "      <td>77</td>\n",
              "    </tr>\n",
              "    <tr>\n",
              "      <th>18</th>\n",
              "      <td>2021-03-19</td>\n",
              "      <td>78</td>\n",
              "    </tr>\n",
              "    <tr>\n",
              "      <th>19</th>\n",
              "      <td>2021-03-20</td>\n",
              "      <td>79</td>\n",
              "    </tr>\n",
              "    <tr>\n",
              "      <th>20</th>\n",
              "      <td>2021-03-21</td>\n",
              "      <td>80</td>\n",
              "    </tr>\n",
              "    <tr>\n",
              "      <th>21</th>\n",
              "      <td>2021-03-22</td>\n",
              "      <td>81</td>\n",
              "    </tr>\n",
              "    <tr>\n",
              "      <th>22</th>\n",
              "      <td>2021-03-23</td>\n",
              "      <td>82</td>\n",
              "    </tr>\n",
              "    <tr>\n",
              "      <th>23</th>\n",
              "      <td>2021-03-24</td>\n",
              "      <td>83</td>\n",
              "    </tr>\n",
              "    <tr>\n",
              "      <th>24</th>\n",
              "      <td>2021-03-25</td>\n",
              "      <td>84</td>\n",
              "    </tr>\n",
              "    <tr>\n",
              "      <th>25</th>\n",
              "      <td>2021-03-26</td>\n",
              "      <td>85</td>\n",
              "    </tr>\n",
              "    <tr>\n",
              "      <th>26</th>\n",
              "      <td>2021-03-27</td>\n",
              "      <td>86</td>\n",
              "    </tr>\n",
              "    <tr>\n",
              "      <th>27</th>\n",
              "      <td>2021-03-28</td>\n",
              "      <td>87</td>\n",
              "    </tr>\n",
              "    <tr>\n",
              "      <th>28</th>\n",
              "      <td>2021-03-29</td>\n",
              "      <td>88</td>\n",
              "    </tr>\n",
              "    <tr>\n",
              "      <th>29</th>\n",
              "      <td>2021-03-30</td>\n",
              "      <td>89</td>\n",
              "    </tr>\n",
              "    <tr>\n",
              "      <th>30</th>\n",
              "      <td>2021-03-31</td>\n",
              "      <td>90</td>\n",
              "    </tr>\n",
              "  </tbody>\n",
              "</table>\n",
              "</div>"
            ],
            "text/plain": [
              "          day  day_of_year\n",
              "0  2021-03-01           60\n",
              "1  2021-03-02           61\n",
              "2  2021-03-03           62\n",
              "3  2021-03-04           63\n",
              "4  2021-03-05           64\n",
              "5  2021-03-06           65\n",
              "6  2021-03-07           66\n",
              "7  2021-03-08           67\n",
              "8  2021-03-09           68\n",
              "9  2021-03-10           69\n",
              "10 2021-03-11           70\n",
              "11 2021-03-12           71\n",
              "12 2021-03-13           72\n",
              "13 2021-03-14           73\n",
              "14 2021-03-15           74\n",
              "15 2021-03-16           75\n",
              "16 2021-03-17           76\n",
              "17 2021-03-18           77\n",
              "18 2021-03-19           78\n",
              "19 2021-03-20           79\n",
              "20 2021-03-21           80\n",
              "21 2021-03-22           81\n",
              "22 2021-03-23           82\n",
              "23 2021-03-24           83\n",
              "24 2021-03-25           84\n",
              "25 2021-03-26           85\n",
              "26 2021-03-27           86\n",
              "27 2021-03-28           87\n",
              "28 2021-03-29           88\n",
              "29 2021-03-30           89\n",
              "30 2021-03-31           90"
            ]
          },
          "metadata": {
            "tags": []
          },
          "execution_count": 33
        }
      ]
    },
    {
      "cell_type": "markdown",
      "metadata": {
        "id": "o3HKIKlP15Ro"
      },
      "source": [
        "### <a name='5'></a> Ćwiczenie 115\n",
        "\n",
        "Podany jest poniższy słownik _data_dict_. \n",
        "\n",
        "```\n",
        "data_dict = {\n",
        "    'normal': np.random.normal(loc=0, scale=1, size=1000),\n",
        "    'uniform': np.random.uniform(low=0, high=1, size=1000),\n",
        "    'binomial': np.random.binomial(n=1, p=0.2, size=1000)\n",
        "}\n",
        "```\n",
        "\n",
        "Zbuduj z tego słownika obiekt _DateFrame_. Dodatkowo jako indeks dodaj datę od 2020-01-01 i przypisz do zmiennej _df_. "
      ]
    },
    {
      "cell_type": "code",
      "metadata": {
        "id": "Wht-9DRbCzGR",
        "outputId": "2212ea3d-194d-4929-a369-2c0485c972e6",
        "colab": {
          "base_uri": "https://localhost:8080/",
          "height": 406
        }
      },
      "source": [
        "data_dict = {\r\n",
        "    'normal': np.random.normal(loc=0, scale=1, size=1000),\r\n",
        "    'uniform': np.random.uniform(low=0, high=1, size=1000),\r\n",
        "    'binomial': np.random.binomial(n=1, p=0.2, size=1000)\r\n",
        "}\r\n",
        "\r\n",
        "df = pd.DataFrame(data_dict, index = pd.date_range(start = '2020-01-01',\r\n",
        "                                                   periods = 1000,\r\n",
        "                                                   freq = 'D'))\r\n",
        "df"
      ],
      "execution_count": 37,
      "outputs": [
        {
          "output_type": "execute_result",
          "data": {
            "text/html": [
              "<div>\n",
              "<style scoped>\n",
              "    .dataframe tbody tr th:only-of-type {\n",
              "        vertical-align: middle;\n",
              "    }\n",
              "\n",
              "    .dataframe tbody tr th {\n",
              "        vertical-align: top;\n",
              "    }\n",
              "\n",
              "    .dataframe thead th {\n",
              "        text-align: right;\n",
              "    }\n",
              "</style>\n",
              "<table border=\"1\" class=\"dataframe\">\n",
              "  <thead>\n",
              "    <tr style=\"text-align: right;\">\n",
              "      <th></th>\n",
              "      <th>normal</th>\n",
              "      <th>uniform</th>\n",
              "      <th>binomial</th>\n",
              "    </tr>\n",
              "  </thead>\n",
              "  <tbody>\n",
              "    <tr>\n",
              "      <th>2020-01-01</th>\n",
              "      <td>2.598823</td>\n",
              "      <td>0.569512</td>\n",
              "      <td>1</td>\n",
              "    </tr>\n",
              "    <tr>\n",
              "      <th>2020-01-02</th>\n",
              "      <td>-1.724062</td>\n",
              "      <td>0.876605</td>\n",
              "      <td>0</td>\n",
              "    </tr>\n",
              "    <tr>\n",
              "      <th>2020-01-03</th>\n",
              "      <td>0.693823</td>\n",
              "      <td>0.928217</td>\n",
              "      <td>0</td>\n",
              "    </tr>\n",
              "    <tr>\n",
              "      <th>2020-01-04</th>\n",
              "      <td>1.166528</td>\n",
              "      <td>0.528805</td>\n",
              "      <td>1</td>\n",
              "    </tr>\n",
              "    <tr>\n",
              "      <th>2020-01-05</th>\n",
              "      <td>0.891344</td>\n",
              "      <td>0.753803</td>\n",
              "      <td>0</td>\n",
              "    </tr>\n",
              "    <tr>\n",
              "      <th>...</th>\n",
              "      <td>...</td>\n",
              "      <td>...</td>\n",
              "      <td>...</td>\n",
              "    </tr>\n",
              "    <tr>\n",
              "      <th>2022-09-22</th>\n",
              "      <td>-1.295259</td>\n",
              "      <td>0.185953</td>\n",
              "      <td>0</td>\n",
              "    </tr>\n",
              "    <tr>\n",
              "      <th>2022-09-23</th>\n",
              "      <td>-1.187553</td>\n",
              "      <td>0.111052</td>\n",
              "      <td>0</td>\n",
              "    </tr>\n",
              "    <tr>\n",
              "      <th>2022-09-24</th>\n",
              "      <td>0.578910</td>\n",
              "      <td>0.722762</td>\n",
              "      <td>0</td>\n",
              "    </tr>\n",
              "    <tr>\n",
              "      <th>2022-09-25</th>\n",
              "      <td>-0.064338</td>\n",
              "      <td>0.267512</td>\n",
              "      <td>0</td>\n",
              "    </tr>\n",
              "    <tr>\n",
              "      <th>2022-09-26</th>\n",
              "      <td>-0.455172</td>\n",
              "      <td>0.820059</td>\n",
              "      <td>0</td>\n",
              "    </tr>\n",
              "  </tbody>\n",
              "</table>\n",
              "<p>1000 rows × 3 columns</p>\n",
              "</div>"
            ],
            "text/plain": [
              "              normal   uniform  binomial\n",
              "2020-01-01  2.598823  0.569512         1\n",
              "2020-01-02 -1.724062  0.876605         0\n",
              "2020-01-03  0.693823  0.928217         0\n",
              "2020-01-04  1.166528  0.528805         1\n",
              "2020-01-05  0.891344  0.753803         0\n",
              "...              ...       ...       ...\n",
              "2022-09-22 -1.295259  0.185953         0\n",
              "2022-09-23 -1.187553  0.111052         0\n",
              "2022-09-24  0.578910  0.722762         0\n",
              "2022-09-25 -0.064338  0.267512         0\n",
              "2022-09-26 -0.455172  0.820059         0\n",
              "\n",
              "[1000 rows x 3 columns]"
            ]
          },
          "metadata": {
            "tags": []
          },
          "execution_count": 37
        }
      ]
    },
    {
      "cell_type": "markdown",
      "metadata": {
        "id": "PunXd_Ey16so"
      },
      "source": [
        "### <a name='6'></a> Ćwiczenie 116\n",
        "Wyświetl 10 pierwszych wierszy obiektu _df_ z poprzedniego ćwiczenia."
      ]
    },
    {
      "cell_type": "code",
      "metadata": {
        "id": "PzsTK_wpFmD-",
        "outputId": "205d9468-102e-45a6-a9b9-50e9162b34f8",
        "colab": {
          "base_uri": "https://localhost:8080/",
          "height": 347
        }
      },
      "source": [
        "df[:10]"
      ],
      "execution_count": 38,
      "outputs": [
        {
          "output_type": "execute_result",
          "data": {
            "text/html": [
              "<div>\n",
              "<style scoped>\n",
              "    .dataframe tbody tr th:only-of-type {\n",
              "        vertical-align: middle;\n",
              "    }\n",
              "\n",
              "    .dataframe tbody tr th {\n",
              "        vertical-align: top;\n",
              "    }\n",
              "\n",
              "    .dataframe thead th {\n",
              "        text-align: right;\n",
              "    }\n",
              "</style>\n",
              "<table border=\"1\" class=\"dataframe\">\n",
              "  <thead>\n",
              "    <tr style=\"text-align: right;\">\n",
              "      <th></th>\n",
              "      <th>normal</th>\n",
              "      <th>uniform</th>\n",
              "      <th>binomial</th>\n",
              "    </tr>\n",
              "  </thead>\n",
              "  <tbody>\n",
              "    <tr>\n",
              "      <th>2020-01-01</th>\n",
              "      <td>2.598823</td>\n",
              "      <td>0.569512</td>\n",
              "      <td>1</td>\n",
              "    </tr>\n",
              "    <tr>\n",
              "      <th>2020-01-02</th>\n",
              "      <td>-1.724062</td>\n",
              "      <td>0.876605</td>\n",
              "      <td>0</td>\n",
              "    </tr>\n",
              "    <tr>\n",
              "      <th>2020-01-03</th>\n",
              "      <td>0.693823</td>\n",
              "      <td>0.928217</td>\n",
              "      <td>0</td>\n",
              "    </tr>\n",
              "    <tr>\n",
              "      <th>2020-01-04</th>\n",
              "      <td>1.166528</td>\n",
              "      <td>0.528805</td>\n",
              "      <td>1</td>\n",
              "    </tr>\n",
              "    <tr>\n",
              "      <th>2020-01-05</th>\n",
              "      <td>0.891344</td>\n",
              "      <td>0.753803</td>\n",
              "      <td>0</td>\n",
              "    </tr>\n",
              "    <tr>\n",
              "      <th>2020-01-06</th>\n",
              "      <td>-0.204356</td>\n",
              "      <td>0.439303</td>\n",
              "      <td>0</td>\n",
              "    </tr>\n",
              "    <tr>\n",
              "      <th>2020-01-07</th>\n",
              "      <td>-0.290441</td>\n",
              "      <td>0.746082</td>\n",
              "      <td>0</td>\n",
              "    </tr>\n",
              "    <tr>\n",
              "      <th>2020-01-08</th>\n",
              "      <td>0.444145</td>\n",
              "      <td>0.204802</td>\n",
              "      <td>0</td>\n",
              "    </tr>\n",
              "    <tr>\n",
              "      <th>2020-01-09</th>\n",
              "      <td>0.815754</td>\n",
              "      <td>0.371065</td>\n",
              "      <td>0</td>\n",
              "    </tr>\n",
              "    <tr>\n",
              "      <th>2020-01-10</th>\n",
              "      <td>0.602473</td>\n",
              "      <td>0.634228</td>\n",
              "      <td>1</td>\n",
              "    </tr>\n",
              "  </tbody>\n",
              "</table>\n",
              "</div>"
            ],
            "text/plain": [
              "              normal   uniform  binomial\n",
              "2020-01-01  2.598823  0.569512         1\n",
              "2020-01-02 -1.724062  0.876605         0\n",
              "2020-01-03  0.693823  0.928217         0\n",
              "2020-01-04  1.166528  0.528805         1\n",
              "2020-01-05  0.891344  0.753803         0\n",
              "2020-01-06 -0.204356  0.439303         0\n",
              "2020-01-07 -0.290441  0.746082         0\n",
              "2020-01-08  0.444145  0.204802         0\n",
              "2020-01-09  0.815754  0.371065         0\n",
              "2020-01-10  0.602473  0.634228         1"
            ]
          },
          "metadata": {
            "tags": []
          },
          "execution_count": 38
        }
      ]
    },
    {
      "cell_type": "markdown",
      "metadata": {
        "id": "o3v76FW0FvkQ"
      },
      "source": [
        "Wyświetl 8 ostatnich wierszy obiektu df z poprzedniego ćwiczenia."
      ]
    },
    {
      "cell_type": "code",
      "metadata": {
        "id": "l3gwfUBWFxyR",
        "outputId": "0cc6f769-2564-42f5-be78-7c14a952b967",
        "colab": {
          "base_uri": "https://localhost:8080/",
          "height": 287
        }
      },
      "source": [
        "df[-8:]"
      ],
      "execution_count": 39,
      "outputs": [
        {
          "output_type": "execute_result",
          "data": {
            "text/html": [
              "<div>\n",
              "<style scoped>\n",
              "    .dataframe tbody tr th:only-of-type {\n",
              "        vertical-align: middle;\n",
              "    }\n",
              "\n",
              "    .dataframe tbody tr th {\n",
              "        vertical-align: top;\n",
              "    }\n",
              "\n",
              "    .dataframe thead th {\n",
              "        text-align: right;\n",
              "    }\n",
              "</style>\n",
              "<table border=\"1\" class=\"dataframe\">\n",
              "  <thead>\n",
              "    <tr style=\"text-align: right;\">\n",
              "      <th></th>\n",
              "      <th>normal</th>\n",
              "      <th>uniform</th>\n",
              "      <th>binomial</th>\n",
              "    </tr>\n",
              "  </thead>\n",
              "  <tbody>\n",
              "    <tr>\n",
              "      <th>2022-09-19</th>\n",
              "      <td>0.163335</td>\n",
              "      <td>0.758932</td>\n",
              "      <td>0</td>\n",
              "    </tr>\n",
              "    <tr>\n",
              "      <th>2022-09-20</th>\n",
              "      <td>1.461717</td>\n",
              "      <td>0.297081</td>\n",
              "      <td>1</td>\n",
              "    </tr>\n",
              "    <tr>\n",
              "      <th>2022-09-21</th>\n",
              "      <td>0.971412</td>\n",
              "      <td>0.426553</td>\n",
              "      <td>1</td>\n",
              "    </tr>\n",
              "    <tr>\n",
              "      <th>2022-09-22</th>\n",
              "      <td>-1.295259</td>\n",
              "      <td>0.185953</td>\n",
              "      <td>0</td>\n",
              "    </tr>\n",
              "    <tr>\n",
              "      <th>2022-09-23</th>\n",
              "      <td>-1.187553</td>\n",
              "      <td>0.111052</td>\n",
              "      <td>0</td>\n",
              "    </tr>\n",
              "    <tr>\n",
              "      <th>2022-09-24</th>\n",
              "      <td>0.578910</td>\n",
              "      <td>0.722762</td>\n",
              "      <td>0</td>\n",
              "    </tr>\n",
              "    <tr>\n",
              "      <th>2022-09-25</th>\n",
              "      <td>-0.064338</td>\n",
              "      <td>0.267512</td>\n",
              "      <td>0</td>\n",
              "    </tr>\n",
              "    <tr>\n",
              "      <th>2022-09-26</th>\n",
              "      <td>-0.455172</td>\n",
              "      <td>0.820059</td>\n",
              "      <td>0</td>\n",
              "    </tr>\n",
              "  </tbody>\n",
              "</table>\n",
              "</div>"
            ],
            "text/plain": [
              "              normal   uniform  binomial\n",
              "2022-09-19  0.163335  0.758932         0\n",
              "2022-09-20  1.461717  0.297081         1\n",
              "2022-09-21  0.971412  0.426553         1\n",
              "2022-09-22 -1.295259  0.185953         0\n",
              "2022-09-23 -1.187553  0.111052         0\n",
              "2022-09-24  0.578910  0.722762         0\n",
              "2022-09-25 -0.064338  0.267512         0\n",
              "2022-09-26 -0.455172  0.820059         0"
            ]
          },
          "metadata": {
            "tags": []
          },
          "execution_count": 39
        }
      ]
    },
    {
      "cell_type": "markdown",
      "metadata": {
        "id": "hOhqDRz618Tx"
      },
      "source": [
        "### <a name='7'></a> Ćwiczenie 117\n",
        "Wyświetl podstawowe informacje o obiekcie _df_ (liczba wierszy, liczba kolumn, typ zmiennych)."
      ]
    },
    {
      "cell_type": "code",
      "metadata": {
        "id": "e18yLk_VF2EJ",
        "outputId": "19a08c94-7bff-4293-e7a6-58d3267fb5e5",
        "colab": {
          "base_uri": "https://localhost:8080/"
        }
      },
      "source": [
        "df.info()"
      ],
      "execution_count": 43,
      "outputs": [
        {
          "output_type": "stream",
          "text": [
            "<class 'pandas.core.frame.DataFrame'>\n",
            "DatetimeIndex: 1000 entries, 2020-01-01 to 2022-09-26\n",
            "Freq: D\n",
            "Data columns (total 3 columns):\n",
            " #   Column    Non-Null Count  Dtype  \n",
            "---  ------    --------------  -----  \n",
            " 0   normal    1000 non-null   float64\n",
            " 1   uniform   1000 non-null   float64\n",
            " 2   binomial  1000 non-null   int64  \n",
            "dtypes: float64(2), int64(1)\n",
            "memory usage: 31.2 KB\n"
          ],
          "name": "stdout"
        }
      ]
    },
    {
      "cell_type": "markdown",
      "metadata": {
        "id": "6tvw_gIWG9zf"
      },
      "source": [
        "Wyświetl podstawowe statystyki obiektu _df_ (wartość średnia, odchylenie, min, max, mediana)."
      ]
    },
    {
      "cell_type": "code",
      "metadata": {
        "id": "tJIGXaAzF30k",
        "outputId": "cc28e699-6436-45e8-fb7a-d0ff2008842a",
        "colab": {
          "base_uri": "https://localhost:8080/",
          "height": 137
        }
      },
      "source": [
        "df.describe().T"
      ],
      "execution_count": 48,
      "outputs": [
        {
          "output_type": "execute_result",
          "data": {
            "text/html": [
              "<div>\n",
              "<style scoped>\n",
              "    .dataframe tbody tr th:only-of-type {\n",
              "        vertical-align: middle;\n",
              "    }\n",
              "\n",
              "    .dataframe tbody tr th {\n",
              "        vertical-align: top;\n",
              "    }\n",
              "\n",
              "    .dataframe thead th {\n",
              "        text-align: right;\n",
              "    }\n",
              "</style>\n",
              "<table border=\"1\" class=\"dataframe\">\n",
              "  <thead>\n",
              "    <tr style=\"text-align: right;\">\n",
              "      <th></th>\n",
              "      <th>count</th>\n",
              "      <th>mean</th>\n",
              "      <th>std</th>\n",
              "      <th>min</th>\n",
              "      <th>25%</th>\n",
              "      <th>50%</th>\n",
              "      <th>75%</th>\n",
              "      <th>max</th>\n",
              "    </tr>\n",
              "  </thead>\n",
              "  <tbody>\n",
              "    <tr>\n",
              "      <th>normal</th>\n",
              "      <td>1000.0</td>\n",
              "      <td>0.043946</td>\n",
              "      <td>1.035550</td>\n",
              "      <td>-3.836656</td>\n",
              "      <td>-0.629428</td>\n",
              "      <td>0.038115</td>\n",
              "      <td>0.732896</td>\n",
              "      <td>3.377383</td>\n",
              "    </tr>\n",
              "    <tr>\n",
              "      <th>uniform</th>\n",
              "      <td>1000.0</td>\n",
              "      <td>0.505428</td>\n",
              "      <td>0.294486</td>\n",
              "      <td>0.000158</td>\n",
              "      <td>0.250235</td>\n",
              "      <td>0.494452</td>\n",
              "      <td>0.773398</td>\n",
              "      <td>0.999335</td>\n",
              "    </tr>\n",
              "    <tr>\n",
              "      <th>binomial</th>\n",
              "      <td>1000.0</td>\n",
              "      <td>0.195000</td>\n",
              "      <td>0.396399</td>\n",
              "      <td>0.000000</td>\n",
              "      <td>0.000000</td>\n",
              "      <td>0.000000</td>\n",
              "      <td>0.000000</td>\n",
              "      <td>1.000000</td>\n",
              "    </tr>\n",
              "  </tbody>\n",
              "</table>\n",
              "</div>"
            ],
            "text/plain": [
              "           count      mean       std  ...       50%       75%       max\n",
              "normal    1000.0  0.043946  1.035550  ...  0.038115  0.732896  3.377383\n",
              "uniform   1000.0  0.505428  0.294486  ...  0.494452  0.773398  0.999335\n",
              "binomial  1000.0  0.195000  0.396399  ...  0.000000  0.000000  1.000000\n",
              "\n",
              "[3 rows x 8 columns]"
            ]
          },
          "metadata": {
            "tags": []
          },
          "execution_count": 48
        }
      ]
    },
    {
      "cell_type": "markdown",
      "metadata": {
        "id": "TXUd_4631-gw"
      },
      "source": [
        "### <a name='8'></a> Ćwiczenie 118\n",
        "Zaimportuj bibliotekę _seaborn_ do wizualizacji danych."
      ]
    },
    {
      "cell_type": "code",
      "metadata": {
        "id": "TPmoKddoI0mG"
      },
      "source": [
        "import seaborn as sns\n",
        "\n",
        "sns.set()"
      ],
      "execution_count": 49,
      "outputs": []
    },
    {
      "cell_type": "markdown",
      "metadata": {
        "id": "HvUH5nvAI9BT"
      },
      "source": [
        "Używając meteody _pd.DataFrame.plot_ zbuduj histogramy dla kolejnych trzech zmiennych.\n",
        "* normal (20 słupków)"
      ]
    },
    {
      "cell_type": "code",
      "metadata": {
        "id": "c2DBtW_hHLu5",
        "outputId": "22c683eb-08ab-473f-84ba-db461e2097e1",
        "colab": {
          "base_uri": "https://localhost:8080/",
          "height": 267
        }
      },
      "source": [
        "_ = df['normal'].plot(kind = 'hist', bins = 20)"
      ],
      "execution_count": 54,
      "outputs": [
        {
          "output_type": "display_data",
          "data": {
            "image/png": "[encoded data removed]",
            "text/plain": [
              "<Figure size 432x288 with 1 Axes>"
            ]
          },
          "metadata": {
            "tags": []
          }
        }
      ]
    },
    {
      "cell_type": "markdown",
      "metadata": {
        "id": "gac76vK9IkMn"
      },
      "source": [
        "* uniform (30 słupków)"
      ]
    },
    {
      "cell_type": "code",
      "metadata": {
        "id": "qDcrUndYHb23",
        "outputId": "4921404a-9b86-403f-80b2-6eb392fe8e26",
        "colab": {
          "base_uri": "https://localhost:8080/",
          "height": 267
        }
      },
      "source": [
        "_ = df['uniform'].plot(kind = 'hist', bins = 30)"
      ],
      "execution_count": 55,
      "outputs": [
        {
          "output_type": "display_data",
          "data": {
            "image/png": "[encoded data removed]",
            "text/plain": [
              "<Figure size 432x288 with 1 Axes>"
            ]
          },
          "metadata": {
            "tags": []
          }
        }
      ]
    },
    {
      "cell_type": "markdown",
      "metadata": {
        "id": "HPugPFLQIlft"
      },
      "source": [
        "* binomial"
      ]
    },
    {
      "cell_type": "code",
      "metadata": {
        "id": "xJ4t0FRcHfgn",
        "outputId": "5f81becb-7245-4f97-ea2f-baeb7b560e94",
        "colab": {
          "base_uri": "https://localhost:8080/",
          "height": 267
        }
      },
      "source": [
        "_ = df['binomial'].plot(kind = 'hist')"
      ],
      "execution_count": 56,
      "outputs": [
        {
          "output_type": "display_data",
          "data": {
            "image/png": "[encoded data removed]",
            "text/plain": [
              "<Figure size 432x288 with 1 Axes>"
            ]
          },
          "metadata": {
            "tags": []
          }
        }
      ]
    },
    {
      "cell_type": "markdown",
      "metadata": {
        "id": "tgI6xEn-2AQo"
      },
      "source": [
        "### <a name='9'></a> Ćwiczenie 119\n",
        "Zapisz obiekt _df_ do pliku _'dataframe.csv'_."
      ]
    },
    {
      "cell_type": "code",
      "metadata": {
        "id": "qt3ZR1H-JHyg"
      },
      "source": [
        "df.to_csv('dataframe.csv')"
      ],
      "execution_count": 57,
      "outputs": []
    },
    {
      "cell_type": "markdown",
      "metadata": {
        "id": "n_sqLBSCMESQ"
      },
      "source": [
        "__Sprawdzenie:__\n",
        "Wyświetlenie 5 pierwszych linijek pliku _dataframe.csv_"
      ]
    },
    {
      "cell_type": "code",
      "metadata": {
        "id": "gZrRVcqULzVq",
        "outputId": "4a3c67cb-506b-4bd9-ad6a-40c75d4cdfbc",
        "colab": {
          "base_uri": "https://localhost:8080/"
        }
      },
      "source": [
        "!head -5 dataframe.csv"
      ],
      "execution_count": 58,
      "outputs": [
        {
          "output_type": "stream",
          "text": [
            ",normal,uniform,binomial\n",
            "2020-01-01,2.598822900074582,0.5695118693444212,1\n",
            "2020-01-02,-1.7240618108680354,0.8766052783705984,0\n",
            "2020-01-03,0.6938234538591022,0.9282167956475944,0\n",
            "2020-01-04,1.1665283362210033,0.5288052181567664,1\n"
          ],
          "name": "stdout"
        }
      ]
    },
    {
      "cell_type": "markdown",
      "metadata": {
        "id": "wxhpf-uq2B1I"
      },
      "source": [
        "### <a name='10'></a> Ćwiczenie 110\n",
        "Wczytaj do zmiennej _df_new_ plik _dataframe.csv_ (pamiętaj o poprawnym wczytaniu indeksu)."
      ]
    },
    {
      "cell_type": "code",
      "metadata": {
        "id": "YFc0KW6URsuc",
        "outputId": "8b3d5d7f-b73f-41d8-833f-fb94d3f13343",
        "colab": {
          "base_uri": "https://localhost:8080/",
          "height": 406
        }
      },
      "source": [
        "df_new = pd.read_csv('dataframe.csv', index_col = 0)\r\n",
        "df_new"
      ],
      "execution_count": 59,
      "outputs": [
        {
          "output_type": "execute_result",
          "data": {
            "text/html": [
              "<div>\n",
              "<style scoped>\n",
              "    .dataframe tbody tr th:only-of-type {\n",
              "        vertical-align: middle;\n",
              "    }\n",
              "\n",
              "    .dataframe tbody tr th {\n",
              "        vertical-align: top;\n",
              "    }\n",
              "\n",
              "    .dataframe thead th {\n",
              "        text-align: right;\n",
              "    }\n",
              "</style>\n",
              "<table border=\"1\" class=\"dataframe\">\n",
              "  <thead>\n",
              "    <tr style=\"text-align: right;\">\n",
              "      <th></th>\n",
              "      <th>normal</th>\n",
              "      <th>uniform</th>\n",
              "      <th>binomial</th>\n",
              "    </tr>\n",
              "  </thead>\n",
              "  <tbody>\n",
              "    <tr>\n",
              "      <th>2020-01-01</th>\n",
              "      <td>2.598823</td>\n",
              "      <td>0.569512</td>\n",
              "      <td>1</td>\n",
              "    </tr>\n",
              "    <tr>\n",
              "      <th>2020-01-02</th>\n",
              "      <td>-1.724062</td>\n",
              "      <td>0.876605</td>\n",
              "      <td>0</td>\n",
              "    </tr>\n",
              "    <tr>\n",
              "      <th>2020-01-03</th>\n",
              "      <td>0.693823</td>\n",
              "      <td>0.928217</td>\n",
              "      <td>0</td>\n",
              "    </tr>\n",
              "    <tr>\n",
              "      <th>2020-01-04</th>\n",
              "      <td>1.166528</td>\n",
              "      <td>0.528805</td>\n",
              "      <td>1</td>\n",
              "    </tr>\n",
              "    <tr>\n",
              "      <th>2020-01-05</th>\n",
              "      <td>0.891344</td>\n",
              "      <td>0.753803</td>\n",
              "      <td>0</td>\n",
              "    </tr>\n",
              "    <tr>\n",
              "      <th>...</th>\n",
              "      <td>...</td>\n",
              "      <td>...</td>\n",
              "      <td>...</td>\n",
              "    </tr>\n",
              "    <tr>\n",
              "      <th>2022-09-22</th>\n",
              "      <td>-1.295259</td>\n",
              "      <td>0.185953</td>\n",
              "      <td>0</td>\n",
              "    </tr>\n",
              "    <tr>\n",
              "      <th>2022-09-23</th>\n",
              "      <td>-1.187553</td>\n",
              "      <td>0.111052</td>\n",
              "      <td>0</td>\n",
              "    </tr>\n",
              "    <tr>\n",
              "      <th>2022-09-24</th>\n",
              "      <td>0.578910</td>\n",
              "      <td>0.722762</td>\n",
              "      <td>0</td>\n",
              "    </tr>\n",
              "    <tr>\n",
              "      <th>2022-09-25</th>\n",
              "      <td>-0.064338</td>\n",
              "      <td>0.267512</td>\n",
              "      <td>0</td>\n",
              "    </tr>\n",
              "    <tr>\n",
              "      <th>2022-09-26</th>\n",
              "      <td>-0.455172</td>\n",
              "      <td>0.820059</td>\n",
              "      <td>0</td>\n",
              "    </tr>\n",
              "  </tbody>\n",
              "</table>\n",
              "<p>1000 rows × 3 columns</p>\n",
              "</div>"
            ],
            "text/plain": [
              "              normal   uniform  binomial\n",
              "2020-01-01  2.598823  0.569512         1\n",
              "2020-01-02 -1.724062  0.876605         0\n",
              "2020-01-03  0.693823  0.928217         0\n",
              "2020-01-04  1.166528  0.528805         1\n",
              "2020-01-05  0.891344  0.753803         0\n",
              "...              ...       ...       ...\n",
              "2022-09-22 -1.295259  0.185953         0\n",
              "2022-09-23 -1.187553  0.111052         0\n",
              "2022-09-24  0.578910  0.722762         0\n",
              "2022-09-25 -0.064338  0.267512         0\n",
              "2022-09-26 -0.455172  0.820059         0\n",
              "\n",
              "[1000 rows x 3 columns]"
            ]
          },
          "metadata": {
            "tags": []
          },
          "execution_count": 59
        }
      ]
    }
  ]
}