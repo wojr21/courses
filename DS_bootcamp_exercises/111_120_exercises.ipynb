{
  "nbformat": 4,
  "nbformat_minor": 0,
  "metadata": {
    "colab": {
      "name": "111-120_exercises.ipynb",
      "provenance": [],
      "collapsed_sections": [],
      "include_colab_link": true
    },
    "kernelspec": {
      "name": "python3",
      "display_name": "Python 3"
    }
  },
  "cells": [
    {
      "cell_type": "markdown",
      "metadata": {
        "id": "view-in-github",
        "colab_type": "text"
      },
      "source": [
        "<a href=\"https://colab.research.google.com/github/wojr21/courses/blob/main/DS_bootcamp_exercises/111_120_exercises.ipynb\" target=\"_parent\"><img src=\"https://colab.research.google.com/assets/colab-badge.svg\" alt=\"Open In Colab\"/></a>"
      ]
    },
    {
      "cell_type": "markdown",
      "metadata": {
        "id": "WLEgCW5F1hho"
      },
      "source": [
        "## Pandas\n",
        "\n",
        "### Spis treści:\n",
        "* [Import biblioteki](#0)\n",
        "* [Ćwiczenie 111](#1)\n",
        "* [Ćwiczenie 112](#2)\n",
        "* [Ćwiczenie 113](#3)\n",
        "* [Ćwiczenie 114](#4)\n",
        "* [Ćwiczenie 115](#5)\n",
        "* [Ćwiczenie 116](#6)\n",
        "* [Ćwiczenie 117](#7)\n",
        "* [Ćwiczenie 118](#8)\n",
        "* [Ćwiczenie 119](#9)\n",
        "* [Ćwiczenie 120](#10)"
      ]
    },
    {
      "cell_type": "markdown",
      "metadata": {
        "id": "zeLOLmTj1kBM"
      },
      "source": [
        "### <a name='0'></a>Import biblioteki"
      ]
    },
    {
      "cell_type": "code",
      "metadata": {
        "id": "HXMB7SMe1Wnz"
      },
      "source": [
        "import numpy as np\n",
        "import pandas as pd\n",
        "\n",
        "np.random.seed(42)\n",
        "pd.__version__"
      ],
      "execution_count": null,
      "outputs": []
    },
    {
      "cell_type": "markdown",
      "metadata": {
        "id": "cyc70pMe1oCg"
      },
      "source": [
        "### <a name='1'></a> Ćwiczenie 111\n",
        "Zbuduj obiekt _DatetimeIndex_ zawierający daty w formacie 'yyyy-mm-dd' dla wszystkich dni ze stycznia 2020 roku i przypisz do zmiennej _date_range_.\n",
        "\n",
        "__Oczekiwany wynik:__\n",
        "\n",
        "\n",
        "```\n",
        "DatetimeIndex(['2020-01-01', '2020-01-02', '2020-01-03', '2020-01-04',\n",
        "               '2020-01-05', '2020-01-06', '2020-01-07', '2020-01-08',\n",
        "               '2020-01-09', '2020-01-10', '2020-01-11', '2020-01-12',\n",
        "               '2020-01-13', '2020-01-14', '2020-01-15', '2020-01-16',\n",
        "               '2020-01-17', '2020-01-18', '2020-01-19', '2020-01-20',\n",
        "               '2020-01-21', '2020-01-22', '2020-01-23', '2020-01-24',\n",
        "               '2020-01-25', '2020-01-26', '2020-01-27', '2020-01-28',\n",
        "               '2020-01-29', '2020-01-30', '2020-01-31'],\n",
        "              dtype='datetime64[ns]', freq='D')\n",
        "```\n",
        "\n"
      ]
    },
    {
      "cell_type": "code",
      "metadata": {
        "id": "-Fktzi-m6jA8"
      },
      "source": [
        "# tutaj wpisz rozwiązanie"
      ],
      "execution_count": null,
      "outputs": []
    },
    {
      "cell_type": "markdown",
      "metadata": {
        "id": "-b7YtggN7yNA"
      },
      "source": [
        "Ze zmiennej _date_range_ zbuduj obiekt typu _Series_."
      ]
    },
    {
      "cell_type": "code",
      "metadata": {
        "id": "o8Gx9s5m7imi"
      },
      "source": [
        "# tutaj wpisz rozwiązanie"
      ],
      "execution_count": null,
      "outputs": []
    },
    {
      "cell_type": "markdown",
      "metadata": {
        "id": "J9pY1rtr1sC0"
      },
      "source": [
        "### <a name='2'></a> Ćwiczenie 112\n",
        "Zbuduj obiekt _DatetimeIndex_ zawierający daty w formacie 'yyyy-mm-dd' dla wszystkich poniedziałków z 2020 roku i przypisz do zmiennej _date_range_."
      ]
    },
    {
      "cell_type": "code",
      "metadata": {
        "id": "9pgIpf0M5L9S"
      },
      "source": [
        "# tutaj wpisz rozwiązanie"
      ],
      "execution_count": null,
      "outputs": []
    },
    {
      "cell_type": "markdown",
      "metadata": {
        "id": "XQLYT2m11wVG"
      },
      "source": [
        "### <a name='3'></a> Ćwiczenie 113\n",
        "Zbuduj obiekt _DatetimeIndex_ zawierający daty w formacie 'yyyy-mm-dd hh:mm:ss' dla 1 stycznia 2021 roku z odstępem czasowym 1h i przypisz do zmiennej _date_range_.\n",
        "\n",
        "__Oczekiwany wynik:__\n",
        "\n",
        "\n",
        "```\n",
        "DatetimeIndex(['2021-01-01 00:00:00', '2021-01-01 01:00:00',\n",
        "               '2021-01-01 02:00:00', '2021-01-01 03:00:00',\n",
        "               '2021-01-01 04:00:00', '2021-01-01 05:00:00',\n",
        "               '2021-01-01 06:00:00', '2021-01-01 07:00:00',\n",
        "               '2021-01-01 08:00:00', '2021-01-01 09:00:00',\n",
        "               '2021-01-01 10:00:00', '2021-01-01 11:00:00',\n",
        "               '2021-01-01 12:00:00', '2021-01-01 13:00:00',\n",
        "               '2021-01-01 14:00:00', '2021-01-01 15:00:00',\n",
        "               '2021-01-01 16:00:00', '2021-01-01 17:00:00',\n",
        "               '2021-01-01 18:00:00', '2021-01-01 19:00:00',\n",
        "               '2021-01-01 20:00:00', '2021-01-01 21:00:00',\n",
        "               '2021-01-01 22:00:00', '2021-01-01 23:00:00'],\n",
        "              dtype='datetime64[ns]', freq='H')\n",
        "```\n",
        "\n"
      ]
    },
    {
      "cell_type": "code",
      "metadata": {
        "id": "yZyozL_o84dD"
      },
      "source": [
        "# tutaj wpisz rozwiązanie"
      ],
      "execution_count": null,
      "outputs": []
    },
    {
      "cell_type": "markdown",
      "metadata": {
        "id": "4xTKSUzg10MK"
      },
      "source": [
        "### <a name='4'></a> Ćwiczenie 114\n",
        "Zbuduj poniższy obiekt _DataFrame_.\n",
        "\n",
        "__Wskazówki:__ Kolumna _day_ zawiera daty od 01 marca 2021 do 31 marca 2021. Kolumna _day_of_year_ to numer dnia w całym roku.\n",
        "\n",
        "\n",
        "```\n",
        "      day\t       day_of_year\n",
        " 0\t2021-03-01\t60\n",
        " 1\t2021-03-02\t61\n",
        " 2\t2021-03-03\t62\n",
        " 3\t2021-03-04\t63\n",
        " 4\t2021-03-05\t64\n",
        " 5\t2021-03-06\t65\n",
        " 6\t2021-03-07\t66\n",
        " 7\t2021-03-08\t67\n",
        " 8\t2021-03-09\t68\n",
        " 9\t2021-03-10\t69\n",
        "10\t2021-03-11\t70\n",
        "11\t2021-03-12\t71\n",
        "12\t2021-03-13\t72\n",
        "13\t2021-03-14\t73\n",
        "14\t2021-03-15\t74\n",
        "15\t2021-03-16\t75\n",
        "16\t2021-03-17\t76\n",
        "17\t2021-03-18\t77\n",
        "18\t2021-03-19\t78\n",
        "19\t2021-03-20\t79\n",
        "20\t2021-03-21\t80\n",
        "21\t2021-03-22\t81\n",
        "22\t2021-03-23\t82\n",
        "23\t2021-03-24\t83\n",
        "24\t2021-03-25\t84\n",
        "25\t2021-03-26\t85\n",
        "26\t2021-03-27\t86\n",
        "27\t2021-03-28\t87\n",
        "28\t2021-03-29\t88\n",
        "29\t2021-03-30\t89\n",
        "30\t2021-03-31\t90\n",
        "```\n",
        "\n"
      ]
    },
    {
      "cell_type": "code",
      "metadata": {
        "id": "YIWI3YTN_J5E"
      },
      "source": [
        "# tutaj wpisz rozwiązanie"
      ],
      "execution_count": null,
      "outputs": []
    },
    {
      "cell_type": "markdown",
      "metadata": {
        "id": "o3HKIKlP15Ro"
      },
      "source": [
        "### <a name='5'></a> Ćwiczenie 115\n",
        "\n",
        "Podany jest poniższy słownik _data_dict_. \n",
        "\n",
        "```\n",
        "data_dict = {\n",
        "    'normal': np.random.normal(loc=0, scale=1, size=1000),\n",
        "    'uniform': np.random.uniform(low=0, high=1, size=1000),\n",
        "    'binomial': np.random.binomial(n=1, p=0.2, size=1000)\n",
        "}\n",
        "```\n",
        "\n",
        "Zbuduj z tego słownika obiekt _DateFrame_. Dodatkowo jako indeks dodaj datę od 2020-01-01 i przypisz do zmiennej _df_. "
      ]
    },
    {
      "cell_type": "code",
      "metadata": {
        "id": "Wht-9DRbCzGR"
      },
      "source": [
        "# tutaj wpisz rozwiązanie"
      ],
      "execution_count": null,
      "outputs": []
    },
    {
      "cell_type": "markdown",
      "metadata": {
        "id": "PunXd_Ey16so"
      },
      "source": [
        "### <a name='6'></a> Ćwiczenie 116\n",
        "Wyświetl 10 pierwszych wierszy obiektu _df_ z poprzedniego ćwiczenia."
      ]
    },
    {
      "cell_type": "code",
      "metadata": {
        "id": "PzsTK_wpFmD-"
      },
      "source": [
        "# tutaj wpisz rozwiązanie"
      ],
      "execution_count": null,
      "outputs": []
    },
    {
      "cell_type": "markdown",
      "metadata": {
        "id": "o3v76FW0FvkQ"
      },
      "source": [
        "Wyświetl 8 ostatnich wierszy obiektu df z poprzedniego ćwiczenia."
      ]
    },
    {
      "cell_type": "code",
      "metadata": {
        "id": "l3gwfUBWFxyR"
      },
      "source": [
        "# tutaj wpisz rozwiązanie"
      ],
      "execution_count": null,
      "outputs": []
    },
    {
      "cell_type": "markdown",
      "metadata": {
        "id": "hOhqDRz618Tx"
      },
      "source": [
        "### <a name='7'></a> Ćwiczenie 117\n",
        "Wyświetl podstawowe informacje o obiekcie _df_ (liczba wierszy, liczba kolumn, typ zmiennych)."
      ]
    },
    {
      "cell_type": "code",
      "metadata": {
        "id": "e18yLk_VF2EJ"
      },
      "source": [
        "# tutaj wpisz rozwiązanie"
      ],
      "execution_count": null,
      "outputs": []
    },
    {
      "cell_type": "markdown",
      "metadata": {
        "id": "6tvw_gIWG9zf"
      },
      "source": [
        "Wyświetl podstawowe statystyki obiektu _df_ (wartość średnia, odchylenie, min, max, mediana)."
      ]
    },
    {
      "cell_type": "code",
      "metadata": {
        "id": "tJIGXaAzF30k"
      },
      "source": [
        "# tutaj wpisz rozwiązanie"
      ],
      "execution_count": null,
      "outputs": []
    },
    {
      "cell_type": "markdown",
      "metadata": {
        "id": "TXUd_4631-gw"
      },
      "source": [
        "### <a name='8'></a> Ćwiczenie 118\n",
        "Zaimportuj bibliotekę _seaborn_ do wizualizacji danych."
      ]
    },
    {
      "cell_type": "code",
      "metadata": {
        "id": "TPmoKddoI0mG"
      },
      "source": [
        "import seaborn as sns\n",
        "\n",
        "sns.set()"
      ],
      "execution_count": null,
      "outputs": []
    },
    {
      "cell_type": "markdown",
      "metadata": {
        "id": "HvUH5nvAI9BT"
      },
      "source": [
        "Używając meteody _pd.DataFrame.plot_ zbuduj histogramy dla kolejnych trzech zmiennych.\n",
        "* normal (20 słupków)"
      ]
    },
    {
      "cell_type": "code",
      "metadata": {
        "id": "c2DBtW_hHLu5"
      },
      "source": [
        "# tutaj wpisz rozwiązanie"
      ],
      "execution_count": null,
      "outputs": []
    },
    {
      "cell_type": "markdown",
      "metadata": {
        "id": "gac76vK9IkMn"
      },
      "source": [
        "* uniform (30 słupków)"
      ]
    },
    {
      "cell_type": "code",
      "metadata": {
        "id": "qDcrUndYHb23"
      },
      "source": [
        "# tutaj wpisz rozwiązanie"
      ],
      "execution_count": null,
      "outputs": []
    },
    {
      "cell_type": "markdown",
      "metadata": {
        "id": "HPugPFLQIlft"
      },
      "source": [
        "* binomial"
      ]
    },
    {
      "cell_type": "code",
      "metadata": {
        "id": "xJ4t0FRcHfgn"
      },
      "source": [
        "# tutaj wpisz rozwiązanie"
      ],
      "execution_count": null,
      "outputs": []
    },
    {
      "cell_type": "markdown",
      "metadata": {
        "id": "tgI6xEn-2AQo"
      },
      "source": [
        "### <a name='9'></a> Ćwiczenie 119\n",
        "Zapisz obiekt _df_ do pliku _'dataframe.csv'_."
      ]
    },
    {
      "cell_type": "code",
      "metadata": {
        "id": "qt3ZR1H-JHyg"
      },
      "source": [
        "# tutaj wpisz rozwiązanie"
      ],
      "execution_count": null,
      "outputs": []
    },
    {
      "cell_type": "markdown",
      "metadata": {
        "id": "n_sqLBSCMESQ"
      },
      "source": [
        "__Sprawdzenie:__\n",
        "Wyświetlenie 5 pierwszych linijek pliku _dataframe.csv_"
      ]
    },
    {
      "cell_type": "code",
      "metadata": {
        "id": "gZrRVcqULzVq"
      },
      "source": [
        "!head -5 dataframe.csv"
      ],
      "execution_count": null,
      "outputs": []
    },
    {
      "cell_type": "markdown",
      "metadata": {
        "id": "wxhpf-uq2B1I"
      },
      "source": [
        "### <a name='10'></a> Ćwiczenie 110\n",
        "Wczytaj do zmiennej _df_new_ plik _dataframe.csv_ (pamiętaj o poprawnym wczytaniu indeksu)."
      ]
    },
    {
      "cell_type": "code",
      "metadata": {
        "id": "YFc0KW6URsuc"
      },
      "source": [
        "# tutaj wpisz rozwiązanie"
      ],
      "execution_count": null,
      "outputs": []
    }
  ]
}